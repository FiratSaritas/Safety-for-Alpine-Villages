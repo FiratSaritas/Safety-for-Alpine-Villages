{
 "cells": [
  {
   "cell_type": "code",
   "execution_count": 1,
   "id": "1c218afd-b6c7-430a-98b4-ce1d778d2b23",
   "metadata": {},
   "outputs": [],
   "source": [
    "import pandas as pd\n",
    "pd.set_option('display.max_columns', None)\n",
    "from feature_extract import SignalFeatureExtractor"
   ]
  },
  {
   "cell_type": "code",
   "execution_count": null,
   "id": "aa86dbad-9ebc-4ec9-80a6-530d6024040b",
   "metadata": {},
   "outputs": [],
   "source": [
    "mpa = pd.read_table('../data/data_sps.txt', sep=' ')\n",
    "mpa['start_time'] = pd.to_datetime(mpa['start_time'])\n",
    "print(mpa.shape)\n",
    "mpa.head(4)"
   ]
  },
  {
   "cell_type": "code",
   "execution_count": null,
   "id": "12ef6a1e-e921-4a47-b0d7-8762f1c103be",
   "metadata": {},
   "outputs": [],
   "source": [
    "extractor = SignalFeatureExtractor(raw_data_path='../data/raw_packets_obernach_SPS_20S01_0.5M01_0.03G02_0.03G01_5020.vlnd', \n",
    "                                   extract_chromafeatures=True, \n",
    "                                   n_processes=7)"
   ]
  },
  {
   "cell_type": "code",
   "execution_count": null,
   "id": "85a1032f-36a2-4cd5-b942-113565e42b48",
   "metadata": {},
   "outputs": [],
   "source": [
    "foo = extractor.extract(processed_data=mpa)"
   ]
  },
  {
   "cell_type": "code",
   "execution_count": null,
   "id": "632e7be6-3b79-4cbc-8de7-89cc6da63a6d",
   "metadata": {},
   "outputs": [],
   "source": [
    "foo.head()\n",
    "foo.shape"
   ]
  },
  {
   "cell_type": "code",
   "execution_count": null,
   "id": "0aeff355-739a-438e-b4c4-8f3bad3495ff",
   "metadata": {},
   "outputs": [],
   "source": [
    "foo.isnull().sum()"
   ]
  },
  {
   "cell_type": "code",
   "execution_count": null,
   "id": "772217b6-f336-43b4-8b3f-d21b101d7e14",
   "metadata": {},
   "outputs": [],
   "source": []
  },
  {
   "cell_type": "markdown",
   "id": "e8cbc7bb-c20b-428c-b92f-76ad48e248b5",
   "metadata": {},
   "source": [
    "## Wavelet Features"
   ]
  },
  {
   "cell_type": "code",
   "execution_count": 2,
   "id": "d499ae02-85cf-480a-86aa-d6fc259a91df",
   "metadata": {},
   "outputs": [],
   "source": [
    "from feature_extract import SignalFeatureExtractor\n",
    "import pandas as pd\n",
    "import numpy as np\n",
    "import pywt\n",
    "import matplotlib.pyplot as plt\n",
    "import seaborn as sns\n",
    "pd.set_option('display.max_columns', None)"
   ]
  },
  {
   "cell_type": "code",
   "execution_count": 19,
   "id": "d2676344-b192-4ac1-b1de-991ef84cd6df",
   "metadata": {},
   "outputs": [],
   "source": [
    "#df = pd.read_table('../data/data_mpa.txt', sep=' ')\n",
    "#df = pd.read_table('../data/data_spg.txt', sep=' ')\n",
    "df = pd.read_table('../data/data_sps.txt', sep=' ')"
   ]
  },
  {
   "cell_type": "code",
   "execution_count": 20,
   "id": "c888494a-c002-482d-bc50-0a45027f7c7e",
   "metadata": {},
   "outputs": [
    {
     "name": "stdout",
     "output_type": "stream",
     "text": [
      "SignalFeatureExtractor:  {'raw_data_path': '../data/raw_packets_obernach_SPS_20S01_0.5M01_0.03G02_0.03G01_5020.vlnd', 'extract_chromafeatures': False, 'n_processes': 6}\n"
     ]
    }
   ],
   "source": [
    "#fp_raw = '../data/raw_packets_obernach_MP_0.24_2510.vlnd'\n",
    "#fp_raw = '../data/raw_packets_obernach_GP_0.02_2510.vlnd'\n",
    "fp_raw = '../data/raw_packets_obernach_SPS_20S01_0.5M01_0.03G02_0.03G01_5020.vlnd'\n",
    "\n",
    "extractor = SignalFeatureExtractor(raw_data_path=fp_raw,\n",
    "                                   extract_chromafeatures=False, n_processes=6)"
   ]
  },
  {
   "cell_type": "code",
   "execution_count": 21,
   "id": "6434fb7d-b4f0-4711-b50b-ed14d40bc4de",
   "metadata": {},
   "outputs": [],
   "source": [
    "def wavelet_feature_extraction(sample):\n",
    "    # generate List from string\n",
    "    sample = sample.split(' ')\n",
    "\n",
    "    # Feature Extraction from list of strings\n",
    "    start_time = sample[0] + ' ' + sample[1]\n",
    "    packnr = sample[2]\n",
    "    sensor = sample[3]\n",
    "    package = np.array(sample[4:]).astype(float)\n",
    "    wavelet_transform = pywt.dwt(package, 'db1')\n",
    "    wavelet_mean_approx = np.mean(wavelet_transform[0])\n",
    "    wavelet_med_approx = np.median(wavelet_transform[0])\n",
    "    wavelet_var_approx = np.var(wavelet_transform[0])\n",
    "    wavelet_mean_coef = np.mean(wavelet_transform[0])\n",
    "    wavelet_med_coef = np.median(wavelet_transform[0])\n",
    "    wavelet_var_coef = np.var(wavelet_transform[0])\n",
    "    #wavelet_std = np.std(wavelet_transform)\n",
    "    #wavelet_q25 = np.quantile(a=wavelet, q=.25)\n",
    "    #wavelet_q75 = np.quantile(a=wavelet, q=.75)\n",
    "\n",
    "    # Create Dictionary\n",
    "    data_dict = dict(start_time=start_time, packnr=packnr, sensor_type=sensor,\n",
    "                     wavelet_mean_approx=wavelet_mean_approx, wavelet_med_approx=wavelet_med_approx,\n",
    "                     wavelet_var_approx=wavelet_var_approx, wavelet_mean_coef=wavelet_mean_coef,\n",
    "                     wavelet_med_coef=wavelet_med_coef, wavelet_var_coef=wavelet_var_coef)\n",
    "    return data_dict"
   ]
  },
  {
   "cell_type": "code",
   "execution_count": 22,
   "id": "4d1ed29b-a22e-4e29-9c1d-e16336821e61",
   "metadata": {},
   "outputs": [
    {
     "name": "stdout",
     "output_type": "stream",
     "text": [
      "INFO || 21.12.17_08:59 | Load Raw Data\n",
      "INFO || 21.12.17_08:59 | Extracting from Raw\n",
      "INFO || 21.12.17_08:59 | Transform Features\n",
      "INFO || 21.12.17_08:59 | Joining new Features\n"
     ]
    }
   ],
   "source": [
    "data_extract = extractor.extract_with_custom_func(processed_data=df, custom_func=wavelet_feature_extraction)"
   ]
  },
  {
   "cell_type": "code",
   "execution_count": 23,
   "id": "6185f70e-967c-4d4b-aa9d-902b58ad92ee",
   "metadata": {},
   "outputs": [
    {
     "data": {
      "text/html": [
       "<div>\n",
       "<style scoped>\n",
       "    .dataframe tbody tr th:only-of-type {\n",
       "        vertical-align: middle;\n",
       "    }\n",
       "\n",
       "    .dataframe tbody tr th {\n",
       "        vertical-align: top;\n",
       "    }\n",
       "\n",
       "    .dataframe thead th {\n",
       "        text-align: right;\n",
       "    }\n",
       "</style>\n",
       "<table border=\"1\" class=\"dataframe\">\n",
       "  <thead>\n",
       "    <tr style=\"text-align: right;\">\n",
       "      <th></th>\n",
       "      <th>start_time</th>\n",
       "      <th>packnr</th>\n",
       "      <th>velocity</th>\n",
       "      <th>size_mm</th>\n",
       "      <th>centroid_frequency_G01</th>\n",
       "      <th>centroid_frequency2_G01</th>\n",
       "      <th>centroid_frequency_G02</th>\n",
       "      <th>centroid_frequency2_G02</th>\n",
       "      <th>centroid_frequency_M01</th>\n",
       "      <th>centroid_frequency2_M01</th>\n",
       "      <th>centroid_frequency_S01</th>\n",
       "      <th>centroid_frequency2_S01</th>\n",
       "      <th>median_freq_G01</th>\n",
       "      <th>median_freq_G02</th>\n",
       "      <th>median_freq_M01</th>\n",
       "      <th>median_freq_S01</th>\n",
       "      <th>flash_ind_G01</th>\n",
       "      <th>flash_ind_G02</th>\n",
       "      <th>flash_ind_M01</th>\n",
       "      <th>flash_ind_S01</th>\n",
       "      <th>cv_G01</th>\n",
       "      <th>cv_G02</th>\n",
       "      <th>cv_M01</th>\n",
       "      <th>cv_S01</th>\n",
       "      <th>iqa_G01</th>\n",
       "      <th>iqa_G02</th>\n",
       "      <th>iqa_M01</th>\n",
       "      <th>iqa_S01</th>\n",
       "      <th>mab_G01</th>\n",
       "      <th>mab_G02</th>\n",
       "      <th>mab_M01</th>\n",
       "      <th>mab_S01</th>\n",
       "      <th>imp_G01</th>\n",
       "      <th>imp_G02</th>\n",
       "      <th>imp_M01</th>\n",
       "      <th>imp_S01</th>\n",
       "      <th>len_G01</th>\n",
       "      <th>len_G02</th>\n",
       "      <th>len_M01</th>\n",
       "      <th>len_S01</th>\n",
       "      <th>wavelet_mean_approx_G01</th>\n",
       "      <th>wavelet_mean_approx_G02</th>\n",
       "      <th>wavelet_mean_approx_M01</th>\n",
       "      <th>wavelet_mean_approx_S01</th>\n",
       "      <th>wavelet_med_approx_G01</th>\n",
       "      <th>wavelet_med_approx_G02</th>\n",
       "      <th>wavelet_med_approx_M01</th>\n",
       "      <th>wavelet_med_approx_S01</th>\n",
       "      <th>wavelet_var_approx_G01</th>\n",
       "      <th>wavelet_var_approx_G02</th>\n",
       "      <th>wavelet_var_approx_M01</th>\n",
       "      <th>wavelet_var_approx_S01</th>\n",
       "      <th>wavelet_mean_coef_G01</th>\n",
       "      <th>wavelet_mean_coef_G02</th>\n",
       "      <th>wavelet_mean_coef_M01</th>\n",
       "      <th>wavelet_mean_coef_S01</th>\n",
       "      <th>wavelet_med_coef_G01</th>\n",
       "      <th>wavelet_med_coef_G02</th>\n",
       "      <th>wavelet_med_coef_M01</th>\n",
       "      <th>wavelet_med_coef_S01</th>\n",
       "      <th>wavelet_var_coef_G01</th>\n",
       "      <th>wavelet_var_coef_G02</th>\n",
       "      <th>wavelet_var_coef_M01</th>\n",
       "      <th>wavelet_var_coef_S01</th>\n",
       "    </tr>\n",
       "  </thead>\n",
       "  <tbody>\n",
       "    <tr>\n",
       "      <th>0</th>\n",
       "      <td>2021-06-22 15:34:38</td>\n",
       "      <td>1</td>\n",
       "      <td>2.05</td>\n",
       "      <td>12.3</td>\n",
       "      <td>8153.438439</td>\n",
       "      <td>7257.609334</td>\n",
       "      <td>8209.713177</td>\n",
       "      <td>7379.284623</td>\n",
       "      <td>7371.324388</td>\n",
       "      <td>2679.227894</td>\n",
       "      <td>6475.116681</td>\n",
       "      <td>3302.480303</td>\n",
       "      <td>7621.698593</td>\n",
       "      <td>7703.227327</td>\n",
       "      <td>6483.983503</td>\n",
       "      <td>5674.218237</td>\n",
       "      <td>0.002570</td>\n",
       "      <td>0.002471</td>\n",
       "      <td>0.008534</td>\n",
       "      <td>0.004337</td>\n",
       "      <td>0.674025</td>\n",
       "      <td>0.654932</td>\n",
       "      <td>1.337432</td>\n",
       "      <td>1.038010</td>\n",
       "      <td>1.167040e-07</td>\n",
       "      <td>7.746436e-08</td>\n",
       "      <td>2.586849e-07</td>\n",
       "      <td>0.034014</td>\n",
       "      <td>0.045203</td>\n",
       "      <td>0.036538</td>\n",
       "      <td>0.030517</td>\n",
       "      <td>18</td>\n",
       "      <td>1</td>\n",
       "      <td>1</td>\n",
       "      <td>0</td>\n",
       "      <td>0</td>\n",
       "      <td>73</td>\n",
       "      <td>73</td>\n",
       "      <td>73</td>\n",
       "      <td>73</td>\n",
       "      <td>0.002785</td>\n",
       "      <td>0.002233</td>\n",
       "      <td>-0.013705</td>\n",
       "      <td>4.643972</td>\n",
       "      <td>0.002274</td>\n",
       "      <td>0.001453</td>\n",
       "      <td>-0.021579</td>\n",
       "      <td>4.242641</td>\n",
       "      <td>0.000071</td>\n",
       "      <td>0.000047</td>\n",
       "      <td>0.000092</td>\n",
       "      <td>17.771366</td>\n",
       "      <td>0.002785</td>\n",
       "      <td>0.002233</td>\n",
       "      <td>-0.013705</td>\n",
       "      <td>4.643972</td>\n",
       "      <td>0.002274</td>\n",
       "      <td>0.001453</td>\n",
       "      <td>-0.021579</td>\n",
       "      <td>4.242641</td>\n",
       "      <td>0.000071</td>\n",
       "      <td>0.000047</td>\n",
       "      <td>0.000092</td>\n",
       "      <td>17.771366</td>\n",
       "    </tr>\n",
       "    <tr>\n",
       "      <th>1</th>\n",
       "      <td>2021-06-22 15:34:38</td>\n",
       "      <td>2</td>\n",
       "      <td>2.05</td>\n",
       "      <td>12.3</td>\n",
       "      <td>3450.442567</td>\n",
       "      <td>2618.793204</td>\n",
       "      <td>4212.339529</td>\n",
       "      <td>1687.358524</td>\n",
       "      <td>7086.113317</td>\n",
       "      <td>6697.399727</td>\n",
       "      <td>7301.457307</td>\n",
       "      <td>5199.687184</td>\n",
       "      <td>2680.641145</td>\n",
       "      <td>2438.875910</td>\n",
       "      <td>6743.588474</td>\n",
       "      <td>6302.180373</td>\n",
       "      <td>0.007678</td>\n",
       "      <td>0.013979</td>\n",
       "      <td>0.006784</td>\n",
       "      <td>0.014169</td>\n",
       "      <td>2.432687</td>\n",
       "      <td>2.170305</td>\n",
       "      <td>2.258637</td>\n",
       "      <td>1.021832</td>\n",
       "      <td>2.902270e-07</td>\n",
       "      <td>9.641377e-09</td>\n",
       "      <td>1.837043e-03</td>\n",
       "      <td>0.540045</td>\n",
       "      <td>0.033590</td>\n",
       "      <td>0.003931</td>\n",
       "      <td>2.715982</td>\n",
       "      <td>37</td>\n",
       "      <td>0</td>\n",
       "      <td>0</td>\n",
       "      <td>10</td>\n",
       "      <td>7</td>\n",
       "      <td>139</td>\n",
       "      <td>139</td>\n",
       "      <td>139</td>\n",
       "      <td>139</td>\n",
       "      <td>-0.001586</td>\n",
       "      <td>-0.001565</td>\n",
       "      <td>-0.017571</td>\n",
       "      <td>-2.676904</td>\n",
       "      <td>-0.001990</td>\n",
       "      <td>-0.001927</td>\n",
       "      <td>-0.021579</td>\n",
       "      <td>-4.242641</td>\n",
       "      <td>0.000174</td>\n",
       "      <td>0.000003</td>\n",
       "      <td>0.914387</td>\n",
       "      <td>287.655612</td>\n",
       "      <td>-0.001586</td>\n",
       "      <td>-0.001565</td>\n",
       "      <td>-0.017571</td>\n",
       "      <td>-2.676904</td>\n",
       "      <td>-0.001990</td>\n",
       "      <td>-0.001927</td>\n",
       "      <td>-0.021579</td>\n",
       "      <td>-4.242641</td>\n",
       "      <td>0.000174</td>\n",
       "      <td>0.000003</td>\n",
       "      <td>0.914387</td>\n",
       "      <td>287.655612</td>\n",
       "    </tr>\n",
       "  </tbody>\n",
       "</table>\n",
       "</div>"
      ],
      "text/plain": [
       "           start_time  packnr  velocity  size_mm  centroid_frequency_G01  \\\n",
       "0 2021-06-22 15:34:38       1      2.05     12.3             8153.438439   \n",
       "1 2021-06-22 15:34:38       2      2.05     12.3             3450.442567   \n",
       "\n",
       "   centroid_frequency2_G01  centroid_frequency_G02  centroid_frequency2_G02  \\\n",
       "0              7257.609334             8209.713177              7379.284623   \n",
       "1              2618.793204             4212.339529              1687.358524   \n",
       "\n",
       "   centroid_frequency_M01  centroid_frequency2_M01  centroid_frequency_S01  \\\n",
       "0             7371.324388              2679.227894             6475.116681   \n",
       "1             7086.113317              6697.399727             7301.457307   \n",
       "\n",
       "   centroid_frequency2_S01  median_freq_G01  median_freq_G02  median_freq_M01  \\\n",
       "0              3302.480303      7621.698593      7703.227327      6483.983503   \n",
       "1              5199.687184      2680.641145      2438.875910      6743.588474   \n",
       "\n",
       "   median_freq_S01  flash_ind_G01  flash_ind_G02  flash_ind_M01  \\\n",
       "0      5674.218237       0.002570       0.002471       0.008534   \n",
       "1      6302.180373       0.007678       0.013979       0.006784   \n",
       "\n",
       "   flash_ind_S01    cv_G01    cv_G02    cv_M01    cv_S01       iqa_G01  \\\n",
       "0       0.004337  0.674025  0.654932  1.337432  1.038010  1.167040e-07   \n",
       "1       0.014169  2.432687  2.170305  2.258637  1.021832  2.902270e-07   \n",
       "\n",
       "        iqa_G02       iqa_M01   iqa_S01   mab_G01   mab_G02   mab_M01  \\\n",
       "0  7.746436e-08  2.586849e-07  0.034014  0.045203  0.036538  0.030517   \n",
       "1  9.641377e-09  1.837043e-03  0.540045  0.033590  0.003931  2.715982   \n",
       "\n",
       "   mab_S01  imp_G01  imp_G02  imp_M01  imp_S01  len_G01  len_G02  len_M01  \\\n",
       "0       18        1        1        0        0       73       73       73   \n",
       "1       37        0        0       10        7      139      139      139   \n",
       "\n",
       "   len_S01  wavelet_mean_approx_G01  wavelet_mean_approx_G02  \\\n",
       "0       73                 0.002785                 0.002233   \n",
       "1      139                -0.001586                -0.001565   \n",
       "\n",
       "   wavelet_mean_approx_M01  wavelet_mean_approx_S01  wavelet_med_approx_G01  \\\n",
       "0                -0.013705                 4.643972                0.002274   \n",
       "1                -0.017571                -2.676904               -0.001990   \n",
       "\n",
       "   wavelet_med_approx_G02  wavelet_med_approx_M01  wavelet_med_approx_S01  \\\n",
       "0                0.001453               -0.021579                4.242641   \n",
       "1               -0.001927               -0.021579               -4.242641   \n",
       "\n",
       "   wavelet_var_approx_G01  wavelet_var_approx_G02  wavelet_var_approx_M01  \\\n",
       "0                0.000071                0.000047                0.000092   \n",
       "1                0.000174                0.000003                0.914387   \n",
       "\n",
       "   wavelet_var_approx_S01  wavelet_mean_coef_G01  wavelet_mean_coef_G02  \\\n",
       "0               17.771366               0.002785               0.002233   \n",
       "1              287.655612              -0.001586              -0.001565   \n",
       "\n",
       "   wavelet_mean_coef_M01  wavelet_mean_coef_S01  wavelet_med_coef_G01  \\\n",
       "0              -0.013705               4.643972              0.002274   \n",
       "1              -0.017571              -2.676904             -0.001990   \n",
       "\n",
       "   wavelet_med_coef_G02  wavelet_med_coef_M01  wavelet_med_coef_S01  \\\n",
       "0              0.001453             -0.021579              4.242641   \n",
       "1             -0.001927             -0.021579             -4.242641   \n",
       "\n",
       "   wavelet_var_coef_G01  wavelet_var_coef_G02  wavelet_var_coef_M01  \\\n",
       "0              0.000071              0.000047              0.000092   \n",
       "1              0.000174              0.000003              0.914387   \n",
       "\n",
       "   wavelet_var_coef_S01  \n",
       "0             17.771366  \n",
       "1            287.655612  "
      ]
     },
     "execution_count": 23,
     "metadata": {},
     "output_type": "execute_result"
    }
   ],
   "source": [
    "data_extract.head(2)"
   ]
  },
  {
   "cell_type": "code",
   "execution_count": 24,
   "id": "831061e3-49c6-47a7-8a92-e922643d53da",
   "metadata": {},
   "outputs": [],
   "source": [
    "#filename = '../data/data_wavelet_mpa.txt'\n",
    "#filename = '../data/data_wavelet_spg.txt'\n",
    "filename = '../data/data_wavelet_sps.txt'\n",
    "data_extract.to_csv(filename, sep=' ', index=False)"
   ]
  },
  {
   "cell_type": "markdown",
   "id": "935b9798-2a8a-4728-99e6-4cfe5b189b2a",
   "metadata": {},
   "source": [
    "## 1-Sample Wavelet"
   ]
  },
  {
   "cell_type": "code",
   "execution_count": 147,
   "id": "0aece00d-a20f-466f-9d8d-99efee21ccd3",
   "metadata": {},
   "outputs": [],
   "source": [
    "raw_data = extractor.load_raw_as_list(fp=fp_raw)"
   ]
  },
  {
   "cell_type": "code",
   "execution_count": 148,
   "id": "9577f3c4-5e17-485f-98cc-14cfbadf8746",
   "metadata": {},
   "outputs": [],
   "source": [
    "sample_id = 1000\n",
    "sample = raw_data[sample_id]\n",
    "package = sample.split(' ')[4:] "
   ]
  },
  {
   "cell_type": "code",
   "execution_count": 149,
   "id": "4ce1be39-4a50-4d49-8ea6-8d29124740b1",
   "metadata": {},
   "outputs": [
    {
     "data": {
      "text/plain": [
       "[<matplotlib.lines.Line2D at 0x1b5ae47cd90>]"
      ]
     },
     "execution_count": 149,
     "metadata": {},
     "output_type": "execute_result"
    },
    {
     "data": {
      "image/png": "[encoded data removed]",
      "text/plain": [
       "<Figure size 432x288 with 1 Axes>"
      ]
     },
     "metadata": {
      "needs_background": "light"
     },
     "output_type": "display_data"
    }
   ],
   "source": [
    "plt.plot(np.arange(len(package)), package)"
   ]
  },
  {
   "cell_type": "code",
   "execution_count": 150,
   "id": "2af801f5-6c5f-4595-ad16-e5da57aad3af",
   "metadata": {},
   "outputs": [
    {
     "data": {
      "text/plain": [
       "['bior1.1', 'bior1.3', 'bior1.5', 'bior2.2', 'bior2.4']"
      ]
     },
     "execution_count": 150,
     "metadata": {},
     "output_type": "execute_result"
    }
   ],
   "source": [
    "pywt.wavelist()[:5]"
   ]
  },
  {
   "cell_type": "code",
   "execution_count": 160,
   "id": "3599e58d-5922-4a11-9d7c-eef2ce754d56",
   "metadata": {},
   "outputs": [],
   "source": [
    "sample = raw_data[sample_id]\n",
    "package = sample.split(' ')[4:]\n",
    "wavelet = pywt.dwt(data=package, wavelet='db1', mode='zero', axis=-1)"
   ]
  },
  {
   "cell_type": "code",
   "execution_count": 166,
   "id": "0507736a-8a0b-4ecf-8e42-90b5ba86d93c",
   "metadata": {},
   "outputs": [
    {
     "data": {
      "text/plain": [
       "0.08623253429104222"
      ]
     },
     "execution_count": 166,
     "metadata": {},
     "output_type": "execute_result"
    }
   ],
   "source": [
    "np.mean(wavelet)"
   ]
  },
  {
   "cell_type": "code",
   "execution_count": 159,
   "id": "af6e481c-dd82-41ff-a64e-fe05bfaf3e43",
   "metadata": {},
   "outputs": [
    {
     "data": {
      "text/plain": [
       "0.25668015253138804"
      ]
     },
     "execution_count": 159,
     "metadata": {},
     "output_type": "execute_result"
    }
   ],
   "source": [
    "skew(wavelet[1])"
   ]
  },
  {
   "cell_type": "code",
   "execution_count": 155,
   "id": "5ea4f84e-3ac7-4dda-b81b-ab5ef43610de",
   "metadata": {},
   "outputs": [
    {
     "data": {
      "text/plain": [
       "(array([ 1.,  1.,  7.,  4.,  8., 16.,  2.,  0.,  5.,  6.]),\n",
       " array([-24.59495824, -19.98187862, -15.368799  , -10.75571938,\n",
       "         -6.14263976,  -1.52956014,   3.08351948,   7.6965991 ,\n",
       "         12.30967873,  16.92275835,  21.53583797]),\n",
       " <BarContainer object of 10 artists>)"
      ]
     },
     "execution_count": 155,
     "metadata": {},
     "output_type": "execute_result"
    },
    {
     "data": {
      "image/png": "[encoded data removed]",
      "text/plain": [
       "<Figure size 432x288 with 1 Axes>"
      ]
     },
     "metadata": {
      "needs_background": "light"
     },
     "output_type": "display_data"
    }
   ],
   "source": [
    "plt.hist(wavelet[0])"
   ]
  },
  {
   "cell_type": "code",
   "execution_count": 156,
   "id": "4ca9cc82-336d-46a2-a85a-3c1752a62099",
   "metadata": {},
   "outputs": [
    {
     "data": {
      "text/plain": [
       "(array([ 2.,  3.,  7.,  5., 17.,  6.,  6.,  2.,  1.,  1.]),\n",
       " array([-5.4630857 , -4.23530496, -3.00752422, -1.77974348, -0.55196273,\n",
       "         0.67581801,  1.90359875,  3.13137949,  4.35916024,  5.58694098,\n",
       "         6.81472172]),\n",
       " <BarContainer object of 10 artists>)"
      ]
     },
     "execution_count": 156,
     "metadata": {},
     "output_type": "execute_result"
    },
    {
     "data": {
      "image/png": "[encoded data removed]",
      "text/plain": [
       "<Figure size 432x288 with 1 Axes>"
      ]
     },
     "metadata": {
      "needs_background": "light"
     },
     "output_type": "display_data"
    }
   ],
   "source": [
    "plt.hist(wavelet[1])"
   ]
  },
  {
   "cell_type": "code",
   "execution_count": 75,
   "id": "48126fdb-2ef8-4793-bbd4-bf243a48f5df",
   "metadata": {},
   "outputs": [
    {
     "data": {
      "text/plain": [
       "<AxesSubplot:>"
      ]
     },
     "execution_count": 75,
     "metadata": {},
     "output_type": "execute_result"
    },
    {
     "data": {
      "image/png": "[encoded data removed]",
      "text/plain": [
       "<Figure size 432x288 with 1 Axes>"
      ]
     },
     "metadata": {
      "needs_background": "light"
     },
     "output_type": "display_data"
    }
   ],
   "source": [
    "sns.lineplot(np.arange(len(wavelet[0])), wavelet[0])"
   ]
  },
  {
   "cell_type": "code",
   "execution_count": 83,
   "id": "4dd2597f-5d65-4da8-8b80-ac233eb1688a",
   "metadata": {},
   "outputs": [
    {
     "data": {
      "image/png": "[encoded data removed]",
      "text/plain": [
       "<Figure size 720x216 with 2 Axes>"
      ]
     },
     "metadata": {
      "needs_background": "light"
     },
     "output_type": "display_data"
    },
    {
     "data": {
      "image/png": "[encoded data removed]",
      "text/plain": [
       "<Figure size 720x216 with 2 Axes>"
      ]
     },
     "metadata": {
      "needs_background": "light"
     },
     "output_type": "display_data"
    },
    {
     "data": {
      "image/png": "[encoded data removed]",
      "text/plain": [
       "<Figure size 720x216 with 2 Axes>"
      ]
     },
     "metadata": {
      "needs_background": "light"
     },
     "output_type": "display_data"
    },
    {
     "data": {
      "image/png": "[encoded data removed]",
      "text/plain": [
       "<Figure size 720x216 with 2 Axes>"
      ]
     },
     "metadata": {
      "needs_background": "light"
     },
     "output_type": "display_data"
    },
    {
     "data": {
      "image/png": "[encoded data removed]",
      "text/plain": [
       "<Figure size 720x216 with 2 Axes>"
      ]
     },
     "metadata": {
      "needs_background": "light"
     },
     "output_type": "display_data"
    }
   ],
   "source": [
    "for wave in np.random.choice(pywt.wavelist(), 5):\n",
    "    fig, ax = plt.subplots(1,2, figsize=(10,3))\n",
    "    try: \n",
    "        w = pywt.Wavelet(wave)\n",
    "        sample = raw_data[sample_id]\n",
    "        package = sample.split(' ')[4:]\n",
    "        wavelet_transform = pywt.dwt(package, w)\n",
    "        p1 = sns.lineplot(np.arange(len(wavelet_transform[0])), wavelet_transform[0], ax=ax[0])\n",
    "        p1.set_title(wave)\n",
    "        p2 = sns.lineplot(np.arange(len(wavelet_transform[0])), wavelet_transform[0], ax=ax[1])\n",
    "        p2.set_title(wave)\n",
    "        plt.show()\n",
    "    except:\n",
    "        continue"
   ]
  },
  {
   "cell_type": "code",
   "execution_count": null,
   "id": "e94cefc4-6beb-4a8d-9a2c-b30ce30e6457",
   "metadata": {},
   "outputs": [],
   "source": []
  },
  {
   "cell_type": "markdown",
   "id": "a57532d4-aa8e-4633-b4ef-c3c677ff3820",
   "metadata": {},
   "source": [
    "## 1-Sample ZCR"
   ]
  },
  {
   "cell_type": "code",
   "execution_count": 25,
   "id": "fefce673-d696-492d-8be7-93dc67d62538",
   "metadata": {},
   "outputs": [],
   "source": [
    "from librosa.feature import zero_crossing_rate"
   ]
  },
  {
   "cell_type": "code",
   "execution_count": 40,
   "id": "69fee8da-d2c9-4c6f-8e97-ddc6675ec5ba",
   "metadata": {},
   "outputs": [],
   "source": [
    "#df = pd.read_table('../data/data_wavelet_mpa.txt', sep=' ')\n",
    "#df = pd.read_table('../data/data_wavelet_spg.txt', sep=' ')\n",
    "df = pd.read_table('../data/data_wavelet_sps.txt', sep=' ')"
   ]
  },
  {
   "cell_type": "code",
   "execution_count": 39,
   "id": "6ae30772-501a-4ffb-96cf-52b017af308a",
   "metadata": {},
   "outputs": [
    {
     "name": "stdout",
     "output_type": "stream",
     "text": [
      "SignalFeatureExtractor:  {'raw_data_path': '../data/raw_packets_obernach_SPS_20S01_0.5M01_0.03G02_0.03G01_5020.vlnd', 'extract_chromafeatures': False, 'n_processes': 6}\n"
     ]
    }
   ],
   "source": [
    "#fp_raw = '../data/raw_packets_obernach_MP_0.24_2510.vlnd'\n",
    "#fp_raw = '../data/raw_packets_obernach_GP_0.02_2510.vlnd'\n",
    "fp_raw = '../data/raw_packets_obernach_SPS_20S01_0.5M01_0.03G02_0.03G01_5020.vlnd'\n",
    "\n",
    "extractor = SignalFeatureExtractor(raw_data_path=fp_raw,\n",
    "                                   extract_chromafeatures=False, n_processes=6)"
   ]
  },
  {
   "cell_type": "code",
   "execution_count": 125,
   "id": "0d73b7ec-0ca4-42d5-87be-9d63a260c5cd",
   "metadata": {},
   "outputs": [],
   "source": [
    "raw_data = extractor.load_raw_as_list(fp=fp_raw)"
   ]
  },
  {
   "cell_type": "code",
   "execution_count": 126,
   "id": "f3f5983d-a027-496a-8927-3c10c276a4d8",
   "metadata": {},
   "outputs": [
    {
     "data": {
      "text/plain": [
       "array([ 14.,  15.,   4.,  -7., -10.,  -5.,   1.,   6.,  10.,   6.,  -2.,\n",
       "        -6.,  -3.,   2.,  -6., -12.,   2.,  13.,   3., -10.,  -3.,  14.,\n",
       "        12.,  -3.,  -9.,  -1.,   4.,  -1.,  -4.,  -6.,  -7.,  -4.,   6.,\n",
       "        11.,   7.,  -4.,  -8.,  -2.,  -2.,  -6.,  -3.,   7.,  15.,  11.,\n",
       "         1.,  -9., -14., -10.,  -6.,  -3.,   5.,  18.,  21.,   4., -18.,\n",
       "       -20.,  -7.,   3.,  11.,  12.,   4.,  -5., -11.,  -9.,  -1.,   3.,\n",
       "        -5., -11.,  -8.,   3.,  13.,  14.,   9.,   4.,  -2.,  -8.,  -5.,\n",
       "        -2.,  -5.,  -4.,   2.])"
      ]
     },
     "execution_count": 126,
     "metadata": {},
     "output_type": "execute_result"
    }
   ],
   "source": [
    "sample_id = 1000\n",
    "sample = raw_data[sample_id]\n",
    "package = np.array(sample.split(' ')[4:]).astype(float)\n",
    "package"
   ]
  },
  {
   "cell_type": "code",
   "execution_count": 127,
   "id": "2dc4ea62-6dcb-41bc-adba-0afd3293d679",
   "metadata": {},
   "outputs": [
    {
     "data": {
      "text/plain": [
       "(81,)"
      ]
     },
     "execution_count": 127,
     "metadata": {},
     "output_type": "execute_result"
    }
   ],
   "source": [
    "package.shape"
   ]
  },
  {
   "cell_type": "code",
   "execution_count": 128,
   "id": "4235b190-032c-43a2-b6c9-6b282cda7864",
   "metadata": {},
   "outputs": [
    {
     "data": {
      "text/plain": [
       "0.16049382716049382"
      ]
     },
     "execution_count": 128,
     "metadata": {},
     "output_type": "execute_result"
    }
   ],
   "source": [
    "zero_crossing_rate(package, frame_length=package.shape[0])[0][0]"
   ]
  },
  {
   "cell_type": "code",
   "execution_count": 41,
   "id": "9803282c-b0cb-47ea-917b-6eaff1f23299",
   "metadata": {},
   "outputs": [],
   "source": [
    "def calculate_zero_crossing_rate(sample: str):\n",
    "    # generate List from string\n",
    "    sample = sample.split(' ')\n",
    "\n",
    "    # Feature Extraction from list of strings\n",
    "    start_time = sample[0] + ' ' + sample[1]\n",
    "    packnr = sample[2]\n",
    "    sensor = sample[3]\n",
    "    package = np.array(sample[4:]).astype(float)\n",
    "    zcr = zero_crossing_rate(package, frame_length=package.shape[0])[0][0]\n",
    "    # Create Dictionary\n",
    "    data_dict = dict(start_time=start_time, packnr=packnr, sensor_type=sensor,\n",
    "                     zcr=zcr)\n",
    "    return data_dict"
   ]
  },
  {
   "cell_type": "code",
   "execution_count": 42,
   "id": "0184703a-f913-4147-aab8-54500161acb5",
   "metadata": {},
   "outputs": [
    {
     "name": "stdout",
     "output_type": "stream",
     "text": [
      "INFO || 21.12.17_09:07 | Load Raw Data\n",
      "INFO || 21.12.17_09:07 | Extracting from Raw\n",
      "INFO || 21.12.17_09:07 | Transform Features\n",
      "INFO || 21.12.17_09:07 | Joining new Features\n"
     ]
    }
   ],
   "source": [
    "data_extract = extractor.extract_with_custom_func(processed_data=df, custom_func=calculate_zero_crossing_rate)"
   ]
  },
  {
   "cell_type": "code",
   "execution_count": 43,
   "id": "d1a551a5-add7-4049-a951-21b0433abbb6",
   "metadata": {},
   "outputs": [
    {
     "data": {
      "text/html": [
       "<div>\n",
       "<style scoped>\n",
       "    .dataframe tbody tr th:only-of-type {\n",
       "        vertical-align: middle;\n",
       "    }\n",
       "\n",
       "    .dataframe tbody tr th {\n",
       "        vertical-align: top;\n",
       "    }\n",
       "\n",
       "    .dataframe thead th {\n",
       "        text-align: right;\n",
       "    }\n",
       "</style>\n",
       "<table border=\"1\" class=\"dataframe\">\n",
       "  <thead>\n",
       "    <tr style=\"text-align: right;\">\n",
       "      <th></th>\n",
       "      <th>start_time</th>\n",
       "      <th>packnr</th>\n",
       "      <th>velocity</th>\n",
       "      <th>size_mm</th>\n",
       "      <th>centroid_frequency_G01</th>\n",
       "      <th>centroid_frequency2_G01</th>\n",
       "      <th>centroid_frequency_G02</th>\n",
       "      <th>centroid_frequency2_G02</th>\n",
       "      <th>centroid_frequency_M01</th>\n",
       "      <th>centroid_frequency2_M01</th>\n",
       "      <th>centroid_frequency_S01</th>\n",
       "      <th>centroid_frequency2_S01</th>\n",
       "      <th>median_freq_G01</th>\n",
       "      <th>median_freq_G02</th>\n",
       "      <th>median_freq_M01</th>\n",
       "      <th>median_freq_S01</th>\n",
       "      <th>flash_ind_G01</th>\n",
       "      <th>flash_ind_G02</th>\n",
       "      <th>flash_ind_M01</th>\n",
       "      <th>flash_ind_S01</th>\n",
       "      <th>cv_G01</th>\n",
       "      <th>cv_G02</th>\n",
       "      <th>cv_M01</th>\n",
       "      <th>cv_S01</th>\n",
       "      <th>iqa_G01</th>\n",
       "      <th>iqa_G02</th>\n",
       "      <th>iqa_M01</th>\n",
       "      <th>iqa_S01</th>\n",
       "      <th>mab_G01</th>\n",
       "      <th>mab_G02</th>\n",
       "      <th>mab_M01</th>\n",
       "      <th>mab_S01</th>\n",
       "      <th>imp_G01</th>\n",
       "      <th>imp_G02</th>\n",
       "      <th>imp_M01</th>\n",
       "      <th>imp_S01</th>\n",
       "      <th>len_G01</th>\n",
       "      <th>len_G02</th>\n",
       "      <th>len_M01</th>\n",
       "      <th>len_S01</th>\n",
       "      <th>wavelet_mean_approx_G01</th>\n",
       "      <th>wavelet_mean_approx_G02</th>\n",
       "      <th>wavelet_mean_approx_M01</th>\n",
       "      <th>wavelet_mean_approx_S01</th>\n",
       "      <th>wavelet_med_approx_G01</th>\n",
       "      <th>wavelet_med_approx_G02</th>\n",
       "      <th>wavelet_med_approx_M01</th>\n",
       "      <th>wavelet_med_approx_S01</th>\n",
       "      <th>wavelet_var_approx_G01</th>\n",
       "      <th>wavelet_var_approx_G02</th>\n",
       "      <th>wavelet_var_approx_M01</th>\n",
       "      <th>wavelet_var_approx_S01</th>\n",
       "      <th>wavelet_mean_coef_G01</th>\n",
       "      <th>wavelet_mean_coef_G02</th>\n",
       "      <th>wavelet_mean_coef_M01</th>\n",
       "      <th>wavelet_mean_coef_S01</th>\n",
       "      <th>wavelet_med_coef_G01</th>\n",
       "      <th>wavelet_med_coef_G02</th>\n",
       "      <th>wavelet_med_coef_M01</th>\n",
       "      <th>wavelet_med_coef_S01</th>\n",
       "      <th>wavelet_var_coef_G01</th>\n",
       "      <th>wavelet_var_coef_G02</th>\n",
       "      <th>wavelet_var_coef_M01</th>\n",
       "      <th>wavelet_var_coef_S01</th>\n",
       "      <th>zcr_G01</th>\n",
       "      <th>zcr_G02</th>\n",
       "      <th>zcr_M01</th>\n",
       "      <th>zcr_S01</th>\n",
       "    </tr>\n",
       "  </thead>\n",
       "  <tbody>\n",
       "    <tr>\n",
       "      <th>0</th>\n",
       "      <td>2021-06-22 15:34:38</td>\n",
       "      <td>1</td>\n",
       "      <td>2.05</td>\n",
       "      <td>12.3</td>\n",
       "      <td>8153.438439</td>\n",
       "      <td>7257.609334</td>\n",
       "      <td>8209.713177</td>\n",
       "      <td>7379.284623</td>\n",
       "      <td>7371.324388</td>\n",
       "      <td>2679.227894</td>\n",
       "      <td>6475.116681</td>\n",
       "      <td>3302.480303</td>\n",
       "      <td>7621.698593</td>\n",
       "      <td>7703.227327</td>\n",
       "      <td>6483.983503</td>\n",
       "      <td>5674.218237</td>\n",
       "      <td>0.002570</td>\n",
       "      <td>0.002471</td>\n",
       "      <td>0.008534</td>\n",
       "      <td>0.004337</td>\n",
       "      <td>0.674025</td>\n",
       "      <td>0.654932</td>\n",
       "      <td>1.337432</td>\n",
       "      <td>1.038010</td>\n",
       "      <td>1.167040e-07</td>\n",
       "      <td>7.746436e-08</td>\n",
       "      <td>2.586849e-07</td>\n",
       "      <td>0.034014</td>\n",
       "      <td>0.045203</td>\n",
       "      <td>0.036538</td>\n",
       "      <td>0.030517</td>\n",
       "      <td>18</td>\n",
       "      <td>1</td>\n",
       "      <td>1</td>\n",
       "      <td>0</td>\n",
       "      <td>0</td>\n",
       "      <td>73</td>\n",
       "      <td>73</td>\n",
       "      <td>73</td>\n",
       "      <td>73</td>\n",
       "      <td>0.002785</td>\n",
       "      <td>0.002233</td>\n",
       "      <td>-0.013705</td>\n",
       "      <td>4.643972</td>\n",
       "      <td>0.002274</td>\n",
       "      <td>0.001453</td>\n",
       "      <td>-0.021579</td>\n",
       "      <td>4.242641</td>\n",
       "      <td>0.000071</td>\n",
       "      <td>0.000047</td>\n",
       "      <td>0.000092</td>\n",
       "      <td>17.771366</td>\n",
       "      <td>0.002785</td>\n",
       "      <td>0.002233</td>\n",
       "      <td>-0.013705</td>\n",
       "      <td>4.643972</td>\n",
       "      <td>0.002274</td>\n",
       "      <td>0.001453</td>\n",
       "      <td>-0.021579</td>\n",
       "      <td>4.242641</td>\n",
       "      <td>0.000071</td>\n",
       "      <td>0.000047</td>\n",
       "      <td>0.000092</td>\n",
       "      <td>17.771366</td>\n",
       "      <td>0.109589</td>\n",
       "      <td>0.109589</td>\n",
       "      <td>0.164384</td>\n",
       "      <td>0.082192</td>\n",
       "    </tr>\n",
       "    <tr>\n",
       "      <th>1</th>\n",
       "      <td>2021-06-22 15:34:38</td>\n",
       "      <td>2</td>\n",
       "      <td>2.05</td>\n",
       "      <td>12.3</td>\n",
       "      <td>3450.442567</td>\n",
       "      <td>2618.793204</td>\n",
       "      <td>4212.339529</td>\n",
       "      <td>1687.358524</td>\n",
       "      <td>7086.113317</td>\n",
       "      <td>6697.399727</td>\n",
       "      <td>7301.457307</td>\n",
       "      <td>5199.687184</td>\n",
       "      <td>2680.641145</td>\n",
       "      <td>2438.875910</td>\n",
       "      <td>6743.588474</td>\n",
       "      <td>6302.180373</td>\n",
       "      <td>0.007678</td>\n",
       "      <td>0.013979</td>\n",
       "      <td>0.006784</td>\n",
       "      <td>0.014169</td>\n",
       "      <td>2.432687</td>\n",
       "      <td>2.170305</td>\n",
       "      <td>2.258637</td>\n",
       "      <td>1.021832</td>\n",
       "      <td>2.902270e-07</td>\n",
       "      <td>9.641377e-09</td>\n",
       "      <td>1.837043e-03</td>\n",
       "      <td>0.540045</td>\n",
       "      <td>0.033590</td>\n",
       "      <td>0.003931</td>\n",
       "      <td>2.715982</td>\n",
       "      <td>37</td>\n",
       "      <td>0</td>\n",
       "      <td>0</td>\n",
       "      <td>10</td>\n",
       "      <td>7</td>\n",
       "      <td>139</td>\n",
       "      <td>139</td>\n",
       "      <td>139</td>\n",
       "      <td>139</td>\n",
       "      <td>-0.001586</td>\n",
       "      <td>-0.001565</td>\n",
       "      <td>-0.017571</td>\n",
       "      <td>-2.676904</td>\n",
       "      <td>-0.001990</td>\n",
       "      <td>-0.001927</td>\n",
       "      <td>-0.021579</td>\n",
       "      <td>-4.242641</td>\n",
       "      <td>0.000174</td>\n",
       "      <td>0.000003</td>\n",
       "      <td>0.914387</td>\n",
       "      <td>287.655612</td>\n",
       "      <td>-0.001586</td>\n",
       "      <td>-0.001565</td>\n",
       "      <td>-0.017571</td>\n",
       "      <td>-2.676904</td>\n",
       "      <td>-0.001990</td>\n",
       "      <td>-0.001927</td>\n",
       "      <td>-0.021579</td>\n",
       "      <td>-4.242641</td>\n",
       "      <td>0.000174</td>\n",
       "      <td>0.000003</td>\n",
       "      <td>0.914387</td>\n",
       "      <td>287.655612</td>\n",
       "      <td>0.050360</td>\n",
       "      <td>0.021583</td>\n",
       "      <td>0.122302</td>\n",
       "      <td>0.122302</td>\n",
       "    </tr>\n",
       "  </tbody>\n",
       "</table>\n",
       "</div>"
      ],
      "text/plain": [
       "           start_time  packnr  velocity  size_mm  centroid_frequency_G01  \\\n",
       "0 2021-06-22 15:34:38       1      2.05     12.3             8153.438439   \n",
       "1 2021-06-22 15:34:38       2      2.05     12.3             3450.442567   \n",
       "\n",
       "   centroid_frequency2_G01  centroid_frequency_G02  centroid_frequency2_G02  \\\n",
       "0              7257.609334             8209.713177              7379.284623   \n",
       "1              2618.793204             4212.339529              1687.358524   \n",
       "\n",
       "   centroid_frequency_M01  centroid_frequency2_M01  centroid_frequency_S01  \\\n",
       "0             7371.324388              2679.227894             6475.116681   \n",
       "1             7086.113317              6697.399727             7301.457307   \n",
       "\n",
       "   centroid_frequency2_S01  median_freq_G01  median_freq_G02  median_freq_M01  \\\n",
       "0              3302.480303      7621.698593      7703.227327      6483.983503   \n",
       "1              5199.687184      2680.641145      2438.875910      6743.588474   \n",
       "\n",
       "   median_freq_S01  flash_ind_G01  flash_ind_G02  flash_ind_M01  \\\n",
       "0      5674.218237       0.002570       0.002471       0.008534   \n",
       "1      6302.180373       0.007678       0.013979       0.006784   \n",
       "\n",
       "   flash_ind_S01    cv_G01    cv_G02    cv_M01    cv_S01       iqa_G01  \\\n",
       "0       0.004337  0.674025  0.654932  1.337432  1.038010  1.167040e-07   \n",
       "1       0.014169  2.432687  2.170305  2.258637  1.021832  2.902270e-07   \n",
       "\n",
       "        iqa_G02       iqa_M01   iqa_S01   mab_G01   mab_G02   mab_M01  \\\n",
       "0  7.746436e-08  2.586849e-07  0.034014  0.045203  0.036538  0.030517   \n",
       "1  9.641377e-09  1.837043e-03  0.540045  0.033590  0.003931  2.715982   \n",
       "\n",
       "   mab_S01  imp_G01  imp_G02  imp_M01  imp_S01  len_G01  len_G02  len_M01  \\\n",
       "0       18        1        1        0        0       73       73       73   \n",
       "1       37        0        0       10        7      139      139      139   \n",
       "\n",
       "   len_S01  wavelet_mean_approx_G01  wavelet_mean_approx_G02  \\\n",
       "0       73                 0.002785                 0.002233   \n",
       "1      139                -0.001586                -0.001565   \n",
       "\n",
       "   wavelet_mean_approx_M01  wavelet_mean_approx_S01  wavelet_med_approx_G01  \\\n",
       "0                -0.013705                 4.643972                0.002274   \n",
       "1                -0.017571                -2.676904               -0.001990   \n",
       "\n",
       "   wavelet_med_approx_G02  wavelet_med_approx_M01  wavelet_med_approx_S01  \\\n",
       "0                0.001453               -0.021579                4.242641   \n",
       "1               -0.001927               -0.021579               -4.242641   \n",
       "\n",
       "   wavelet_var_approx_G01  wavelet_var_approx_G02  wavelet_var_approx_M01  \\\n",
       "0                0.000071                0.000047                0.000092   \n",
       "1                0.000174                0.000003                0.914387   \n",
       "\n",
       "   wavelet_var_approx_S01  wavelet_mean_coef_G01  wavelet_mean_coef_G02  \\\n",
       "0               17.771366               0.002785               0.002233   \n",
       "1              287.655612              -0.001586              -0.001565   \n",
       "\n",
       "   wavelet_mean_coef_M01  wavelet_mean_coef_S01  wavelet_med_coef_G01  \\\n",
       "0              -0.013705               4.643972              0.002274   \n",
       "1              -0.017571              -2.676904             -0.001990   \n",
       "\n",
       "   wavelet_med_coef_G02  wavelet_med_coef_M01  wavelet_med_coef_S01  \\\n",
       "0              0.001453             -0.021579              4.242641   \n",
       "1             -0.001927             -0.021579             -4.242641   \n",
       "\n",
       "   wavelet_var_coef_G01  wavelet_var_coef_G02  wavelet_var_coef_M01  \\\n",
       "0              0.000071              0.000047              0.000092   \n",
       "1              0.000174              0.000003              0.914387   \n",
       "\n",
       "   wavelet_var_coef_S01   zcr_G01   zcr_G02   zcr_M01   zcr_S01  \n",
       "0             17.771366  0.109589  0.109589  0.164384  0.082192  \n",
       "1            287.655612  0.050360  0.021583  0.122302  0.122302  "
      ]
     },
     "execution_count": 43,
     "metadata": {},
     "output_type": "execute_result"
    }
   ],
   "source": [
    "data_extract.head(2)"
   ]
  },
  {
   "cell_type": "code",
   "execution_count": 132,
   "id": "a61d3a27-0a14-4bb4-942b-bcfe09c7b3fb",
   "metadata": {},
   "outputs": [],
   "source": []
  },
  {
   "cell_type": "code",
   "execution_count": 44,
   "id": "b4415e81-05d7-4563-bd1b-829af270ea37",
   "metadata": {},
   "outputs": [],
   "source": [
    "#filename = '../data/data_wavelet_zcr_mpa.txt'\n",
    "#filename = '../data/data_wavelet_zcr_spg.txt'\n",
    "#filename = '../data/data_wavelet_zcr_sps.txt'\n",
    "data_extract.to_csv(filename, sep=' ', index=False)"
   ]
  },
  {
   "cell_type": "markdown",
   "id": "5ce676cc-a34a-4c0f-af7f-b02ef1d587cc",
   "metadata": {},
   "source": [
    "## Peak-Valley Value"
   ]
  },
  {
   "cell_type": "code",
   "execution_count": 81,
   "id": "bd031e96-1032-4708-b5c1-48595dc5e985",
   "metadata": {},
   "outputs": [],
   "source": [
    "def peak_valley_value(sample: str):\n",
    "    # generate List from string\n",
    "    sample = sample.split(' ')\n",
    "\n",
    "    # Feature Extraction from list of strings\n",
    "    start_time = sample[0] + ' ' + sample[1]\n",
    "    packnr = sample[2]\n",
    "    sensor = sample[3]\n",
    "    package = np.array(sample[4:]).astype(float)\n",
    "    peak_valley_value = np.max(package) - np.min(package)\n",
    "    # Create Dictionary\n",
    "    data_dict = dict(start_time=start_time, packnr=packnr, sensor_type=sensor,\n",
    "                     peak_valley_value=peak_valley_value)\n",
    "    return data_dict"
   ]
  },
  {
   "cell_type": "code",
   "execution_count": 82,
   "id": "0cc8a4a9-931a-4193-9167-4a34d4233332",
   "metadata": {},
   "outputs": [],
   "source": [
    "df = pd.read_table('../data/data_wavelet_zcr_mpa.txt', sep=' ')\n",
    "#df = pd.read_table('../data/data_wavelet_zcr_spg.txt', sep=' ')\n",
    "#df = pd.read_table('../data/data_wavelet_zcr_sps.txt', sep=' ')"
   ]
  },
  {
   "cell_type": "code",
   "execution_count": 83,
   "id": "349fc3f5-6c5f-4fdd-b103-52276c17cb5c",
   "metadata": {},
   "outputs": [
    {
     "name": "stdout",
     "output_type": "stream",
     "text": [
      "SignalFeatureExtractor:  {'raw_data_path': '../data/raw_packets_obernach_MP_0.24_2510.vlnd', 'extract_chromafeatures': False, 'n_processes': 6}\n"
     ]
    }
   ],
   "source": [
    "fp_raw = '../data/raw_packets_obernach_MP_0.24_2510.vlnd'\n",
    "#fp_raw = '../data/raw_packets_obernach_GP_0.02_2510.vlnd'\n",
    "#fp_raw = '../data/raw_packets_obernach_SPS_20S01_0.5M01_0.03G02_0.03G01_5020.vlnd'\n",
    "\n",
    "extractor = SignalFeatureExtractor(raw_data_path=fp_raw,\n",
    "                                   extract_chromafeatures=False, \n",
    "                                   n_processes=6)"
   ]
  },
  {
   "cell_type": "code",
   "execution_count": 84,
   "id": "d17edb1c-ad05-41bc-9453-40fbd8306711",
   "metadata": {},
   "outputs": [
    {
     "name": "stdout",
     "output_type": "stream",
     "text": [
      "INFO || 21.12.17_11:15 | Load Raw Data\n",
      "INFO || 21.12.17_11:15 | Extracting from Raw\n",
      "INFO || 21.12.17_11:16 | Transform Features\n",
      "INFO || 21.12.17_11:16 | Joining new Features\n"
     ]
    }
   ],
   "source": [
    "data_extract = extractor.extract_with_custom_func(processed_data=df, custom_func=peak_valley_value)"
   ]
  },
  {
   "cell_type": "code",
   "execution_count": 85,
   "id": "c00193de-0cd4-4b54-8b15-23c4e2e17e78",
   "metadata": {},
   "outputs": [
    {
     "data": {
      "text/html": [
       "<div>\n",
       "<style scoped>\n",
       "    .dataframe tbody tr th:only-of-type {\n",
       "        vertical-align: middle;\n",
       "    }\n",
       "\n",
       "    .dataframe tbody tr th {\n",
       "        vertical-align: top;\n",
       "    }\n",
       "\n",
       "    .dataframe thead th {\n",
       "        text-align: right;\n",
       "    }\n",
       "</style>\n",
       "<table border=\"1\" class=\"dataframe\">\n",
       "  <thead>\n",
       "    <tr style=\"text-align: right;\">\n",
       "      <th></th>\n",
       "      <th>start_time</th>\n",
       "      <th>packnr</th>\n",
       "      <th>velocity</th>\n",
       "      <th>size_mm</th>\n",
       "      <th>centroid_frequency_M01</th>\n",
       "      <th>centroid_frequency2_M01</th>\n",
       "      <th>centroid_frequency_M02</th>\n",
       "      <th>centroid_frequency2_M02</th>\n",
       "      <th>centroid_frequency_M03</th>\n",
       "      <th>centroid_frequency2_M03</th>\n",
       "      <th>centroid_frequency_M04</th>\n",
       "      <th>centroid_frequency2_M04</th>\n",
       "      <th>median_freq_M01</th>\n",
       "      <th>median_freq_M02</th>\n",
       "      <th>median_freq_M03</th>\n",
       "      <th>median_freq_M04</th>\n",
       "      <th>flash_ind_M01</th>\n",
       "      <th>flash_ind_M02</th>\n",
       "      <th>flash_ind_M03</th>\n",
       "      <th>flash_ind_M04</th>\n",
       "      <th>cv_M01</th>\n",
       "      <th>cv_M02</th>\n",
       "      <th>cv_M03</th>\n",
       "      <th>cv_M04</th>\n",
       "      <th>iqa_M01</th>\n",
       "      <th>iqa_M02</th>\n",
       "      <th>iqa_M03</th>\n",
       "      <th>iqa_M04</th>\n",
       "      <th>mab_M01</th>\n",
       "      <th>mab_M02</th>\n",
       "      <th>mab_M03</th>\n",
       "      <th>mab_M04</th>\n",
       "      <th>imp_M01</th>\n",
       "      <th>imp_M02</th>\n",
       "      <th>imp_M03</th>\n",
       "      <th>imp_M04</th>\n",
       "      <th>len_M01</th>\n",
       "      <th>len_M02</th>\n",
       "      <th>len_M03</th>\n",
       "      <th>len_M04</th>\n",
       "      <th>wavelet_mean_approx_M01</th>\n",
       "      <th>wavelet_mean_approx_M02</th>\n",
       "      <th>wavelet_mean_approx_M03</th>\n",
       "      <th>wavelet_mean_approx_M04</th>\n",
       "      <th>wavelet_med_approx_M01</th>\n",
       "      <th>wavelet_med_approx_M02</th>\n",
       "      <th>wavelet_med_approx_M03</th>\n",
       "      <th>wavelet_med_approx_M04</th>\n",
       "      <th>wavelet_var_approx_M01</th>\n",
       "      <th>wavelet_var_approx_M02</th>\n",
       "      <th>wavelet_var_approx_M03</th>\n",
       "      <th>wavelet_var_approx_M04</th>\n",
       "      <th>wavelet_mean_coef_M01</th>\n",
       "      <th>wavelet_mean_coef_M02</th>\n",
       "      <th>wavelet_mean_coef_M03</th>\n",
       "      <th>wavelet_mean_coef_M04</th>\n",
       "      <th>wavelet_med_coef_M01</th>\n",
       "      <th>wavelet_med_coef_M02</th>\n",
       "      <th>wavelet_med_coef_M03</th>\n",
       "      <th>wavelet_med_coef_M04</th>\n",
       "      <th>wavelet_var_coef_M01</th>\n",
       "      <th>wavelet_var_coef_M02</th>\n",
       "      <th>wavelet_var_coef_M03</th>\n",
       "      <th>wavelet_var_coef_M04</th>\n",
       "      <th>zcr_M01</th>\n",
       "      <th>zcr_M02</th>\n",
       "      <th>zcr_M03</th>\n",
       "      <th>zcr_M04</th>\n",
       "      <th>peak_valley_value_M01</th>\n",
       "      <th>peak_valley_value_M02</th>\n",
       "      <th>peak_valley_value_M03</th>\n",
       "      <th>peak_valley_value_M04</th>\n",
       "    </tr>\n",
       "  </thead>\n",
       "  <tbody>\n",
       "    <tr>\n",
       "      <th>0</th>\n",
       "      <td>2018-09-25 09:17:47</td>\n",
       "      <td>1</td>\n",
       "      <td>1.55</td>\n",
       "      <td>12.3</td>\n",
       "      <td>2904.461291</td>\n",
       "      <td>3295.473828</td>\n",
       "      <td>2774.005720</td>\n",
       "      <td>2978.700293</td>\n",
       "      <td>2695.615717</td>\n",
       "      <td>2927.095558</td>\n",
       "      <td>2826.315035</td>\n",
       "      <td>3061.944796</td>\n",
       "      <td>3105.963785</td>\n",
       "      <td>2927.665619</td>\n",
       "      <td>2897.265451</td>\n",
       "      <td>3102.096379</td>\n",
       "      <td>0.003316</td>\n",
       "      <td>0.003135</td>\n",
       "      <td>0.001323</td>\n",
       "      <td>0.003481</td>\n",
       "      <td>0.600818</td>\n",
       "      <td>0.535403</td>\n",
       "      <td>0.870868</td>\n",
       "      <td>0.640243</td>\n",
       "      <td>3.904208e-08</td>\n",
       "      <td>7.449861e-08</td>\n",
       "      <td>0.000035</td>\n",
       "      <td>7.180763e-08</td>\n",
       "      <td>0.007383</td>\n",
       "      <td>0.010306</td>\n",
       "      <td>0.297658</td>\n",
       "      <td>0.009521</td>\n",
       "      <td>0</td>\n",
       "      <td>0</td>\n",
       "      <td>2</td>\n",
       "      <td>0</td>\n",
       "      <td>41</td>\n",
       "      <td>41</td>\n",
       "      <td>41</td>\n",
       "      <td>41</td>\n",
       "      <td>0.000318</td>\n",
       "      <td>0.000049</td>\n",
       "      <td>-0.000013</td>\n",
       "      <td>-0.001907</td>\n",
       "      <td>0.000343</td>\n",
       "      <td>-0.000566</td>\n",
       "      <td>0.001982</td>\n",
       "      <td>-0.002589</td>\n",
       "      <td>0.000006</td>\n",
       "      <td>0.000012</td>\n",
       "      <td>0.010168</td>\n",
       "      <td>0.000014</td>\n",
       "      <td>0.000318</td>\n",
       "      <td>0.000049</td>\n",
       "      <td>-0.000013</td>\n",
       "      <td>-0.001907</td>\n",
       "      <td>0.000343</td>\n",
       "      <td>-0.000566</td>\n",
       "      <td>0.001982</td>\n",
       "      <td>-0.002589</td>\n",
       "      <td>0.000006</td>\n",
       "      <td>0.000012</td>\n",
       "      <td>0.010168</td>\n",
       "      <td>0.000014</td>\n",
       "      <td>0.170732</td>\n",
       "      <td>0.292683</td>\n",
       "      <td>0.341463</td>\n",
       "      <td>0.317073</td>\n",
       "      <td>0.013720</td>\n",
       "      <td>0.017748</td>\n",
       "      <td>0.560865</td>\n",
       "      <td>0.015938</td>\n",
       "    </tr>\n",
       "    <tr>\n",
       "      <th>1</th>\n",
       "      <td>2018-09-25 09:17:47</td>\n",
       "      <td>2</td>\n",
       "      <td>1.55</td>\n",
       "      <td>12.3</td>\n",
       "      <td>2597.393898</td>\n",
       "      <td>2779.013129</td>\n",
       "      <td>2896.153838</td>\n",
       "      <td>3323.666289</td>\n",
       "      <td>2966.569484</td>\n",
       "      <td>3041.924425</td>\n",
       "      <td>2715.497321</td>\n",
       "      <td>2918.155807</td>\n",
       "      <td>2783.164958</td>\n",
       "      <td>3271.880998</td>\n",
       "      <td>3028.421043</td>\n",
       "      <td>2833.174972</td>\n",
       "      <td>0.002383</td>\n",
       "      <td>0.001750</td>\n",
       "      <td>0.001530</td>\n",
       "      <td>0.002993</td>\n",
       "      <td>0.534952</td>\n",
       "      <td>0.551811</td>\n",
       "      <td>1.036189</td>\n",
       "      <td>0.468263</td>\n",
       "      <td>1.705021e-08</td>\n",
       "      <td>4.513775e-08</td>\n",
       "      <td>0.000015</td>\n",
       "      <td>5.465064e-08</td>\n",
       "      <td>0.006142</td>\n",
       "      <td>0.009462</td>\n",
       "      <td>0.217281</td>\n",
       "      <td>0.009715</td>\n",
       "      <td>0</td>\n",
       "      <td>0</td>\n",
       "      <td>0</td>\n",
       "      <td>0</td>\n",
       "      <td>37</td>\n",
       "      <td>37</td>\n",
       "      <td>37</td>\n",
       "      <td>37</td>\n",
       "      <td>0.000140</td>\n",
       "      <td>-0.000982</td>\n",
       "      <td>0.000597</td>\n",
       "      <td>-0.000454</td>\n",
       "      <td>0.000366</td>\n",
       "      <td>-0.001216</td>\n",
       "      <td>0.000633</td>\n",
       "      <td>0.000345</td>\n",
       "      <td>0.000002</td>\n",
       "      <td>0.000008</td>\n",
       "      <td>0.002472</td>\n",
       "      <td>0.000013</td>\n",
       "      <td>0.000140</td>\n",
       "      <td>-0.000982</td>\n",
       "      <td>0.000597</td>\n",
       "      <td>-0.000454</td>\n",
       "      <td>0.000366</td>\n",
       "      <td>-0.001216</td>\n",
       "      <td>0.000633</td>\n",
       "      <td>0.000345</td>\n",
       "      <td>0.000002</td>\n",
       "      <td>0.000008</td>\n",
       "      <td>0.002472</td>\n",
       "      <td>0.000013</td>\n",
       "      <td>0.297297</td>\n",
       "      <td>0.297297</td>\n",
       "      <td>0.297297</td>\n",
       "      <td>0.351351</td>\n",
       "      <td>0.009977</td>\n",
       "      <td>0.016099</td>\n",
       "      <td>0.417822</td>\n",
       "      <td>0.018453</td>\n",
       "    </tr>\n",
       "  </tbody>\n",
       "</table>\n",
       "</div>"
      ],
      "text/plain": [
       "           start_time  packnr  velocity  size_mm  centroid_frequency_M01  \\\n",
       "0 2018-09-25 09:17:47       1      1.55     12.3             2904.461291   \n",
       "1 2018-09-25 09:17:47       2      1.55     12.3             2597.393898   \n",
       "\n",
       "   centroid_frequency2_M01  centroid_frequency_M02  centroid_frequency2_M02  \\\n",
       "0              3295.473828             2774.005720              2978.700293   \n",
       "1              2779.013129             2896.153838              3323.666289   \n",
       "\n",
       "   centroid_frequency_M03  centroid_frequency2_M03  centroid_frequency_M04  \\\n",
       "0             2695.615717              2927.095558             2826.315035   \n",
       "1             2966.569484              3041.924425             2715.497321   \n",
       "\n",
       "   centroid_frequency2_M04  median_freq_M01  median_freq_M02  median_freq_M03  \\\n",
       "0              3061.944796      3105.963785      2927.665619      2897.265451   \n",
       "1              2918.155807      2783.164958      3271.880998      3028.421043   \n",
       "\n",
       "   median_freq_M04  flash_ind_M01  flash_ind_M02  flash_ind_M03  \\\n",
       "0      3102.096379       0.003316       0.003135       0.001323   \n",
       "1      2833.174972       0.002383       0.001750       0.001530   \n",
       "\n",
       "   flash_ind_M04    cv_M01    cv_M02    cv_M03    cv_M04       iqa_M01  \\\n",
       "0       0.003481  0.600818  0.535403  0.870868  0.640243  3.904208e-08   \n",
       "1       0.002993  0.534952  0.551811  1.036189  0.468263  1.705021e-08   \n",
       "\n",
       "        iqa_M02   iqa_M03       iqa_M04   mab_M01   mab_M02   mab_M03  \\\n",
       "0  7.449861e-08  0.000035  7.180763e-08  0.007383  0.010306  0.297658   \n",
       "1  4.513775e-08  0.000015  5.465064e-08  0.006142  0.009462  0.217281   \n",
       "\n",
       "    mab_M04  imp_M01  imp_M02  imp_M03  imp_M04  len_M01  len_M02  len_M03  \\\n",
       "0  0.009521        0        0        2        0       41       41       41   \n",
       "1  0.009715        0        0        0        0       37       37       37   \n",
       "\n",
       "   len_M04  wavelet_mean_approx_M01  wavelet_mean_approx_M02  \\\n",
       "0       41                 0.000318                 0.000049   \n",
       "1       37                 0.000140                -0.000982   \n",
       "\n",
       "   wavelet_mean_approx_M03  wavelet_mean_approx_M04  wavelet_med_approx_M01  \\\n",
       "0                -0.000013                -0.001907                0.000343   \n",
       "1                 0.000597                -0.000454                0.000366   \n",
       "\n",
       "   wavelet_med_approx_M02  wavelet_med_approx_M03  wavelet_med_approx_M04  \\\n",
       "0               -0.000566                0.001982               -0.002589   \n",
       "1               -0.001216                0.000633                0.000345   \n",
       "\n",
       "   wavelet_var_approx_M01  wavelet_var_approx_M02  wavelet_var_approx_M03  \\\n",
       "0                0.000006                0.000012                0.010168   \n",
       "1                0.000002                0.000008                0.002472   \n",
       "\n",
       "   wavelet_var_approx_M04  wavelet_mean_coef_M01  wavelet_mean_coef_M02  \\\n",
       "0                0.000014               0.000318               0.000049   \n",
       "1                0.000013               0.000140              -0.000982   \n",
       "\n",
       "   wavelet_mean_coef_M03  wavelet_mean_coef_M04  wavelet_med_coef_M01  \\\n",
       "0              -0.000013              -0.001907              0.000343   \n",
       "1               0.000597              -0.000454              0.000366   \n",
       "\n",
       "   wavelet_med_coef_M02  wavelet_med_coef_M03  wavelet_med_coef_M04  \\\n",
       "0             -0.000566              0.001982             -0.002589   \n",
       "1             -0.001216              0.000633              0.000345   \n",
       "\n",
       "   wavelet_var_coef_M01  wavelet_var_coef_M02  wavelet_var_coef_M03  \\\n",
       "0              0.000006              0.000012              0.010168   \n",
       "1              0.000002              0.000008              0.002472   \n",
       "\n",
       "   wavelet_var_coef_M04   zcr_M01   zcr_M02   zcr_M03   zcr_M04  \\\n",
       "0              0.000014  0.170732  0.292683  0.341463  0.317073   \n",
       "1              0.000013  0.297297  0.297297  0.297297  0.351351   \n",
       "\n",
       "   peak_valley_value_M01  peak_valley_value_M02  peak_valley_value_M03  \\\n",
       "0               0.013720               0.017748               0.560865   \n",
       "1               0.009977               0.016099               0.417822   \n",
       "\n",
       "   peak_valley_value_M04  \n",
       "0               0.015938  \n",
       "1               0.018453  "
      ]
     },
     "execution_count": 85,
     "metadata": {},
     "output_type": "execute_result"
    }
   ],
   "source": [
    "# Check features\n",
    "data_extract.head(2)"
   ]
  },
  {
   "cell_type": "code",
   "execution_count": null,
   "id": "a1e49123-44b2-4100-8366-931cb6b366ca",
   "metadata": {},
   "outputs": [],
   "source": []
  },
  {
   "cell_type": "code",
   "execution_count": 86,
   "id": "3307fb03-b997-4919-af54-dec17492513b",
   "metadata": {},
   "outputs": [],
   "source": [
    "filename = '../data/data_wavelet_zcr_pv_mpa.txt'\n",
    "#filename = '../data/data_wavelet_zcr_pv_spg.txt'\n",
    "#filename = '../data/data_wavelet_zcr_pv_sps.txt'\n",
    "data_extract.to_csv(filename, sep=' ', index=False)"
   ]
  },
  {
   "cell_type": "code",
   "execution_count": null,
   "id": "494218ad-b563-4227-965c-a6fa726914e6",
   "metadata": {},
   "outputs": [],
   "source": []
  },
  {
   "cell_type": "code",
   "execution_count": null,
   "id": "c91e9c4e-40b5-44cc-b2e2-a119b06384dd",
   "metadata": {},
   "outputs": [],
   "source": []
  },
  {
   "cell_type": "markdown",
   "id": "51b32281-d43e-4074-8c3e-9c6e41922aef",
   "metadata": {},
   "source": [
    "# Root Mean Square Energy\n",
    "\n",
    "https://musicinformationretrieval.com/energy.html#:~:text=The%20root%2Dmean%2Dsquare%20energy,x%2C%20sr%20%3D%20librosa."
   ]
  },
  {
   "cell_type": "code",
   "execution_count": 65,
   "id": "afed23c5-41bd-45d7-8797-ef89152dc566",
   "metadata": {},
   "outputs": [],
   "source": [
    "def root_mean_square_energy(sample: str):\n",
    "    # generate List from string\n",
    "    sample = sample.split(' ')\n",
    "\n",
    "    # Feature Extraction from list of strings\n",
    "    start_time = sample[0] + ' ' + sample[1]\n",
    "    packnr = sample[2]\n",
    "    sensor = sample[3]\n",
    "    package = np.array(sample[4:]).astype(float)\n",
    "    \n",
    "    root_mean_square_energy = np.sqrt(np.mean(package**2))\n",
    "    \n",
    "    # Create Dictionary\n",
    "    data_dict = dict(start_time=start_time, packnr=packnr, sensor_type=sensor,\n",
    "                     rmse=root_mean_square_energy)\n",
    "    return data_dict"
   ]
  },
  {
   "cell_type": "code",
   "execution_count": 76,
   "id": "e78f59ae-40c8-4868-a318-081eaed7c4cf",
   "metadata": {},
   "outputs": [],
   "source": [
    "#df = pd.read_table('../data/data_wavelet_zcr_mpa.txt', sep=' ')\n",
    "#df = pd.read_table('../data/data_wavelet_zcr_spg.txt', sep=' ')\n",
    "df = pd.read_table('../data/data_wavelet_zcr_sps.txt', sep=' ')"
   ]
  },
  {
   "cell_type": "code",
   "execution_count": 77,
   "id": "ec3df033-73cb-4b59-908b-7f0172b8dcc4",
   "metadata": {},
   "outputs": [
    {
     "name": "stdout",
     "output_type": "stream",
     "text": [
      "SignalFeatureExtractor:  {'raw_data_path': '../data/raw_packets_obernach_SPS_20S01_0.5M01_0.03G02_0.03G01_5020.vlnd', 'extract_chromafeatures': False, 'n_processes': 6}\n"
     ]
    }
   ],
   "source": [
    "#fp_raw = '../data/raw_packets_obernach_MP_0.24_2510.vlnd'\n",
    "#fp_raw = '../data/raw_packets_obernach_GP_0.02_2510.vlnd'\n",
    "fp_raw = '../data/raw_packets_obernach_SPS_20S01_0.5M01_0.03G02_0.03G01_5020.vlnd'\n",
    "\n",
    "extractor = SignalFeatureExtractor(raw_data_path=fp_raw,\n",
    "                                   extract_chromafeatures=False, \n",
    "                                   n_processes=6)"
   ]
  },
  {
   "cell_type": "code",
   "execution_count": 78,
   "id": "8b62e054-81e1-4e9c-8184-e48273790072",
   "metadata": {},
   "outputs": [
    {
     "name": "stdout",
     "output_type": "stream",
     "text": [
      "INFO || 21.12.17_09:36 | Load Raw Data\n",
      "INFO || 21.12.17_09:36 | Extracting from Raw\n",
      "INFO || 21.12.17_09:36 | Transform Features\n",
      "INFO || 21.12.17_09:36 | Joining new Features\n"
     ]
    }
   ],
   "source": [
    "data_extract = extractor.extract_with_custom_func(processed_data=df, custom_func=root_mean_square_energy)"
   ]
  },
  {
   "cell_type": "code",
   "execution_count": 79,
   "id": "75260935-cf11-4ea8-a661-f9cb2cac270f",
   "metadata": {},
   "outputs": [
    {
     "data": {
      "text/html": [
       "<div>\n",
       "<style scoped>\n",
       "    .dataframe tbody tr th:only-of-type {\n",
       "        vertical-align: middle;\n",
       "    }\n",
       "\n",
       "    .dataframe tbody tr th {\n",
       "        vertical-align: top;\n",
       "    }\n",
       "\n",
       "    .dataframe thead th {\n",
       "        text-align: right;\n",
       "    }\n",
       "</style>\n",
       "<table border=\"1\" class=\"dataframe\">\n",
       "  <thead>\n",
       "    <tr style=\"text-align: right;\">\n",
       "      <th></th>\n",
       "      <th>start_time</th>\n",
       "      <th>packnr</th>\n",
       "      <th>velocity</th>\n",
       "      <th>size_mm</th>\n",
       "      <th>centroid_frequency_G01</th>\n",
       "      <th>centroid_frequency2_G01</th>\n",
       "      <th>centroid_frequency_G02</th>\n",
       "      <th>centroid_frequency2_G02</th>\n",
       "      <th>centroid_frequency_M01</th>\n",
       "      <th>centroid_frequency2_M01</th>\n",
       "      <th>centroid_frequency_S01</th>\n",
       "      <th>centroid_frequency2_S01</th>\n",
       "      <th>median_freq_G01</th>\n",
       "      <th>median_freq_G02</th>\n",
       "      <th>median_freq_M01</th>\n",
       "      <th>median_freq_S01</th>\n",
       "      <th>flash_ind_G01</th>\n",
       "      <th>flash_ind_G02</th>\n",
       "      <th>flash_ind_M01</th>\n",
       "      <th>flash_ind_S01</th>\n",
       "      <th>cv_G01</th>\n",
       "      <th>cv_G02</th>\n",
       "      <th>cv_M01</th>\n",
       "      <th>cv_S01</th>\n",
       "      <th>iqa_G01</th>\n",
       "      <th>iqa_G02</th>\n",
       "      <th>iqa_M01</th>\n",
       "      <th>iqa_S01</th>\n",
       "      <th>mab_G01</th>\n",
       "      <th>mab_G02</th>\n",
       "      <th>mab_M01</th>\n",
       "      <th>mab_S01</th>\n",
       "      <th>imp_G01</th>\n",
       "      <th>imp_G02</th>\n",
       "      <th>imp_M01</th>\n",
       "      <th>imp_S01</th>\n",
       "      <th>len_G01</th>\n",
       "      <th>len_G02</th>\n",
       "      <th>len_M01</th>\n",
       "      <th>len_S01</th>\n",
       "      <th>wavelet_mean_approx_G01</th>\n",
       "      <th>wavelet_mean_approx_G02</th>\n",
       "      <th>wavelet_mean_approx_M01</th>\n",
       "      <th>wavelet_mean_approx_S01</th>\n",
       "      <th>wavelet_med_approx_G01</th>\n",
       "      <th>wavelet_med_approx_G02</th>\n",
       "      <th>wavelet_med_approx_M01</th>\n",
       "      <th>wavelet_med_approx_S01</th>\n",
       "      <th>wavelet_var_approx_G01</th>\n",
       "      <th>wavelet_var_approx_G02</th>\n",
       "      <th>wavelet_var_approx_M01</th>\n",
       "      <th>wavelet_var_approx_S01</th>\n",
       "      <th>wavelet_mean_coef_G01</th>\n",
       "      <th>wavelet_mean_coef_G02</th>\n",
       "      <th>wavelet_mean_coef_M01</th>\n",
       "      <th>wavelet_mean_coef_S01</th>\n",
       "      <th>wavelet_med_coef_G01</th>\n",
       "      <th>wavelet_med_coef_G02</th>\n",
       "      <th>wavelet_med_coef_M01</th>\n",
       "      <th>wavelet_med_coef_S01</th>\n",
       "      <th>wavelet_var_coef_G01</th>\n",
       "      <th>wavelet_var_coef_G02</th>\n",
       "      <th>wavelet_var_coef_M01</th>\n",
       "      <th>wavelet_var_coef_S01</th>\n",
       "      <th>zcr_G01</th>\n",
       "      <th>zcr_G02</th>\n",
       "      <th>zcr_M01</th>\n",
       "      <th>zcr_S01</th>\n",
       "      <th>rmse_G01</th>\n",
       "      <th>rmse_G02</th>\n",
       "      <th>rmse_M01</th>\n",
       "      <th>rmse_S01</th>\n",
       "    </tr>\n",
       "  </thead>\n",
       "  <tbody>\n",
       "    <tr>\n",
       "      <th>0</th>\n",
       "      <td>2021-06-22 15:34:38</td>\n",
       "      <td>1</td>\n",
       "      <td>2.05</td>\n",
       "      <td>12.3</td>\n",
       "      <td>8153.438439</td>\n",
       "      <td>7257.609334</td>\n",
       "      <td>8209.713177</td>\n",
       "      <td>7379.284623</td>\n",
       "      <td>7371.324388</td>\n",
       "      <td>2679.227894</td>\n",
       "      <td>6475.116681</td>\n",
       "      <td>3302.480303</td>\n",
       "      <td>7621.698593</td>\n",
       "      <td>7703.227327</td>\n",
       "      <td>6483.983503</td>\n",
       "      <td>5674.218237</td>\n",
       "      <td>0.002570</td>\n",
       "      <td>0.002471</td>\n",
       "      <td>0.008534</td>\n",
       "      <td>0.004337</td>\n",
       "      <td>0.674025</td>\n",
       "      <td>0.654932</td>\n",
       "      <td>1.337432</td>\n",
       "      <td>1.038010</td>\n",
       "      <td>1.167040e-07</td>\n",
       "      <td>7.746436e-08</td>\n",
       "      <td>2.586849e-07</td>\n",
       "      <td>0.034014</td>\n",
       "      <td>0.045203</td>\n",
       "      <td>0.036538</td>\n",
       "      <td>0.030517</td>\n",
       "      <td>18</td>\n",
       "      <td>1</td>\n",
       "      <td>1</td>\n",
       "      <td>0</td>\n",
       "      <td>0</td>\n",
       "      <td>73</td>\n",
       "      <td>73</td>\n",
       "      <td>73</td>\n",
       "      <td>73</td>\n",
       "      <td>0.002785</td>\n",
       "      <td>0.002233</td>\n",
       "      <td>-0.013705</td>\n",
       "      <td>4.643972</td>\n",
       "      <td>0.002274</td>\n",
       "      <td>0.001453</td>\n",
       "      <td>-0.021579</td>\n",
       "      <td>4.242641</td>\n",
       "      <td>0.000071</td>\n",
       "      <td>0.000047</td>\n",
       "      <td>0.000092</td>\n",
       "      <td>17.771366</td>\n",
       "      <td>0.002785</td>\n",
       "      <td>0.002233</td>\n",
       "      <td>-0.013705</td>\n",
       "      <td>4.643972</td>\n",
       "      <td>0.002274</td>\n",
       "      <td>0.001453</td>\n",
       "      <td>-0.021579</td>\n",
       "      <td>4.242641</td>\n",
       "      <td>0.000071</td>\n",
       "      <td>0.000047</td>\n",
       "      <td>0.000092</td>\n",
       "      <td>17.771366</td>\n",
       "      <td>0.109589</td>\n",
       "      <td>0.109589</td>\n",
       "      <td>0.164384</td>\n",
       "      <td>0.082192</td>\n",
       "      <td>0.008397</td>\n",
       "      <td>0.006841</td>\n",
       "      <td>0.012501</td>\n",
       "      <td>4.532984</td>\n",
       "    </tr>\n",
       "    <tr>\n",
       "      <th>1</th>\n",
       "      <td>2021-06-22 15:34:38</td>\n",
       "      <td>2</td>\n",
       "      <td>2.05</td>\n",
       "      <td>12.3</td>\n",
       "      <td>3450.442567</td>\n",
       "      <td>2618.793204</td>\n",
       "      <td>4212.339529</td>\n",
       "      <td>1687.358524</td>\n",
       "      <td>7086.113317</td>\n",
       "      <td>6697.399727</td>\n",
       "      <td>7301.457307</td>\n",
       "      <td>5199.687184</td>\n",
       "      <td>2680.641145</td>\n",
       "      <td>2438.875910</td>\n",
       "      <td>6743.588474</td>\n",
       "      <td>6302.180373</td>\n",
       "      <td>0.007678</td>\n",
       "      <td>0.013979</td>\n",
       "      <td>0.006784</td>\n",
       "      <td>0.014169</td>\n",
       "      <td>2.432687</td>\n",
       "      <td>2.170305</td>\n",
       "      <td>2.258637</td>\n",
       "      <td>1.021832</td>\n",
       "      <td>2.902270e-07</td>\n",
       "      <td>9.641377e-09</td>\n",
       "      <td>1.837043e-03</td>\n",
       "      <td>0.540045</td>\n",
       "      <td>0.033590</td>\n",
       "      <td>0.003931</td>\n",
       "      <td>2.715982</td>\n",
       "      <td>37</td>\n",
       "      <td>0</td>\n",
       "      <td>0</td>\n",
       "      <td>10</td>\n",
       "      <td>7</td>\n",
       "      <td>139</td>\n",
       "      <td>139</td>\n",
       "      <td>139</td>\n",
       "      <td>139</td>\n",
       "      <td>-0.001586</td>\n",
       "      <td>-0.001565</td>\n",
       "      <td>-0.017571</td>\n",
       "      <td>-2.676904</td>\n",
       "      <td>-0.001990</td>\n",
       "      <td>-0.001927</td>\n",
       "      <td>-0.021579</td>\n",
       "      <td>-4.242641</td>\n",
       "      <td>0.000174</td>\n",
       "      <td>0.000003</td>\n",
       "      <td>0.914387</td>\n",
       "      <td>287.655612</td>\n",
       "      <td>-0.001586</td>\n",
       "      <td>-0.001565</td>\n",
       "      <td>-0.017571</td>\n",
       "      <td>-2.676904</td>\n",
       "      <td>-0.001990</td>\n",
       "      <td>-0.001927</td>\n",
       "      <td>-0.021579</td>\n",
       "      <td>-4.242641</td>\n",
       "      <td>0.000174</td>\n",
       "      <td>0.000003</td>\n",
       "      <td>0.914387</td>\n",
       "      <td>287.655612</td>\n",
       "      <td>0.050360</td>\n",
       "      <td>0.021583</td>\n",
       "      <td>0.122302</td>\n",
       "      <td>0.122302</td>\n",
       "      <td>0.009596</td>\n",
       "      <td>0.001749</td>\n",
       "      <td>0.763434</td>\n",
       "      <td>13.089619</td>\n",
       "    </tr>\n",
       "  </tbody>\n",
       "</table>\n",
       "</div>"
      ],
      "text/plain": [
       "           start_time  packnr  velocity  size_mm  centroid_frequency_G01  \\\n",
       "0 2021-06-22 15:34:38       1      2.05     12.3             8153.438439   \n",
       "1 2021-06-22 15:34:38       2      2.05     12.3             3450.442567   \n",
       "\n",
       "   centroid_frequency2_G01  centroid_frequency_G02  centroid_frequency2_G02  \\\n",
       "0              7257.609334             8209.713177              7379.284623   \n",
       "1              2618.793204             4212.339529              1687.358524   \n",
       "\n",
       "   centroid_frequency_M01  centroid_frequency2_M01  centroid_frequency_S01  \\\n",
       "0             7371.324388              2679.227894             6475.116681   \n",
       "1             7086.113317              6697.399727             7301.457307   \n",
       "\n",
       "   centroid_frequency2_S01  median_freq_G01  median_freq_G02  median_freq_M01  \\\n",
       "0              3302.480303      7621.698593      7703.227327      6483.983503   \n",
       "1              5199.687184      2680.641145      2438.875910      6743.588474   \n",
       "\n",
       "   median_freq_S01  flash_ind_G01  flash_ind_G02  flash_ind_M01  \\\n",
       "0      5674.218237       0.002570       0.002471       0.008534   \n",
       "1      6302.180373       0.007678       0.013979       0.006784   \n",
       "\n",
       "   flash_ind_S01    cv_G01    cv_G02    cv_M01    cv_S01       iqa_G01  \\\n",
       "0       0.004337  0.674025  0.654932  1.337432  1.038010  1.167040e-07   \n",
       "1       0.014169  2.432687  2.170305  2.258637  1.021832  2.902270e-07   \n",
       "\n",
       "        iqa_G02       iqa_M01   iqa_S01   mab_G01   mab_G02   mab_M01  \\\n",
       "0  7.746436e-08  2.586849e-07  0.034014  0.045203  0.036538  0.030517   \n",
       "1  9.641377e-09  1.837043e-03  0.540045  0.033590  0.003931  2.715982   \n",
       "\n",
       "   mab_S01  imp_G01  imp_G02  imp_M01  imp_S01  len_G01  len_G02  len_M01  \\\n",
       "0       18        1        1        0        0       73       73       73   \n",
       "1       37        0        0       10        7      139      139      139   \n",
       "\n",
       "   len_S01  wavelet_mean_approx_G01  wavelet_mean_approx_G02  \\\n",
       "0       73                 0.002785                 0.002233   \n",
       "1      139                -0.001586                -0.001565   \n",
       "\n",
       "   wavelet_mean_approx_M01  wavelet_mean_approx_S01  wavelet_med_approx_G01  \\\n",
       "0                -0.013705                 4.643972                0.002274   \n",
       "1                -0.017571                -2.676904               -0.001990   \n",
       "\n",
       "   wavelet_med_approx_G02  wavelet_med_approx_M01  wavelet_med_approx_S01  \\\n",
       "0                0.001453               -0.021579                4.242641   \n",
       "1               -0.001927               -0.021579               -4.242641   \n",
       "\n",
       "   wavelet_var_approx_G01  wavelet_var_approx_G02  wavelet_var_approx_M01  \\\n",
       "0                0.000071                0.000047                0.000092   \n",
       "1                0.000174                0.000003                0.914387   \n",
       "\n",
       "   wavelet_var_approx_S01  wavelet_mean_coef_G01  wavelet_mean_coef_G02  \\\n",
       "0               17.771366               0.002785               0.002233   \n",
       "1              287.655612              -0.001586              -0.001565   \n",
       "\n",
       "   wavelet_mean_coef_M01  wavelet_mean_coef_S01  wavelet_med_coef_G01  \\\n",
       "0              -0.013705               4.643972              0.002274   \n",
       "1              -0.017571              -2.676904             -0.001990   \n",
       "\n",
       "   wavelet_med_coef_G02  wavelet_med_coef_M01  wavelet_med_coef_S01  \\\n",
       "0              0.001453             -0.021579              4.242641   \n",
       "1             -0.001927             -0.021579             -4.242641   \n",
       "\n",
       "   wavelet_var_coef_G01  wavelet_var_coef_G02  wavelet_var_coef_M01  \\\n",
       "0              0.000071              0.000047              0.000092   \n",
       "1              0.000174              0.000003              0.914387   \n",
       "\n",
       "   wavelet_var_coef_S01   zcr_G01   zcr_G02   zcr_M01   zcr_S01  rmse_G01  \\\n",
       "0             17.771366  0.109589  0.109589  0.164384  0.082192  0.008397   \n",
       "1            287.655612  0.050360  0.021583  0.122302  0.122302  0.009596   \n",
       "\n",
       "   rmse_G02  rmse_M01   rmse_S01  \n",
       "0  0.006841  0.012501   4.532984  \n",
       "1  0.001749  0.763434  13.089619  "
      ]
     },
     "execution_count": 79,
     "metadata": {},
     "output_type": "execute_result"
    }
   ],
   "source": [
    "# Check features\n",
    "data_extract.head(2)"
   ]
  },
  {
   "cell_type": "code",
   "execution_count": null,
   "id": "7adb116f-5b76-43ac-96f2-c6b8b51cd431",
   "metadata": {},
   "outputs": [],
   "source": []
  },
  {
   "cell_type": "code",
   "execution_count": 80,
   "id": "bad3b489-e897-4f33-9b55-5cec52f6cea3",
   "metadata": {},
   "outputs": [],
   "source": [
    "#filename = '../data/data_wavelet_zcr_pv_rmse_mpa.txt'\n",
    "#filename = '../data/data_wavelet_zcr_pv_rmse_spg.txt'\n",
    "filename = '../data/data_wavelet_zcr_pv_rmse_sps.txt'\n",
    "data_extract.to_csv(filename, sep=' ', index=False)"
   ]
  },
  {
   "cell_type": "markdown",
   "id": "1871d6ad-24e1-4e34-85f5-71d2e23a4941",
   "metadata": {},
   "source": [
    "# Signal Lookup"
   ]
  },
  {
   "cell_type": "code",
   "execution_count": 167,
   "id": "cadf8ef7-f1f4-48de-bfda-1f33696e3f77",
   "metadata": {},
   "outputs": [],
   "source": [
    "from feature_extract import SignalFeatureExtractor\n",
    "import pandas as pd\n",
    "import numpy as np\n",
    "import pywt\n",
    "import matplotlib.pyplot as plt"
   ]
  },
  {
   "cell_type": "code",
   "execution_count": 168,
   "id": "7a895c20-5712-4eb8-941f-3ecef26ba484",
   "metadata": {},
   "outputs": [],
   "source": [
    "sps = pd.read_table('../data/data_mpa.txt', sep=' ')"
   ]
  },
  {
   "cell_type": "code",
   "execution_count": 169,
   "id": "07608ffd-6069-44af-b39b-9e353324981d",
   "metadata": {},
   "outputs": [
    {
     "name": "stdout",
     "output_type": "stream",
     "text": [
      "SignalFeatureExtractor:  {'raw_data_path': '../data/raw_packets_obernach_MP_0.24_2510.vlnd', 'extract_chromafeatures': False, 'n_processes': 3}\n"
     ]
    }
   ],
   "source": [
    "extractor = SignalFeatureExtractor(raw_data_path='../data/raw_packets_obernach_MP_0.24_2510.vlnd', extract_chromafeatures=False)"
   ]
  },
  {
   "cell_type": "code",
   "execution_count": 170,
   "id": "7a1185c9-3dea-480b-9a3e-3d15702f566e",
   "metadata": {},
   "outputs": [
    {
     "name": "stderr",
     "output_type": "stream",
     "text": [
      "100%|██████████████████████████████████████████████████████████████████████| 702208/702208 [00:02<00:00, 310723.44it/s]\n"
     ]
    }
   ],
   "source": [
    "res = extractor.raw_lookup(start_time='2019-09-24 10:02:31', packnr='32', )"
   ]
  },
  {
   "cell_type": "code",
   "execution_count": 171,
   "id": "69584b83-e085-47a2-a299-0c6777ae3492",
   "metadata": {},
   "outputs": [
    {
     "data": {
      "image/png": "[encoded data removed]",
      "text/plain": [
       "<Figure size 1296x288 with 4 Axes>"
      ]
     },
     "metadata": {
      "needs_background": "light"
     },
     "output_type": "display_data"
    }
   ],
   "source": [
    "fig = plt.subplots(figsize=(18, 4))\n",
    "\n",
    "for i, sample in enumerate(res):\n",
    "    plt.subplot(1, len(res), i +1)\n",
    "    plt.plot(sample['package'])\n",
    "    plt.title(f\"{sample['start_time']} / {sample['packnr']} / {sample['sensor']}\")\n",
    "plt.show()"
   ]
  },
  {
   "cell_type": "code",
   "execution_count": null,
   "id": "96be74af-ac4e-4d2e-b799-9977d4c1886c",
   "metadata": {},
   "outputs": [],
   "source": []
  }
 ],
 "metadata": {
  "kernelspec": {
   "display_name": "Python 3",
   "language": "python",
   "name": "python3"
  },
  "language_info": {
   "codemirror_mode": {
    "name": "ipython",
    "version": 3
   },
   "file_extension": ".py",
   "mimetype": "text/x-python",
   "name": "python",
   "nbconvert_exporter": "python",
   "pygments_lexer": "ipython3",
   "version": "3.8.8"
  }
 },
 "nbformat": 4,
 "nbformat_minor": 5
}
