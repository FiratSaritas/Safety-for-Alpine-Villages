{
 "cells": [
  {
   "cell_type": "markdown",
   "id": "bd9a5e7c-b33a-49f2-86d4-878f48de092f",
   "metadata": {},
   "source": [
    "# Modellierung der MPA-Sensordaten"
   ]
  },
  {
   "cell_type": "code",
   "execution_count": 2,
   "id": "f050a97d-2cb9-4281-a566-689cef1515c6",
   "metadata": {},
   "outputs": [
    {
     "name": "stdout",
     "output_type": "stream",
     "text": [
      "Collecting librosa\n",
      "  Downloading librosa-0.8.1-py3-none-any.whl (203 kB)\n",
      "\u001b[K     |████████████████████████████████| 203 kB 7.4 MB/s eta 0:00:01\n",
      "\u001b[?25hRequirement already satisfied: pooch>=1.0 in /opt/conda/lib/python3.9/site-packages (from librosa) (1.5.1)\n",
      "Requirement already satisfied: decorator>=3.0.0 in /opt/conda/lib/python3.9/site-packages (from librosa) (5.1.0)\n",
      "Requirement already satisfied: packaging>=20.0 in /opt/conda/lib/python3.9/site-packages (from librosa) (21.0)\n",
      "Requirement already satisfied: numpy>=1.15.0 in /opt/conda/lib/python3.9/site-packages (from librosa) (1.20.3)\n",
      "Collecting soundfile>=0.10.2\n",
      "  Downloading SoundFile-0.10.3.post1-py2.py3-none-any.whl (21 kB)\n",
      "Collecting audioread>=2.0.0\n",
      "  Downloading audioread-2.1.9.tar.gz (377 kB)\n",
      "\u001b[K     |████████████████████████████████| 377 kB 38.3 MB/s eta 0:00:01\n",
      "\u001b[?25hRequirement already satisfied: joblib>=0.14 in /opt/conda/lib/python3.9/site-packages (from librosa) (1.0.1)\n",
      "Requirement already satisfied: scipy>=1.0.0 in /opt/conda/lib/python3.9/site-packages (from librosa) (1.7.1)\n",
      "Requirement already satisfied: scikit-learn!=0.19.0,>=0.14.0 in /opt/conda/lib/python3.9/site-packages (from librosa) (0.24.2)\n",
      "Collecting resampy>=0.2.2\n",
      "  Downloading resampy-0.2.2.tar.gz (323 kB)\n",
      "\u001b[K     |████████████████████████████████| 323 kB 98.5 MB/s eta 0:00:01\n",
      "\u001b[?25hRequirement already satisfied: numba>=0.43.0 in /opt/conda/lib/python3.9/site-packages (from librosa) (0.54.0)\n",
      "Requirement already satisfied: llvmlite<0.38,>=0.37.0rc1 in /opt/conda/lib/python3.9/site-packages (from numba>=0.43.0->librosa) (0.37.0)\n",
      "Requirement already satisfied: setuptools in /opt/conda/lib/python3.9/site-packages (from numba>=0.43.0->librosa) (58.0.4)\n",
      "Requirement already satisfied: pyparsing>=2.0.2 in /opt/conda/lib/python3.9/site-packages (from packaging>=20.0->librosa) (2.4.7)\n",
      "Requirement already satisfied: appdirs in /opt/conda/lib/python3.9/site-packages (from pooch>=1.0->librosa) (1.4.4)\n",
      "Requirement already satisfied: requests in /opt/conda/lib/python3.9/site-packages (from pooch>=1.0->librosa) (2.26.0)\n",
      "Requirement already satisfied: six>=1.3 in /opt/conda/lib/python3.9/site-packages (from resampy>=0.2.2->librosa) (1.16.0)\n",
      "Requirement already satisfied: threadpoolctl>=2.0.0 in /opt/conda/lib/python3.9/site-packages (from scikit-learn!=0.19.0,>=0.14.0->librosa) (2.2.0)\n",
      "Requirement already satisfied: cffi>=1.0 in /opt/conda/lib/python3.9/site-packages (from soundfile>=0.10.2->librosa) (1.14.6)\n",
      "Requirement already satisfied: pycparser in /opt/conda/lib/python3.9/site-packages (from cffi>=1.0->soundfile>=0.10.2->librosa) (2.20)\n",
      "Requirement already satisfied: certifi>=2017.4.17 in /opt/conda/lib/python3.9/site-packages (from requests->pooch>=1.0->librosa) (2021.5.30)\n",
      "Requirement already satisfied: charset-normalizer~=2.0.0 in /opt/conda/lib/python3.9/site-packages (from requests->pooch>=1.0->librosa) (2.0.0)\n",
      "Requirement already satisfied: idna<4,>=2.5 in /opt/conda/lib/python3.9/site-packages (from requests->pooch>=1.0->librosa) (3.1)\n",
      "Requirement already satisfied: urllib3<1.27,>=1.21.1 in /opt/conda/lib/python3.9/site-packages (from requests->pooch>=1.0->librosa) (1.26.6)\n",
      "Building wheels for collected packages: audioread, resampy\n",
      "  Building wheel for audioread (setup.py) ... \u001b[?25ldone\n",
      "\u001b[?25h  Created wheel for audioread: filename=audioread-2.1.9-py3-none-any.whl size=23154 sha256=5b8070368571885d10e7233fc52b8ef2f8230f94a25dedbf386466ee8e3814fa\n",
      "  Stored in directory: /home/jovyan/.cache/pip/wheels/a2/a3/bd/ec1568ce7515115a11ab686d509ad302124c782af065de47ee\n",
      "  Building wheel for resampy (setup.py) ... \u001b[?25ldone\n",
      "\u001b[?25h  Created wheel for resampy: filename=resampy-0.2.2-py3-none-any.whl size=320731 sha256=455a13e43d4bf4d5ba4e3b618a410d7c8a209faf433e80de4ddbc5e934335162\n",
      "  Stored in directory: /home/jovyan/.cache/pip/wheels/86/2c/7d/46a32a246b0e5939cea2c5ec1492164073e0c5d16d666ae2cd\n",
      "Successfully built audioread resampy\n",
      "Installing collected packages: soundfile, resampy, audioread, librosa\n",
      "Successfully installed audioread-2.1.9 librosa-0.8.1 resampy-0.2.2 soundfile-0.10.3.post1\n",
      "Collecting catboost\n",
      "  Downloading catboost-1.0.3-cp39-none-manylinux1_x86_64.whl (76.3 MB)\n",
      "\u001b[K     |████████████████████████████████| 76.3 MB 6.1 MB/s eta 0:00:01\n",
      "\u001b[?25hCollecting graphviz\n",
      "  Downloading graphviz-0.19.1-py3-none-any.whl (46 kB)\n",
      "\u001b[K     |████████████████████████████████| 46 kB 10.6 MB/s eta 0:00:01\n",
      "\u001b[?25hRequirement already satisfied: scipy in /opt/conda/lib/python3.9/site-packages (from catboost) (1.7.1)\n",
      "Requirement already satisfied: six in /opt/conda/lib/python3.9/site-packages (from catboost) (1.16.0)\n",
      "Requirement already satisfied: matplotlib in /opt/conda/lib/python3.9/site-packages (from catboost) (3.4.3)\n",
      "Requirement already satisfied: numpy>=1.16.0 in /opt/conda/lib/python3.9/site-packages (from catboost) (1.20.3)\n",
      "Collecting plotly\n",
      "  Downloading plotly-5.5.0-py2.py3-none-any.whl (26.5 MB)\n",
      "\u001b[K     |████████████████████████████████| 26.5 MB 44.1 MB/s eta 0:00:01\n",
      "\u001b[?25hRequirement already satisfied: pandas>=0.24.0 in /opt/conda/lib/python3.9/site-packages (from catboost) (1.3.3)\n",
      "Requirement already satisfied: python-dateutil>=2.7.3 in /opt/conda/lib/python3.9/site-packages (from pandas>=0.24.0->catboost) (2.8.2)\n",
      "Requirement already satisfied: pytz>=2017.3 in /opt/conda/lib/python3.9/site-packages (from pandas>=0.24.0->catboost) (2021.1)\n",
      "Requirement already satisfied: cycler>=0.10 in /opt/conda/lib/python3.9/site-packages (from matplotlib->catboost) (0.10.0)\n",
      "Requirement already satisfied: pyparsing>=2.2.1 in /opt/conda/lib/python3.9/site-packages (from matplotlib->catboost) (2.4.7)\n",
      "Requirement already satisfied: kiwisolver>=1.0.1 in /opt/conda/lib/python3.9/site-packages (from matplotlib->catboost) (1.3.2)\n",
      "Requirement already satisfied: pillow>=6.2.0 in /opt/conda/lib/python3.9/site-packages (from matplotlib->catboost) (8.3.2)\n",
      "Collecting tenacity>=6.2.0\n",
      "  Downloading tenacity-8.0.1-py3-none-any.whl (24 kB)\n",
      "Installing collected packages: tenacity, plotly, graphviz, catboost\n",
      "Successfully installed catboost-1.0.3 graphviz-0.19.1 plotly-5.5.0 tenacity-8.0.1\n",
      "Collecting optuna\n",
      "  Downloading optuna-2.10.0-py3-none-any.whl (308 kB)\n",
      "\u001b[K     |████████████████████████████████| 308 kB 7.4 MB/s eta 0:00:01\n",
      "\u001b[?25hCollecting cliff\n",
      "  Downloading cliff-3.10.0-py3-none-any.whl (80 kB)\n",
      "\u001b[K     |████████████████████████████████| 80 kB 21.5 MB/s eta 0:00:01\n",
      "\u001b[?25hRequirement already satisfied: sqlalchemy>=1.1.0 in /opt/conda/lib/python3.9/site-packages (from optuna) (1.4.23)\n",
      "Requirement already satisfied: alembic in /opt/conda/lib/python3.9/site-packages (from optuna) (1.7.1)\n",
      "Collecting cmaes>=0.8.2\n",
      "  Downloading cmaes-0.8.2-py3-none-any.whl (15 kB)\n",
      "Requirement already satisfied: tqdm in /opt/conda/lib/python3.9/site-packages (from optuna) (4.62.2)\n",
      "Requirement already satisfied: PyYAML in /opt/conda/lib/python3.9/site-packages (from optuna) (5.4.1)\n",
      "Requirement already satisfied: scipy!=1.4.0 in /opt/conda/lib/python3.9/site-packages (from optuna) (1.7.1)\n",
      "Collecting colorlog\n",
      "  Downloading colorlog-6.6.0-py2.py3-none-any.whl (11 kB)\n",
      "Requirement already satisfied: numpy in /opt/conda/lib/python3.9/site-packages (from optuna) (1.20.3)\n",
      "Requirement already satisfied: packaging>=20.0 in /opt/conda/lib/python3.9/site-packages (from optuna) (21.0)\n",
      "Requirement already satisfied: pyparsing>=2.0.2 in /opt/conda/lib/python3.9/site-packages (from packaging>=20.0->optuna) (2.4.7)\n",
      "Requirement already satisfied: greenlet!=0.4.17 in /opt/conda/lib/python3.9/site-packages (from sqlalchemy>=1.1.0->optuna) (1.1.1)\n",
      "Requirement already satisfied: Mako in /opt/conda/lib/python3.9/site-packages (from alembic->optuna) (1.1.5)\n",
      "Collecting PrettyTable>=0.7.2\n",
      "  Downloading prettytable-2.5.0-py3-none-any.whl (24 kB)\n",
      "Collecting autopage>=0.4.0\n",
      "  Downloading autopage-0.4.0-py3-none-any.whl (20 kB)\n",
      "Collecting cmd2>=1.0.0\n",
      "  Downloading cmd2-2.3.3-py3-none-any.whl (149 kB)\n",
      "\u001b[K     |████████████████████████████████| 149 kB 111.6 MB/s eta 0:00:01\n",
      "\u001b[?25hCollecting pbr!=2.1.0,>=2.0.0\n",
      "  Downloading pbr-5.8.0-py2.py3-none-any.whl (112 kB)\n",
      "\u001b[K     |████████████████████████████████| 112 kB 75.2 MB/s eta 0:00:01\n",
      "\u001b[?25hCollecting stevedore>=2.0.1\n",
      "  Downloading stevedore-3.5.0-py3-none-any.whl (49 kB)\n",
      "\u001b[K     |████████████████████████████████| 49 kB 12.8 MB/s eta 0:00:01\n",
      "\u001b[?25hRequirement already satisfied: attrs>=16.3.0 in /opt/conda/lib/python3.9/site-packages (from cmd2>=1.0.0->cliff->optuna) (21.2.0)\n",
      "Collecting pyperclip>=1.6\n",
      "  Downloading pyperclip-1.8.2.tar.gz (20 kB)\n",
      "Requirement already satisfied: wcwidth>=0.1.7 in /opt/conda/lib/python3.9/site-packages (from cmd2>=1.0.0->cliff->optuna) (0.2.5)\n",
      "Requirement already satisfied: MarkupSafe>=0.9.2 in /opt/conda/lib/python3.9/site-packages (from Mako->alembic->optuna) (2.0.1)\n",
      "Building wheels for collected packages: pyperclip\n",
      "  Building wheel for pyperclip (setup.py) ... \u001b[?25ldone\n",
      "\u001b[?25h  Created wheel for pyperclip: filename=pyperclip-1.8.2-py3-none-any.whl size=11136 sha256=5900472965b3b4ec6d9190f2ad019e5b68ef0c6645917329d880491810476462\n",
      "  Stored in directory: /home/jovyan/.cache/pip/wheels/0c/09/9e/49e21a6840ef7955b06d47394afef0058f0378c0914e48b8b8\n",
      "Successfully built pyperclip\n",
      "Installing collected packages: pyperclip, pbr, stevedore, PrettyTable, cmd2, autopage, colorlog, cmaes, cliff, optuna\n",
      "Successfully installed PrettyTable-2.5.0 autopage-0.4.0 cliff-3.10.0 cmaes-0.8.2 cmd2-2.3.3 colorlog-6.6.0 optuna-2.10.0 pbr-5.8.0 pyperclip-1.8.2 stevedore-3.5.0\n"
     ]
    }
   ],
   "source": [
    "!pip install librosa\n",
    "!pip install catboost\n",
    "!pip install optuna"
   ]
  },
  {
   "cell_type": "code",
   "execution_count": 84,
   "id": "524a8b24-d414-4a18-9e35-7398f820c77d",
   "metadata": {},
   "outputs": [],
   "source": [
    "import warnings\n",
    "warnings.filterwarnings('ignore')\n",
    "import pandas as pd\n",
    "import numpy as np\n",
    "import seaborn as sns\n",
    "import matplotlib.pyplot as plt\n",
    "from tqdm import tqdm\n",
    "import pickle\n",
    "import sys\n",
    "sys.path.append('..')\n",
    "import os\n",
    "import yaml\n",
    "import datetime as dt\n",
    "from multiprocessing import Pool\n",
    "from feature_extract import extract_highest_amplitude_features_with_mp, get_all_sensors_in_df, feature_extractor_wrapper\n",
    "from plot import plot_residuals, plot_error_per_cat\n",
    "from catboost import CatBoostRegressor\n",
    "import optuna\n",
    "\n",
    "from sklearn.metrics import r2_score, mean_absolute_percentage_error\n",
    "from sklearn.model_selection import cross_val_score\n",
    "from sklearn.pipeline import Pipeline\n",
    "from sklearn.model_selection import train_test_split\n",
    "from sklearn.preprocessing import PowerTransformer\n",
    "\n",
    "from IPython.display import HTML\n",
    "pd.set_option(\"display.max_columns\", 100)\n",
    "import plotly.express as px"
   ]
  },
  {
   "cell_type": "markdown",
   "id": "8d2b54df-c8b1-4464-b732-930dab8c4208",
   "metadata": {},
   "source": [
    "# Helper Functions"
   ]
  },
  {
   "cell_type": "code",
   "execution_count": 85,
   "id": "cacf2f5e-e894-44a8-a1f2-14d65e1d72b1",
   "metadata": {},
   "outputs": [],
   "source": [
    "# Preprocessing functions\n",
    "def add_outlier_feature_length(df: pd.DataFrame) -> pd.DataFrame:\n",
    "    \"\"\"Adds new Feature declaring outliers\"\"\"\n",
    "    # Calculate prediction for outlier\n",
    "    max_len_col = [col for col in df.columns if 'max_len' in col][0]\n",
    "    length_transformed = np.log(df[max_len_col])\n",
    "    length_transformed_std = (length_transformed - np.mean(length_transformed)) / np.std(length_transformed)\n",
    "    outlier_prediction = length_transformed_std > 3\n",
    "    \n",
    "    # add to df\n",
    "    df['outlier'] = outlier_prediction\n",
    "    \n",
    "    return df\n",
    "\n",
    "def concat_all_studies(studies: list, as_dataframe: bool =True) -> pd.DataFrame:\n",
    "    \"\"\"Concatenates all optuna studies\"\"\"\n",
    "    \n",
    "    if as_dataframe:\n",
    "        df = pd.concat([study.trials_dataframe() for study in studies], axis=0)\n",
    "        df = df.sort_values(by='value', ascending=False)\n",
    "        return df\n",
    "    else:\n",
    "        all_studies = studies[0]\n",
    "        for s in studies[1:]:\n",
    "            all_studies.add_trials(s.get_trials())\n",
    "        return all_studies\n",
    "\n",
    "def load_studies_from_folder(folder_name: str, device_name: str) -> list:\n",
    "    \"\"\"Loads studies from a given folder with Device Name\"\"\"\n",
    "    # Load study\n",
    "    files = [f for f in os.listdir(folder_name) if device_name in f]\n",
    "    studies= []\n",
    "    for i, file in enumerate(files):\n",
    "        filename = folder_name + file \n",
    "        with open(filename, 'rb') as pkl_file:\n",
    "            study_pkl = pickle.load(pkl_file)\n",
    "            studies.append(study_pkl)\n",
    "    \n",
    "    return studies\n",
    "\n",
    "def plot_parallel_cordinates(df: pd.DataFrame, objective_maximize=True, columns=None):\n",
    "    \"\"\"Plots Opt. History as Parallel Cordinates\"\"\"\n",
    "    if columns:\n",
    "        columns.append('number')\n",
    "        columns.append('value')\n",
    "        df = df[columns]\n",
    "        \n",
    "    cols = [col.split('_') for col in df.columns]\n",
    "    df.columns = ['_'.join(col[1:])  if len(col) > 1 else col[0] for col in cols] \n",
    "    \n",
    "    if objective_maximize:\n",
    "        fig = px.parallel_coordinates(data_frame=df.drop('number', axis=1), color='value', color_continuous_scale='Blues', \n",
    "                                      height=500, width=1500)\n",
    "    else:\n",
    "        fig = px.parallel_coordinates(data_frame=df.drop('number', axis=1), color='value', color_continuous_scale='Blues_r', \n",
    "                                      height=500, width=1500)\n",
    "    return fig"
   ]
  },
  {
   "cell_type": "markdown",
   "id": "6043efc5-3300-408b-841c-6ae30419dfde",
   "metadata": {},
   "source": [
    "# Hyperparam Optimization CatBoost"
   ]
  },
  {
   "cell_type": "code",
   "execution_count": 171,
   "id": "7965f4e6-e37f-461c-aa24-a9af048e1711",
   "metadata": {},
   "outputs": [],
   "source": [
    "def objective_r2_simple(trial):\n",
    "    X_transformed = X_train.copy()\n",
    "    \n",
    "    # Pre-Processing\n",
    "    ## Polynomial Features\n",
    "    X_transformed = add_outlier_feature_length(X_transformed)\n",
    "    \n",
    "    ## Feature Transformation to normalize data\n",
    "    transformer = PowerTransformer(standardize=True)\n",
    "    X_transformed = transformer.fit_transform(X_train)\n",
    "        \n",
    "    param = {\n",
    "        'iterations': trial.suggest_int('iterations', 50, 5000),\n",
    "        'loss_function': trial.suggest_categorical('loss_function', ['RMSE', 'MAPE']),\n",
    "        'learning_rate': trial.suggest_loguniform('learning_rate', 1e-5, 0.1),\n",
    "        'l2_leaf_reg': trial.suggest_loguniform('l2_leaf_reg', 1e-2, 1e0),\n",
    "        'colsample_bylevel': trial.suggest_float('colsample_bylevel', 0.01, 1),\n",
    "        'depth': trial.suggest_int('depth', 1, 10),\n",
    "        'boosting_type': trial.suggest_categorical('boosting_type', ['Ordered', 'Plain']),\n",
    "        'bootstrap_type': trial.suggest_categorical('bootstrap_type', ['Bayesian', 'Bernoulli', 'MVS']),\n",
    "        'min_data_in_leaf': trial.suggest_int('min_data_in_leaf', 2, 20),\n",
    "        'one_hot_max_size': trial.suggest_int('one_hot_max_size', 2, 20), \n",
    "        'silent': True\n",
    "    }\n",
    "    # Conditional Hyper-Parameters\n",
    "    if param['bootstrap_type'] == 'Bayesian':\n",
    "        param['bagging_temperature'] = trial.suggest_float('bagging_temperature', 0, 10)\n",
    "    elif param['bootstrap_type'] == 'Bernoulli':\n",
    "        param['subsample'] = trial.suggest_float('subsample', 0.1, 1)\n",
    "\n",
    "    reg = CatBoostRegressor(**param, thread_count=10)\n",
    "    scores = cross_val_score(estimator=reg, X=X_train,\n",
    "                            y=y_train, cv=5, n_jobs=5)    \n",
    " \n",
    "    return np.mean(scores)"
   ]
  },
  {
   "cell_type": "code",
   "execution_count": 173,
   "id": "9c5237c0-eb60-4e0f-84b5-e8faecea82d5",
   "metadata": {},
   "outputs": [],
   "source": [
    "def objective_r2_complex(trial):\n",
    "    X_transformed = X_train.copy()\n",
    "    \n",
    "    # Pre-Processing\n",
    "    ## Polynomial Features\n",
    "    X_transformed = add_outlier_feature_length(X_transformed)\n",
    "    \n",
    "    ## Feature Transformation to normalize data\n",
    "    transformer = PowerTransformer(standardize=True)\n",
    "    X_transformed = transformer.fit_transform(X_train)\n",
    "        \n",
    "    param = {\n",
    "        'iterations': trial.suggest_int('iterations', 50, 5000),\n",
    "        'loss_function': trial.suggest_categorical('loss_function', ['RMSE', 'MAPE']),\n",
    "        'learning_rate': trial.suggest_loguniform('learning_rate', 1e-5, 0.1),\n",
    "        'l2_leaf_reg': trial.suggest_loguniform('l2_leaf_reg', 1e-2, 1e0),\n",
    "        'colsample_bylevel': trial.suggest_float('colsample_bylevel', 0.01, 1),\n",
    "        'depth': trial.suggest_int('depth', 1, 10),\n",
    "        'boosting_type': trial.suggest_categorical('boosting_type', ['Ordered', 'Plain']),\n",
    "        'bootstrap_type': trial.suggest_categorical('bootstrap_type', ['Bayesian', 'Bernoulli', 'MVS']),\n",
    "        'min_data_in_leaf': trial.suggest_int('min_data_in_leaf', 2, 20),\n",
    "        'one_hot_max_size': trial.suggest_int('one_hot_max_size', 2, 20), \n",
    "        'silent': True\n",
    "    }\n",
    "    # Conditional Hyper-Parameters\n",
    "    if param['bootstrap_type'] == 'Bayesian':\n",
    "        param['bagging_temperature'] = trial.suggest_float('bagging_temperature', 0, 10)\n",
    "    elif param['bootstrap_type'] == 'Bernoulli':\n",
    "        param['subsample'] = trial.suggest_float('subsample', 0.1, 1)\n",
    "\n",
    "    reg = CatBoostRegressor(**param, thread_count=10)\n",
    "    scores = cross_val_score(estimator=reg, X=X_train,\n",
    "                            y=y_train, cv=5, n_jobs=5)    \n",
    " \n",
    "    return np.mean(scores)"
   ]
  },
  {
   "cell_type": "code",
   "execution_count": 175,
   "id": "09225d1e-0f63-458d-bee2-1951a68d30f4",
   "metadata": {
    "scrolled": true,
    "tags": []
   },
   "outputs": [
    {
     "name": "stdout",
     "output_type": "stream",
     "text": [
      "[Errno 17] File exists: 'results' Skipping iteration\n",
      "[Errno 17] File exists: 'results/final2' Skipping iteration\n",
      "[Errno 17] File exists: 'results/final2/complex' Skipping iteration\n",
      "[Errno 17] File exists: 'results/final2/complex/' Skipping iteration\n",
      "Config already exists!\n"
     ]
    },
    {
     "name": "stdin",
     "output_type": "stream",
     "text": [
      "Want Overwrite Existing? (y/n) y\n"
     ]
    },
    {
     "name": "stdout",
     "output_type": "stream",
     "text": [
      "========== Starting Study for mpa ==========\n"
     ]
    },
    {
     "name": "stderr",
     "output_type": "stream",
     "text": [
      "\u001b[32m[I 2021-12-27 19:09:04,771]\u001b[0m A new study created in memory with name: no-name-b5f3a5ba-7854-4fc6-87c4-3ce16de21367\u001b[0m\n"
     ]
    },
    {
     "name": "stdout",
     "output_type": "stream",
     "text": [
      "INFO | Split Data X, y ...\n",
      "INFO | Train-Test Split ...\n",
      "INFO | Tune Model ...\n"
     ]
    },
    {
     "name": "stderr",
     "output_type": "stream",
     "text": [
      "\u001b[32m[I 2021-12-27 19:09:35,631]\u001b[0m Trial 0 finished with value: -0.12458112264255106 and parameters: {'iterations': 4880, 'loss_function': 'MAPE', 'learning_rate': 0.0002850586928781377, 'l2_leaf_reg': 0.03620228340222952, 'colsample_bylevel': 0.9790955215295143, 'depth': 5, 'boosting_type': 'Plain', 'bootstrap_type': 'Bayesian', 'min_data_in_leaf': 10, 'one_hot_max_size': 10, 'bagging_temperature': 0.7195670650986574}. Best is trial 0 with value: -0.12458112264255106.\u001b[0m\n",
      "\u001b[32m[I 2021-12-27 19:09:42,599]\u001b[0m Trial 1 finished with value: -0.4002340876735868 and parameters: {'iterations': 1215, 'loss_function': 'MAPE', 'learning_rate': 7.535753878823557e-05, 'l2_leaf_reg': 0.16653906028766025, 'colsample_bylevel': 0.6523418389683497, 'depth': 3, 'boosting_type': 'Plain', 'bootstrap_type': 'Bernoulli', 'min_data_in_leaf': 4, 'one_hot_max_size': 8, 'subsample': 0.7694735724598339}. Best is trial 0 with value: -0.12458112264255106.\u001b[0m\n",
      "\u001b[32m[I 2021-12-27 19:11:13,366]\u001b[0m Trial 2 finished with value: -0.31771827566822053 and parameters: {'iterations': 3875, 'loss_function': 'MAPE', 'learning_rate': 5.022946480610596e-05, 'l2_leaf_reg': 0.020606937548304192, 'colsample_bylevel': 0.16328653523215433, 'depth': 8, 'boosting_type': 'Ordered', 'bootstrap_type': 'Bayesian', 'min_data_in_leaf': 9, 'one_hot_max_size': 5, 'bagging_temperature': 7.415235698912922}. Best is trial 0 with value: -0.12458112264255106.\u001b[0m\n",
      "\u001b[32m[I 2021-12-27 19:11:23,072]\u001b[0m Trial 3 finished with value: 0.19695312849388952 and parameters: {'iterations': 229, 'loss_function': 'MAPE', 'learning_rate': 0.00633922302585348, 'l2_leaf_reg': 0.30438027896468023, 'colsample_bylevel': 0.31062760204286105, 'depth': 8, 'boosting_type': 'Ordered', 'bootstrap_type': 'Bernoulli', 'min_data_in_leaf': 4, 'one_hot_max_size': 19, 'subsample': 0.2984097554530231}. Best is trial 3 with value: 0.19695312849388952.\u001b[0m\n",
      "\u001b[32m[I 2021-12-27 19:11:33,830]\u001b[0m Trial 4 finished with value: 0.6370447163758797 and parameters: {'iterations': 4749, 'loss_function': 'RMSE', 'learning_rate': 0.000284721663534706, 'l2_leaf_reg': 0.22067198031956842, 'colsample_bylevel': 0.3804409227720521, 'depth': 2, 'boosting_type': 'Plain', 'bootstrap_type': 'MVS', 'min_data_in_leaf': 20, 'one_hot_max_size': 3}. Best is trial 4 with value: 0.6370447163758797.\u001b[0m\n",
      "\u001b[32m[I 2021-12-27 19:12:24,201]\u001b[0m Trial 5 finished with value: 0.12221460278128242 and parameters: {'iterations': 807, 'loss_function': 'RMSE', 'learning_rate': 0.00011766188673984768, 'l2_leaf_reg': 0.19581991186727554, 'colsample_bylevel': 0.8132671402844168, 'depth': 8, 'boosting_type': 'Ordered', 'bootstrap_type': 'MVS', 'min_data_in_leaf': 5, 'one_hot_max_size': 5}. Best is trial 4 with value: 0.6370447163758797.\u001b[0m\n",
      "\u001b[32m[I 2021-12-27 19:12:36,574]\u001b[0m Trial 6 finished with value: 0.49524918700369175 and parameters: {'iterations': 906, 'loss_function': 'RMSE', 'learning_rate': 0.0006382435850431753, 'l2_leaf_reg': 0.010507036117514672, 'colsample_bylevel': 0.7968673222579624, 'depth': 7, 'boosting_type': 'Plain', 'bootstrap_type': 'MVS', 'min_data_in_leaf': 7, 'one_hot_max_size': 17}. Best is trial 4 with value: 0.6370447163758797.\u001b[0m\n",
      "\u001b[32m[I 2021-12-27 19:12:47,174]\u001b[0m Trial 7 finished with value: 0.7571169453652764 and parameters: {'iterations': 1575, 'loss_function': 'RMSE', 'learning_rate': 0.002379921147664452, 'l2_leaf_reg': 0.12097250312551869, 'colsample_bylevel': 0.48283051273470845, 'depth': 3, 'boosting_type': 'Ordered', 'bootstrap_type': 'Bernoulli', 'min_data_in_leaf': 6, 'one_hot_max_size': 6, 'subsample': 0.6596965967870213}. Best is trial 7 with value: 0.7571169453652764.\u001b[0m\n",
      "\u001b[32m[I 2021-12-27 19:12:58,174]\u001b[0m Trial 8 finished with value: 0.08920371140717001 and parameters: {'iterations': 4551, 'loss_function': 'RMSE', 'learning_rate': 1.720206807786709e-05, 'l2_leaf_reg': 0.6815219691716854, 'colsample_bylevel': 0.6186477670175903, 'depth': 2, 'boosting_type': 'Plain', 'bootstrap_type': 'Bayesian', 'min_data_in_leaf': 9, 'one_hot_max_size': 17, 'bagging_temperature': 1.4634886719348361}. Best is trial 7 with value: 0.7571169453652764.\u001b[0m\n",
      "\u001b[32m[I 2021-12-27 19:15:22,058]\u001b[0m Trial 9 finished with value: 0.4733149330789848 and parameters: {'iterations': 2853, 'loss_function': 'RMSE', 'learning_rate': 0.00019511470974195298, 'l2_leaf_reg': 0.056964046017180706, 'colsample_bylevel': 0.08593821025302553, 'depth': 10, 'boosting_type': 'Ordered', 'bootstrap_type': 'Bayesian', 'min_data_in_leaf': 7, 'one_hot_max_size': 5, 'bagging_temperature': 0.9129174707839527}. Best is trial 7 with value: 0.7571169453652764.\u001b[0m\n",
      "\u001b[32m[I 2021-12-27 19:15:48,379]\u001b[0m Trial 10 finished with value: 0.8073286130763396 and parameters: {'iterations': 2269, 'loss_function': 'RMSE', 'learning_rate': 0.06928320970293535, 'l2_leaf_reg': 0.08404377013860721, 'colsample_bylevel': 0.4317325078452529, 'depth': 4, 'boosting_type': 'Ordered', 'bootstrap_type': 'Bernoulli', 'min_data_in_leaf': 15, 'one_hot_max_size': 13, 'subsample': 0.9904736671122637}. Best is trial 10 with value: 0.8073286130763396.\u001b[0m\n",
      "\u001b[32m[I 2021-12-27 19:16:12,972]\u001b[0m Trial 11 finished with value: 0.8062933585268958 and parameters: {'iterations': 2263, 'loss_function': 'RMSE', 'learning_rate': 0.09983481519018503, 'l2_leaf_reg': 0.08290631074395156, 'colsample_bylevel': 0.4414440501136473, 'depth': 4, 'boosting_type': 'Ordered', 'bootstrap_type': 'Bernoulli', 'min_data_in_leaf': 16, 'one_hot_max_size': 13, 'subsample': 0.934721221021105}. Best is trial 10 with value: 0.8073286130763396.\u001b[0m\n",
      "\u001b[32m[I 2021-12-27 19:16:47,665]\u001b[0m Trial 12 finished with value: 0.8089134269947221 and parameters: {'iterations': 2647, 'loss_function': 'RMSE', 'learning_rate': 0.06141646123281336, 'l2_leaf_reg': 0.05528573564334654, 'colsample_bylevel': 0.2782806445609365, 'depth': 5, 'boosting_type': 'Ordered', 'bootstrap_type': 'Bernoulli', 'min_data_in_leaf': 16, 'one_hot_max_size': 13, 'subsample': 0.9749957016429355}. Best is trial 12 with value: 0.8089134269947221.\u001b[0m\n",
      "\u001b[32m[I 2021-12-27 19:17:41,171]\u001b[0m Trial 13 finished with value: 0.8071870069770352 and parameters: {'iterations': 2920, 'loss_function': 'RMSE', 'learning_rate': 0.08195399338791604, 'l2_leaf_reg': 0.03351119372832973, 'colsample_bylevel': 0.25735520684492863, 'depth': 6, 'boosting_type': 'Ordered', 'bootstrap_type': 'Bernoulli', 'min_data_in_leaf': 14, 'one_hot_max_size': 13, 'subsample': 0.9850712071664394}. Best is trial 12 with value: 0.8089134269947221.\u001b[0m\n",
      "\u001b[32m[I 2021-12-27 19:18:05,740]\u001b[0m Trial 14 finished with value: 0.8039223303621068 and parameters: {'iterations': 2130, 'loss_function': 'RMSE', 'learning_rate': 0.015569306292886706, 'l2_leaf_reg': 0.06309867366149023, 'colsample_bylevel': 0.2144136394796063, 'depth': 5, 'boosting_type': 'Ordered', 'bootstrap_type': 'Bernoulli', 'min_data_in_leaf': 14, 'one_hot_max_size': 13, 'subsample': 0.9948952420347797}. Best is trial 12 with value: 0.8089134269947221.\u001b[0m\n",
      "\u001b[32m[I 2021-12-27 19:18:15,232]\u001b[0m Trial 15 finished with value: 0.7697633512229751 and parameters: {'iterations': 3397, 'loss_function': 'RMSE', 'learning_rate': 0.022339918622841966, 'l2_leaf_reg': 0.4574956497836521, 'colsample_bylevel': 0.0633536409682745, 'depth': 1, 'boosting_type': 'Ordered', 'bootstrap_type': 'Bernoulli', 'min_data_in_leaf': 18, 'one_hot_max_size': 15, 'subsample': 0.42519269845551944}. Best is trial 12 with value: 0.8089134269947221.\u001b[0m\n",
      "\u001b[32m[I 2021-12-27 19:18:38,117]\u001b[0m Trial 16 finished with value: 0.8057449055088639 and parameters: {'iterations': 1821, 'loss_function': 'RMSE', 'learning_rate': 0.03302443274335364, 'l2_leaf_reg': 0.020657075458888733, 'colsample_bylevel': 0.5935685410823434, 'depth': 4, 'boosting_type': 'Ordered', 'bootstrap_type': 'Bernoulli', 'min_data_in_leaf': 14, 'one_hot_max_size': 9, 'subsample': 0.7717878414408779}. Best is trial 12 with value: 0.8089134269947221.\u001b[0m\n",
      "\u001b[32m[I 2021-12-27 19:19:58,936]\u001b[0m Trial 17 finished with value: 0.7989930454101202 and parameters: {'iterations': 3548, 'loss_function': 'RMSE', 'learning_rate': 0.004228960026801819, 'l2_leaf_reg': 0.09951439774923826, 'colsample_bylevel': 0.38113599030457385, 'depth': 6, 'boosting_type': 'Ordered', 'bootstrap_type': 'Bernoulli', 'min_data_in_leaf': 12, 'one_hot_max_size': 11, 'subsample': 0.7989335776453277}. Best is trial 12 with value: 0.8089134269947221.\u001b[0m\n",
      "\u001b[32m[I 2021-12-27 19:20:29,876]\u001b[0m Trial 18 finished with value: 0.5672208939746636 and parameters: {'iterations': 2773, 'loss_function': 'MAPE', 'learning_rate': 0.011815754999789006, 'l2_leaf_reg': 0.04717970236663759, 'colsample_bylevel': 0.5451221370984636, 'depth': 4, 'boosting_type': 'Ordered', 'bootstrap_type': 'Bernoulli', 'min_data_in_leaf': 17, 'one_hot_max_size': 20, 'subsample': 0.11335677788280873}. Best is trial 12 with value: 0.8089134269947221.\u001b[0m\n",
      "\u001b[32m[I 2021-12-27 19:28:22,754]\u001b[0m Trial 19 finished with value: 0.7939825689336744 and parameters: {'iterations': 4208, 'loss_function': 'RMSE', 'learning_rate': 0.0013183373602576023, 'l2_leaf_reg': 0.02230643850823027, 'colsample_bylevel': 0.34180739543460625, 'depth': 10, 'boosting_type': 'Ordered', 'bootstrap_type': 'MVS', 'min_data_in_leaf': 20, 'one_hot_max_size': 15}. Best is trial 12 with value: 0.8089134269947221.\u001b[0m\n",
      "\u001b[32m[I 2021-12-27 19:28:32,197]\u001b[0m Trial 20 finished with value: 0.7765314199481171 and parameters: {'iterations': 3211, 'loss_function': 'RMSE', 'learning_rate': 0.03655031526833355, 'l2_leaf_reg': 0.010561458255676875, 'colsample_bylevel': 0.011263089467894172, 'depth': 7, 'boosting_type': 'Ordered', 'bootstrap_type': 'Bernoulli', 'min_data_in_leaf': 16, 'one_hot_max_size': 15, 'subsample': 0.5846778609622227}. Best is trial 12 with value: 0.8089134269947221.\u001b[0m\n",
      "\u001b[32m[I 2021-12-27 19:29:16,153]\u001b[0m Trial 21 finished with value: 0.809568563800011 and parameters: {'iterations': 2489, 'loss_function': 'RMSE', 'learning_rate': 0.058843147292120396, 'l2_leaf_reg': 0.0320389735825413, 'colsample_bylevel': 0.22412540593445257, 'depth': 6, 'boosting_type': 'Ordered', 'bootstrap_type': 'Bernoulli', 'min_data_in_leaf': 13, 'one_hot_max_size': 13, 'subsample': 0.9140307923422265}. Best is trial 21 with value: 0.809568563800011.\u001b[0m\n",
      "\u001b[32m[I 2021-12-27 19:29:40,587]\u001b[0m Trial 22 finished with value: 0.8091021914284902 and parameters: {'iterations': 2410, 'loss_function': 'RMSE', 'learning_rate': 0.0578942892310554, 'l2_leaf_reg': 0.029533995918876725, 'colsample_bylevel': 0.15834069929196515, 'depth': 5, 'boosting_type': 'Ordered', 'bootstrap_type': 'Bernoulli', 'min_data_in_leaf': 12, 'one_hot_max_size': 12, 'subsample': 0.8627985902285475}. Best is trial 21 with value: 0.809568563800011.\u001b[0m\n",
      "\u001b[32m[I 2021-12-27 19:30:19,273]\u001b[0m Trial 23 finished with value: 0.801369998054486 and parameters: {'iterations': 2597, 'loss_function': 'RMSE', 'learning_rate': 0.007581979548807518, 'l2_leaf_reg': 0.03091569030462611, 'colsample_bylevel': 0.16940063384269213, 'depth': 6, 'boosting_type': 'Ordered', 'bootstrap_type': 'Bernoulli', 'min_data_in_leaf': 12, 'one_hot_max_size': 11, 'subsample': 0.8682697662613769}. Best is trial 21 with value: 0.809568563800011.\u001b[0m\n",
      "\u001b[32m[I 2021-12-27 19:30:49,248]\u001b[0m Trial 24 finished with value: 0.8101298971574511 and parameters: {'iterations': 1819, 'loss_function': 'RMSE', 'learning_rate': 0.03631443253409355, 'l2_leaf_reg': 0.016148546857280146, 'colsample_bylevel': 0.25675007347837575, 'depth': 7, 'boosting_type': 'Ordered', 'bootstrap_type': 'Bernoulli', 'min_data_in_leaf': 12, 'one_hot_max_size': 8, 'subsample': 0.8169911527729685}. Best is trial 24 with value: 0.8101298971574511.\u001b[0m\n",
      "\u001b[32m[I 2021-12-27 19:31:10,710]\u001b[0m Trial 25 finished with value: 0.8073717240764747 and parameters: {'iterations': 1674, 'loss_function': 'RMSE', 'learning_rate': 0.025418417473083297, 'l2_leaf_reg': 0.015045568945743852, 'colsample_bylevel': 0.1273105672333617, 'depth': 7, 'boosting_type': 'Ordered', 'bootstrap_type': 'Bernoulli', 'min_data_in_leaf': 12, 'one_hot_max_size': 8, 'subsample': 0.6586126683066392}. Best is trial 24 with value: 0.8101298971574511.\u001b[0m\n",
      "\u001b[32m[I 2021-12-27 19:31:27,618]\u001b[0m Trial 26 finished with value: 0.5831726553887954 and parameters: {'iterations': 1957, 'loss_function': 'MAPE', 'learning_rate': 0.04165218678479331, 'l2_leaf_reg': 0.0161810777676275, 'colsample_bylevel': 0.20916953548474634, 'depth': 7, 'boosting_type': 'Plain', 'bootstrap_type': 'Bernoulli', 'min_data_in_leaf': 11, 'one_hot_max_size': 7, 'subsample': 0.8587447262537521}. Best is trial 24 with value: 0.8101298971574511.\u001b[0m\n",
      "\u001b[32m[I 2021-12-27 19:31:37,027]\u001b[0m Trial 27 finished with value: 0.782404826392538 and parameters: {'iterations': 1465, 'loss_function': 'RMSE', 'learning_rate': 0.012576607692602076, 'l2_leaf_reg': 0.02715397736223815, 'colsample_bylevel': 0.030245879795453623, 'depth': 9, 'boosting_type': 'Ordered', 'bootstrap_type': 'Bernoulli', 'min_data_in_leaf': 2, 'one_hot_max_size': 2, 'subsample': 0.7043459504860824}. Best is trial 24 with value: 0.8101298971574511.\u001b[0m\n",
      "\u001b[32m[I 2021-12-27 19:32:00,188]\u001b[0m Trial 28 finished with value: 0.7627052075669496 and parameters: {'iterations': 1189, 'loss_function': 'RMSE', 'learning_rate': 0.003662323754389638, 'l2_leaf_reg': 0.04077340136594333, 'colsample_bylevel': 0.2339689176431024, 'depth': 6, 'boosting_type': 'Ordered', 'bootstrap_type': 'Bayesian', 'min_data_in_leaf': 13, 'one_hot_max_size': 10, 'bagging_temperature': 8.427548196930825}. Best is trial 24 with value: 0.8101298971574511.\u001b[0m\n",
      "\u001b[32m[I 2021-12-27 19:32:12,765]\u001b[0m Trial 29 finished with value: 0.09207647355339443 and parameters: {'iterations': 2361, 'loss_function': 'MAPE', 'learning_rate': 0.0009480776973555681, 'l2_leaf_reg': 0.015018407630445804, 'colsample_bylevel': 0.13602787056330284, 'depth': 5, 'boosting_type': 'Plain', 'bootstrap_type': 'MVS', 'min_data_in_leaf': 10, 'one_hot_max_size': 9}. Best is trial 24 with value: 0.8101298971574511.\u001b[0m\n",
      "\u001b[32m[I 2021-12-27 19:34:57,380]\u001b[0m Trial 30 finished with value: 0.8068442733669043 and parameters: {'iterations': 3148, 'loss_function': 'RMSE', 'learning_rate': 0.04603175366292486, 'l2_leaf_reg': 0.0259664155207434, 'colsample_bylevel': 0.3087127859206171, 'depth': 9, 'boosting_type': 'Ordered', 'bootstrap_type': 'Bayesian', 'min_data_in_leaf': 10, 'one_hot_max_size': 10, 'bagging_temperature': 4.849519364267632}. Best is trial 24 with value: 0.8101298971574511.\u001b[0m\n",
      "\u001b[32m[I 2021-12-27 19:35:30,292]\u001b[0m Trial 31 finished with value: 0.8094109851846512 and parameters: {'iterations': 2529, 'loss_function': 'RMSE', 'learning_rate': 0.057583182558851864, 'l2_leaf_reg': 0.04342639598561361, 'colsample_bylevel': 0.27610518253341987, 'depth': 5, 'boosting_type': 'Ordered', 'bootstrap_type': 'Bernoulli', 'min_data_in_leaf': 18, 'one_hot_max_size': 12, 'subsample': 0.8851803736545645}. Best is trial 24 with value: 0.8101298971574511.\u001b[0m\n",
      "\u001b[32m[I 2021-12-27 19:35:54,936]\u001b[0m Trial 32 finished with value: 0.8044509906666226 and parameters: {'iterations': 2121, 'loss_function': 'RMSE', 'learning_rate': 0.018147283898827214, 'l2_leaf_reg': 0.03268144960872621, 'colsample_bylevel': 0.08063098242860439, 'depth': 6, 'boosting_type': 'Ordered', 'bootstrap_type': 'Bernoulli', 'min_data_in_leaf': 18, 'one_hot_max_size': 12, 'subsample': 0.8808165453852614}. Best is trial 24 with value: 0.8101298971574511.\u001b[0m\n",
      "\u001b[32m[I 2021-12-27 19:36:22,902]\u001b[0m Trial 33 finished with value: 0.8094255824052453 and parameters: {'iterations': 2505, 'loss_function': 'RMSE', 'learning_rate': 0.047227327831242324, 'l2_leaf_reg': 0.043625338847023666, 'colsample_bylevel': 0.2118880795182509, 'depth': 5, 'boosting_type': 'Ordered', 'bootstrap_type': 'Bernoulli', 'min_data_in_leaf': 9, 'one_hot_max_size': 11, 'subsample': 0.834894754161105}. Best is trial 24 with value: 0.8101298971574511.\u001b[0m\n",
      "\u001b[32m[I 2021-12-27 19:36:54,466]\u001b[0m Trial 34 finished with value: 0.4490304790365675 and parameters: {'iterations': 3760, 'loss_function': 'MAPE', 'learning_rate': 0.02950887696500859, 'l2_leaf_reg': 0.041125211227785334, 'colsample_bylevel': 0.3593105882121512, 'depth': 3, 'boosting_type': 'Ordered', 'bootstrap_type': 'Bernoulli', 'min_data_in_leaf': 9, 'one_hot_max_size': 8, 'subsample': 0.7795823328414158}. Best is trial 24 with value: 0.8101298971574511.\u001b[0m\n",
      "\u001b[32m[I 2021-12-27 19:37:11,362]\u001b[0m Trial 35 finished with value: 0.8040159621759868 and parameters: {'iterations': 1340, 'loss_function': 'RMSE', 'learning_rate': 0.010207552836113513, 'l2_leaf_reg': 0.01728070462152882, 'colsample_bylevel': 0.2906957649080144, 'depth': 8, 'boosting_type': 'Plain', 'bootstrap_type': 'Bernoulli', 'min_data_in_leaf': 8, 'one_hot_max_size': 9, 'subsample': 0.8927386716581703}. Best is trial 24 with value: 0.8101298971574511.\u001b[0m\n",
      "\u001b[32m[I 2021-12-27 19:37:24,597]\u001b[0m Trial 36 finished with value: -0.020341072644937785 and parameters: {'iterations': 466, 'loss_function': 'MAPE', 'learning_rate': 0.006099822043695717, 'l2_leaf_reg': 0.07089750317906725, 'colsample_bylevel': 0.7298039933626108, 'depth': 5, 'boosting_type': 'Ordered', 'bootstrap_type': 'Bernoulli', 'min_data_in_leaf': 19, 'one_hot_max_size': 16, 'subsample': 0.706733256279339}. Best is trial 24 with value: 0.8101298971574511.\u001b[0m\n",
      "\u001b[32m[I 2021-12-27 19:38:30,021]\u001b[0m Trial 37 finished with value: 0.8110179884181535 and parameters: {'iterations': 3082, 'loss_function': 'RMSE', 'learning_rate': 0.021125791416469572, 'l2_leaf_reg': 0.04746287618558746, 'colsample_bylevel': 0.4264106606281738, 'depth': 7, 'boosting_type': 'Ordered', 'bootstrap_type': 'MVS', 'min_data_in_leaf': 11, 'one_hot_max_size': 7}. Best is trial 37 with value: 0.8110179884181535.\u001b[0m\n",
      "\u001b[32m[I 2021-12-27 19:39:19,608]\u001b[0m Trial 38 finished with value: 0.8068840737663555 and parameters: {'iterations': 3111, 'loss_function': 'RMSE', 'learning_rate': 0.09935964557054097, 'l2_leaf_reg': 0.012439050585957285, 'colsample_bylevel': 0.9425609870004059, 'depth': 8, 'boosting_type': 'Plain', 'bootstrap_type': 'MVS', 'min_data_in_leaf': 8, 'one_hot_max_size': 3}. Best is trial 37 with value: 0.8110179884181535.\u001b[0m\n",
      "\u001b[32m[I 2021-12-27 19:40:46,176]\u001b[0m Trial 39 finished with value: 0.7970554579598881 and parameters: {'iterations': 3990, 'loss_function': 'RMSE', 'learning_rate': 0.002523616166439338, 'l2_leaf_reg': 0.1206298968154621, 'colsample_bylevel': 0.43542565819482393, 'depth': 7, 'boosting_type': 'Ordered', 'bootstrap_type': 'MVS', 'min_data_in_leaf': 11, 'one_hot_max_size': 6}. Best is trial 37 with value: 0.8110179884181535.\u001b[0m\n",
      "\u001b[32m[I 2021-12-27 19:43:26,149]\u001b[0m Trial 40 finished with value: 0.6271819734043623 and parameters: {'iterations': 1842, 'loss_function': 'MAPE', 'learning_rate': 0.01772028783254143, 'l2_leaf_reg': 0.022053335657159626, 'colsample_bylevel': 0.5183397621733736, 'depth': 9, 'boosting_type': 'Ordered', 'bootstrap_type': 'MVS', 'min_data_in_leaf': 10, 'one_hot_max_size': 7}. Best is trial 37 with value: 0.8110179884181535.\u001b[0m\n",
      "\u001b[32m[I 2021-12-27 19:44:20,096]\u001b[0m Trial 41 finished with value: 0.81056346587866 and parameters: {'iterations': 2980, 'loss_function': 'RMSE', 'learning_rate': 0.04574855869841749, 'l2_leaf_reg': 0.04784290961795929, 'colsample_bylevel': 0.20024026259831534, 'depth': 6, 'boosting_type': 'Ordered', 'bootstrap_type': 'MVS', 'min_data_in_leaf': 13, 'one_hot_max_size': 11}. Best is trial 37 with value: 0.8110179884181535.\u001b[0m\n",
      "\u001b[32m[I 2021-12-27 19:45:00,848]\u001b[0m Trial 42 finished with value: 0.8110637915631826 and parameters: {'iterations': 2913, 'loss_function': 'RMSE', 'learning_rate': 0.026269520910983443, 'l2_leaf_reg': 0.050950640023830686, 'colsample_bylevel': 0.19098977162663217, 'depth': 7, 'boosting_type': 'Ordered', 'bootstrap_type': 'MVS', 'min_data_in_leaf': 13, 'one_hot_max_size': 11}. Best is trial 42 with value: 0.8110637915631826.\u001b[0m\n",
      "\u001b[32m[I 2021-12-27 19:46:09,271]\u001b[0m Trial 43 finished with value: 0.15810179694586332 and parameters: {'iterations': 3442, 'loss_function': 'RMSE', 'learning_rate': 3.722251879433547e-05, 'l2_leaf_reg': 0.15863664000700972, 'colsample_bylevel': 0.39408850507121723, 'depth': 7, 'boosting_type': 'Ordered', 'bootstrap_type': 'MVS', 'min_data_in_leaf': 13, 'one_hot_max_size': 4}. Best is trial 42 with value: 0.8110637915631826.\u001b[0m\n",
      "\u001b[32m[I 2021-12-27 19:47:16,333]\u001b[0m Trial 44 finished with value: 0.8117080901334767 and parameters: {'iterations': 3041, 'loss_function': 'RMSE', 'learning_rate': 0.026142283699858975, 'l2_leaf_reg': 0.05418858072047853, 'colsample_bylevel': 0.1779428033154471, 'depth': 8, 'boosting_type': 'Ordered', 'bootstrap_type': 'MVS', 'min_data_in_leaf': 15, 'one_hot_max_size': 7}. Best is trial 44 with value: 0.8117080901334767.\u001b[0m\n",
      "\u001b[32m[I 2021-12-27 19:48:33,823]\u001b[0m Trial 45 finished with value: 0.8092727604627417 and parameters: {'iterations': 3672, 'loss_function': 'RMSE', 'learning_rate': 0.008736010690605048, 'l2_leaf_reg': 0.07240295934439607, 'colsample_bylevel': 0.17685674015571148, 'depth': 8, 'boosting_type': 'Ordered', 'bootstrap_type': 'MVS', 'min_data_in_leaf': 15, 'one_hot_max_size': 6}. Best is trial 44 with value: 0.8117080901334767.\u001b[0m\n",
      "\u001b[32m[I 2021-12-27 19:48:56,463]\u001b[0m Trial 46 finished with value: 0.8123511852567151 and parameters: {'iterations': 2875, 'loss_function': 'RMSE', 'learning_rate': 0.02232020992852056, 'l2_leaf_reg': 0.052378977937302396, 'colsample_bylevel': 0.11200079863588172, 'depth': 8, 'boosting_type': 'Plain', 'bootstrap_type': 'MVS', 'min_data_in_leaf': 15, 'one_hot_max_size': 7}. Best is trial 46 with value: 0.8123511852567151.\u001b[0m\n",
      "\u001b[32m[I 2021-12-27 19:49:29,044]\u001b[0m Trial 47 finished with value: 0.6933732696475633 and parameters: {'iterations': 3027, 'loss_function': 'RMSE', 'learning_rate': 0.0004364862847585651, 'l2_leaf_reg': 0.05214832709646101, 'colsample_bylevel': 0.10520654593267381, 'depth': 9, 'boosting_type': 'Plain', 'bootstrap_type': 'MVS', 'min_data_in_leaf': 15, 'one_hot_max_size': 5}. Best is trial 46 with value: 0.8123511852567151.\u001b[0m\n",
      "\u001b[32m[I 2021-12-27 19:49:47,770]\u001b[0m Trial 48 finished with value: 0.8009217206033021 and parameters: {'iterations': 3313, 'loss_function': 'RMSE', 'learning_rate': 0.004993783173836594, 'l2_leaf_reg': 0.09296401355938404, 'colsample_bylevel': 0.06538529843302282, 'depth': 8, 'boosting_type': 'Plain', 'bootstrap_type': 'MVS', 'min_data_in_leaf': 14, 'one_hot_max_size': 7}. Best is trial 46 with value: 0.8123511852567151.\u001b[0m\n",
      "\u001b[32m[I 2021-12-27 19:50:10,101]\u001b[0m Trial 49 finished with value: 0.8120903018930683 and parameters: {'iterations': 2872, 'loss_function': 'RMSE', 'learning_rate': 0.02381488889986178, 'l2_leaf_reg': 0.11644559468105233, 'colsample_bylevel': 0.12161943095142122, 'depth': 8, 'boosting_type': 'Plain', 'bootstrap_type': 'MVS', 'min_data_in_leaf': 17, 'one_hot_max_size': 4}. Best is trial 46 with value: 0.8123511852567151.\u001b[0m\n",
      "\u001b[32m[I 2021-12-27 19:50:10,105]\u001b[0m A new study created in memory with name: no-name-0b95731c-9a2b-400d-9bfd-5de9e51eff8f\u001b[0m\n",
      "\u001b[32m[I 2021-12-27 19:51:17,156]\u001b[0m Trial 0 finished with value: 0.5875153003159639 and parameters: {'iterations': 3743, 'loss_function': 'MAPE', 'learning_rate': 0.03602784289864843, 'l2_leaf_reg': 0.02089850743702392, 'colsample_bylevel': 0.5581816325549104, 'depth': 5, 'boosting_type': 'Ordered', 'bootstrap_type': 'Bernoulli', 'min_data_in_leaf': 18, 'one_hot_max_size': 8, 'subsample': 0.3492161713013152}. Best is trial 0 with value: 0.5875153003159639.\u001b[0m\n",
      "\u001b[32m[I 2021-12-27 19:51:32,347]\u001b[0m Trial 1 finished with value: 0.7556732566051296 and parameters: {'iterations': 4491, 'loss_function': 'RMSE', 'learning_rate': 0.0025063318019779633, 'l2_leaf_reg': 0.034182810858284896, 'colsample_bylevel': 0.832942221367377, 'depth': 1, 'boosting_type': 'Ordered', 'bootstrap_type': 'Bernoulli', 'min_data_in_leaf': 19, 'one_hot_max_size': 8, 'subsample': 0.4729704080585577}. Best is trial 1 with value: 0.7556732566051296.\u001b[0m\n",
      "\u001b[32m[I 2021-12-27 19:51:44,116]\u001b[0m Trial 2 finished with value: 0.2557266947389115 and parameters: {'iterations': 2419, 'loss_function': 'MAPE', 'learning_rate': 0.0034858389843276604, 'l2_leaf_reg': 0.8746885242211294, 'colsample_bylevel': 0.10160507972777472, 'depth': 3, 'boosting_type': 'Plain', 'bootstrap_type': 'MVS', 'min_data_in_leaf': 19, 'one_hot_max_size': 11}. Best is trial 1 with value: 0.7556732566051296.\u001b[0m\n",
      "\u001b[32m[I 2021-12-27 19:51:55,226]\u001b[0m Trial 3 finished with value: 0.41710997289377777 and parameters: {'iterations': 3084, 'loss_function': 'MAPE', 'learning_rate': 0.007324459717222685, 'l2_leaf_reg': 0.03072078370288811, 'colsample_bylevel': 0.3795061826255636, 'depth': 3, 'boosting_type': 'Plain', 'bootstrap_type': 'Bernoulli', 'min_data_in_leaf': 6, 'one_hot_max_size': 10, 'subsample': 0.2082729935177866}. Best is trial 1 with value: 0.7556732566051296.\u001b[0m\n",
      "\u001b[32m[I 2021-12-27 19:52:01,067]\u001b[0m Trial 4 finished with value: 0.6350135892308957 and parameters: {'iterations': 587, 'loss_function': 'RMSE', 'learning_rate': 0.0017212606063429147, 'l2_leaf_reg': 0.024144180897170128, 'colsample_bylevel': 0.7620183247657546, 'depth': 6, 'boosting_type': 'Plain', 'bootstrap_type': 'Bernoulli', 'min_data_in_leaf': 2, 'one_hot_max_size': 19, 'subsample': 0.9585694338026203}. Best is trial 1 with value: 0.7556732566051296.\u001b[0m\n",
      "\u001b[32m[I 2021-12-27 19:52:36,818]\u001b[0m Trial 5 finished with value: 0.2489388427943952 and parameters: {'iterations': 3665, 'loss_function': 'MAPE', 'learning_rate': 0.0026312819314958536, 'l2_leaf_reg': 0.017151646181111785, 'colsample_bylevel': 0.5229394201130491, 'depth': 3, 'boosting_type': 'Ordered', 'bootstrap_type': 'Bayesian', 'min_data_in_leaf': 20, 'one_hot_max_size': 9, 'bagging_temperature': 6.1438695791267905}. Best is trial 1 with value: 0.7556732566051296.\u001b[0m\n",
      "\u001b[32m[I 2021-12-27 19:53:10,053]\u001b[0m Trial 6 finished with value: 0.8019940395475931 and parameters: {'iterations': 1882, 'loss_function': 'RMSE', 'learning_rate': 0.0061039630094096515, 'l2_leaf_reg': 0.15758824493719453, 'colsample_bylevel': 0.8314050582905768, 'depth': 8, 'boosting_type': 'Plain', 'bootstrap_type': 'Bernoulli', 'min_data_in_leaf': 15, 'one_hot_max_size': 19, 'subsample': 0.670579459234189}. Best is trial 6 with value: 0.8019940395475931.\u001b[0m\n",
      "\u001b[32m[I 2021-12-27 19:54:58,807]\u001b[0m Trial 7 finished with value: 0.8125038123409437 and parameters: {'iterations': 4662, 'loss_function': 'RMSE', 'learning_rate': 0.010942628789470454, 'l2_leaf_reg': 0.03954353663410518, 'colsample_bylevel': 0.6820807609953241, 'depth': 10, 'boosting_type': 'Plain', 'bootstrap_type': 'MVS', 'min_data_in_leaf': 18, 'one_hot_max_size': 13}. Best is trial 7 with value: 0.8125038123409437.\u001b[0m\n",
      "\u001b[32m[I 2021-12-27 19:55:04,254]\u001b[0m Trial 8 finished with value: 0.039080701744733215 and parameters: {'iterations': 396, 'loss_function': 'MAPE', 'learning_rate': 0.006858254846059584, 'l2_leaf_reg': 0.09691213673932408, 'colsample_bylevel': 0.4563873144975668, 'depth': 5, 'boosting_type': 'Plain', 'bootstrap_type': 'Bayesian', 'min_data_in_leaf': 3, 'one_hot_max_size': 11, 'bagging_temperature': 3.771212715802308}. Best is trial 7 with value: 0.8125038123409437.\u001b[0m\n",
      "\u001b[32m[I 2021-12-27 19:55:16,203]\u001b[0m Trial 9 finished with value: 0.8097383055015461 and parameters: {'iterations': 1276, 'loss_function': 'RMSE', 'learning_rate': 0.07325468482777892, 'l2_leaf_reg': 0.10026408077181745, 'colsample_bylevel': 0.31595371677648826, 'depth': 7, 'boosting_type': 'Plain', 'bootstrap_type': 'MVS', 'min_data_in_leaf': 15, 'one_hot_max_size': 2}. Best is trial 7 with value: 0.8125038123409437.\u001b[0m\n",
      "\u001b[32m[I 2021-12-27 20:17:19,321]\u001b[0m Trial 10 finished with value: 0.28124793694829986 and parameters: {'iterations': 4830, 'loss_function': 'RMSE', 'learning_rate': 5.1077847732556576e-05, 'l2_leaf_reg': 0.4273880901094379, 'colsample_bylevel': 0.9856431496260918, 'depth': 10, 'boosting_type': 'Ordered', 'bootstrap_type': 'MVS', 'min_data_in_leaf': 10, 'one_hot_max_size': 16}. Best is trial 7 with value: 0.8125038123409437.\u001b[0m\n",
      "\u001b[32m[I 2021-12-27 20:17:40,123]\u001b[0m Trial 11 finished with value: 0.8074538398302318 and parameters: {'iterations': 1422, 'loss_function': 'RMSE', 'learning_rate': 0.07934788649943358, 'l2_leaf_reg': 0.07428749482491301, 'colsample_bylevel': 0.20811311131394844, 'depth': 10, 'boosting_type': 'Plain', 'bootstrap_type': 'MVS', 'min_data_in_leaf': 14, 'one_hot_max_size': 2}. Best is trial 7 with value: 0.8125038123409437.\u001b[0m\n",
      "\u001b[32m[I 2021-12-27 20:17:54,990]\u001b[0m Trial 12 finished with value: 0.3653589165730356 and parameters: {'iterations': 1240, 'loss_function': 'RMSE', 'learning_rate': 0.0002881535781562257, 'l2_leaf_reg': 0.22841057612227852, 'colsample_bylevel': 0.3192553969221733, 'depth': 8, 'boosting_type': 'Plain', 'bootstrap_type': 'MVS', 'min_data_in_leaf': 14, 'one_hot_max_size': 3}. Best is trial 7 with value: 0.8125038123409437.\u001b[0m\n",
      "\u001b[32m[I 2021-12-27 20:18:34,438]\u001b[0m Trial 13 finished with value: 0.8132950612033716 and parameters: {'iterations': 2473, 'loss_function': 'RMSE', 'learning_rate': 0.026984789949067216, 'l2_leaf_reg': 0.057718236101456113, 'colsample_bylevel': 0.6544982077025222, 'depth': 8, 'boosting_type': 'Plain', 'bootstrap_type': 'MVS', 'min_data_in_leaf': 11, 'one_hot_max_size': 14}. Best is trial 13 with value: 0.8132950612033716.\u001b[0m\n",
      "\u001b[32m[I 2021-12-27 20:19:50,541]\u001b[0m Trial 14 finished with value: 0.8133163373250865 and parameters: {'iterations': 2932, 'loss_function': 'RMSE', 'learning_rate': 0.0218967932697736, 'l2_leaf_reg': 0.052841893069561344, 'colsample_bylevel': 0.6621934120047578, 'depth': 9, 'boosting_type': 'Plain', 'bootstrap_type': 'MVS', 'min_data_in_leaf': 10, 'one_hot_max_size': 15}. Best is trial 14 with value: 0.8133163373250865.\u001b[0m\n",
      "\u001b[32m[I 2021-12-27 20:20:33,675]\u001b[0m Trial 15 finished with value: 0.7049384782593909 and parameters: {'iterations': 2733, 'loss_function': 'RMSE', 'learning_rate': 0.000500565714144501, 'l2_leaf_reg': 0.05065036596415364, 'colsample_bylevel': 0.6452510903303789, 'depth': 8, 'boosting_type': 'Plain', 'bootstrap_type': 'MVS', 'min_data_in_leaf': 9, 'one_hot_max_size': 15}. Best is trial 14 with value: 0.8133163373250865.\u001b[0m\n",
      "\u001b[32m[I 2021-12-27 20:21:30,116]\u001b[0m Trial 16 finished with value: 0.812345933225193 and parameters: {'iterations': 2189, 'loss_function': 'RMSE', 'learning_rate': 0.022210008450820436, 'l2_leaf_reg': 0.012252587002646061, 'colsample_bylevel': 0.6278135641740392, 'depth': 9, 'boosting_type': 'Plain', 'bootstrap_type': 'Bayesian', 'min_data_in_leaf': 7, 'one_hot_max_size': 15, 'bagging_temperature': 0.3202460636373452}. Best is trial 14 with value: 0.8133163373250865.\u001b[0m\n",
      "\u001b[32m[I 2021-12-27 20:21:59,188]\u001b[0m Trial 17 finished with value: 0.07987470509346133 and parameters: {'iterations': 3602, 'loss_function': 'RMSE', 'learning_rate': 1.6837666619551926e-05, 'l2_leaf_reg': 0.06290994267170254, 'colsample_bylevel': 0.9976536127309201, 'depth': 7, 'boosting_type': 'Plain', 'bootstrap_type': 'MVS', 'min_data_in_leaf': 12, 'one_hot_max_size': 17}. Best is trial 14 with value: 0.8133163373250865.\u001b[0m\n",
      "\u001b[32m[I 2021-12-27 20:27:30,402]\u001b[0m Trial 18 finished with value: 0.8113299211327606 and parameters: {'iterations': 3125, 'loss_function': 'RMSE', 'learning_rate': 0.02420497318789517, 'l2_leaf_reg': 0.1661659515161399, 'colsample_bylevel': 0.7453045195394389, 'depth': 9, 'boosting_type': 'Ordered', 'bootstrap_type': 'MVS', 'min_data_in_leaf': 12, 'one_hot_max_size': 13}. Best is trial 14 with value: 0.8133163373250865.\u001b[0m\n",
      "\u001b[32m[I 2021-12-27 20:27:44,006]\u001b[0m Trial 19 finished with value: 0.6431113036004409 and parameters: {'iterations': 1837, 'loss_function': 'RMSE', 'learning_rate': 0.000573647507552695, 'l2_leaf_reg': 0.3054544417605763, 'colsample_bylevel': 0.4714863395334913, 'depth': 6, 'boosting_type': 'Plain', 'bootstrap_type': 'MVS', 'min_data_in_leaf': 7, 'one_hot_max_size': 13}. Best is trial 14 with value: 0.8133163373250865.\u001b[0m\n",
      "\u001b[32m[I 2021-12-27 20:27:50,517]\u001b[0m Trial 20 finished with value: 0.7850688512507341 and parameters: {'iterations': 4022, 'loss_function': 'RMSE', 'learning_rate': 0.09815235163319606, 'l2_leaf_reg': 0.12077755041159316, 'colsample_bylevel': 0.013890765721399467, 'depth': 7, 'boosting_type': 'Plain', 'bootstrap_type': 'Bayesian', 'min_data_in_leaf': 5, 'one_hot_max_size': 5, 'bagging_temperature': 8.960598279946225}. Best is trial 14 with value: 0.8133163373250865.\u001b[0m\n",
      "\u001b[32m[I 2021-12-27 20:29:39,549]\u001b[0m Trial 21 finished with value: 0.8128014853482048 and parameters: {'iterations': 4973, 'loss_function': 'RMSE', 'learning_rate': 0.014380172591457255, 'l2_leaf_reg': 0.042327232065032284, 'colsample_bylevel': 0.6440121965920812, 'depth': 10, 'boosting_type': 'Plain', 'bootstrap_type': 'MVS', 'min_data_in_leaf': 9, 'one_hot_max_size': 13}. Best is trial 14 with value: 0.8133163373250865.\u001b[0m\n",
      "\u001b[32m[I 2021-12-27 20:31:01,346]\u001b[0m Trial 22 finished with value: 0.8130806289610083 and parameters: {'iterations': 3025, 'loss_function': 'RMSE', 'learning_rate': 0.021075125930751767, 'l2_leaf_reg': 0.05781157635292326, 'colsample_bylevel': 0.5741025416405575, 'depth': 9, 'boosting_type': 'Plain', 'bootstrap_type': 'MVS', 'min_data_in_leaf': 9, 'one_hot_max_size': 17}. Best is trial 14 with value: 0.8133163373250865.\u001b[0m\n",
      "\u001b[32m[I 2021-12-27 20:32:18,797]\u001b[0m Trial 23 finished with value: 0.8118799889452066 and parameters: {'iterations': 2877, 'loss_function': 'RMSE', 'learning_rate': 0.037237418213271596, 'l2_leaf_reg': 0.06754285217493801, 'colsample_bylevel': 0.5672842418818755, 'depth': 9, 'boosting_type': 'Plain', 'bootstrap_type': 'MVS', 'min_data_in_leaf': 11, 'one_hot_max_size': 17}. Best is trial 14 with value: 0.8133163373250865.\u001b[0m\n",
      "\u001b[32m[I 2021-12-27 20:34:04,099]\u001b[0m Trial 24 finished with value: 0.811566757267952 and parameters: {'iterations': 3376, 'loss_function': 'RMSE', 'learning_rate': 0.04131827732869084, 'l2_leaf_reg': 0.05124021726693695, 'colsample_bylevel': 0.8495076229801424, 'depth': 9, 'boosting_type': 'Plain', 'bootstrap_type': 'MVS', 'min_data_in_leaf': 8, 'one_hot_max_size': 20}. Best is trial 14 with value: 0.8133163373250865.\u001b[0m\n",
      "\u001b[32m[I 2021-12-27 20:34:48,669]\u001b[0m Trial 25 finished with value: 0.3653189257113066 and parameters: {'iterations': 2541, 'loss_function': 'RMSE', 'learning_rate': 0.0001395264154060482, 'l2_leaf_reg': 0.08097518535803415, 'colsample_bylevel': 0.7275992856570428, 'depth': 8, 'boosting_type': 'Plain', 'bootstrap_type': 'MVS', 'min_data_in_leaf': 12, 'one_hot_max_size': 15}. Best is trial 14 with value: 0.8133163373250865.\u001b[0m\n",
      "\u001b[32m[I 2021-12-27 20:37:22,280]\u001b[0m Trial 26 finished with value: 0.6438746847403374 and parameters: {'iterations': 2170, 'loss_function': 'MAPE', 'learning_rate': 0.017137433032184287, 'l2_leaf_reg': 0.012606317315726142, 'colsample_bylevel': 0.4027600704058492, 'depth': 9, 'boosting_type': 'Ordered', 'bootstrap_type': 'MVS', 'min_data_in_leaf': 10, 'one_hot_max_size': 18}. Best is trial 14 with value: 0.8133163373250865.\u001b[0m\n",
      "\u001b[32m[I 2021-12-27 20:38:04,749]\u001b[0m Trial 27 finished with value: 0.807942672002801 and parameters: {'iterations': 4218, 'loss_function': 'RMSE', 'learning_rate': 0.005171334421179228, 'l2_leaf_reg': 0.02587774988240614, 'colsample_bylevel': 0.9004086480903344, 'depth': 7, 'boosting_type': 'Plain', 'bootstrap_type': 'MVS', 'min_data_in_leaf': 11, 'one_hot_max_size': 16}. Best is trial 14 with value: 0.8133163373250865.\u001b[0m\n",
      "\u001b[32m[I 2021-12-27 20:38:54,973]\u001b[0m Trial 28 finished with value: 0.7859258960676359 and parameters: {'iterations': 3302, 'loss_function': 'RMSE', 'learning_rate': 0.0011696078776407739, 'l2_leaf_reg': 0.13234901629274465, 'colsample_bylevel': 0.6077956974845636, 'depth': 8, 'boosting_type': 'Plain', 'bootstrap_type': 'Bayesian', 'min_data_in_leaf': 4, 'one_hot_max_size': 12, 'bagging_temperature': 0.28454066307857406}. Best is trial 14 with value: 0.8133163373250865.\u001b[0m\n",
      "\u001b[32m[I 2021-12-27 20:39:51,732]\u001b[0m Trial 29 finished with value: 0.5394867378299282 and parameters: {'iterations': 3964, 'loss_function': 'MAPE', 'learning_rate': 0.047223637357796305, 'l2_leaf_reg': 0.017422846106447717, 'colsample_bylevel': 0.5713358692664312, 'depth': 4, 'boosting_type': 'Ordered', 'bootstrap_type': 'MVS', 'min_data_in_leaf': 13, 'one_hot_max_size': 14}. Best is trial 14 with value: 0.8133163373250865.\u001b[0m\n",
      "\u001b[32m[I 2021-12-27 20:40:02,804]\u001b[0m Trial 30 finished with value: 0.8033418969172995 and parameters: {'iterations': 1599, 'loss_function': 'RMSE', 'learning_rate': 0.011329264474376486, 'l2_leaf_reg': 0.05412623300158541, 'colsample_bylevel': 0.5373054281262785, 'depth': 6, 'boosting_type': 'Plain', 'bootstrap_type': 'Bernoulli', 'min_data_in_leaf': 17, 'one_hot_max_size': 17, 'subsample': 0.9587749672827004}. Best is trial 14 with value: 0.8133163373250865.\u001b[0m\n",
      "\u001b[32m[I 2021-12-27 20:41:55,682]\u001b[0m Trial 31 finished with value: 0.8127482072040623 and parameters: {'iterations': 4978, 'loss_function': 'RMSE', 'learning_rate': 0.016575559307460755, 'l2_leaf_reg': 0.04045623721675354, 'colsample_bylevel': 0.6701142443157181, 'depth': 10, 'boosting_type': 'Plain', 'bootstrap_type': 'MVS', 'min_data_in_leaf': 9, 'one_hot_max_size': 14}. Best is trial 14 with value: 0.8133163373250865.\u001b[0m\n",
      "\u001b[32m[I 2021-12-27 20:42:21,187]\u001b[0m Trial 32 finished with value: 0.8096373037144161 and parameters: {'iterations': 964, 'loss_function': 'RMSE', 'learning_rate': 0.02553415442937997, 'l2_leaf_reg': 0.04337756337951995, 'colsample_bylevel': 0.6984190821673204, 'depth': 10, 'boosting_type': 'Plain', 'bootstrap_type': 'MVS', 'min_data_in_leaf': 9, 'one_hot_max_size': 12}. Best is trial 14 with value: 0.8133163373250865.\u001b[0m\n",
      "\u001b[32m[I 2021-12-27 20:44:20,908]\u001b[0m Trial 33 finished with value: 0.8137588385807424 and parameters: {'iterations': 4395, 'loss_function': 'RMSE', 'learning_rate': 0.012236384160613935, 'l2_leaf_reg': 0.03275174155986356, 'colsample_bylevel': 0.7937237938482521, 'depth': 9, 'boosting_type': 'Plain', 'bootstrap_type': 'MVS', 'min_data_in_leaf': 8, 'one_hot_max_size': 14}. Best is trial 33 with value: 0.8137588385807424.\u001b[0m\n",
      "\u001b[32m[I 2021-12-27 20:44:30,772]\u001b[0m Trial 34 finished with value: 0.7626991928016184 and parameters: {'iterations': 4397, 'loss_function': 'RMSE', 'learning_rate': 0.004030815381869886, 'l2_leaf_reg': 0.031667298355122254, 'colsample_bylevel': 0.7841926153887818, 'depth': 1, 'boosting_type': 'Plain', 'bootstrap_type': 'MVS', 'min_data_in_leaf': 8, 'one_hot_max_size': 16}. Best is trial 33 with value: 0.8137588385807424.\u001b[0m\n",
      "\u001b[32m[I 2021-12-27 20:45:41,327]\u001b[0m Trial 35 finished with value: 0.6043598024524067 and parameters: {'iterations': 2390, 'loss_function': 'MAPE', 'learning_rate': 0.04970191111040692, 'l2_leaf_reg': 0.022331648690726246, 'colsample_bylevel': 0.9123622249518639, 'depth': 9, 'boosting_type': 'Plain', 'bootstrap_type': 'Bernoulli', 'min_data_in_leaf': 6, 'one_hot_max_size': 10, 'subsample': 0.7018143969238297}. Best is trial 33 with value: 0.8137588385807424.\u001b[0m\n",
      "\u001b[32m[I 2021-12-27 20:48:34,686]\u001b[0m Trial 36 finished with value: 0.8081465703192032 and parameters: {'iterations': 2903, 'loss_function': 'RMSE', 'learning_rate': 0.009029182428583313, 'l2_leaf_reg': 0.03148315235348564, 'colsample_bylevel': 0.7995211489944877, 'depth': 8, 'boosting_type': 'Ordered', 'bootstrap_type': 'MVS', 'min_data_in_leaf': 10, 'one_hot_max_size': 7}. Best is trial 33 with value: 0.8137588385807424.\u001b[0m\n",
      "\u001b[32m[I 2021-12-27 20:49:45,992]\u001b[0m Trial 37 finished with value: 0.7962822268905009 and parameters: {'iterations': 3334, 'loss_function': 'RMSE', 'learning_rate': 0.0027518465163755626, 'l2_leaf_reg': 0.08194998970837715, 'colsample_bylevel': 0.4997180129607082, 'depth': 9, 'boosting_type': 'Plain', 'bootstrap_type': 'Bernoulli', 'min_data_in_leaf': 7, 'one_hot_max_size': 18, 'subsample': 0.12397766530439636}. Best is trial 33 with value: 0.8137588385807424.\u001b[0m\n",
      "\u001b[32m[I 2021-12-27 20:50:16,669]\u001b[0m Trial 38 finished with value: 0.5743769583423599 and parameters: {'iterations': 2627, 'loss_function': 'MAPE', 'learning_rate': 0.028768850199871, 'l2_leaf_reg': 0.02733218010053331, 'colsample_bylevel': 0.5831474833788425, 'depth': 7, 'boosting_type': 'Plain', 'bootstrap_type': 'MVS', 'min_data_in_leaf': 6, 'one_hot_max_size': 20}. Best is trial 33 with value: 0.8137588385807424.\u001b[0m\n",
      "\u001b[32m[I 2021-12-27 20:51:16,638]\u001b[0m Trial 39 finished with value: 0.7933949720477426 and parameters: {'iterations': 3758, 'loss_function': 'RMSE', 'learning_rate': 0.001474223041332106, 'l2_leaf_reg': 0.05468557505671812, 'colsample_bylevel': 0.7151222127675008, 'depth': 8, 'boosting_type': 'Plain', 'bootstrap_type': 'MVS', 'min_data_in_leaf': 8, 'one_hot_max_size': 14}. Best is trial 33 with value: 0.8137588385807424.\u001b[0m\n",
      "\u001b[32m[I 2021-12-27 20:51:40,029]\u001b[0m Trial 40 finished with value: 0.7758163917134142 and parameters: {'iterations': 1830, 'loss_function': 'RMSE', 'learning_rate': 0.009286797011534913, 'l2_leaf_reg': 0.9237118394544643, 'colsample_bylevel': 0.8617834700791032, 'depth': 4, 'boosting_type': 'Ordered', 'bootstrap_type': 'Bayesian', 'min_data_in_leaf': 11, 'one_hot_max_size': 18, 'bagging_temperature': 9.879663380159574}. Best is trial 33 with value: 0.8137588385807424.\u001b[0m\n",
      "\u001b[32m[I 2021-12-27 20:53:24,118]\u001b[0m Trial 41 finished with value: 0.8124223815749978 and parameters: {'iterations': 4627, 'loss_function': 'RMSE', 'learning_rate': 0.017206259218433745, 'l2_leaf_reg': 0.040651688759893674, 'colsample_bylevel': 0.6459881491749024, 'depth': 10, 'boosting_type': 'Plain', 'bootstrap_type': 'MVS', 'min_data_in_leaf': 9, 'one_hot_max_size': 12}. Best is trial 33 with value: 0.8137588385807424.\u001b[0m\n",
      "\u001b[32m[I 2021-12-27 20:55:08,625]\u001b[0m Trial 42 finished with value: 0.8127423722436417 and parameters: {'iterations': 4141, 'loss_function': 'RMSE', 'learning_rate': 0.012845017048737693, 'l2_leaf_reg': 0.0182308334471447, 'colsample_bylevel': 0.7680042377517544, 'depth': 10, 'boosting_type': 'Plain', 'bootstrap_type': 'MVS', 'min_data_in_leaf': 10, 'one_hot_max_size': 10}. Best is trial 33 with value: 0.8137588385807424.\u001b[0m\n",
      "\u001b[32m[I 2021-12-27 20:57:09,126]\u001b[0m Trial 43 finished with value: 0.8102733705709996 and parameters: {'iterations': 4388, 'loss_function': 'RMSE', 'learning_rate': 0.05667881207631699, 'l2_leaf_reg': 0.03459737590807982, 'colsample_bylevel': 0.6827568321091891, 'depth': 9, 'boosting_type': 'Plain', 'bootstrap_type': 'MVS', 'min_data_in_leaf': 8, 'one_hot_max_size': 14}. Best is trial 33 with value: 0.8137588385807424.\u001b[0m\n",
      "\u001b[32m[I 2021-12-27 20:58:29,620]\u001b[0m Trial 44 finished with value: 0.8107289900379794 and parameters: {'iterations': 4593, 'loss_function': 'RMSE', 'learning_rate': 0.005140461283512788, 'l2_leaf_reg': 0.10290428889946072, 'colsample_bylevel': 0.4246833629686734, 'depth': 10, 'boosting_type': 'Plain', 'bootstrap_type': 'MVS', 'min_data_in_leaf': 13, 'one_hot_max_size': 15}. Best is trial 33 with value: 0.8137588385807424.\u001b[0m\n",
      "\u001b[32m[I 2021-12-27 20:59:32,210]\u001b[0m Trial 45 finished with value: 0.8068210490102427 and parameters: {'iterations': 2188, 'loss_function': 'RMSE', 'learning_rate': 0.006582113848741334, 'l2_leaf_reg': 0.06418271378625985, 'colsample_bylevel': 0.6136814269487892, 'depth': 9, 'boosting_type': 'Plain', 'bootstrap_type': 'MVS', 'min_data_in_leaf': 5, 'one_hot_max_size': 13}. Best is trial 33 with value: 0.8137588385807424.\u001b[0m\n",
      "\u001b[32m[I 2021-12-27 21:01:08,983]\u001b[0m Trial 46 finished with value: 0.5106369534630982 and parameters: {'iterations': 4983, 'loss_function': 'MAPE', 'learning_rate': 0.002482332440485576, 'l2_leaf_reg': 0.5793268121526093, 'colsample_bylevel': 0.5122126551510287, 'depth': 10, 'boosting_type': 'Plain', 'bootstrap_type': 'Bernoulli', 'min_data_in_leaf': 10, 'one_hot_max_size': 11, 'subsample': 0.6997796857257164}. Best is trial 33 with value: 0.8137588385807424.\u001b[0m\n",
      "\u001b[32m[I 2021-12-27 21:02:13,165]\u001b[0m Trial 47 finished with value: 0.8129244227859121 and parameters: {'iterations': 3690, 'loss_function': 'RMSE', 'learning_rate': 0.013888631477672728, 'l2_leaf_reg': 0.0462743935752026, 'colsample_bylevel': 0.8255634144207511, 'depth': 8, 'boosting_type': 'Plain', 'bootstrap_type': 'MVS', 'min_data_in_leaf': 13, 'one_hot_max_size': 16}. Best is trial 33 with value: 0.8137588385807424.\u001b[0m\n",
      "\u001b[32m[I 2021-12-27 21:03:06,031]\u001b[0m Trial 48 finished with value: 0.8088203354147151 and parameters: {'iterations': 3574, 'loss_function': 'RMSE', 'learning_rate': 0.07132754023613622, 'l2_leaf_reg': 0.0867386468706451, 'colsample_bylevel': 0.9412894477642675, 'depth': 8, 'boosting_type': 'Plain', 'bootstrap_type': 'MVS', 'min_data_in_leaf': 16, 'one_hot_max_size': 16}. Best is trial 33 with value: 0.8137588385807424.\u001b[0m\n",
      "\u001b[32m[I 2021-12-27 21:03:26,274]\u001b[0m Trial 49 finished with value: 0.8121972531612313 and parameters: {'iterations': 3120, 'loss_function': 'RMSE', 'learning_rate': 0.03245792040146857, 'l2_leaf_reg': 0.021567340763574534, 'colsample_bylevel': 0.8519338184363877, 'depth': 6, 'boosting_type': 'Plain', 'bootstrap_type': 'MVS', 'min_data_in_leaf': 13, 'one_hot_max_size': 17}. Best is trial 33 with value: 0.8137588385807424.\u001b[0m\n"
     ]
    },
    {
     "name": "stdout",
     "output_type": "stream",
     "text": [
      "========== Starting Study for spg ==========\n"
     ]
    },
    {
     "name": "stderr",
     "output_type": "stream",
     "text": [
      "\u001b[32m[I 2021-12-27 21:03:26,833]\u001b[0m A new study created in memory with name: no-name-b95ac217-bd9d-4201-946e-9057b2321280\u001b[0m\n"
     ]
    },
    {
     "name": "stdout",
     "output_type": "stream",
     "text": [
      "INFO | Split Data X, y ...\n",
      "INFO | Train-Test Split ...\n",
      "INFO | Tune Model ...\n"
     ]
    },
    {
     "name": "stderr",
     "output_type": "stream",
     "text": [
      "\u001b[32m[I 2021-12-27 21:03:51,543]\u001b[0m Trial 0 finished with value: 0.45476443737227923 and parameters: {'iterations': 2190, 'loss_function': 'RMSE', 'learning_rate': 0.00022946280125423423, 'l2_leaf_reg': 0.49196968284507736, 'colsample_bylevel': 0.4154404115223317, 'depth': 8, 'boosting_type': 'Plain', 'bootstrap_type': 'Bayesian', 'min_data_in_leaf': 15, 'one_hot_max_size': 6, 'bagging_temperature': 4.812621889416755}. Best is trial 0 with value: 0.45476443737227923.\u001b[0m\n",
      "\u001b[32m[I 2021-12-27 21:03:57,086]\u001b[0m Trial 1 finished with value: -0.6657688257816231 and parameters: {'iterations': 1565, 'loss_function': 'MAPE', 'learning_rate': 0.00029874343563459147, 'l2_leaf_reg': 0.03451096938326208, 'colsample_bylevel': 0.3643737384630846, 'depth': 4, 'boosting_type': 'Plain', 'bootstrap_type': 'Bayesian', 'min_data_in_leaf': 2, 'one_hot_max_size': 14, 'bagging_temperature': 4.216836045132673}. Best is trial 0 with value: 0.45476443737227923.\u001b[0m\n",
      "\u001b[32m[I 2021-12-27 21:04:11,299]\u001b[0m Trial 2 finished with value: 0.7933721587015207 and parameters: {'iterations': 3523, 'loss_function': 'RMSE', 'learning_rate': 0.04138371265268347, 'l2_leaf_reg': 0.12003847587979506, 'colsample_bylevel': 0.3057223776403266, 'depth': 6, 'boosting_type': 'Plain', 'bootstrap_type': 'MVS', 'min_data_in_leaf': 11, 'one_hot_max_size': 17}. Best is trial 2 with value: 0.7933721587015207.\u001b[0m\n",
      "\u001b[32m[I 2021-12-27 21:04:22,272]\u001b[0m Trial 3 finished with value: 0.46586989756785424 and parameters: {'iterations': 3951, 'loss_function': 'MAPE', 'learning_rate': 0.05705782077921957, 'l2_leaf_reg': 0.3141760905862813, 'colsample_bylevel': 0.2673307170229104, 'depth': 3, 'boosting_type': 'Plain', 'bootstrap_type': 'Bayesian', 'min_data_in_leaf': 9, 'one_hot_max_size': 2, 'bagging_temperature': 3.6216494471021465}. Best is trial 2 with value: 0.7933721587015207.\u001b[0m\n",
      "\u001b[32m[I 2021-12-27 21:04:58,717]\u001b[0m Trial 4 finished with value: 0.7915115890636535 and parameters: {'iterations': 1135, 'loss_function': 'RMSE', 'learning_rate': 0.04680600622674032, 'l2_leaf_reg': 0.021713932214196693, 'colsample_bylevel': 0.48245504934807243, 'depth': 8, 'boosting_type': 'Ordered', 'bootstrap_type': 'Bayesian', 'min_data_in_leaf': 8, 'one_hot_max_size': 5, 'bagging_temperature': 0.6271283187471055}. Best is trial 2 with value: 0.7933721587015207.\u001b[0m\n",
      "\u001b[32m[I 2021-12-27 21:05:11,980]\u001b[0m Trial 5 finished with value: 0.34577744034635566 and parameters: {'iterations': 4606, 'loss_function': 'MAPE', 'learning_rate': 0.0023269407486159323, 'l2_leaf_reg': 0.030199235675324957, 'colsample_bylevel': 0.4345285563997257, 'depth': 4, 'boosting_type': 'Plain', 'bootstrap_type': 'Bernoulli', 'min_data_in_leaf': 13, 'one_hot_max_size': 17, 'subsample': 0.308500250852179}. Best is trial 2 with value: 0.7933721587015207.\u001b[0m\n",
      "\u001b[32m[I 2021-12-27 21:05:21,289]\u001b[0m Trial 6 finished with value: -0.6479105212599826 and parameters: {'iterations': 270, 'loss_function': 'MAPE', 'learning_rate': 0.0003202828905189721, 'l2_leaf_reg': 0.03541510593282694, 'colsample_bylevel': 0.7241412069668502, 'depth': 6, 'boosting_type': 'Ordered', 'bootstrap_type': 'MVS', 'min_data_in_leaf': 17, 'one_hot_max_size': 6}. Best is trial 2 with value: 0.7933721587015207.\u001b[0m\n",
      "\u001b[32m[I 2021-12-27 21:06:01,738]\u001b[0m Trial 7 finished with value: 0.5774474890883763 and parameters: {'iterations': 4528, 'loss_function': 'MAPE', 'learning_rate': 0.01451023317097145, 'l2_leaf_reg': 0.020137363891473387, 'colsample_bylevel': 0.18266835857223745, 'depth': 5, 'boosting_type': 'Ordered', 'bootstrap_type': 'Bernoulli', 'min_data_in_leaf': 7, 'one_hot_max_size': 15, 'subsample': 0.9639396067552376}. Best is trial 2 with value: 0.7933721587015207.\u001b[0m\n",
      "\u001b[32m[I 2021-12-27 21:06:48,318]\u001b[0m Trial 8 finished with value: 0.09523090459303143 and parameters: {'iterations': 1728, 'loss_function': 'RMSE', 'learning_rate': 4.208611937001374e-05, 'l2_leaf_reg': 0.032283928389693656, 'colsample_bylevel': 0.7692593387955007, 'depth': 6, 'boosting_type': 'Ordered', 'bootstrap_type': 'MVS', 'min_data_in_leaf': 9, 'one_hot_max_size': 19}. Best is trial 2 with value: 0.7933721587015207.\u001b[0m\n",
      "\u001b[32m[I 2021-12-27 21:07:14,634]\u001b[0m Trial 9 finished with value: 0.020429428650313698 and parameters: {'iterations': 344, 'loss_function': 'RMSE', 'learning_rate': 4.544787154501813e-05, 'l2_leaf_reg': 0.011056644278130951, 'colsample_bylevel': 0.5384852409218608, 'depth': 9, 'boosting_type': 'Ordered', 'bootstrap_type': 'Bayesian', 'min_data_in_leaf': 5, 'one_hot_max_size': 4, 'bagging_temperature': 8.702143062913319}. Best is trial 2 with value: 0.7933721587015207.\u001b[0m\n",
      "\u001b[32m[I 2021-12-27 21:07:20,489]\u001b[0m Trial 10 finished with value: 0.7460696218679177 and parameters: {'iterations': 3343, 'loss_function': 'RMSE', 'learning_rate': 0.0035438926838408965, 'l2_leaf_reg': 0.12750357273148086, 'colsample_bylevel': 0.04175243802556716, 'depth': 1, 'boosting_type': 'Plain', 'bootstrap_type': 'MVS', 'min_data_in_leaf': 19, 'one_hot_max_size': 11}. Best is trial 2 with value: 0.7933721587015207.\u001b[0m\n",
      "\u001b[32m[I 2021-12-27 21:19:30,578]\u001b[0m Trial 11 finished with value: 0.7868911602770174 and parameters: {'iterations': 3164, 'loss_function': 'RMSE', 'learning_rate': 0.07602590021380491, 'l2_leaf_reg': 0.10558333520691034, 'colsample_bylevel': 0.961468994955199, 'depth': 10, 'boosting_type': 'Ordered', 'bootstrap_type': 'MVS', 'min_data_in_leaf': 11, 'one_hot_max_size': 10}. Best is trial 2 with value: 0.7933721587015207.\u001b[0m\n",
      "\u001b[32m[I 2021-12-27 21:20:17,630]\u001b[0m Trial 12 finished with value: 0.7890860095377082 and parameters: {'iterations': 1216, 'loss_function': 'RMSE', 'learning_rate': 0.012602031340220523, 'l2_leaf_reg': 0.16840806903837116, 'colsample_bylevel': 0.584231325722991, 'depth': 8, 'boosting_type': 'Ordered', 'bootstrap_type': 'MVS', 'min_data_in_leaf': 12, 'one_hot_max_size': 20}. Best is trial 2 with value: 0.7933721587015207.\u001b[0m\n",
      "\u001b[32m[I 2021-12-27 21:20:32,424]\u001b[0m Trial 13 finished with value: 0.7947999084251718 and parameters: {'iterations': 2881, 'loss_function': 'RMSE', 'learning_rate': 0.016673517962304336, 'l2_leaf_reg': 0.0643218299322066, 'colsample_bylevel': 0.18589471395798868, 'depth': 7, 'boosting_type': 'Plain', 'bootstrap_type': 'Bayesian', 'min_data_in_leaf': 5, 'one_hot_max_size': 8, 'bagging_temperature': 0.8668016660245073}. Best is trial 13 with value: 0.7947999084251718.\u001b[0m\n",
      "\u001b[32m[I 2021-12-27 21:20:44,329]\u001b[0m Trial 14 finished with value: 0.7939678973272924 and parameters: {'iterations': 2882, 'loss_function': 'RMSE', 'learning_rate': 0.012299827954079861, 'l2_leaf_reg': 0.066793232899499, 'colsample_bylevel': 0.10808471560780902, 'depth': 7, 'boosting_type': 'Plain', 'bootstrap_type': 'Bernoulli', 'min_data_in_leaf': 4, 'one_hot_max_size': 9, 'subsample': 0.7910157511258669}. Best is trial 13 with value: 0.7947999084251718.\u001b[0m\n",
      "\u001b[32m[I 2021-12-27 21:20:48,524]\u001b[0m Trial 15 finished with value: 0.7730241353769772 and parameters: {'iterations': 2752, 'loss_function': 'RMSE', 'learning_rate': 0.009714567333087135, 'l2_leaf_reg': 0.07198975837644979, 'colsample_bylevel': 0.024333348253129744, 'depth': 7, 'boosting_type': 'Plain', 'bootstrap_type': 'Bernoulli', 'min_data_in_leaf': 2, 'one_hot_max_size': 9, 'subsample': 0.8163917284158408}. Best is trial 13 with value: 0.7947999084251718.\u001b[0m\n",
      "\u001b[32m[I 2021-12-27 21:21:11,682]\u001b[0m Trial 16 finished with value: 0.7775303178746362 and parameters: {'iterations': 2510, 'loss_function': 'RMSE', 'learning_rate': 0.0017996473844771944, 'l2_leaf_reg': 0.06419114255682015, 'colsample_bylevel': 0.14817506610879694, 'depth': 10, 'boosting_type': 'Plain', 'bootstrap_type': 'Bernoulli', 'min_data_in_leaf': 5, 'one_hot_max_size': 8, 'subsample': 0.6106325745906597}. Best is trial 13 with value: 0.7947999084251718.\u001b[0m\n",
      "\u001b[32m[I 2021-12-27 21:21:30,533]\u001b[0m Trial 17 finished with value: 0.7931844798761073 and parameters: {'iterations': 3945, 'loss_function': 'RMSE', 'learning_rate': 0.007663858031718906, 'l2_leaf_reg': 0.23402905662560203, 'colsample_bylevel': 0.20188229456856743, 'depth': 7, 'boosting_type': 'Plain', 'bootstrap_type': 'Bernoulli', 'min_data_in_leaf': 4, 'one_hot_max_size': 13, 'subsample': 0.6084094231067724}. Best is trial 13 with value: 0.7947999084251718.\u001b[0m\n",
      "\u001b[32m[I 2021-12-27 21:21:35,617]\u001b[0m Trial 18 finished with value: 0.7822683416308476 and parameters: {'iterations': 2762, 'loss_function': 'RMSE', 'learning_rate': 0.024630658117122704, 'l2_leaf_reg': 0.058334082335852064, 'colsample_bylevel': 0.10404052326908571, 'depth': 2, 'boosting_type': 'Plain', 'bootstrap_type': 'Bayesian', 'min_data_in_leaf': 6, 'one_hot_max_size': 8, 'bagging_temperature': 0.2713398953115995}. Best is trial 13 with value: 0.7947999084251718.\u001b[0m\n",
      "\u001b[32m[I 2021-12-27 21:21:40,655]\u001b[0m Trial 19 finished with value: 0.7271610716937629 and parameters: {'iterations': 2124, 'loss_function': 'RMSE', 'learning_rate': 0.0009147545811474807, 'l2_leaf_reg': 0.5558981397295414, 'colsample_bylevel': 0.3280261986025441, 'depth': 5, 'boosting_type': 'Plain', 'bootstrap_type': 'Bernoulli', 'min_data_in_leaf': 3, 'one_hot_max_size': 13, 'subsample': 0.11358094997361484}. Best is trial 13 with value: 0.7947999084251718.\u001b[0m\n",
      "\u001b[32m[I 2021-12-27 21:22:03,672]\u001b[0m Trial 20 finished with value: 0.07472693611796713 and parameters: {'iterations': 4023, 'loss_function': 'RMSE', 'learning_rate': 1.4645885078739848e-05, 'l2_leaf_reg': 0.011517188607524662, 'colsample_bylevel': 0.2442544938855828, 'depth': 7, 'boosting_type': 'Plain', 'bootstrap_type': 'Bayesian', 'min_data_in_leaf': 7, 'one_hot_max_size': 3, 'bagging_temperature': 8.957300238457409}. Best is trial 13 with value: 0.7947999084251718.\u001b[0m\n",
      "\u001b[32m[I 2021-12-27 21:22:16,943]\u001b[0m Trial 21 finished with value: 0.7939623980378891 and parameters: {'iterations': 3045, 'loss_function': 'RMSE', 'learning_rate': 0.0361936856473103, 'l2_leaf_reg': 0.08311226018984964, 'colsample_bylevel': 0.29980252996742424, 'depth': 6, 'boosting_type': 'Plain', 'bootstrap_type': 'MVS', 'min_data_in_leaf': 15, 'one_hot_max_size': 17}. Best is trial 13 with value: 0.7947999084251718.\u001b[0m\n",
      "\u001b[32m[I 2021-12-27 21:22:30,643]\u001b[0m Trial 22 finished with value: 0.7883247509390354 and parameters: {'iterations': 2954, 'loss_function': 'RMSE', 'learning_rate': 0.005282058391865181, 'l2_leaf_reg': 0.054428759860066823, 'colsample_bylevel': 0.12009130762645114, 'depth': 7, 'boosting_type': 'Plain', 'bootstrap_type': 'Bernoulli', 'min_data_in_leaf': 15, 'one_hot_max_size': 11, 'subsample': 0.8302161056520585}. Best is trial 13 with value: 0.7947999084251718.\u001b[0m\n",
      "\u001b[32m[I 2021-12-27 21:23:02,182]\u001b[0m Trial 23 finished with value: 0.7944181085515302 and parameters: {'iterations': 3679, 'loss_function': 'RMSE', 'learning_rate': 0.026198141974391777, 'l2_leaf_reg': 0.07548659664619498, 'colsample_bylevel': 0.09024189537499991, 'depth': 9, 'boosting_type': 'Plain', 'bootstrap_type': 'MVS', 'min_data_in_leaf': 20, 'one_hot_max_size': 7}. Best is trial 13 with value: 0.7947999084251718.\u001b[0m\n",
      "\u001b[32m[I 2021-12-27 21:23:06,937]\u001b[0m Trial 24 finished with value: 0.7653024668792249 and parameters: {'iterations': 3419, 'loss_function': 'RMSE', 'learning_rate': 0.018806288023631927, 'l2_leaf_reg': 0.16634783178320187, 'colsample_bylevel': 0.01147428720035465, 'depth': 9, 'boosting_type': 'Plain', 'bootstrap_type': 'Bernoulli', 'min_data_in_leaf': 19, 'one_hot_max_size': 8, 'subsample': 0.4327053153399929}. Best is trial 13 with value: 0.7947999084251718.\u001b[0m\n",
      "\u001b[32m[I 2021-12-27 21:23:36,596]\u001b[0m Trial 25 finished with value: 0.78454524451434 and parameters: {'iterations': 3653, 'loss_function': 'RMSE', 'learning_rate': 0.09491706198620208, 'l2_leaf_reg': 0.04913664458806688, 'colsample_bylevel': 0.0844449814463422, 'depth': 9, 'boosting_type': 'Plain', 'bootstrap_type': 'Bayesian', 'min_data_in_leaf': 5, 'one_hot_max_size': 7, 'bagging_temperature': 1.8360105522587422}. Best is trial 13 with value: 0.7947999084251718.\u001b[0m\n",
      "\u001b[32m[I 2021-12-27 21:23:58,653]\u001b[0m Trial 26 finished with value: 0.23564114154238033 and parameters: {'iterations': 2370, 'loss_function': 'MAPE', 'learning_rate': 0.00115027433865969, 'l2_leaf_reg': 0.09252082542182924, 'colsample_bylevel': 0.20374357040423693, 'depth': 8, 'boosting_type': 'Plain', 'bootstrap_type': 'MVS', 'min_data_in_leaf': 17, 'one_hot_max_size': 10}. Best is trial 13 with value: 0.7947999084251718.\u001b[0m\n",
      "\u001b[32m[I 2021-12-27 21:24:43,133]\u001b[0m Trial 27 finished with value: 0.7934836929890648 and parameters: {'iterations': 4383, 'loss_function': 'RMSE', 'learning_rate': 0.0049404096179704905, 'l2_leaf_reg': 0.22257783701383385, 'colsample_bylevel': 0.11642865068536304, 'depth': 9, 'boosting_type': 'Plain', 'bootstrap_type': 'MVS', 'min_data_in_leaf': 9, 'one_hot_max_size': 5}. Best is trial 13 with value: 0.7947999084251718.\u001b[0m\n",
      "\u001b[32m[I 2021-12-27 21:25:36,535]\u001b[0m Trial 28 finished with value: 0.7941618590525504 and parameters: {'iterations': 4857, 'loss_function': 'RMSE', 'learning_rate': 0.027466410273514964, 'l2_leaf_reg': 0.04474025015167399, 'colsample_bylevel': 0.21348003456378173, 'depth': 10, 'boosting_type': 'Plain', 'bootstrap_type': 'Bernoulli', 'min_data_in_leaf': 20, 'one_hot_max_size': 12, 'subsample': 0.7745195331456607}. Best is trial 13 with value: 0.7947999084251718.\u001b[0m\n",
      "\u001b[32m[I 2021-12-27 21:26:39,228]\u001b[0m Trial 29 finished with value: 0.7803219086892845 and parameters: {'iterations': 4189, 'loss_function': 'RMSE', 'learning_rate': 0.02690470928337888, 'l2_leaf_reg': 0.02108169478658367, 'colsample_bylevel': 0.39708862379177634, 'depth': 10, 'boosting_type': 'Plain', 'bootstrap_type': 'Bayesian', 'min_data_in_leaf': 20, 'one_hot_max_size': 12, 'bagging_temperature': 6.679570966262572}. Best is trial 13 with value: 0.7947999084251718.\u001b[0m\n",
      "\u001b[32m[I 2021-12-27 21:28:12,805]\u001b[0m Trial 30 finished with value: 0.7720054082385044 and parameters: {'iterations': 4933, 'loss_function': 'RMSE', 'learning_rate': 0.0007037876934624105, 'l2_leaf_reg': 0.40007947109742564, 'colsample_bylevel': 0.625610598971906, 'depth': 10, 'boosting_type': 'Plain', 'bootstrap_type': 'Bayesian', 'min_data_in_leaf': 18, 'one_hot_max_size': 6, 'bagging_temperature': 2.4900544908099924}. Best is trial 13 with value: 0.7947999084251718.\u001b[0m\n",
      "\u001b[32m[I 2021-12-27 21:28:30,904]\u001b[0m Trial 31 finished with value: 0.7948644404009697 and parameters: {'iterations': 2220, 'loss_function': 'RMSE', 'learning_rate': 0.01740440497999181, 'l2_leaf_reg': 0.044882069178937126, 'colsample_bylevel': 0.20987842985243887, 'depth': 8, 'boosting_type': 'Plain', 'bootstrap_type': 'Bernoulli', 'min_data_in_leaf': 20, 'one_hot_max_size': 9, 'subsample': 0.7626671905015003}. Best is trial 31 with value: 0.7948644404009697.\u001b[0m\n",
      "\u001b[32m[I 2021-12-27 21:29:33,932]\u001b[0m Trial 32 finished with value: 0.7952740153746174 and parameters: {'iterations': 4838, 'loss_function': 'RMSE', 'learning_rate': 0.022213705233803352, 'l2_leaf_reg': 0.03984439188320381, 'colsample_bylevel': 0.23481282445179058, 'depth': 9, 'boosting_type': 'Plain', 'bootstrap_type': 'Bernoulli', 'min_data_in_leaf': 20, 'one_hot_max_size': 7, 'subsample': 0.7078003943966793}. Best is trial 32 with value: 0.7952740153746174.\u001b[0m\n",
      "\u001b[32m[I 2021-12-27 21:30:10,680]\u001b[0m Trial 33 finished with value: 0.7938878224465513 and parameters: {'iterations': 3745, 'loss_function': 'RMSE', 'learning_rate': 0.007315677047727177, 'l2_leaf_reg': 0.7991771024303261, 'colsample_bylevel': 0.3559550308246753, 'depth': 8, 'boosting_type': 'Plain', 'bootstrap_type': 'Bernoulli', 'min_data_in_leaf': 17, 'one_hot_max_size': 7, 'subsample': 0.6697300333367429}. Best is trial 32 with value: 0.7952740153746174.\u001b[0m\n",
      "\u001b[32m[I 2021-12-27 21:30:30,233]\u001b[0m Trial 34 finished with value: 0.5592962638548489 and parameters: {'iterations': 2055, 'loss_function': 'MAPE', 'learning_rate': 0.05368113187260446, 'l2_leaf_reg': 0.04173189159592234, 'colsample_bylevel': 0.2560910462691543, 'depth': 8, 'boosting_type': 'Plain', 'bootstrap_type': 'Bernoulli', 'min_data_in_leaf': 16, 'one_hot_max_size': 7, 'subsample': 0.46706454779523754}. Best is trial 32 with value: 0.7952740153746174.\u001b[0m\n",
      "\u001b[32m[I 2021-12-27 21:30:54,731]\u001b[0m Trial 35 finished with value: 0.7865742130883614 and parameters: {'iterations': 2038, 'loss_function': 'RMSE', 'learning_rate': 0.02046180427412504, 'l2_leaf_reg': 0.01802014301400167, 'colsample_bylevel': 0.1689718799579359, 'depth': 9, 'boosting_type': 'Plain', 'bootstrap_type': 'Bayesian', 'min_data_in_leaf': 14, 'one_hot_max_size': 4, 'bagging_temperature': 6.56939101412497}. Best is trial 32 with value: 0.7952740153746174.\u001b[0m\n",
      "\u001b[32m[I 2021-12-27 21:31:28,885]\u001b[0m Trial 36 finished with value: 0.7926677941893872 and parameters: {'iterations': 1665, 'loss_function': 'RMSE', 'learning_rate': 0.046367787032554966, 'l2_leaf_reg': 0.028790865713212557, 'colsample_bylevel': 0.41529132803477176, 'depth': 9, 'boosting_type': 'Plain', 'bootstrap_type': 'Bernoulli', 'min_data_in_leaf': 19, 'one_hot_max_size': 9, 'subsample': 0.9478036630465039}. Best is trial 32 with value: 0.7952740153746174.\u001b[0m\n",
      "\u001b[32m[I 2021-12-27 21:31:42,477]\u001b[0m Trial 37 finished with value: 0.2755413580657684 and parameters: {'iterations': 1248, 'loss_function': 'MAPE', 'learning_rate': 0.0027285597227229416, 'l2_leaf_reg': 0.1295039128350488, 'colsample_bylevel': 0.2925374903191058, 'depth': 8, 'boosting_type': 'Plain', 'bootstrap_type': 'MVS', 'min_data_in_leaf': 20, 'one_hot_max_size': 6}. Best is trial 32 with value: 0.7952740153746174.\u001b[0m\n",
      "\u001b[32m[I 2021-12-27 21:31:51,625]\u001b[0m Trial 38 finished with value: 0.7735052177027633 and parameters: {'iterations': 2344, 'loss_function': 'RMSE', 'learning_rate': 0.004523733329857321, 'l2_leaf_reg': 0.03961454953891436, 'colsample_bylevel': 0.07287884166868508, 'depth': 7, 'boosting_type': 'Plain', 'bootstrap_type': 'Bayesian', 'min_data_in_leaf': 18, 'one_hot_max_size': 2, 'bagging_temperature': 6.26904522496265}. Best is trial 32 with value: 0.7952740153746174.\u001b[0m\n",
      "\u001b[32m[I 2021-12-27 21:32:06,760]\u001b[0m Trial 39 finished with value: 0.5305950536985785 and parameters: {'iterations': 4286, 'loss_function': 'MAPE', 'learning_rate': 0.09905661477462145, 'l2_leaf_reg': 0.014096383736414935, 'colsample_bylevel': 0.4579604217914024, 'depth': 5, 'boosting_type': 'Plain', 'bootstrap_type': 'Bernoulli', 'min_data_in_leaf': 18, 'one_hot_max_size': 5, 'subsample': 0.6766332569488694}. Best is trial 32 with value: 0.7952740153746174.\u001b[0m\n",
      "\u001b[32m[I 2021-12-27 21:33:12,265]\u001b[0m Trial 40 finished with value: 0.7920173103933394 and parameters: {'iterations': 3196, 'loss_function': 'RMSE', 'learning_rate': 0.03566088463662395, 'l2_leaf_reg': 0.02611409053023268, 'colsample_bylevel': 0.24126775171599857, 'depth': 8, 'boosting_type': 'Ordered', 'bootstrap_type': 'MVS', 'min_data_in_leaf': 13, 'one_hot_max_size': 10}. Best is trial 32 with value: 0.7952740153746174.\u001b[0m\n",
      "\u001b[32m[I 2021-12-27 21:34:06,403]\u001b[0m Trial 41 finished with value: 0.7943373008943688 and parameters: {'iterations': 4916, 'loss_function': 'RMSE', 'learning_rate': 0.01574031319481229, 'l2_leaf_reg': 0.04509255585903239, 'colsample_bylevel': 0.21099923167824142, 'depth': 10, 'boosting_type': 'Plain', 'bootstrap_type': 'Bernoulli', 'min_data_in_leaf': 20, 'one_hot_max_size': 15, 'subsample': 0.7327775531890821}. Best is trial 32 with value: 0.7952740153746174.\u001b[0m\n",
      "\u001b[32m[I 2021-12-27 21:35:00,892]\u001b[0m Trial 42 finished with value: 0.7949560997566267 and parameters: {'iterations': 4706, 'loss_function': 'RMSE', 'learning_rate': 0.019464440886137406, 'l2_leaf_reg': 0.07824949595474201, 'colsample_bylevel': 0.16884462736623465, 'depth': 9, 'boosting_type': 'Plain', 'bootstrap_type': 'Bernoulli', 'min_data_in_leaf': 20, 'one_hot_max_size': 8, 'subsample': 0.7191751644992894}. Best is trial 32 with value: 0.7952740153746174.\u001b[0m\n",
      "\u001b[32m[I 2021-12-27 21:35:49,823]\u001b[0m Trial 43 finished with value: 0.7950831285151609 and parameters: {'iterations': 4621, 'loss_function': 'RMSE', 'learning_rate': 0.008476306701204837, 'l2_leaf_reg': 0.07977186927580779, 'colsample_bylevel': 0.15227411089265608, 'depth': 9, 'boosting_type': 'Plain', 'bootstrap_type': 'Bernoulli', 'min_data_in_leaf': 19, 'one_hot_max_size': 8, 'subsample': 0.5149645219200949}. Best is trial 32 with value: 0.7952740153746174.\u001b[0m\n",
      "\u001b[32m[I 2021-12-27 21:36:30,216]\u001b[0m Trial 44 finished with value: 0.794775015334475 and parameters: {'iterations': 4574, 'loss_function': 'RMSE', 'learning_rate': 0.0074529045890869075, 'l2_leaf_reg': 0.09800649484565829, 'colsample_bylevel': 0.32343617211676806, 'depth': 8, 'boosting_type': 'Plain', 'bootstrap_type': 'Bernoulli', 'min_data_in_leaf': 16, 'one_hot_max_size': 9, 'subsample': 0.5214675146105593}. Best is trial 32 with value: 0.7952740153746174.\u001b[0m\n",
      "\u001b[32m[I 2021-12-27 21:38:46,163]\u001b[0m Trial 45 finished with value: 0.5985860850985982 and parameters: {'iterations': 4636, 'loss_function': 'RMSE', 'learning_rate': 0.00017994804089378524, 'l2_leaf_reg': 0.03446845867048516, 'colsample_bylevel': 0.15846224466557596, 'depth': 9, 'boosting_type': 'Ordered', 'bootstrap_type': 'Bernoulli', 'min_data_in_leaf': 10, 'one_hot_max_size': 8, 'subsample': 0.8839420156420013}. Best is trial 32 with value: 0.7952740153746174.\u001b[0m\n",
      "\u001b[32m[I 2021-12-27 21:38:51,701]\u001b[0m Trial 46 finished with value: 0.7815530865642718 and parameters: {'iterations': 824, 'loss_function': 'RMSE', 'learning_rate': 0.01188771498775963, 'l2_leaf_reg': 0.11230252712989322, 'colsample_bylevel': 0.3655376895614012, 'depth': 6, 'boosting_type': 'Plain', 'bootstrap_type': 'Bernoulli', 'min_data_in_leaf': 19, 'one_hot_max_size': 10, 'subsample': 0.6772506475042204}. Best is trial 32 with value: 0.7952740153746174.\u001b[0m\n",
      "\u001b[32m[I 2021-12-27 21:39:16,265]\u001b[0m Trial 47 finished with value: 0.5927244616454604 and parameters: {'iterations': 4793, 'loss_function': 'MAPE', 'learning_rate': 0.06356921061289553, 'l2_leaf_reg': 0.14877383283859436, 'colsample_bylevel': 0.05499783198331401, 'depth': 9, 'boosting_type': 'Plain', 'bootstrap_type': 'Bernoulli', 'min_data_in_leaf': 18, 'one_hot_max_size': 5, 'subsample': 0.37359814657848706}. Best is trial 32 with value: 0.7952740153746174.\u001b[0m\n",
      "\u001b[32m[I 2021-12-27 21:39:34,178]\u001b[0m Trial 48 finished with value: 0.7871785702507135 and parameters: {'iterations': 4116, 'loss_function': 'RMSE', 'learning_rate': 0.009583526506398064, 'l2_leaf_reg': 0.025917596911999595, 'colsample_bylevel': 0.14312293581914723, 'depth': 4, 'boosting_type': 'Ordered', 'bootstrap_type': 'Bernoulli', 'min_data_in_leaf': 19, 'one_hot_max_size': 8, 'subsample': 0.5640907055050952}. Best is trial 32 with value: 0.7952740153746174.\u001b[0m\n",
      "\u001b[32m[I 2021-12-27 21:40:30,817]\u001b[0m Trial 49 finished with value: 0.7872747455134196 and parameters: {'iterations': 4437, 'loss_function': 'RMSE', 'learning_rate': 0.0023447489290689977, 'l2_leaf_reg': 0.05735788659117108, 'colsample_bylevel': 0.9308880502458765, 'depth': 8, 'boosting_type': 'Plain', 'bootstrap_type': 'Bernoulli', 'min_data_in_leaf': 16, 'one_hot_max_size': 9, 'subsample': 0.7149234235758791}. Best is trial 32 with value: 0.7952740153746174.\u001b[0m\n",
      "\u001b[32m[I 2021-12-27 21:40:30,821]\u001b[0m A new study created in memory with name: no-name-f2373437-7d9f-455d-94c7-312ab52a8be7\u001b[0m\n",
      "\u001b[32m[I 2021-12-27 21:40:40,474]\u001b[0m Trial 0 finished with value: -0.7277372669638522 and parameters: {'iterations': 4004, 'loss_function': 'MAPE', 'learning_rate': 2.0566178544976122e-05, 'l2_leaf_reg': 0.03635451502098171, 'colsample_bylevel': 0.19881902655770356, 'depth': 1, 'boosting_type': 'Plain', 'bootstrap_type': 'Bernoulli', 'min_data_in_leaf': 20, 'one_hot_max_size': 2, 'subsample': 0.9802225003475168}. Best is trial 0 with value: -0.7277372669638522.\u001b[0m\n",
      "\u001b[32m[I 2021-12-27 21:40:50,853]\u001b[0m Trial 1 finished with value: 0.7293292650030048 and parameters: {'iterations': 2679, 'loss_function': 'RMSE', 'learning_rate': 0.0006722001737383456, 'l2_leaf_reg': 0.23824278522806236, 'colsample_bylevel': 0.8383146164991302, 'depth': 5, 'boosting_type': 'Plain', 'bootstrap_type': 'MVS', 'min_data_in_leaf': 6, 'one_hot_max_size': 8}. Best is trial 1 with value: 0.7293292650030048.\u001b[0m\n",
      "\u001b[32m[I 2021-12-27 21:40:57,951]\u001b[0m Trial 2 finished with value: 0.25335787030717327 and parameters: {'iterations': 3286, 'loss_function': 'RMSE', 'learning_rate': 7.51335394690185e-05, 'l2_leaf_reg': 0.22315371008702484, 'colsample_bylevel': 0.16469088903594722, 'depth': 3, 'boosting_type': 'Plain', 'bootstrap_type': 'Bayesian', 'min_data_in_leaf': 16, 'one_hot_max_size': 11, 'bagging_temperature': 4.36634862691622}. Best is trial 1 with value: 0.7293292650030048.\u001b[0m\n",
      "\u001b[32m[I 2021-12-27 21:41:08,095]\u001b[0m Trial 3 finished with value: 0.4037941382677272 and parameters: {'iterations': 2329, 'loss_function': 'MAPE', 'learning_rate': 0.010189631701427955, 'l2_leaf_reg': 0.18015724134693725, 'colsample_bylevel': 0.8288878436333152, 'depth': 5, 'boosting_type': 'Plain', 'bootstrap_type': 'Bayesian', 'min_data_in_leaf': 14, 'one_hot_max_size': 14, 'bagging_temperature': 3.469127284531938}. Best is trial 1 with value: 0.7293292650030048.\u001b[0m\n",
      "\u001b[32m[I 2021-12-27 21:41:09,619]\u001b[0m Trial 4 finished with value: -0.7273304371810385 and parameters: {'iterations': 50, 'loss_function': 'MAPE', 'learning_rate': 1.285442251717441e-05, 'l2_leaf_reg': 0.013404529398587483, 'colsample_bylevel': 0.4551024006630724, 'depth': 4, 'boosting_type': 'Plain', 'bootstrap_type': 'Bernoulli', 'min_data_in_leaf': 2, 'one_hot_max_size': 13, 'subsample': 0.6626485829067644}. Best is trial 1 with value: 0.7293292650030048.\u001b[0m\n",
      "\u001b[32m[I 2021-12-27 21:41:20,191]\u001b[0m Trial 5 finished with value: 0.37563319922447364 and parameters: {'iterations': 3929, 'loss_function': 'MAPE', 'learning_rate': 0.03934139259139376, 'l2_leaf_reg': 0.06212647557317756, 'colsample_bylevel': 0.30814560500022176, 'depth': 3, 'boosting_type': 'Plain', 'bootstrap_type': 'Bernoulli', 'min_data_in_leaf': 9, 'one_hot_max_size': 18, 'subsample': 0.9054777389689788}. Best is trial 1 with value: 0.7293292650030048.\u001b[0m\n",
      "\u001b[32m[I 2021-12-27 21:42:06,710]\u001b[0m Trial 6 finished with value: 0.41937919432288356 and parameters: {'iterations': 4629, 'loss_function': 'MAPE', 'learning_rate': 0.00286195689411841, 'l2_leaf_reg': 0.24549136997969084, 'colsample_bylevel': 0.1795048253203248, 'depth': 10, 'boosting_type': 'Plain', 'bootstrap_type': 'Bayesian', 'min_data_in_leaf': 13, 'one_hot_max_size': 18, 'bagging_temperature': 9.456380733890922}. Best is trial 1 with value: 0.7293292650030048.\u001b[0m\n",
      "\u001b[32m[I 2021-12-27 21:42:11,967]\u001b[0m Trial 7 finished with value: 0.3568488801129218 and parameters: {'iterations': 801, 'loss_function': 'MAPE', 'learning_rate': 0.01244622954471392, 'l2_leaf_reg': 0.6169275383497616, 'colsample_bylevel': 0.26642839804993645, 'depth': 5, 'boosting_type': 'Plain', 'bootstrap_type': 'MVS', 'min_data_in_leaf': 18, 'one_hot_max_size': 13}. Best is trial 1 with value: 0.7293292650030048.\u001b[0m\n",
      "\u001b[32m[I 2021-12-27 21:42:28,001]\u001b[0m Trial 8 finished with value: 0.787637982900941 and parameters: {'iterations': 4780, 'loss_function': 'RMSE', 'learning_rate': 0.013269566691373894, 'l2_leaf_reg': 0.44495082586370294, 'colsample_bylevel': 0.050193090038262514, 'depth': 8, 'boosting_type': 'Plain', 'bootstrap_type': 'Bayesian', 'min_data_in_leaf': 16, 'one_hot_max_size': 10, 'bagging_temperature': 8.622443912868755}. Best is trial 8 with value: 0.787637982900941.\u001b[0m\n",
      "\u001b[32m[I 2021-12-27 21:42:41,211]\u001b[0m Trial 9 finished with value: 0.5135204264737456 and parameters: {'iterations': 3223, 'loss_function': 'MAPE', 'learning_rate': 0.06403262809919662, 'l2_leaf_reg': 0.04791800915230177, 'colsample_bylevel': 0.9908913965522376, 'depth': 1, 'boosting_type': 'Ordered', 'bootstrap_type': 'Bayesian', 'min_data_in_leaf': 2, 'one_hot_max_size': 14, 'bagging_temperature': 8.011786159625142}. Best is trial 8 with value: 0.787637982900941.\u001b[0m\n",
      "\u001b[32m[I 2021-12-27 21:43:36,163]\u001b[0m Trial 10 finished with value: 0.7415485936948993 and parameters: {'iterations': 4938, 'loss_function': 'RMSE', 'learning_rate': 0.0005262714054066778, 'l2_leaf_reg': 0.6067437369682841, 'colsample_bylevel': 0.051641780867515655, 'depth': 9, 'boosting_type': 'Ordered', 'bootstrap_type': 'Bayesian', 'min_data_in_leaf': 10, 'one_hot_max_size': 5, 'bagging_temperature': 0.7077504045907048}. Best is trial 8 with value: 0.787637982900941.\u001b[0m\n",
      "\u001b[32m[I 2021-12-27 21:43:45,406]\u001b[0m Trial 11 finished with value: 0.36343450886521766 and parameters: {'iterations': 4942, 'loss_function': 'RMSE', 'learning_rate': 0.00039071995191160226, 'l2_leaf_reg': 0.7080481553589673, 'colsample_bylevel': 0.011847200591089728, 'depth': 9, 'boosting_type': 'Ordered', 'bootstrap_type': 'Bayesian', 'min_data_in_leaf': 10, 'one_hot_max_size': 5, 'bagging_temperature': 0.27836052470628836}. Best is trial 8 with value: 0.787637982900941.\u001b[0m\n",
      "\u001b[32m[I 2021-12-27 21:43:59,436]\u001b[0m Trial 12 finished with value: 0.7629608341246035 and parameters: {'iterations': 4998, 'loss_function': 'RMSE', 'learning_rate': 0.002223475825508665, 'l2_leaf_reg': 0.9882919994689131, 'colsample_bylevel': 0.027257474366353954, 'depth': 8, 'boosting_type': 'Ordered', 'bootstrap_type': 'Bayesian', 'min_data_in_leaf': 7, 'one_hot_max_size': 7, 'bagging_temperature': 0.009221337063666013}. Best is trial 8 with value: 0.787637982900941.\u001b[0m\n",
      "\u001b[32m[I 2021-12-27 21:45:06,535]\u001b[0m Trial 13 finished with value: 0.7818063255332393 and parameters: {'iterations': 4128, 'loss_function': 'RMSE', 'learning_rate': 0.00559553251275618, 'l2_leaf_reg': 0.43374712272461774, 'colsample_bylevel': 0.4280515546034946, 'depth': 7, 'boosting_type': 'Ordered', 'bootstrap_type': 'Bayesian', 'min_data_in_leaf': 6, 'one_hot_max_size': 9, 'bagging_temperature': 6.777082629653381}. Best is trial 8 with value: 0.787637982900941.\u001b[0m\n",
      "\u001b[32m[I 2021-12-27 21:46:26,182]\u001b[0m Trial 14 finished with value: 0.7837641794204221 and parameters: {'iterations': 4074, 'loss_function': 'RMSE', 'learning_rate': 0.010000479207122184, 'l2_leaf_reg': 0.38751316595679575, 'colsample_bylevel': 0.544472230686503, 'depth': 7, 'boosting_type': 'Ordered', 'bootstrap_type': 'Bayesian', 'min_data_in_leaf': 6, 'one_hot_max_size': 10, 'bagging_temperature': 7.640911706826467}. Best is trial 8 with value: 0.787637982900941.\u001b[0m\n",
      "\u001b[32m[I 2021-12-27 21:47:09,164]\u001b[0m Trial 15 finished with value: 0.7925895278177368 and parameters: {'iterations': 2087, 'loss_function': 'RMSE', 'learning_rate': 0.024885355329669758, 'l2_leaf_reg': 0.11261592117355072, 'colsample_bylevel': 0.6307300028253968, 'depth': 7, 'boosting_type': 'Ordered', 'bootstrap_type': 'MVS', 'min_data_in_leaf': 15, 'one_hot_max_size': 10}. Best is trial 15 with value: 0.7925895278177368.\u001b[0m\n",
      "\u001b[32m[I 2021-12-27 21:47:43,130]\u001b[0m Trial 16 finished with value: 0.7882802518776311 and parameters: {'iterations': 1577, 'loss_function': 'RMSE', 'learning_rate': 0.08939995841146398, 'l2_leaf_reg': 0.10821367659841832, 'colsample_bylevel': 0.6565661793112421, 'depth': 7, 'boosting_type': 'Ordered', 'bootstrap_type': 'MVS', 'min_data_in_leaf': 15, 'one_hot_max_size': 16}. Best is trial 15 with value: 0.7925895278177368.\u001b[0m\n",
      "\u001b[32m[I 2021-12-27 21:48:16,763]\u001b[0m Trial 17 finished with value: 0.7887323462651432 and parameters: {'iterations': 1528, 'loss_function': 'RMSE', 'learning_rate': 0.09385835622547313, 'l2_leaf_reg': 0.10811506054838278, 'colsample_bylevel': 0.6278602420720728, 'depth': 7, 'boosting_type': 'Ordered', 'bootstrap_type': 'MVS', 'min_data_in_leaf': 13, 'one_hot_max_size': 16}. Best is trial 15 with value: 0.7925895278177368.\u001b[0m\n",
      "\u001b[32m[I 2021-12-27 21:48:59,618]\u001b[0m Trial 18 finished with value: 0.7922149302769471 and parameters: {'iterations': 1624, 'loss_function': 'RMSE', 'learning_rate': 0.03621925956168263, 'l2_leaf_reg': 0.10027852447306605, 'colsample_bylevel': 0.6491332068587033, 'depth': 6, 'boosting_type': 'Ordered', 'bootstrap_type': 'MVS', 'min_data_in_leaf': 12, 'one_hot_max_size': 20}. Best is trial 15 with value: 0.7925895278177368.\u001b[0m\n",
      "\u001b[32m[I 2021-12-27 21:49:49,080]\u001b[0m Trial 19 finished with value: 0.7915375143838277 and parameters: {'iterations': 1738, 'loss_function': 'RMSE', 'learning_rate': 0.03175732887514444, 'l2_leaf_reg': 0.032674452582109104, 'colsample_bylevel': 0.7620359268527213, 'depth': 6, 'boosting_type': 'Ordered', 'bootstrap_type': 'MVS', 'min_data_in_leaf': 12, 'one_hot_max_size': 20}. Best is trial 15 with value: 0.7925895278177368.\u001b[0m\n",
      "\u001b[32m[I 2021-12-27 21:50:13,033]\u001b[0m Trial 20 finished with value: 0.1894782749499983 and parameters: {'iterations': 835, 'loss_function': 'RMSE', 'learning_rate': 0.00018696941831725428, 'l2_leaf_reg': 0.01870375891646166, 'colsample_bylevel': 0.7039679673980793, 'depth': 6, 'boosting_type': 'Ordered', 'bootstrap_type': 'MVS', 'min_data_in_leaf': 18, 'one_hot_max_size': 20}. Best is trial 15 with value: 0.7925895278177368.\u001b[0m\n",
      "\u001b[32m[I 2021-12-27 21:51:05,903]\u001b[0m Trial 21 finished with value: 0.7912261920169597 and parameters: {'iterations': 1903, 'loss_function': 'RMSE', 'learning_rate': 0.028680999866645532, 'l2_leaf_reg': 0.07062642972974012, 'colsample_bylevel': 0.7963797610417616, 'depth': 6, 'boosting_type': 'Ordered', 'bootstrap_type': 'MVS', 'min_data_in_leaf': 12, 'one_hot_max_size': 20}. Best is trial 15 with value: 0.7925895278177368.\u001b[0m\n",
      "\u001b[32m[I 2021-12-27 21:51:16,328]\u001b[0m Trial 22 finished with value: 0.7852293932888799 and parameters: {'iterations': 1130, 'loss_function': 'RMSE', 'learning_rate': 0.022455665915046823, 'l2_leaf_reg': 0.02584044380786826, 'colsample_bylevel': 0.5595459321818812, 'depth': 4, 'boosting_type': 'Ordered', 'bootstrap_type': 'MVS', 'min_data_in_leaf': 11, 'one_hot_max_size': 17}. Best is trial 15 with value: 0.7925895278177368.\u001b[0m\n",
      "\u001b[32m[I 2021-12-27 21:52:18,440]\u001b[0m Trial 23 finished with value: 0.7790105041336947 and parameters: {'iterations': 2315, 'loss_function': 'RMSE', 'learning_rate': 0.0033392736830196563, 'l2_leaf_reg': 0.08568534413629351, 'colsample_bylevel': 0.7341798603892408, 'depth': 6, 'boosting_type': 'Ordered', 'bootstrap_type': 'MVS', 'min_data_in_leaf': 8, 'one_hot_max_size': 20}. Best is trial 15 with value: 0.7925895278177368.\u001b[0m\n",
      "\u001b[32m[I 2021-12-27 21:53:56,371]\u001b[0m Trial 24 finished with value: 0.7917111281967063 and parameters: {'iterations': 1896, 'loss_function': 'RMSE', 'learning_rate': 0.04305191671283925, 'l2_leaf_reg': 0.148527793298675, 'colsample_bylevel': 0.9000147914208476, 'depth': 8, 'boosting_type': 'Ordered', 'bootstrap_type': 'MVS', 'min_data_in_leaf': 12, 'one_hot_max_size': 18}. Best is trial 15 with value: 0.7925895278177368.\u001b[0m\n",
      "\u001b[32m[I 2021-12-27 21:55:10,561]\u001b[0m Trial 25 finished with value: 0.7760727455203926 and parameters: {'iterations': 2693, 'loss_function': 'RMSE', 'learning_rate': 0.0017916669714500546, 'l2_leaf_reg': 0.14260045072409647, 'colsample_bylevel': 0.376957102927028, 'depth': 8, 'boosting_type': 'Ordered', 'bootstrap_type': 'MVS', 'min_data_in_leaf': 15, 'one_hot_max_size': 18}. Best is trial 15 with value: 0.7925895278177368.\u001b[0m\n",
      "\u001b[32m[I 2021-12-27 21:59:36,296]\u001b[0m Trial 26 finished with value: 0.7837039520125778 and parameters: {'iterations': 1201, 'loss_function': 'RMSE', 'learning_rate': 0.005946088050310967, 'l2_leaf_reg': 0.15324001957802202, 'colsample_bylevel': 0.932152494276072, 'depth': 10, 'boosting_type': 'Ordered', 'bootstrap_type': 'MVS', 'min_data_in_leaf': 18, 'one_hot_max_size': 15}. Best is trial 15 with value: 0.7925895278177368.\u001b[0m\n",
      "\u001b[32m[I 2021-12-27 22:03:25,425]\u001b[0m Trial 27 finished with value: 0.7919771773435145 and parameters: {'iterations': 2095, 'loss_function': 'RMSE', 'learning_rate': 0.04533533388909921, 'l2_leaf_reg': 0.049373394985979986, 'colsample_bylevel': 0.9174370842384459, 'depth': 9, 'boosting_type': 'Ordered', 'bootstrap_type': 'MVS', 'min_data_in_leaf': 11, 'one_hot_max_size': 6}. Best is trial 15 with value: 0.7925895278177368.\u001b[0m\n",
      "\u001b[32m[I 2021-12-27 22:07:37,254]\u001b[0m Trial 28 finished with value: 0.7931167376916648 and parameters: {'iterations': 3091, 'loss_function': 'RMSE', 'learning_rate': 0.018539398161718127, 'l2_leaf_reg': 0.05806262929226195, 'colsample_bylevel': 0.6358318002664947, 'depth': 9, 'boosting_type': 'Ordered', 'bootstrap_type': 'MVS', 'min_data_in_leaf': 4, 'one_hot_max_size': 6}. Best is trial 28 with value: 0.7931167376916648.\u001b[0m\n",
      "\u001b[32m[I 2021-12-27 22:11:29,284]\u001b[0m Trial 29 finished with value: 0.7935353718068597 and parameters: {'iterations': 3143, 'loss_function': 'RMSE', 'learning_rate': 0.019539543032002445, 'l2_leaf_reg': 0.0371868378193476, 'colsample_bylevel': 0.6020724188349899, 'depth': 9, 'boosting_type': 'Ordered', 'bootstrap_type': 'Bernoulli', 'min_data_in_leaf': 4, 'one_hot_max_size': 3, 'subsample': 0.13917705214939963}. Best is trial 29 with value: 0.7935353718068597.\u001b[0m\n",
      "\u001b[32m[I 2021-12-27 22:18:37,419]\u001b[0m Trial 30 finished with value: 0.7877573433405557 and parameters: {'iterations': 3044, 'loss_function': 'RMSE', 'learning_rate': 0.005564949780658816, 'l2_leaf_reg': 0.030292192269206417, 'colsample_bylevel': 0.5682337486292608, 'depth': 10, 'boosting_type': 'Ordered', 'bootstrap_type': 'Bernoulli', 'min_data_in_leaf': 4, 'one_hot_max_size': 3, 'subsample': 0.10383656924343015}. Best is trial 29 with value: 0.7935353718068597.\u001b[0m\n",
      "\u001b[32m[I 2021-12-27 22:23:02,576]\u001b[0m Trial 31 finished with value: 0.7936642778155562 and parameters: {'iterations': 3562, 'loss_function': 'RMSE', 'learning_rate': 0.019070556772921212, 'l2_leaf_reg': 0.047040518352405906, 'colsample_bylevel': 0.6360834310769407, 'depth': 9, 'boosting_type': 'Ordered', 'bootstrap_type': 'Bernoulli', 'min_data_in_leaf': 4, 'one_hot_max_size': 2, 'subsample': 0.13680811935270887}. Best is trial 31 with value: 0.7936642778155562.\u001b[0m\n",
      "\u001b[32m[I 2021-12-27 22:26:42,154]\u001b[0m Trial 32 finished with value: 0.7935980449141468 and parameters: {'iterations': 3535, 'loss_function': 'RMSE', 'learning_rate': 0.019542490056459562, 'l2_leaf_reg': 0.04553575824828617, 'colsample_bylevel': 0.5040950425855836, 'depth': 9, 'boosting_type': 'Ordered', 'bootstrap_type': 'Bernoulli', 'min_data_in_leaf': 4, 'one_hot_max_size': 2, 'subsample': 0.14676427380335705}. Best is trial 31 with value: 0.7936642778155562.\u001b[0m\n",
      "\u001b[32m[I 2021-12-27 22:30:15,065]\u001b[0m Trial 33 finished with value: 0.7716027234366786 and parameters: {'iterations': 3637, 'loss_function': 'RMSE', 'learning_rate': 0.0013075924876191085, 'l2_leaf_reg': 0.04493374680863467, 'colsample_bylevel': 0.4700054688613947, 'depth': 9, 'boosting_type': 'Ordered', 'bootstrap_type': 'Bernoulli', 'min_data_in_leaf': 4, 'one_hot_max_size': 2, 'subsample': 0.10538867968574556}. Best is trial 31 with value: 0.7936642778155562.\u001b[0m\n",
      "\u001b[32m[I 2021-12-27 22:36:37,989]\u001b[0m Trial 34 finished with value: 0.7942986929015665 and parameters: {'iterations': 2939, 'loss_function': 'RMSE', 'learning_rate': 0.018173568278627813, 'l2_leaf_reg': 0.021454779890800246, 'colsample_bylevel': 0.519919156044881, 'depth': 10, 'boosting_type': 'Ordered', 'bootstrap_type': 'Bernoulli', 'min_data_in_leaf': 4, 'one_hot_max_size': 3, 'subsample': 0.29674350014195855}. Best is trial 34 with value: 0.7942986929015665.\u001b[0m\n",
      "\u001b[32m[I 2021-12-27 22:42:50,861]\u001b[0m Trial 35 finished with value: 0.7921978165444655 and parameters: {'iterations': 3486, 'loss_function': 'RMSE', 'learning_rate': 0.007596109545979038, 'l2_leaf_reg': 0.010388295759619654, 'colsample_bylevel': 0.39470820847803345, 'depth': 10, 'boosting_type': 'Ordered', 'bootstrap_type': 'Bernoulli', 'min_data_in_leaf': 3, 'one_hot_max_size': 3, 'subsample': 0.25724130747187157}. Best is trial 34 with value: 0.7942986929015665.\u001b[0m\n",
      "\u001b[32m[I 2021-12-27 22:49:10,633]\u001b[0m Trial 36 finished with value: -0.37724081550181326 and parameters: {'iterations': 2776, 'loss_function': 'MAPE', 'learning_rate': 9.025643928960393e-05, 'l2_leaf_reg': 0.01970784267830345, 'colsample_bylevel': 0.5403800718357262, 'depth': 10, 'boosting_type': 'Ordered', 'bootstrap_type': 'Bernoulli', 'min_data_in_leaf': 5, 'one_hot_max_size': 2, 'subsample': 0.3082013728306414}. Best is trial 34 with value: 0.7942986929015665.\u001b[0m\n",
      "\u001b[32m[I 2021-12-27 22:50:30,503]\u001b[0m Trial 37 finished with value: 0.7945178672655664 and parameters: {'iterations': 3780, 'loss_function': 'RMSE', 'learning_rate': 0.01605089307813926, 'l2_leaf_reg': 0.022195703437331078, 'colsample_bylevel': 0.49129840705155164, 'depth': 9, 'boosting_type': 'Plain', 'bootstrap_type': 'Bernoulli', 'min_data_in_leaf': 3, 'one_hot_max_size': 4, 'subsample': 0.2921500542737735}. Best is trial 37 with value: 0.7945178672655664.\u001b[0m\n",
      "\u001b[32m[I 2021-12-27 22:51:18,904]\u001b[0m Trial 38 finished with value: 0.3073112943628014 and parameters: {'iterations': 4306, 'loss_function': 'MAPE', 'learning_rate': 0.0009372835333757224, 'l2_leaf_reg': 0.021617694492608846, 'colsample_bylevel': 0.47753261587337226, 'depth': 8, 'boosting_type': 'Plain', 'bootstrap_type': 'Bernoulli', 'min_data_in_leaf': 2, 'one_hot_max_size': 4, 'subsample': 0.37699131560055926}. Best is trial 37 with value: 0.7945178672655664.\u001b[0m\n",
      "\u001b[32m[I 2021-12-27 22:52:05,206]\u001b[0m Trial 39 finished with value: 0.7896141277615449 and parameters: {'iterations': 3704, 'loss_function': 'RMSE', 'learning_rate': 0.003525652883445254, 'l2_leaf_reg': 0.015103138954461921, 'colsample_bylevel': 0.3328215825311409, 'depth': 10, 'boosting_type': 'Plain', 'bootstrap_type': 'Bernoulli', 'min_data_in_leaf': 7, 'one_hot_max_size': 4, 'subsample': 0.45261200294387793}. Best is trial 37 with value: 0.7945178672655664.\u001b[0m\n",
      "\u001b[32m[I 2021-12-27 22:53:09,406]\u001b[0m Trial 40 finished with value: 0.5353150028093643 and parameters: {'iterations': 4496, 'loss_function': 'MAPE', 'learning_rate': 0.014901366977110628, 'l2_leaf_reg': 0.025008723263560777, 'colsample_bylevel': 0.25714141737437124, 'depth': 9, 'boosting_type': 'Plain', 'bootstrap_type': 'Bernoulli', 'min_data_in_leaf': 3, 'one_hot_max_size': 2, 'subsample': 0.24227846919786955}. Best is trial 37 with value: 0.7945178672655664.\u001b[0m\n",
      "\u001b[32m[I 2021-12-27 22:54:28,495]\u001b[0m Trial 41 finished with value: 0.7927253390884144 and parameters: {'iterations': 3827, 'loss_function': 'RMSE', 'learning_rate': 0.009033646640564922, 'l2_leaf_reg': 0.038309147127740965, 'colsample_bylevel': 0.5142449780538375, 'depth': 9, 'boosting_type': 'Plain', 'bootstrap_type': 'Bernoulli', 'min_data_in_leaf': 5, 'one_hot_max_size': 3, 'subsample': 0.1738043836769843}. Best is trial 37 with value: 0.7945178672655664.\u001b[0m\n",
      "\u001b[32m[I 2021-12-27 22:55:08,939]\u001b[0m Trial 42 finished with value: 0.7898205080538411 and parameters: {'iterations': 3383, 'loss_function': 'RMSE', 'learning_rate': 0.05613504375116709, 'l2_leaf_reg': 0.014678310736370187, 'colsample_bylevel': 0.5889466281627989, 'depth': 8, 'boosting_type': 'Plain', 'bootstrap_type': 'Bernoulli', 'min_data_in_leaf': 3, 'one_hot_max_size': 4, 'subsample': 0.189766065721384}. Best is trial 37 with value: 0.7945178672655664.\u001b[0m\n",
      "\u001b[32m[I 2021-12-27 22:55:48,899]\u001b[0m Trial 43 finished with value: 0.7902025451517852 and parameters: {'iterations': 2811, 'loss_function': 'RMSE', 'learning_rate': 0.01693873241168651, 'l2_leaf_reg': 0.03869907274275813, 'colsample_bylevel': 0.44057618464225473, 'depth': 10, 'boosting_type': 'Plain', 'bootstrap_type': 'Bernoulli', 'min_data_in_leaf': 5, 'one_hot_max_size': 5, 'subsample': 0.1051023568596863}. Best is trial 37 with value: 0.7945178672655664.\u001b[0m\n",
      "\u001b[32m[I 2021-12-27 22:57:06,533]\u001b[0m Trial 44 finished with value: 0.7943033696905785 and parameters: {'iterations': 3055, 'loss_function': 'RMSE', 'learning_rate': 0.01425358456200735, 'l2_leaf_reg': 0.028169079782768704, 'colsample_bylevel': 0.7008656067283959, 'depth': 9, 'boosting_type': 'Plain', 'bootstrap_type': 'Bernoulli', 'min_data_in_leaf': 2, 'one_hot_max_size': 3, 'subsample': 0.35641054654269744}. Best is trial 37 with value: 0.7945178672655664.\u001b[0m\n",
      "\u001b[32m[I 2021-12-27 22:58:15,474]\u001b[0m Trial 45 finished with value: 0.7928108956245552 and parameters: {'iterations': 3581, 'loss_function': 'RMSE', 'learning_rate': 0.011826527600083774, 'l2_leaf_reg': 0.010817377429747992, 'colsample_bylevel': 0.6962973388302254, 'depth': 10, 'boosting_type': 'Plain', 'bootstrap_type': 'Bernoulli', 'min_data_in_leaf': 2, 'one_hot_max_size': 7, 'subsample': 0.3754106046096545}. Best is trial 37 with value: 0.7945178672655664.\u001b[0m\n",
      "\u001b[32m[I 2021-12-27 22:58:22,667]\u001b[0m Trial 46 finished with value: -0.42886862657856184 and parameters: {'iterations': 2421, 'loss_function': 'MAPE', 'learning_rate': 0.004005019606879381, 'l2_leaf_reg': 0.02706857653599346, 'colsample_bylevel': 0.507571702520761, 'depth': 2, 'boosting_type': 'Plain', 'bootstrap_type': 'Bernoulli', 'min_data_in_leaf': 7, 'one_hot_max_size': 2, 'subsample': 0.5313380025233738}. Best is trial 37 with value: 0.7945178672655664.\u001b[0m\n",
      "\u001b[32m[I 2021-12-27 22:59:09,765]\u001b[0m Trial 47 finished with value: 0.16679287520917402 and parameters: {'iterations': 3330, 'loss_function': 'RMSE', 'learning_rate': 4.032953845535701e-05, 'l2_leaf_reg': 0.06898190485739303, 'colsample_bylevel': 0.8401629341323671, 'depth': 8, 'boosting_type': 'Plain', 'bootstrap_type': 'Bernoulli', 'min_data_in_leaf': 3, 'one_hot_max_size': 4, 'subsample': 0.3104369023262025}. Best is trial 37 with value: 0.7945178672655664.\u001b[0m\n",
      "\u001b[32m[I 2021-12-27 23:00:40,275]\u001b[0m Trial 48 finished with value: 0.7882612400490528 and parameters: {'iterations': 3927, 'loss_function': 'RMSE', 'learning_rate': 0.05503977241794431, 'l2_leaf_reg': 0.016134238212519296, 'colsample_bylevel': 0.6848995280102039, 'depth': 9, 'boosting_type': 'Plain', 'bootstrap_type': 'Bernoulli', 'min_data_in_leaf': 6, 'one_hot_max_size': 5, 'subsample': 0.23413707718678617}. Best is trial 37 with value: 0.7945178672655664.\u001b[0m\n",
      "\u001b[32m[I 2021-12-27 23:01:12,901]\u001b[0m Trial 49 finished with value: 0.792812181446952 and parameters: {'iterations': 2936, 'loss_function': 'RMSE', 'learning_rate': 0.007778890676061431, 'l2_leaf_reg': 0.021662695361934273, 'colsample_bylevel': 0.488160967513991, 'depth': 8, 'boosting_type': 'Plain', 'bootstrap_type': 'Bernoulli', 'min_data_in_leaf': 2, 'one_hot_max_size': 6, 'subsample': 0.40724622253121584}. Best is trial 37 with value: 0.7945178672655664.\u001b[0m\n"
     ]
    },
    {
     "name": "stdout",
     "output_type": "stream",
     "text": [
      "========== Starting Study for sps ==========\n"
     ]
    },
    {
     "name": "stderr",
     "output_type": "stream",
     "text": [
      "\u001b[32m[I 2021-12-27 23:01:13,147]\u001b[0m A new study created in memory with name: no-name-788b9e74-5d53-4bec-bac2-ba65d3f11f5b\u001b[0m\n"
     ]
    },
    {
     "name": "stdout",
     "output_type": "stream",
     "text": [
      "INFO | Split Data X, y ...\n",
      "INFO | Train-Test Split ...\n",
      "INFO | Tune Model ...\n"
     ]
    },
    {
     "name": "stderr",
     "output_type": "stream",
     "text": [
      "\u001b[32m[I 2021-12-27 23:01:46,489]\u001b[0m Trial 0 finished with value: 0.8062781520169295 and parameters: {'iterations': 3296, 'loss_function': 'RMSE', 'learning_rate': 0.0017340802779383976, 'l2_leaf_reg': 0.14630867930403296, 'colsample_bylevel': 0.5025160124418568, 'depth': 7, 'boosting_type': 'Plain', 'bootstrap_type': 'Bayesian', 'min_data_in_leaf': 13, 'one_hot_max_size': 15, 'bagging_temperature': 0.10759932817057338}. Best is trial 0 with value: 0.8062781520169295.\u001b[0m\n",
      "\u001b[32m[I 2021-12-27 23:01:54,485]\u001b[0m Trial 1 finished with value: -0.5710435002102219 and parameters: {'iterations': 4305, 'loss_function': 'MAPE', 'learning_rate': 0.0002410240981519678, 'l2_leaf_reg': 0.26859073834910546, 'colsample_bylevel': 0.8266015483644044, 'depth': 1, 'boosting_type': 'Plain', 'bootstrap_type': 'Bayesian', 'min_data_in_leaf': 17, 'one_hot_max_size': 14, 'bagging_temperature': 6.059981433366564}. Best is trial 0 with value: 0.8062781520169295.\u001b[0m\n",
      "\u001b[32m[I 2021-12-27 23:03:05,416]\u001b[0m Trial 2 finished with value: 0.8124787043423491 and parameters: {'iterations': 2947, 'loss_function': 'RMSE', 'learning_rate': 0.0032372209465411097, 'l2_leaf_reg': 0.09793545039189636, 'colsample_bylevel': 0.5687867500764545, 'depth': 7, 'boosting_type': 'Ordered', 'bootstrap_type': 'MVS', 'min_data_in_leaf': 8, 'one_hot_max_size': 10}. Best is trial 2 with value: 0.8124787043423491.\u001b[0m\n",
      "\u001b[32m[I 2021-12-27 23:03:15,085]\u001b[0m Trial 3 finished with value: 0.8187145259221307 and parameters: {'iterations': 3201, 'loss_function': 'RMSE', 'learning_rate': 0.03221983604477737, 'l2_leaf_reg': 0.4651607114887736, 'colsample_bylevel': 0.038733785214091564, 'depth': 3, 'boosting_type': 'Ordered', 'bootstrap_type': 'MVS', 'min_data_in_leaf': 20, 'one_hot_max_size': 14}. Best is trial 3 with value: 0.8187145259221307.\u001b[0m\n",
      "\u001b[32m[I 2021-12-27 23:03:31,634]\u001b[0m Trial 4 finished with value: -0.12814512913450188 and parameters: {'iterations': 3989, 'loss_function': 'MAPE', 'learning_rate': 0.004857074211747985, 'l2_leaf_reg': 0.11215983870847376, 'colsample_bylevel': 0.8395000483594818, 'depth': 2, 'boosting_type': 'Ordered', 'bootstrap_type': 'Bayesian', 'min_data_in_leaf': 8, 'one_hot_max_size': 18, 'bagging_temperature': 5.060699888696662}. Best is trial 3 with value: 0.8187145259221307.\u001b[0m\n",
      "\u001b[32m[I 2021-12-27 23:03:35,411]\u001b[0m Trial 5 finished with value: -0.569859246764192 and parameters: {'iterations': 635, 'loss_function': 'MAPE', 'learning_rate': 1.7320869454799176e-05, 'l2_leaf_reg': 0.012318253180135843, 'colsample_bylevel': 0.018984073634807884, 'depth': 10, 'boosting_type': 'Plain', 'bootstrap_type': 'Bayesian', 'min_data_in_leaf': 7, 'one_hot_max_size': 5, 'bagging_temperature': 0.9537176113370094}. Best is trial 3 with value: 0.8187145259221307.\u001b[0m\n",
      "\u001b[32m[I 2021-12-27 23:03:51,644]\u001b[0m Trial 6 finished with value: 0.6183959762598039 and parameters: {'iterations': 2118, 'loss_function': 'MAPE', 'learning_rate': 0.023230485507126537, 'l2_leaf_reg': 0.012272846948065701, 'colsample_bylevel': 0.9672990987512555, 'depth': 6, 'boosting_type': 'Plain', 'bootstrap_type': 'MVS', 'min_data_in_leaf': 5, 'one_hot_max_size': 13}. Best is trial 3 with value: 0.8187145259221307.\u001b[0m\n",
      "\u001b[32m[I 2021-12-27 23:04:02,356]\u001b[0m Trial 7 finished with value: -0.5074760686246244 and parameters: {'iterations': 1274, 'loss_function': 'MAPE', 'learning_rate': 0.00017267930205703113, 'l2_leaf_reg': 0.336591020254489, 'colsample_bylevel': 0.9310766534812365, 'depth': 6, 'boosting_type': 'Plain', 'bootstrap_type': 'MVS', 'min_data_in_leaf': 19, 'one_hot_max_size': 4}. Best is trial 3 with value: 0.8187145259221307.\u001b[0m\n",
      "\u001b[32m[I 2021-12-27 23:07:31,985]\u001b[0m Trial 8 finished with value: -0.5188514174787262 and parameters: {'iterations': 4999, 'loss_function': 'MAPE', 'learning_rate': 1.3471894455372896e-05, 'l2_leaf_reg': 0.22408258117077529, 'colsample_bylevel': 0.18178412822861373, 'depth': 9, 'boosting_type': 'Ordered', 'bootstrap_type': 'Bernoulli', 'min_data_in_leaf': 13, 'one_hot_max_size': 19, 'subsample': 0.9448107552375756}. Best is trial 3 with value: 0.8187145259221307.\u001b[0m\n",
      "\u001b[32m[I 2021-12-27 23:07:35,021]\u001b[0m Trial 9 finished with value: 0.03614435504697124 and parameters: {'iterations': 340, 'loss_function': 'RMSE', 'learning_rate': 0.00012316129535908837, 'l2_leaf_reg': 0.012309701640531317, 'colsample_bylevel': 0.40935334719312744, 'depth': 1, 'boosting_type': 'Ordered', 'bootstrap_type': 'Bernoulli', 'min_data_in_leaf': 6, 'one_hot_max_size': 11, 'subsample': 0.5338874900228718}. Best is trial 3 with value: 0.8187145259221307.\u001b[0m\n",
      "\u001b[32m[I 2021-12-27 23:07:45,338]\u001b[0m Trial 10 finished with value: 0.8193461059902246 and parameters: {'iterations': 2061, 'loss_function': 'RMSE', 'learning_rate': 0.08567112087911773, 'l2_leaf_reg': 0.7002820978075296, 'colsample_bylevel': 0.2759114914182357, 'depth': 3, 'boosting_type': 'Ordered', 'bootstrap_type': 'MVS', 'min_data_in_leaf': 20, 'one_hot_max_size': 8}. Best is trial 10 with value: 0.8193461059902246.\u001b[0m\n",
      "\u001b[32m[I 2021-12-27 23:07:54,940]\u001b[0m Trial 11 finished with value: 0.8203223555734634 and parameters: {'iterations': 2078, 'loss_function': 'RMSE', 'learning_rate': 0.06672911767521696, 'l2_leaf_reg': 0.5635077258233046, 'colsample_bylevel': 0.2329968232051422, 'depth': 3, 'boosting_type': 'Ordered', 'bootstrap_type': 'MVS', 'min_data_in_leaf': 19, 'one_hot_max_size': 8}. Best is trial 11 with value: 0.8203223555734634.\u001b[0m\n",
      "\u001b[32m[I 2021-12-27 23:08:10,054]\u001b[0m Trial 12 finished with value: 0.8232941266651388 and parameters: {'iterations': 1908, 'loss_function': 'RMSE', 'learning_rate': 0.09143692092562343, 'l2_leaf_reg': 0.992457353136109, 'colsample_bylevel': 0.29019424575868596, 'depth': 4, 'boosting_type': 'Ordered', 'bootstrap_type': 'MVS', 'min_data_in_leaf': 16, 'one_hot_max_size': 8}. Best is trial 12 with value: 0.8232941266651388.\u001b[0m\n",
      "\u001b[32m[I 2021-12-27 23:08:22,039]\u001b[0m Trial 13 finished with value: 0.8105873351652946 and parameters: {'iterations': 1451, 'loss_function': 'RMSE', 'learning_rate': 0.013262615145239735, 'l2_leaf_reg': 0.9589741812821571, 'colsample_bylevel': 0.3026114563488225, 'depth': 4, 'boosting_type': 'Ordered', 'bootstrap_type': 'MVS', 'min_data_in_leaf': 16, 'one_hot_max_size': 7}. Best is trial 12 with value: 0.8232941266651388.\u001b[0m\n",
      "\u001b[32m[I 2021-12-27 23:08:30,677]\u001b[0m Trial 14 finished with value: 0.8211937314703777 and parameters: {'iterations': 1407, 'loss_function': 'RMSE', 'learning_rate': 0.09975888967822191, 'l2_leaf_reg': 0.06001955515197547, 'colsample_bylevel': 0.16572407011977058, 'depth': 4, 'boosting_type': 'Ordered', 'bootstrap_type': 'MVS', 'min_data_in_leaf': 2, 'one_hot_max_size': 2}. Best is trial 12 with value: 0.8232941266651388.\u001b[0m\n",
      "\u001b[32m[I 2021-12-27 23:08:38,708]\u001b[0m Trial 15 finished with value: 0.7962343633113618 and parameters: {'iterations': 1228, 'loss_function': 'RMSE', 'learning_rate': 0.009436269058232699, 'l2_leaf_reg': 0.04321896998200682, 'colsample_bylevel': 0.11398019019992978, 'depth': 5, 'boosting_type': 'Ordered', 'bootstrap_type': 'Bernoulli', 'min_data_in_leaf': 2, 'one_hot_max_size': 2, 'subsample': 0.10665325439573253}. Best is trial 12 with value: 0.8232941266651388.\u001b[0m\n",
      "\u001b[32m[I 2021-12-27 23:08:54,623]\u001b[0m Trial 16 finished with value: 0.8240229229876477 and parameters: {'iterations': 1048, 'loss_function': 'RMSE', 'learning_rate': 0.08506768341063367, 'l2_leaf_reg': 0.0485663735603608, 'colsample_bylevel': 0.3821210271376031, 'depth': 5, 'boosting_type': 'Ordered', 'bootstrap_type': 'MVS', 'min_data_in_leaf': 11, 'one_hot_max_size': 2}. Best is trial 16 with value: 0.8240229229876477.\u001b[0m\n",
      "\u001b[32m[I 2021-12-27 23:08:57,283]\u001b[0m Trial 17 finished with value: 0.0749138575611964 and parameters: {'iterations': 64, 'loss_function': 'RMSE', 'learning_rate': 0.0009278216776215777, 'l2_leaf_reg': 0.0262691903791863, 'colsample_bylevel': 0.6250655477001452, 'depth': 5, 'boosting_type': 'Ordered', 'bootstrap_type': 'MVS', 'min_data_in_leaf': 11, 'one_hot_max_size': 5}. Best is trial 16 with value: 0.8240229229876477.\u001b[0m\n",
      "\u001b[32m[I 2021-12-27 23:09:29,903]\u001b[0m Trial 18 finished with value: 0.43885804114411037 and parameters: {'iterations': 814, 'loss_function': 'RMSE', 'learning_rate': 0.0005748862770241311, 'l2_leaf_reg': 0.03238868439588162, 'colsample_bylevel': 0.40045296193600943, 'depth': 8, 'boosting_type': 'Ordered', 'bootstrap_type': 'MVS', 'min_data_in_leaf': 15, 'one_hot_max_size': 11}. Best is trial 16 with value: 0.8240229229876477.\u001b[0m\n",
      "\u001b[32m[I 2021-12-27 23:09:53,917]\u001b[0m Trial 19 finished with value: 0.8225428944153019 and parameters: {'iterations': 2593, 'loss_function': 'RMSE', 'learning_rate': 0.022146205710496164, 'l2_leaf_reg': 0.06218799234464913, 'colsample_bylevel': 0.3875983138042142, 'depth': 4, 'boosting_type': 'Ordered', 'bootstrap_type': 'Bernoulli', 'min_data_in_leaf': 10, 'one_hot_max_size': 6, 'subsample': 0.9464190513194968}. Best is trial 16 with value: 0.8240229229876477.\u001b[0m\n",
      "\u001b[32m[I 2021-12-27 23:10:42,121]\u001b[0m Trial 20 finished with value: 0.8143407213741272 and parameters: {'iterations': 1777, 'loss_function': 'RMSE', 'learning_rate': 0.006440183581994425, 'l2_leaf_reg': 0.024260910430204556, 'colsample_bylevel': 0.6043774903972153, 'depth': 7, 'boosting_type': 'Ordered', 'bootstrap_type': 'MVS', 'min_data_in_leaf': 13, 'one_hot_max_size': 3}. Best is trial 16 with value: 0.8240229229876477.\u001b[0m\n",
      "\u001b[32m[I 2021-12-27 23:11:03,008]\u001b[0m Trial 21 finished with value: 0.8242380328330157 and parameters: {'iterations': 2644, 'loss_function': 'RMSE', 'learning_rate': 0.03186403854778569, 'l2_leaf_reg': 0.06515578613967925, 'colsample_bylevel': 0.3606370806714415, 'depth': 4, 'boosting_type': 'Ordered', 'bootstrap_type': 'Bernoulli', 'min_data_in_leaf': 10, 'one_hot_max_size': 6, 'subsample': 0.9644417095044222}. Best is trial 21 with value: 0.8242380328330157.\u001b[0m\n",
      "\u001b[32m[I 2021-12-27 23:11:44,714]\u001b[0m Trial 22 finished with value: 0.8279960566459952 and parameters: {'iterations': 2577, 'loss_function': 'RMSE', 'learning_rate': 0.031662056707755425, 'l2_leaf_reg': 0.0693295511708896, 'colsample_bylevel': 0.49434444600157457, 'depth': 5, 'boosting_type': 'Ordered', 'bootstrap_type': 'Bernoulli', 'min_data_in_leaf': 10, 'one_hot_max_size': 9, 'subsample': 0.619433686656496}. Best is trial 22 with value: 0.8279960566459952.\u001b[0m\n",
      "\u001b[32m[I 2021-12-27 23:12:23,482]\u001b[0m Trial 23 finished with value: 0.8279297882182363 and parameters: {'iterations': 2423, 'loss_function': 'RMSE', 'learning_rate': 0.03635399964251016, 'l2_leaf_reg': 0.07081775621645199, 'colsample_bylevel': 0.5000395119206168, 'depth': 5, 'boosting_type': 'Ordered', 'bootstrap_type': 'Bernoulli', 'min_data_in_leaf': 10, 'one_hot_max_size': 10, 'subsample': 0.6192956295379446}. Best is trial 22 with value: 0.8279960566459952.\u001b[0m\n",
      "\u001b[32m[I 2021-12-27 23:14:05,131]\u001b[0m Trial 24 finished with value: 0.8302719031760739 and parameters: {'iterations': 2730, 'loss_function': 'RMSE', 'learning_rate': 0.03417204639164833, 'l2_leaf_reg': 0.08277193187368076, 'colsample_bylevel': 0.7356466595455564, 'depth': 6, 'boosting_type': 'Ordered', 'bootstrap_type': 'Bernoulli', 'min_data_in_leaf': 9, 'one_hot_max_size': 10, 'subsample': 0.6200538370315646}. Best is trial 24 with value: 0.8302719031760739.\u001b[0m\n",
      "\u001b[32m[I 2021-12-27 23:16:28,811]\u001b[0m Trial 25 finished with value: 0.8277201312941946 and parameters: {'iterations': 3804, 'loss_function': 'RMSE', 'learning_rate': 0.014698491508555863, 'l2_leaf_reg': 0.10069777852340575, 'colsample_bylevel': 0.7319491261338018, 'depth': 6, 'boosting_type': 'Ordered', 'bootstrap_type': 'Bernoulli', 'min_data_in_leaf': 4, 'one_hot_max_size': 10, 'subsample': 0.5805946679438484}. Best is trial 24 with value: 0.8302719031760739.\u001b[0m\n",
      "\u001b[32m[I 2021-12-27 23:17:24,593]\u001b[0m Trial 26 finished with value: 0.827796536614272 and parameters: {'iterations': 2952, 'loss_function': 'RMSE', 'learning_rate': 0.040760323038763584, 'l2_leaf_reg': 0.1574776215157063, 'colsample_bylevel': 0.5097948758167098, 'depth': 8, 'boosting_type': 'Plain', 'bootstrap_type': 'Bernoulli', 'min_data_in_leaf': 9, 'one_hot_max_size': 12, 'subsample': 0.6040616362529427}. Best is trial 24 with value: 0.8302719031760739.\u001b[0m\n",
      "\u001b[32m[I 2021-12-27 23:19:39,824]\u001b[0m Trial 27 finished with value: 0.8055984070816331 and parameters: {'iterations': 3536, 'loss_function': 'RMSE', 'learning_rate': 0.0023483454603752296, 'l2_leaf_reg': 0.08669837838850357, 'colsample_bylevel': 0.7080311271031552, 'depth': 6, 'boosting_type': 'Ordered', 'bootstrap_type': 'Bernoulli', 'min_data_in_leaf': 12, 'one_hot_max_size': 9, 'subsample': 0.6946969670783496}. Best is trial 24 with value: 0.8302719031760739.\u001b[0m\n",
      "\u001b[32m[I 2021-12-27 23:21:54,801]\u001b[0m Trial 28 finished with value: 0.8200976053463936 and parameters: {'iterations': 2371, 'loss_function': 'RMSE', 'learning_rate': 0.007660901789592811, 'l2_leaf_reg': 0.1554665114505209, 'colsample_bylevel': 0.6934930922915115, 'depth': 8, 'boosting_type': 'Ordered', 'bootstrap_type': 'Bernoulli', 'min_data_in_leaf': 9, 'one_hot_max_size': 16, 'subsample': 0.4077405054509078}. Best is trial 24 with value: 0.8302719031760739.\u001b[0m\n",
      "\u001b[32m[I 2021-12-27 23:22:23,187]\u001b[0m Trial 29 finished with value: 0.7972695361658371 and parameters: {'iterations': 2924, 'loss_function': 'RMSE', 'learning_rate': 0.0013647902230281177, 'l2_leaf_reg': 0.019378923952550905, 'colsample_bylevel': 0.5236374178013273, 'depth': 7, 'boosting_type': 'Plain', 'bootstrap_type': 'Bernoulli', 'min_data_in_leaf': 14, 'one_hot_max_size': 16, 'subsample': 0.7706286710181349}. Best is trial 24 with value: 0.8302719031760739.\u001b[0m\n",
      "\u001b[32m[I 2021-12-27 23:23:13,205]\u001b[0m Trial 30 finished with value: 0.8240870517750061 and parameters: {'iterations': 3417, 'loss_function': 'RMSE', 'learning_rate': 0.015886492130429267, 'l2_leaf_reg': 0.04120314438406427, 'colsample_bylevel': 0.46377198695433863, 'depth': 5, 'boosting_type': 'Ordered', 'bootstrap_type': 'Bernoulli', 'min_data_in_leaf': 7, 'one_hot_max_size': 12, 'subsample': 0.4009924149119306}. Best is trial 24 with value: 0.8302719031760739.\u001b[0m\n",
      "\u001b[32m[I 2021-12-27 23:24:05,922]\u001b[0m Trial 31 finished with value: 0.8272704530291719 and parameters: {'iterations': 2911, 'loss_function': 'RMSE', 'learning_rate': 0.04592048267236161, 'l2_leaf_reg': 0.16333579068896723, 'colsample_bylevel': 0.485251417038368, 'depth': 8, 'boosting_type': 'Plain', 'bootstrap_type': 'Bernoulli', 'min_data_in_leaf': 9, 'one_hot_max_size': 12, 'subsample': 0.6417739905204354}. Best is trial 24 with value: 0.8302719031760739.\u001b[0m\n",
      "\u001b[32m[I 2021-12-27 23:25:33,520]\u001b[0m Trial 32 finished with value: 0.8224332672753226 and parameters: {'iterations': 2302, 'loss_function': 'RMSE', 'learning_rate': 0.043390576288696955, 'l2_leaf_reg': 0.20834351564810433, 'colsample_bylevel': 0.5421141698639079, 'depth': 9, 'boosting_type': 'Plain', 'bootstrap_type': 'Bernoulli', 'min_data_in_leaf': 10, 'one_hot_max_size': 10, 'subsample': 0.4917139641340275}. Best is trial 24 with value: 0.8302719031760739.\u001b[0m\n",
      "\u001b[32m[I 2021-12-27 23:26:12,318]\u001b[0m Trial 33 finished with value: 0.8292345373952961 and parameters: {'iterations': 3192, 'loss_function': 'RMSE', 'learning_rate': 0.046690207530871226, 'l2_leaf_reg': 0.08136722484868608, 'colsample_bylevel': 0.6402181040314705, 'depth': 7, 'boosting_type': 'Plain', 'bootstrap_type': 'Bernoulli', 'min_data_in_leaf': 12, 'one_hot_max_size': 13, 'subsample': 0.7809422025768015}. Best is trial 24 with value: 0.8302719031760739.\u001b[0m\n",
      "\u001b[32m[I 2021-12-27 23:27:06,488]\u001b[0m Trial 34 finished with value: 0.8068332207999726 and parameters: {'iterations': 4364, 'loss_function': 'RMSE', 'learning_rate': 0.004463714497874792, 'l2_leaf_reg': 0.07697577536092369, 'colsample_bylevel': 0.7965034092277119, 'depth': 7, 'boosting_type': 'Plain', 'bootstrap_type': 'Bayesian', 'min_data_in_leaf': 12, 'one_hot_max_size': 14, 'bagging_temperature': 9.467168000678981}. Best is trial 24 with value: 0.8302719031760739.\u001b[0m\n",
      "\u001b[32m[I 2021-12-27 23:27:29,329]\u001b[0m Trial 35 finished with value: 0.6307076321788495 and parameters: {'iterations': 3247, 'loss_function': 'MAPE', 'learning_rate': 0.01979997737398243, 'l2_leaf_reg': 0.1230213607656889, 'colsample_bylevel': 0.6243600540805003, 'depth': 6, 'boosting_type': 'Plain', 'bootstrap_type': 'Bernoulli', 'min_data_in_leaf': 12, 'one_hot_max_size': 9, 'subsample': 0.8253292734039253}. Best is trial 24 with value: 0.8302719031760739.\u001b[0m\n",
      "\u001b[32m[I 2021-12-27 23:27:40,251]\u001b[0m Trial 36 finished with value: 0.8213613599893428 and parameters: {'iterations': 2675, 'loss_function': 'RMSE', 'learning_rate': 0.01029884958520257, 'l2_leaf_reg': 0.07733245159736939, 'colsample_bylevel': 0.818388463354171, 'depth': 5, 'boosting_type': 'Plain', 'bootstrap_type': 'Bernoulli', 'min_data_in_leaf': 8, 'one_hot_max_size': 14, 'subsample': 0.73438795910597}. Best is trial 24 with value: 0.8302719031760739.\u001b[0m\n",
      "\u001b[32m[I 2021-12-27 23:28:00,914]\u001b[0m Trial 37 finished with value: -0.5527646350623842 and parameters: {'iterations': 1672, 'loss_function': 'MAPE', 'learning_rate': 2.9430612457869123e-05, 'l2_leaf_reg': 0.11869569597140799, 'colsample_bylevel': 0.6551979646560362, 'depth': 7, 'boosting_type': 'Plain', 'bootstrap_type': 'Bayesian', 'min_data_in_leaf': 14, 'one_hot_max_size': 13, 'bagging_temperature': 9.566040804369994}. Best is trial 24 with value: 0.8302719031760739.\u001b[0m\n",
      "\u001b[32m[I 2021-12-27 23:30:21,305]\u001b[0m Trial 38 finished with value: 0.8304859554570726 and parameters: {'iterations': 3726, 'loss_function': 'RMSE', 'learning_rate': 0.03004368080909306, 'l2_leaf_reg': 0.05022531263702171, 'colsample_bylevel': 0.7654913547542036, 'depth': 6, 'boosting_type': 'Ordered', 'bootstrap_type': 'Bernoulli', 'min_data_in_leaf': 11, 'one_hot_max_size': 10, 'subsample': 0.8354498857818983}. Best is trial 38 with value: 0.8304859554570726.\u001b[0m\n",
      "\u001b[32m[I 2021-12-27 23:30:54,102]\u001b[0m Trial 39 finished with value: 0.3933190281752843 and parameters: {'iterations': 4177, 'loss_function': 'MAPE', 'learning_rate': 0.0026495916176043416, 'l2_leaf_reg': 0.03606805123868498, 'colsample_bylevel': 0.8698212960786726, 'depth': 6, 'boosting_type': 'Plain', 'bootstrap_type': 'Bernoulli', 'min_data_in_leaf': 7, 'one_hot_max_size': 16, 'subsample': 0.8162363721433038}. Best is trial 38 with value: 0.8304859554570726.\u001b[0m\n",
      "\u001b[32m[I 2021-12-27 23:40:23,204]\u001b[0m Trial 40 finished with value: 0.8244167418476079 and parameters: {'iterations': 3697, 'loss_function': 'RMSE', 'learning_rate': 0.057540437633541476, 'l2_leaf_reg': 0.017368140014954254, 'colsample_bylevel': 0.8714290289416302, 'depth': 9, 'boosting_type': 'Ordered', 'bootstrap_type': 'Bayesian', 'min_data_in_leaf': 14, 'one_hot_max_size': 11, 'bagging_temperature': 2.8078993375270063}. Best is trial 38 with value: 0.8304859554570726.\u001b[0m\n",
      "\u001b[32m[I 2021-12-27 23:42:26,738]\u001b[0m Trial 41 finished with value: 0.8296000655452754 and parameters: {'iterations': 3107, 'loss_function': 'RMSE', 'learning_rate': 0.02774200628845452, 'l2_leaf_reg': 0.050637106350520926, 'colsample_bylevel': 0.7576763104570488, 'depth': 6, 'boosting_type': 'Ordered', 'bootstrap_type': 'Bernoulli', 'min_data_in_leaf': 11, 'one_hot_max_size': 10, 'subsample': 0.6735521743767613}. Best is trial 38 with value: 0.8304859554570726.\u001b[0m\n",
      "\u001b[32m[I 2021-12-27 23:44:27,753]\u001b[0m Trial 42 finished with value: 0.8294403273252279 and parameters: {'iterations': 3122, 'loss_function': 'RMSE', 'learning_rate': 0.023207056249338935, 'l2_leaf_reg': 0.057649404225487796, 'colsample_bylevel': 0.7634182615452594, 'depth': 6, 'boosting_type': 'Ordered', 'bootstrap_type': 'Bernoulli', 'min_data_in_leaf': 11, 'one_hot_max_size': 9, 'subsample': 0.8340776947485612}. Best is trial 38 with value: 0.8304859554570726.\u001b[0m\n",
      "\u001b[32m[I 2021-12-27 23:46:03,790]\u001b[0m Trial 43 finished with value: 0.8298884684554722 and parameters: {'iterations': 3200, 'loss_function': 'RMSE', 'learning_rate': 0.02732652693639437, 'l2_leaf_reg': 0.05073728501668563, 'colsample_bylevel': 0.7616342457439732, 'depth': 7, 'boosting_type': 'Ordered', 'bootstrap_type': 'Bernoulli', 'min_data_in_leaf': 12, 'one_hot_max_size': 13, 'subsample': 0.8563184791088981}. Best is trial 38 with value: 0.8304859554570726.\u001b[0m\n",
      "\u001b[32m[I 2021-12-27 23:49:00,600]\u001b[0m Trial 44 finished with value: 0.8225325706940427 and parameters: {'iterations': 4602, 'loss_function': 'RMSE', 'learning_rate': 0.00517910227730875, 'l2_leaf_reg': 0.0520468829364775, 'colsample_bylevel': 0.7667814592518665, 'depth': 6, 'boosting_type': 'Ordered', 'bootstrap_type': 'Bernoulli', 'min_data_in_leaf': 11, 'one_hot_max_size': 7, 'subsample': 0.865752155450382}. Best is trial 38 with value: 0.8304859554570726.\u001b[0m\n",
      "\u001b[32m[I 2021-12-27 23:51:19,745]\u001b[0m Trial 45 finished with value: 0.8287316852581206 and parameters: {'iterations': 3846, 'loss_function': 'RMSE', 'learning_rate': 0.025052817281317887, 'l2_leaf_reg': 0.03219251568199656, 'colsample_bylevel': 0.9825050988552123, 'depth': 7, 'boosting_type': 'Ordered', 'bootstrap_type': 'Bernoulli', 'min_data_in_leaf': 13, 'one_hot_max_size': 11, 'subsample': 0.8840851782788492}. Best is trial 38 with value: 0.8304859554570726.\u001b[0m\n",
      "\u001b[32m[I 2021-12-27 23:53:18,794]\u001b[0m Trial 46 finished with value: 0.6498976706293813 and parameters: {'iterations': 3148, 'loss_function': 'MAPE', 'learning_rate': 0.012233778651405914, 'l2_leaf_reg': 0.04913862222151312, 'colsample_bylevel': 0.9078572357295559, 'depth': 6, 'boosting_type': 'Ordered', 'bootstrap_type': 'Bernoulli', 'min_data_in_leaf': 9, 'one_hot_max_size': 9, 'subsample': 0.7026294570565206}. Best is trial 38 with value: 0.8304859554570726.\u001b[0m\n",
      "\u001b[32m[I 2021-12-27 23:57:14,160]\u001b[0m Trial 47 finished with value: 0.8298624662331113 and parameters: {'iterations': 3602, 'loss_function': 'RMSE', 'learning_rate': 0.023825744746071957, 'l2_leaf_reg': 0.05623266885494415, 'colsample_bylevel': 0.7824293419925168, 'depth': 8, 'boosting_type': 'Ordered', 'bootstrap_type': 'Bernoulli', 'min_data_in_leaf': 8, 'one_hot_max_size': 15, 'subsample': 0.8823732440582722}. Best is trial 38 with value: 0.8304859554570726.\u001b[0m\n",
      "\u001b[32m[I 2021-12-28 00:16:43,245]\u001b[0m Trial 48 finished with value: 0.32447488655666923 and parameters: {'iterations': 3641, 'loss_function': 'RMSE', 'learning_rate': 8.985374136781082e-05, 'l2_leaf_reg': 0.0962038605144345, 'colsample_bylevel': 0.8499785640905311, 'depth': 10, 'boosting_type': 'Ordered', 'bootstrap_type': 'Bayesian', 'min_data_in_leaf': 5, 'one_hot_max_size': 18, 'bagging_temperature': 7.124543522990962}. Best is trial 38 with value: 0.8304859554570726.\u001b[0m\n",
      "\u001b[32m[I 2021-12-28 00:21:37,821]\u001b[0m Trial 49 finished with value: 0.8260349662673147 and parameters: {'iterations': 4015, 'loss_function': 'RMSE', 'learning_rate': 0.06413616367976287, 'l2_leaf_reg': 0.02822139754203683, 'colsample_bylevel': 0.9181154483372232, 'depth': 8, 'boosting_type': 'Ordered', 'bootstrap_type': 'Bernoulli', 'min_data_in_leaf': 8, 'one_hot_max_size': 14, 'subsample': 0.9064053420842525}. Best is trial 38 with value: 0.8304859554570726.\u001b[0m\n",
      "\u001b[32m[I 2021-12-28 00:21:37,830]\u001b[0m A new study created in memory with name: no-name-7e0ff0c2-8101-48ad-8a7e-d2bef3e51ac1\u001b[0m\n",
      "\u001b[32m[I 2021-12-28 00:22:07,482]\u001b[0m Trial 0 finished with value: -0.5330936496639577 and parameters: {'iterations': 2644, 'loss_function': 'MAPE', 'learning_rate': 2.3415406124198414e-05, 'l2_leaf_reg': 0.1356591330890631, 'colsample_bylevel': 0.15959338281840355, 'depth': 10, 'boosting_type': 'Plain', 'bootstrap_type': 'Bernoulli', 'min_data_in_leaf': 19, 'one_hot_max_size': 5, 'subsample': 0.5914234978230886}. Best is trial 0 with value: -0.5330936496639577.\u001b[0m\n",
      "\u001b[32m[I 2021-12-28 00:22:27,867]\u001b[0m Trial 1 finished with value: 0.48293601187691043 and parameters: {'iterations': 537, 'loss_function': 'MAPE', 'learning_rate': 0.02254702885234341, 'l2_leaf_reg': 0.5304916977589194, 'colsample_bylevel': 0.5970533198307532, 'depth': 6, 'boosting_type': 'Ordered', 'bootstrap_type': 'MVS', 'min_data_in_leaf': 2, 'one_hot_max_size': 4}. Best is trial 1 with value: 0.48293601187691043.\u001b[0m\n",
      "\u001b[32m[I 2021-12-28 00:22:44,028]\u001b[0m Trial 2 finished with value: -0.15088760977843668 and parameters: {'iterations': 2087, 'loss_function': 'MAPE', 'learning_rate': 0.0006328791058735384, 'l2_leaf_reg': 0.049431016622537634, 'colsample_bylevel': 0.10478036654356343, 'depth': 8, 'boosting_type': 'Plain', 'bootstrap_type': 'Bayesian', 'min_data_in_leaf': 11, 'one_hot_max_size': 20, 'bagging_temperature': 0.4055420863560377}. Best is trial 1 with value: 0.48293601187691043.\u001b[0m\n",
      "\u001b[32m[I 2021-12-28 00:23:23,959]\u001b[0m Trial 3 finished with value: 0.48551205699431926 and parameters: {'iterations': 2170, 'loss_function': 'RMSE', 'learning_rate': 0.0002689831700974238, 'l2_leaf_reg': 0.0816468343551472, 'colsample_bylevel': 0.5052471443624266, 'depth': 5, 'boosting_type': 'Ordered', 'bootstrap_type': 'MVS', 'min_data_in_leaf': 10, 'one_hot_max_size': 15}. Best is trial 3 with value: 0.48551205699431926.\u001b[0m\n",
      "\u001b[32m[I 2021-12-28 00:23:40,597]\u001b[0m Trial 4 finished with value: 0.3652500445977315 and parameters: {'iterations': 1177, 'loss_function': 'MAPE', 'learning_rate': 0.0069509996775105245, 'l2_leaf_reg': 0.5084403532218091, 'colsample_bylevel': 0.7079550673743362, 'depth': 7, 'boosting_type': 'Plain', 'bootstrap_type': 'MVS', 'min_data_in_leaf': 16, 'one_hot_max_size': 8}. Best is trial 3 with value: 0.48551205699431926.\u001b[0m\n",
      "\u001b[32m[I 2021-12-28 00:24:27,887]\u001b[0m Trial 5 finished with value: 0.7035821963677966 and parameters: {'iterations': 3481, 'loss_function': 'MAPE', 'learning_rate': 0.04674108228622782, 'l2_leaf_reg': 0.021896076727922275, 'colsample_bylevel': 0.07979647451935289, 'depth': 8, 'boosting_type': 'Ordered', 'bootstrap_type': 'Bayesian', 'min_data_in_leaf': 11, 'one_hot_max_size': 3, 'bagging_temperature': 6.052557215819475}. Best is trial 5 with value: 0.7035821963677966.\u001b[0m\n",
      "\u001b[32m[I 2021-12-28 00:24:41,990]\u001b[0m Trial 6 finished with value: -0.1960109667400068 and parameters: {'iterations': 574, 'loss_function': 'MAPE', 'learning_rate': 0.0012494722869979761, 'l2_leaf_reg': 0.05260955117143052, 'colsample_bylevel': 0.18117960736657257, 'depth': 8, 'boosting_type': 'Ordered', 'bootstrap_type': 'MVS', 'min_data_in_leaf': 20, 'one_hot_max_size': 3}. Best is trial 5 with value: 0.7035821963677966.\u001b[0m\n",
      "\u001b[32m[I 2021-12-28 00:25:11,277]\u001b[0m Trial 7 finished with value: 0.8205255367984456 and parameters: {'iterations': 4864, 'loss_function': 'RMSE', 'learning_rate': 0.03242327036313853, 'l2_leaf_reg': 0.014067657417740478, 'colsample_bylevel': 0.5340026593254492, 'depth': 3, 'boosting_type': 'Ordered', 'bootstrap_type': 'MVS', 'min_data_in_leaf': 10, 'one_hot_max_size': 13}. Best is trial 7 with value: 0.8205255367984456.\u001b[0m\n",
      "\u001b[32m[I 2021-12-28 00:25:25,982]\u001b[0m Trial 8 finished with value: 0.30419895287405047 and parameters: {'iterations': 4801, 'loss_function': 'MAPE', 'learning_rate': 0.008492741159700433, 'l2_leaf_reg': 0.4212912009811895, 'colsample_bylevel': 0.3850079981892158, 'depth': 2, 'boosting_type': 'Ordered', 'bootstrap_type': 'Bayesian', 'min_data_in_leaf': 15, 'one_hot_max_size': 2, 'bagging_temperature': 7.666725145265012}. Best is trial 7 with value: 0.8205255367984456.\u001b[0m\n",
      "\u001b[32m[I 2021-12-28 00:27:35,238]\u001b[0m Trial 9 finished with value: -0.5097951260665797 and parameters: {'iterations': 3765, 'loss_function': 'MAPE', 'learning_rate': 2.416535168264705e-05, 'l2_leaf_reg': 0.03175613750573187, 'colsample_bylevel': 0.35496657502950263, 'depth': 8, 'boosting_type': 'Ordered', 'bootstrap_type': 'Bayesian', 'min_data_in_leaf': 8, 'one_hot_max_size': 2, 'bagging_temperature': 0.2298925211958469}. Best is trial 7 with value: 0.8205255367984456.\u001b[0m\n",
      "\u001b[32m[I 2021-12-28 00:27:42,038]\u001b[0m Trial 10 finished with value: 0.8084577911627383 and parameters: {'iterations': 4495, 'loss_function': 'RMSE', 'learning_rate': 0.09037261351562845, 'l2_leaf_reg': 0.010716984858011916, 'colsample_bylevel': 0.9557060559970048, 'depth': 2, 'boosting_type': 'Plain', 'bootstrap_type': 'Bernoulli', 'min_data_in_leaf': 5, 'one_hot_max_size': 14, 'subsample': 0.14522998638290813}. Best is trial 7 with value: 0.8205255367984456.\u001b[0m\n",
      "\u001b[32m[I 2021-12-28 00:27:47,318]\u001b[0m Trial 11 finished with value: 0.7843023842700573 and parameters: {'iterations': 4970, 'loss_function': 'RMSE', 'learning_rate': 0.09256103509347394, 'l2_leaf_reg': 0.01174661894556065, 'colsample_bylevel': 0.972923107519586, 'depth': 1, 'boosting_type': 'Plain', 'bootstrap_type': 'Bernoulli', 'min_data_in_leaf': 5, 'one_hot_max_size': 13, 'subsample': 0.2309546586437602}. Best is trial 7 with value: 0.8205255367984456.\u001b[0m\n",
      "\u001b[32m[I 2021-12-28 00:27:56,597]\u001b[0m Trial 12 finished with value: 0.8045046931125246 and parameters: {'iterations': 4191, 'loss_function': 'RMSE', 'learning_rate': 0.006098000184010385, 'l2_leaf_reg': 0.01084938877389254, 'colsample_bylevel': 0.9833795830630775, 'depth': 4, 'boosting_type': 'Plain', 'bootstrap_type': 'Bernoulli', 'min_data_in_leaf': 6, 'one_hot_max_size': 16, 'subsample': 0.1292440291401168}. Best is trial 7 with value: 0.8205255367984456.\u001b[0m\n",
      "\u001b[32m[I 2021-12-28 00:28:06,024]\u001b[0m Trial 13 finished with value: 0.8136605117237959 and parameters: {'iterations': 4229, 'loss_function': 'RMSE', 'learning_rate': 0.09169966284384413, 'l2_leaf_reg': 0.01970760182271728, 'colsample_bylevel': 0.7955037289831093, 'depth': 3, 'boosting_type': 'Plain', 'bootstrap_type': 'Bernoulli', 'min_data_in_leaf': 2, 'one_hot_max_size': 11, 'subsample': 0.984034957959663}. Best is trial 7 with value: 0.8205255367984456.\u001b[0m\n",
      "\u001b[32m[I 2021-12-28 00:28:14,209]\u001b[0m Trial 14 finished with value: 0.8177507954850233 and parameters: {'iterations': 3335, 'loss_function': 'RMSE', 'learning_rate': 0.01749742929487801, 'l2_leaf_reg': 0.025131050051612053, 'colsample_bylevel': 0.688118072295142, 'depth': 3, 'boosting_type': 'Plain', 'bootstrap_type': 'MVS', 'min_data_in_leaf': 2, 'one_hot_max_size': 10}. Best is trial 7 with value: 0.8205255367984456.\u001b[0m\n",
      "\u001b[32m[I 2021-12-28 00:28:48,608]\u001b[0m Trial 15 finished with value: 0.793791081089555 and parameters: {'iterations': 3055, 'loss_function': 'RMSE', 'learning_rate': 0.002313446263332213, 'l2_leaf_reg': 0.18331567623725686, 'colsample_bylevel': 0.7683968106781819, 'depth': 4, 'boosting_type': 'Ordered', 'bootstrap_type': 'MVS', 'min_data_in_leaf': 14, 'one_hot_max_size': 10}. Best is trial 7 with value: 0.8205255367984456.\u001b[0m\n",
      "\u001b[32m[I 2021-12-28 00:28:56,790]\u001b[0m Trial 16 finished with value: 0.7826771096377936 and parameters: {'iterations': 3557, 'loss_function': 'RMSE', 'learning_rate': 0.019936988188500673, 'l2_leaf_reg': 0.02485957335361425, 'colsample_bylevel': 0.6193302724116811, 'depth': 1, 'boosting_type': 'Ordered', 'bootstrap_type': 'MVS', 'min_data_in_leaf': 7, 'one_hot_max_size': 8}. Best is trial 7 with value: 0.8205255367984456.\u001b[0m\n",
      "\u001b[32m[I 2021-12-28 00:29:00,608]\u001b[0m Trial 17 finished with value: 0.14084641185850189 and parameters: {'iterations': 1395, 'loss_function': 'RMSE', 'learning_rate': 9.11562690338249e-05, 'l2_leaf_reg': 0.048083530197111, 'colsample_bylevel': 0.3652505146230711, 'depth': 3, 'boosting_type': 'Plain', 'bootstrap_type': 'MVS', 'min_data_in_leaf': 13, 'one_hot_max_size': 18}. Best is trial 7 with value: 0.8205255367984456.\u001b[0m\n",
      "\u001b[32m[I 2021-12-28 00:29:12,460]\u001b[0m Trial 18 finished with value: 0.8050982468869787 and parameters: {'iterations': 3002, 'loss_function': 'RMSE', 'learning_rate': 0.0029243967466349493, 'l2_leaf_reg': 0.24482367949409084, 'colsample_bylevel': 0.49832869947229347, 'depth': 5, 'boosting_type': 'Plain', 'bootstrap_type': 'MVS', 'min_data_in_leaf': 17, 'one_hot_max_size': 8}. Best is trial 7 with value: 0.8205255367984456.\u001b[0m\n",
      "\u001b[32m[I 2021-12-28 00:29:37,799]\u001b[0m Trial 19 finished with value: 0.8189221720041984 and parameters: {'iterations': 3917, 'loss_function': 'RMSE', 'learning_rate': 0.02029399880936783, 'l2_leaf_reg': 0.017581807939223346, 'colsample_bylevel': 0.8306359444025677, 'depth': 3, 'boosting_type': 'Ordered', 'bootstrap_type': 'MVS', 'min_data_in_leaf': 9, 'one_hot_max_size': 13}. Best is trial 7 with value: 0.8205255367984456.\u001b[0m\n",
      "\u001b[32m[I 2021-12-28 00:30:21,140]\u001b[0m Trial 20 finished with value: 0.8229653202983428 and parameters: {'iterations': 4012, 'loss_function': 'RMSE', 'learning_rate': 0.03188182721610713, 'l2_leaf_reg': 0.016346010596439055, 'colsample_bylevel': 0.8553120840007907, 'depth': 4, 'boosting_type': 'Ordered', 'bootstrap_type': 'MVS', 'min_data_in_leaf': 9, 'one_hot_max_size': 17}. Best is trial 20 with value: 0.8229653202983428.\u001b[0m\n",
      "\u001b[32m[I 2021-12-28 00:31:04,819]\u001b[0m Trial 21 finished with value: 0.8224516878917122 and parameters: {'iterations': 4014, 'loss_function': 'RMSE', 'learning_rate': 0.033547582364856346, 'l2_leaf_reg': 0.014439232864802727, 'colsample_bylevel': 0.8556410391321301, 'depth': 4, 'boosting_type': 'Ordered', 'bootstrap_type': 'MVS', 'min_data_in_leaf': 9, 'one_hot_max_size': 17}. Best is trial 20 with value: 0.8229653202983428.\u001b[0m\n",
      "\u001b[32m[I 2021-12-28 00:31:53,614]\u001b[0m Trial 22 finished with value: 0.8235877467206573 and parameters: {'iterations': 4508, 'loss_function': 'RMSE', 'learning_rate': 0.03477935467818458, 'l2_leaf_reg': 0.015425008381223302, 'colsample_bylevel': 0.8581279603402749, 'depth': 4, 'boosting_type': 'Ordered', 'bootstrap_type': 'MVS', 'min_data_in_leaf': 12, 'one_hot_max_size': 17}. Best is trial 22 with value: 0.8235877467206573.\u001b[0m\n",
      "\u001b[32m[I 2021-12-28 00:34:43,425]\u001b[0m Trial 23 finished with value: 0.8238902476890765 and parameters: {'iterations': 4457, 'loss_function': 'RMSE', 'learning_rate': 0.008735902868068782, 'l2_leaf_reg': 0.9248191467233546, 'colsample_bylevel': 0.8768084524316632, 'depth': 6, 'boosting_type': 'Ordered', 'bootstrap_type': 'MVS', 'min_data_in_leaf': 11, 'one_hot_max_size': 18}. Best is trial 23 with value: 0.8238902476890765.\u001b[0m\n",
      "\u001b[32m[I 2021-12-28 00:37:24,400]\u001b[0m Trial 24 finished with value: 0.8244320982518062 and parameters: {'iterations': 4294, 'loss_function': 'RMSE', 'learning_rate': 0.009255959185111797, 'l2_leaf_reg': 0.3024668419266769, 'colsample_bylevel': 0.8983084382167914, 'depth': 6, 'boosting_type': 'Ordered', 'bootstrap_type': 'MVS', 'min_data_in_leaf': 13, 'one_hot_max_size': 20}. Best is trial 24 with value: 0.8244320982518062.\u001b[0m\n",
      "\u001b[32m[I 2021-12-28 00:40:07,924]\u001b[0m Trial 25 finished with value: 0.8151409799276033 and parameters: {'iterations': 4498, 'loss_function': 'RMSE', 'learning_rate': 0.003415107071378975, 'l2_leaf_reg': 0.976212225625194, 'colsample_bylevel': 0.9122389308801234, 'depth': 6, 'boosting_type': 'Ordered', 'bootstrap_type': 'MVS', 'min_data_in_leaf': 13, 'one_hot_max_size': 20}. Best is trial 24 with value: 0.8244320982518062.\u001b[0m\n",
      "\u001b[32m[I 2021-12-28 00:42:11,713]\u001b[0m Trial 26 finished with value: 0.8253370895915321 and parameters: {'iterations': 4458, 'loss_function': 'RMSE', 'learning_rate': 0.010439613134784885, 'l2_leaf_reg': 0.8657642843100152, 'colsample_bylevel': 0.7080714784500676, 'depth': 7, 'boosting_type': 'Ordered', 'bootstrap_type': 'MVS', 'min_data_in_leaf': 12, 'one_hot_max_size': 19}. Best is trial 26 with value: 0.8253370895915321.\u001b[0m\n",
      "\u001b[32m[I 2021-12-28 00:44:20,805]\u001b[0m Trial 27 finished with value: 0.8255708925403304 and parameters: {'iterations': 4482, 'loss_function': 'RMSE', 'learning_rate': 0.009541302833698253, 'l2_leaf_reg': 0.7047787596341204, 'colsample_bylevel': 0.7297342868270247, 'depth': 7, 'boosting_type': 'Ordered', 'bootstrap_type': 'MVS', 'min_data_in_leaf': 14, 'one_hot_max_size': 19}. Best is trial 27 with value: 0.8255708925403304.\u001b[0m\n",
      "\u001b[32m[I 2021-12-28 00:58:06,741]\u001b[0m Trial 28 finished with value: 0.7299094554492884 and parameters: {'iterations': 2977, 'loss_function': 'RMSE', 'learning_rate': 0.0007608155075764622, 'l2_leaf_reg': 0.3000202729186037, 'colsample_bylevel': 0.7241882854547887, 'depth': 10, 'boosting_type': 'Ordered', 'bootstrap_type': 'Bayesian', 'min_data_in_leaf': 17, 'one_hot_max_size': 19, 'bagging_temperature': 9.222294545179459}. Best is trial 27 with value: 0.8255708925403304.\u001b[0m\n",
      "\u001b[32m[I 2021-12-28 00:59:11,714]\u001b[0m Trial 29 finished with value: 0.6163041301738638 and parameters: {'iterations': 2403, 'loss_function': 'RMSE', 'learning_rate': 0.0003775799549789069, 'l2_leaf_reg': 0.6412203292094955, 'colsample_bylevel': 0.6418583475086462, 'depth': 7, 'boosting_type': 'Ordered', 'bootstrap_type': 'MVS', 'min_data_in_leaf': 18, 'one_hot_max_size': 20}. Best is trial 27 with value: 0.8255708925403304.\u001b[0m\n",
      "\u001b[32m[I 2021-12-28 01:16:20,995]\u001b[0m Trial 30 finished with value: 0.8091311954355851 and parameters: {'iterations': 3640, 'loss_function': 'RMSE', 'learning_rate': 0.0015313225311610963, 'l2_leaf_reg': 0.33800800728546543, 'colsample_bylevel': 0.769545647303052, 'depth': 10, 'boosting_type': 'Ordered', 'bootstrap_type': 'Bernoulli', 'min_data_in_leaf': 15, 'one_hot_max_size': 19, 'subsample': 0.9792737173644254}. Best is trial 27 with value: 0.8255708925403304.\u001b[0m\n",
      "\u001b[32m[I 2021-12-28 01:18:56,527]\u001b[0m Trial 31 finished with value: 0.8260138235226714 and parameters: {'iterations': 4533, 'loss_function': 'RMSE', 'learning_rate': 0.011673756110609477, 'l2_leaf_reg': 0.8506081082629453, 'colsample_bylevel': 0.9098029268288982, 'depth': 7, 'boosting_type': 'Ordered', 'bootstrap_type': 'MVS', 'min_data_in_leaf': 13, 'one_hot_max_size': 18}. Best is trial 31 with value: 0.8260138235226714.\u001b[0m\n",
      "\u001b[32m[I 2021-12-28 01:21:43,413]\u001b[0m Trial 32 finished with value: 0.825710850662355 and parameters: {'iterations': 4709, 'loss_function': 'RMSE', 'learning_rate': 0.010927452861892983, 'l2_leaf_reg': 0.743529924212805, 'colsample_bylevel': 0.9332471823564915, 'depth': 7, 'boosting_type': 'Ordered', 'bootstrap_type': 'MVS', 'min_data_in_leaf': 13, 'one_hot_max_size': 18}. Best is trial 31 with value: 0.8260138235226714.\u001b[0m\n",
      "\u001b[32m[I 2021-12-28 01:23:36,256]\u001b[0m Trial 33 finished with value: 0.8206203160408595 and parameters: {'iterations': 4723, 'loss_function': 'RMSE', 'learning_rate': 0.004177417283760253, 'l2_leaf_reg': 0.7351930740389173, 'colsample_bylevel': 0.5817458753112248, 'depth': 7, 'boosting_type': 'Ordered', 'bootstrap_type': 'MVS', 'min_data_in_leaf': 14, 'one_hot_max_size': 15}. Best is trial 31 with value: 0.8260138235226714.\u001b[0m\n",
      "\u001b[32m[I 2021-12-28 01:36:15,251]\u001b[0m Trial 34 finished with value: 0.8277822969650119 and parameters: {'iterations': 4675, 'loss_function': 'RMSE', 'learning_rate': 0.011945825458160942, 'l2_leaf_reg': 0.7052354778916247, 'colsample_bylevel': 0.9333504451857862, 'depth': 9, 'boosting_type': 'Ordered', 'bootstrap_type': 'MVS', 'min_data_in_leaf': 12, 'one_hot_max_size': 18}. Best is trial 34 with value: 0.8277822969650119.\u001b[0m\n",
      "\u001b[32m[I 2021-12-28 01:48:52,941]\u001b[0m Trial 35 finished with value: 0.8282535155088541 and parameters: {'iterations': 4731, 'loss_function': 'RMSE', 'learning_rate': 0.013683009091676846, 'l2_leaf_reg': 0.5124928439301287, 'colsample_bylevel': 0.9335857597523078, 'depth': 9, 'boosting_type': 'Ordered', 'bootstrap_type': 'MVS', 'min_data_in_leaf': 15, 'one_hot_max_size': 16}. Best is trial 35 with value: 0.8282535155088541.\u001b[0m\n",
      "\u001b[32m[I 2021-12-28 02:02:16,985]\u001b[0m Trial 36 finished with value: 0.6958821912132194 and parameters: {'iterations': 4924, 'loss_function': 'MAPE', 'learning_rate': 0.013928209385806703, 'l2_leaf_reg': 0.5359806113438548, 'colsample_bylevel': 0.9410517087754127, 'depth': 9, 'boosting_type': 'Ordered', 'bootstrap_type': 'MVS', 'min_data_in_leaf': 16, 'one_hot_max_size': 15}. Best is trial 35 with value: 0.8282535155088541.\u001b[0m\n",
      "\u001b[32m[I 2021-12-28 02:14:38,354]\u001b[0m Trial 37 finished with value: 0.8165120146479434 and parameters: {'iterations': 4694, 'loss_function': 'RMSE', 'learning_rate': 0.0056495799134290686, 'l2_leaf_reg': 0.11662896768256438, 'colsample_bylevel': 0.9191935961952169, 'depth': 9, 'boosting_type': 'Ordered', 'bootstrap_type': 'Bayesian', 'min_data_in_leaf': 12, 'one_hot_max_size': 16, 'bagging_temperature': 3.8838212054743217}. Best is trial 35 with value: 0.8282535155088541.\u001b[0m\n",
      "\u001b[32m[I 2021-12-28 02:22:40,076]\u001b[0m Trial 38 finished with value: 0.7119449395106315 and parameters: {'iterations': 3325, 'loss_function': 'MAPE', 'learning_rate': 0.05468387138916334, 'l2_leaf_reg': 0.4186958281540836, 'colsample_bylevel': 0.8084627252101911, 'depth': 9, 'boosting_type': 'Ordered', 'bootstrap_type': 'MVS', 'min_data_in_leaf': 15, 'one_hot_max_size': 18}. Best is trial 35 with value: 0.8282535155088541.\u001b[0m\n",
      "\u001b[32m[I 2021-12-28 02:23:12,170]\u001b[0m Trial 39 finished with value: 0.7832903315558645 and parameters: {'iterations': 1560, 'loss_function': 'RMSE', 'learning_rate': 0.0017706574722007927, 'l2_leaf_reg': 0.5077815150634137, 'colsample_bylevel': 0.17205936663163923, 'depth': 8, 'boosting_type': 'Ordered', 'bootstrap_type': 'MVS', 'min_data_in_leaf': 18, 'one_hot_max_size': 16}. Best is trial 35 with value: 0.8282535155088541.\u001b[0m\n",
      "\u001b[32m[I 2021-12-28 02:24:14,254]\u001b[0m Trial 40 finished with value: 0.429832307287506 and parameters: {'iterations': 347, 'loss_function': 'MAPE', 'learning_rate': 0.01318551901664098, 'l2_leaf_reg': 0.17539542848535458, 'colsample_bylevel': 0.9971252673750858, 'depth': 9, 'boosting_type': 'Ordered', 'bootstrap_type': 'MVS', 'min_data_in_leaf': 20, 'one_hot_max_size': 6}. Best is trial 35 with value: 0.8282535155088541.\u001b[0m\n",
      "\u001b[32m[I 2021-12-28 02:29:57,069]\u001b[0m Trial 41 finished with value: 0.8228231853145536 and parameters: {'iterations': 4711, 'loss_function': 'RMSE', 'learning_rate': 0.0049156817570067575, 'l2_leaf_reg': 0.7023057971530104, 'colsample_bylevel': 0.9181962007472886, 'depth': 8, 'boosting_type': 'Ordered', 'bootstrap_type': 'MVS', 'min_data_in_leaf': 14, 'one_hot_max_size': 18}. Best is trial 35 with value: 0.8282535155088541.\u001b[0m\n",
      "\u001b[32m[I 2021-12-28 02:32:31,431]\u001b[0m Trial 42 finished with value: 0.8272581437855907 and parameters: {'iterations': 4973, 'loss_function': 'RMSE', 'learning_rate': 0.049318733369740096, 'l2_leaf_reg': 0.6349860745884489, 'colsample_bylevel': 0.7868290077857841, 'depth': 7, 'boosting_type': 'Ordered', 'bootstrap_type': 'MVS', 'min_data_in_leaf': 16, 'one_hot_max_size': 19}. Best is trial 35 with value: 0.8282535155088541.\u001b[0m\n",
      "\u001b[32m[I 2021-12-28 03:01:08,702]\u001b[0m Trial 43 finished with value: 0.824813258480732 and parameters: {'iterations': 4965, 'loss_function': 'RMSE', 'learning_rate': 0.05567800860405975, 'l2_leaf_reg': 0.4272811403400607, 'colsample_bylevel': 0.9452671889820915, 'depth': 10, 'boosting_type': 'Ordered', 'bootstrap_type': 'MVS', 'min_data_in_leaf': 16, 'one_hot_max_size': 17}. Best is trial 35 with value: 0.8282535155088541.\u001b[0m\n",
      "\u001b[32m[I 2021-12-28 03:06:48,105]\u001b[0m Trial 44 finished with value: 0.822732139887685 and parameters: {'iterations': 4193, 'loss_function': 'RMSE', 'learning_rate': 0.025404471574438564, 'l2_leaf_reg': 0.5863458533322159, 'colsample_bylevel': 0.9886103755286848, 'depth': 8, 'boosting_type': 'Ordered', 'bootstrap_type': 'Bayesian', 'min_data_in_leaf': 11, 'one_hot_max_size': 14, 'bagging_temperature': 3.4802042780642117}. Best is trial 35 with value: 0.8282535155088541.\u001b[0m\n",
      "\u001b[32m[I 2021-12-28 03:09:14,510]\u001b[0m Trial 45 finished with value: 0.8259198749238521 and parameters: {'iterations': 4708, 'loss_function': 'RMSE', 'learning_rate': 0.05462893765148647, 'l2_leaf_reg': 0.7667529873887151, 'colsample_bylevel': 0.8117451060635719, 'depth': 7, 'boosting_type': 'Ordered', 'bootstrap_type': 'MVS', 'min_data_in_leaf': 17, 'one_hot_max_size': 16}. Best is trial 35 with value: 0.8282535155088541.\u001b[0m\n",
      "\u001b[32m[I 2021-12-28 03:18:42,360]\u001b[0m Trial 46 finished with value: 0.8290653765287809 and parameters: {'iterations': 3987, 'loss_function': 'RMSE', 'learning_rate': 0.06192182247932641, 'l2_leaf_reg': 0.4502849963867213, 'colsample_bylevel': 0.8077148686837928, 'depth': 9, 'boosting_type': 'Ordered', 'bootstrap_type': 'Bernoulli', 'min_data_in_leaf': 18, 'one_hot_max_size': 14, 'subsample': 0.5861057075836258}. Best is trial 46 with value: 0.8290653765287809.\u001b[0m\n",
      "\u001b[32m[I 2021-12-28 03:28:03,382]\u001b[0m Trial 47 finished with value: 0.7230799282733422 and parameters: {'iterations': 4014, 'loss_function': 'MAPE', 'learning_rate': 0.07522421182773785, 'l2_leaf_reg': 0.42624383176083575, 'colsample_bylevel': 0.7816658132176845, 'depth': 9, 'boosting_type': 'Ordered', 'bootstrap_type': 'Bernoulli', 'min_data_in_leaf': 18, 'one_hot_max_size': 14, 'subsample': 0.5835388423124587}. Best is trial 46 with value: 0.8290653765287809.\u001b[0m\n",
      "\u001b[32m[I 2021-12-28 03:43:41,774]\u001b[0m Trial 48 finished with value: 0.8289679592459338 and parameters: {'iterations': 3836, 'loss_function': 'RMSE', 'learning_rate': 0.04174314651423486, 'l2_leaf_reg': 0.08026350518524222, 'colsample_bylevel': 0.6640604306236341, 'depth': 10, 'boosting_type': 'Ordered', 'bootstrap_type': 'Bernoulli', 'min_data_in_leaf': 19, 'one_hot_max_size': 13, 'subsample': 0.427114426027269}. Best is trial 46 with value: 0.8290653765287809.\u001b[0m\n",
      "\u001b[32m[I 2021-12-28 03:44:17,306]\u001b[0m Trial 49 finished with value: 0.8258443982793512 and parameters: {'iterations': 3796, 'loss_function': 'RMSE', 'learning_rate': 0.04727960541592314, 'l2_leaf_reg': 0.07381354318417993, 'colsample_bylevel': 0.02204205088895922, 'depth': 10, 'boosting_type': 'Ordered', 'bootstrap_type': 'Bernoulli', 'min_data_in_leaf': 19, 'one_hot_max_size': 12, 'subsample': 0.40194688935246187}. Best is trial 46 with value: 0.8290653765287809.\u001b[0m\n"
     ]
    },
    {
     "name": "stdout",
     "output_type": "stream",
     "text": [
      "==============================  Process Finished  ==============================\n"
     ]
    }
   ],
   "source": [
    "# './data/data_mpa.txt', './data/data_spg.txt', './data/data_sps.txt'\n",
    "config = dict(\n",
    "    FILEPATHS = ['./data/archive/extract_mpa.csv', './data/archive/extract_spg.csv', \n",
    "                 './data/archive/extract_sps.csv'],\n",
    "    TUNING_ITER = 2,\n",
    "    N_TRIALS = 50,\n",
    "    DROP_COLUMNS = ['velocity', 'start_time', 'packnr'],\n",
    "    LOG_SCALE_TARGET = False,\n",
    "    MODEL_NAME = 'CAT',\n",
    "    SAVE_DIR = './results/final2/complex/' , # Needs to end with '/' like './results/final/'\n",
    "    EXTRACT_MAX_FEATURES = True,\n",
    "    EXTRACT_MEAN_FEATURES = True,\n",
    "    DEBUG_RUN = False,\n",
    "    DATE_FROM = 2020,  # selcts Dates >= DATE_FROM\n",
    ")\n",
    "\n",
    "try:\n",
    "    save_dir = config['SAVE_DIR'].split('/')[1:]\n",
    "    check_dir = None\n",
    "    for sdir in save_dir:\n",
    "        if check_dir:\n",
    "            check_dir = check_dir + '/' + sdir\n",
    "        else:\n",
    "            check_dir = sdir\n",
    "        try:\n",
    "            os.mkdir(check_dir)\n",
    "        except FileExistsError as fe:\n",
    "            print(fe, 'Skipping iteration')\n",
    "except:\n",
    "    os.mkdir(config['SAVE_DIR'])\n",
    "\n",
    "# Save Parametr-configs of file\n",
    "if 'config.yaml' in os.listdir(config['SAVE_DIR']):\n",
    "    print(Exception('Config already exists!'))\n",
    "    if input('Want Overwrite Existing? (y/n)')=='y':\n",
    "        with open(config['SAVE_DIR'] + 'config.yaml', 'w') as yaml_file:\n",
    "            yaml.dump(config, yaml_file)\n",
    "else:\n",
    "    with open(config['SAVE_DIR'] + 'config.yaml', 'w') as yaml_file:\n",
    "        yaml.dump(config, yaml_file)\n",
    "        \n",
    "for path in config['FILEPATHS']:\n",
    "    \n",
    "    device_name = path.split('_')[-1].split('.')[0]\n",
    "\n",
    "    print(10*'=', f'Starting Study for {device_name}', 10*'=')\n",
    "    # Read processed data\n",
    "    if config['DEBUG_RUN']:\n",
    "        data = pd.read_table(path, sep=' ', nrows=1000)\n",
    "    else:\n",
    "        data = pd.read_table(path, sep=' ')\n",
    "        \n",
    "    # Resample data\n",
    "    data = data.sample(frac=1, random_state=42).reset_index(drop=True)        \n",
    "    \n",
    "    # Extract Features\n",
    "    #data = feature_extractor_wrapper(df=data, extract_max_features=config['EXTRACT_MAX_FEATURES'],\n",
    "    #                                 extract_mean_features=config['EXTRACT_MEAN_FEATURES'], n_processes=6)\n",
    "    #Filtering data\n",
    "    if config['DATE_FROM'] and not config['DEBUG_RUN']:\n",
    "        data['start_time'] = pd.to_datetime(data['start_time'])\n",
    "        data = data.loc[data['start_time'].dt.year >= config['DATE_FROM']]\n",
    "            \n",
    "    # Splitting of Data\n",
    "    print('INFO | Split Data X, y ...')\n",
    "    feature_cols = data.columns.to_list()\n",
    "    feature_cols.remove('size_mm')\n",
    "    for col in config['DROP_COLUMNS']:\n",
    "        feature_cols.remove(col)\n",
    "    \n",
    "    # Split row wise and Target-wise\n",
    "    X_train, y_train = data[feature_cols], data['size_mm']\n",
    "\n",
    "    print('INFO | Train-Test Split ...')\n",
    "    if config['LOG_SCALE_TARGET']:\n",
    "        y_train = np.log(y_train)\n",
    "\n",
    "    print('INFO | Tune Model ...')\n",
    "    for i in range(config['TUNING_ITER']):\n",
    "        if config['DEBUG_RUN']:\n",
    "            study = optuna.create_study(direction=\"maximize\")\n",
    "            study.optimize(objective_r2_complex, n_trials=0, n_jobs=1, timeout=5)\n",
    "            break\n",
    "        else:\n",
    "            study = optuna.create_study(direction=\"maximize\")\n",
    "            study.optimize(objective_r2_complex, n_trials=config['N_TRIALS'], n_jobs=1)\n",
    "            # Save best params\n",
    "            study_name = '_'.join([config['MODEL_NAME'], device_name, str(i)])\n",
    "\n",
    "            with open(f'{config[\"SAVE_DIR\"]}{study_name}.pkl', 'wb') as pkl_file:\n",
    "                pickle.dump(study, pkl_file)\n",
    "    if config['DEBUG_RUN']:\n",
    "        break\n",
    "print(30*'=', ' Process Finished ', 30*'=')"
   ]
  },
  {
   "cell_type": "markdown",
   "id": "048165b0-756d-462b-890c-f48992829dc2",
   "metadata": {},
   "source": [
    "# Investigate Hyperparameters"
   ]
  },
  {
   "cell_type": "code",
   "execution_count": null,
   "id": "b2968ad2-2337-4a65-a07f-e4fe38864f0b",
   "metadata": {},
   "outputs": [],
   "source": [
    "from IPython.display import HTML\n",
    "pd.set_option(\"display.max_columns\", 100)\n",
    "import plotly.express as px\n",
    "from plot import plot_residuals, plot_error_per_cat"
   ]
  },
  {
   "cell_type": "code",
   "execution_count": null,
   "id": "b7933a4f-9eb7-44b3-868c-3b2275dcdb11",
   "metadata": {},
   "outputs": [],
   "source": [
    "folder_name ='./results/final/final/'"
   ]
  },
  {
   "cell_type": "code",
   "execution_count": null,
   "id": "88029f4e-5e09-4502-9c6a-c85b7a72e772",
   "metadata": {},
   "outputs": [],
   "source": [
    "with open(folder_name + 'config.yaml', 'r') as yaml_file:\n",
    "    configs = yaml.load(yaml_file)\n",
    "configs"
   ]
  },
  {
   "cell_type": "code",
   "execution_count": null,
   "id": "edd35e9b-60d5-4171-8ba8-46bc648ee36c",
   "metadata": {},
   "outputs": [],
   "source": [
    "studies = load_studies_from_folder(folder_name=folder_name, device_name='mpa')\n",
    "df = concat_all_studies_df(studies)\n",
    "df = df.sort_values(by='value', ascending=False)"
   ]
  },
  {
   "cell_type": "code",
   "execution_count": null,
   "id": "96ff7f17-28f5-4ada-b5b0-3a1213beb285",
   "metadata": {},
   "outputs": [],
   "source": [
    "df.head(10)"
   ]
  },
  {
   "cell_type": "code",
   "execution_count": null,
   "id": "65fc34d9-96c8-41ca-8305-d88501b8d6f8",
   "metadata": {},
   "outputs": [],
   "source": [
    "fig = plot_parallel_cordinates(df, objective_maximize=True)\n",
    "HTML(fig.to_html())"
   ]
  },
  {
   "cell_type": "markdown",
   "id": "6c19061a-2e67-48be-8114-b5e867c1c178",
   "metadata": {
    "tags": []
   },
   "source": [
    "# Train Final Model (Complex)"
   ]
  },
  {
   "cell_type": "markdown",
   "id": "58b06eb9-efcc-4b0a-bef4-0a112695d42d",
   "metadata": {},
   "source": [
    "## Create Holdout Set for each System"
   ]
  },
  {
   "cell_type": "code",
   "execution_count": 169,
   "id": "f72fd25a-4d0c-4b0f-b5ec-91fd49c5cd51",
   "metadata": {},
   "outputs": [
    {
     "data": {
      "text/plain": [
       "['extract_mpa.csv']"
      ]
     },
     "execution_count": 169,
     "metadata": {},
     "output_type": "execute_result"
    }
   ],
   "source": [
    "files = [f for f in os.listdir('data') if '.csv' in f]\n",
    "files"
   ]
  },
  {
   "cell_type": "code",
   "execution_count": 170,
   "id": "1d695697-c523-46af-abc8-ae1454cfb356",
   "metadata": {},
   "outputs": [],
   "source": [
    "for fp in files:\n",
    "    data = pd.read_table('./data/'+fp, sep=' ')\n",
    "    X, y = train_test_split(data, test_size=.1)\n",
    "    X.to_csv('./data/split_'+ fp, index=False, sep=' ')\n",
    "    y.to_csv('./data/holdout/test_'+ fp, index=False, sep=' ')"
   ]
  },
  {
   "cell_type": "markdown",
   "id": "810c545e-e4db-4b1f-9327-a7e85a098779",
   "metadata": {},
   "source": [
    "## Helper Funcs"
   ]
  },
  {
   "cell_type": "code",
   "execution_count": 176,
   "id": "1e5deab1-cff1-4878-a6f3-33b928eeb494",
   "metadata": {},
   "outputs": [],
   "source": [
    "from sklearn.pipeline import Pipeline\n",
    "from sklearn.base import TransformerMixin, BaseEstimator\n",
    "from sklearn.preprocessing import PowerTransformer"
   ]
  },
  {
   "cell_type": "code",
   "execution_count": 318,
   "id": "09554281-0147-4b30-8668-e973dae0529a",
   "metadata": {},
   "outputs": [],
   "source": [
    "class OutlierFeatureAdder(TransformerMixin, BaseEstimator):\n",
    "    \"\"\"Wrapper Class for Sklearn Pipeline\"\"\"\n",
    "    def __init__(self):\n",
    "        \"\"\"Adds Outlier feature column\"\"\"\n",
    "        super().__init__()\n",
    "        self.mean = None\n",
    "        self.std = None\n",
    "\n",
    "    def fit(self, X: pd.DataFrame, y=None):\n",
    "        _ = self.add_outlier_feature_length(X)\n",
    "\n",
    "        return self\n",
    "\n",
    "    def fit_transform(self, X: pd.DataFrame, y=None) -> pd.DataFrame:\n",
    "        self.fit(X)\n",
    "        X = self.transform(X)\n",
    "\n",
    "        return X\n",
    "\n",
    "    def transform(self, X: pd.DataFrame, y=None) -> pd.DataFrame:\n",
    "        X = X.copy()\n",
    "        X.loc[:, ('outlier')] = self.add_outlier_feature_length(X)\n",
    "\n",
    "        return X\n",
    "\n",
    "        # Preprocessing functions\n",
    "\n",
    "    def add_outlier_feature_length(self, df: pd.DataFrame) -> pd.DataFrame:\n",
    "        \"\"\"Adds new Feature declaring outliers\"\"\"\n",
    "        # Calculate prediction for outlier\n",
    "        max_len_col = [col for col in df.columns if 'max_len' in col][0]\n",
    "        length_transformed = np.log(df[max_len_col])\n",
    "        if not self.mean:\n",
    "            self.mean = np.mean(length_transformed)\n",
    "            self.std = np.std(length_transformed)\n",
    "\n",
    "        length_transformed = (length_transformed - self.mean) / self.std\n",
    "        outlier_prediction = length_transformed > 3\n",
    "\n",
    "        return outlier_prediction.to_numpy()"
   ]
  },
  {
   "cell_type": "code",
   "execution_count": 181,
   "id": "c920d867-bf1e-4f9c-b90a-55e355519820",
   "metadata": {},
   "outputs": [
    {
     "data": {
      "text/plain": [
       "{'DATE_FROM': 2020,\n",
       " 'DEBUG_RUN': False,\n",
       " 'DROP_COLUMNS': ['velocity', 'start_time', 'packnr'],\n",
       " 'EXTRACT_MAX_FEATURES': True,\n",
       " 'EXTRACT_MEAN_FEATURES': True,\n",
       " 'FILEPATHS': ['./data/archive/extract_mpa.csv',\n",
       "  './data/archive/extract_spg.csv',\n",
       "  './data/archive/extract_sps.csv'],\n",
       " 'LOG_SCALE_TARGET': False,\n",
       " 'MODEL_NAME': 'CAT',\n",
       " 'N_TRIALS': 50,\n",
       " 'SAVE_DIR': './results/final2/complex/',\n",
       " 'TUNING_ITER': 2}"
      ]
     },
     "execution_count": 181,
     "metadata": {},
     "output_type": "execute_result"
    }
   ],
   "source": [
    "with open('./results/final2/complex/config.yaml', 'r') as yaml_file:\n",
    "    configs = yaml.load(yaml_file, Loader=yaml.FullLoader)\n",
    "configs"
   ]
  },
  {
   "cell_type": "code",
   "execution_count": 426,
   "id": "1c9eab11-03ec-4398-b66c-046d5af584cb",
   "metadata": {},
   "outputs": [],
   "source": [
    "def preprocess_data(data, datefrom=None):\n",
    "    #Filtering data\n",
    "    if datefrom:\n",
    "        data['start_time'] = pd.to_datetime(data['start_time'])\n",
    "        data = data.loc[data['start_time'].dt.year >= configs['DATE_FROM']]\n",
    "\n",
    "    # Split row wise and Target-wise\n",
    "    feature_columns = data.columns.to_list()\n",
    "    drop_columns = ['start_time', 'velocity', 'packnr', 'size_mm']\n",
    "    for col in drop_columns:\n",
    "        feature_columns.remove(col)\n",
    "    X, y = data[feature_columns], data['size_mm']\n",
    "    \n",
    "    return X, y"
   ]
  },
  {
   "cell_type": "markdown",
   "id": "150168a5-6597-41d9-821f-ab0069c99f9e",
   "metadata": {
    "tags": []
   },
   "source": [
    "## MPA"
   ]
  },
  {
   "cell_type": "code",
   "execution_count": 427,
   "id": "cb1354b4-b263-4d35-beee-b85cc19319eb",
   "metadata": {},
   "outputs": [],
   "source": [
    "# Load best study\n",
    "studies = load_studies_from_folder(folder_name='./results/final2/complex/', device_name='mpa')\n",
    "all_studies = concat_all_studies(studies=studies, as_dataframe=False)\n",
    "df = concat_all_studies(studies=studies, as_dataframe=True)"
   ]
  },
  {
   "cell_type": "code",
   "execution_count": 276,
   "id": "27d4298f-79a0-4f47-a014-59928433d3d3",
   "metadata": {},
   "outputs": [
    {
     "data": {
      "text/html": [
       "<div>\n",
       "<style scoped>\n",
       "    .dataframe tbody tr th:only-of-type {\n",
       "        vertical-align: middle;\n",
       "    }\n",
       "\n",
       "    .dataframe tbody tr th {\n",
       "        vertical-align: top;\n",
       "    }\n",
       "\n",
       "    .dataframe thead th {\n",
       "        text-align: right;\n",
       "    }\n",
       "</style>\n",
       "<table border=\"1\" class=\"dataframe\">\n",
       "  <thead>\n",
       "    <tr style=\"text-align: right;\">\n",
       "      <th></th>\n",
       "      <th>number</th>\n",
       "      <th>value</th>\n",
       "      <th>datetime_start</th>\n",
       "      <th>datetime_complete</th>\n",
       "      <th>duration</th>\n",
       "      <th>params_bagging_temperature</th>\n",
       "      <th>params_boosting_type</th>\n",
       "      <th>params_bootstrap_type</th>\n",
       "      <th>params_colsample_bylevel</th>\n",
       "      <th>params_depth</th>\n",
       "      <th>params_iterations</th>\n",
       "      <th>params_l2_leaf_reg</th>\n",
       "      <th>params_learning_rate</th>\n",
       "      <th>params_loss_function</th>\n",
       "      <th>params_min_data_in_leaf</th>\n",
       "      <th>params_one_hot_max_size</th>\n",
       "      <th>params_subsample</th>\n",
       "      <th>state</th>\n",
       "    </tr>\n",
       "  </thead>\n",
       "  <tbody>\n",
       "    <tr>\n",
       "      <th>83</th>\n",
       "      <td>83</td>\n",
       "      <td>0.813759</td>\n",
       "      <td>2021-12-27 20:42:21.189549</td>\n",
       "      <td>2021-12-27 20:44:20.907061</td>\n",
       "      <td>0 days 00:01:59.717512</td>\n",
       "      <td>NaN</td>\n",
       "      <td>Plain</td>\n",
       "      <td>MVS</td>\n",
       "      <td>0.793724</td>\n",
       "      <td>9</td>\n",
       "      <td>4395</td>\n",
       "      <td>0.032752</td>\n",
       "      <td>0.012236</td>\n",
       "      <td>RMSE</td>\n",
       "      <td>8</td>\n",
       "      <td>14</td>\n",
       "      <td>NaN</td>\n",
       "      <td>COMPLETE</td>\n",
       "    </tr>\n",
       "    <tr>\n",
       "      <th>33</th>\n",
       "      <td>33</td>\n",
       "      <td>0.813759</td>\n",
       "      <td>2021-12-27 20:42:21.189549</td>\n",
       "      <td>2021-12-27 20:44:20.907061</td>\n",
       "      <td>0 days 00:01:59.717512</td>\n",
       "      <td>NaN</td>\n",
       "      <td>Plain</td>\n",
       "      <td>MVS</td>\n",
       "      <td>0.793724</td>\n",
       "      <td>9</td>\n",
       "      <td>4395</td>\n",
       "      <td>0.032752</td>\n",
       "      <td>0.012236</td>\n",
       "      <td>RMSE</td>\n",
       "      <td>8</td>\n",
       "      <td>14</td>\n",
       "      <td>NaN</td>\n",
       "      <td>COMPLETE</td>\n",
       "    </tr>\n",
       "  </tbody>\n",
       "</table>\n",
       "</div>"
      ],
      "text/plain": [
       "    number     value             datetime_start          datetime_complete  \\\n",
       "83      83  0.813759 2021-12-27 20:42:21.189549 2021-12-27 20:44:20.907061   \n",
       "33      33  0.813759 2021-12-27 20:42:21.189549 2021-12-27 20:44:20.907061   \n",
       "\n",
       "                 duration  params_bagging_temperature params_boosting_type  \\\n",
       "83 0 days 00:01:59.717512                         NaN                Plain   \n",
       "33 0 days 00:01:59.717512                         NaN                Plain   \n",
       "\n",
       "   params_bootstrap_type  params_colsample_bylevel  params_depth  \\\n",
       "83                   MVS                  0.793724             9   \n",
       "33                   MVS                  0.793724             9   \n",
       "\n",
       "    params_iterations  params_l2_leaf_reg  params_learning_rate  \\\n",
       "83               4395            0.032752              0.012236   \n",
       "33               4395            0.032752              0.012236   \n",
       "\n",
       "   params_loss_function  params_min_data_in_leaf  params_one_hot_max_size  \\\n",
       "83                 RMSE                        8                       14   \n",
       "33                 RMSE                        8                       14   \n",
       "\n",
       "    params_subsample     state  \n",
       "83               NaN  COMPLETE  \n",
       "33               NaN  COMPLETE  "
      ]
     },
     "execution_count": 276,
     "metadata": {},
     "output_type": "execute_result"
    }
   ],
   "source": [
    "df.head(2)"
   ]
  },
  {
   "cell_type": "code",
   "execution_count": 428,
   "id": "67523a7e-5fba-4cd0-8945-a62f46bbe247",
   "metadata": {},
   "outputs": [],
   "source": [
    "train = pd.read_table('./data/train/split_extract_mpa.csv', sep=' ')\n",
    "holdout = pd.read_table('./data/holdout/test_extract_mpa.csv', sep=' ')\n",
    "all_data = pd.read_table('./data/archive/extract_mpa.csv', sep=' ')"
   ]
  },
  {
   "cell_type": "code",
   "execution_count": 429,
   "id": "1da70856-84b0-47ae-95d4-a088d8080b4b",
   "metadata": {},
   "outputs": [],
   "source": [
    "X_train, y_train = preprocess_data(train, datefrom=configs['DATE_FROM'])\n",
    "X_test, y_test = preprocess_data(holdout, datefrom=configs['DATE_FROM'])\n",
    "X, y = preprocess_data(all_data, datefrom=configs['DATE_FROM'])"
   ]
  },
  {
   "cell_type": "code",
   "execution_count": 431,
   "id": "5678028e-78f5-496d-b4aa-2e29e921fd30",
   "metadata": {},
   "outputs": [
    {
     "name": "stdout",
     "output_type": "stream",
     "text": [
      "['max_centroid_frequency_M', 'max_centroid_frequency2_M', 'max_median_freq_M', 'max_flash_ind_M', 'max_cv_M', 'max_iqa_M', 'max_mab_M', 'max_imp_M', 'max_len_M', 'max_wavelet_mean_approx_M', 'max_wavelet_med_approx_M', 'max_wavelet_var_approx_M', 'max_wavelet_mean_coef_M', 'max_wavelet_med_coef_M', 'max_wavelet_var_coef_M', 'max_pack_sum_M', 'max_pack_kurtosis_M', 'max_pack_skew_M', 'max_zcr_M', 'max_rmse_M', 'max_spectral_flatness_M', 'max_spectral_rolloff_M', 'mean_wavelet_med_approx_M', 'mean_pack_kurtosis_M', 'mean_imp_M', 'mean_pack_sum_M', 'mean_len_M', 'mean_wavelet_var_approx_M', 'mean_spectral_rolloff_M', 'mean_cv_M', 'mean_wavelet_mean_approx_M', 'mean_mab_M', 'mean_rmse_M', 'mean_wavelet_mean_coef_M', 'mean_wavelet_med_coef_M', 'mean_wavelet_var_coef_M', 'mean_centroid_frequency_M', 'mean_zcr_M', 'mean_spectral_flatness_M', 'mean_flash_ind_M', 'mean_median_freq_M', 'mean_iqa_M', 'mean_pack_skew_M', 'mean_centroid_frequency2_M']\n"
     ]
    }
   ],
   "source": [
    "print(X.columns.to_list())"
   ]
  },
  {
   "cell_type": "code",
   "execution_count": 280,
   "id": "c6bed279-3b2a-41b1-81b6-fc5099f4b37b",
   "metadata": {},
   "outputs": [
    {
     "data": {
      "text/html": [
       "<div>\n",
       "<style scoped>\n",
       "    .dataframe tbody tr th:only-of-type {\n",
       "        vertical-align: middle;\n",
       "    }\n",
       "\n",
       "    .dataframe tbody tr th {\n",
       "        vertical-align: top;\n",
       "    }\n",
       "\n",
       "    .dataframe thead th {\n",
       "        text-align: right;\n",
       "    }\n",
       "</style>\n",
       "<table border=\"1\" class=\"dataframe\">\n",
       "  <thead>\n",
       "    <tr style=\"text-align: right;\">\n",
       "      <th></th>\n",
       "      <th>max_centroid_frequency_M</th>\n",
       "      <th>max_centroid_frequency2_M</th>\n",
       "      <th>max_median_freq_M</th>\n",
       "      <th>max_flash_ind_M</th>\n",
       "      <th>max_cv_M</th>\n",
       "      <th>max_iqa_M</th>\n",
       "      <th>max_mab_M</th>\n",
       "      <th>max_imp_M</th>\n",
       "      <th>max_len_M</th>\n",
       "      <th>max_wavelet_mean_approx_M</th>\n",
       "      <th>max_wavelet_med_approx_M</th>\n",
       "      <th>max_wavelet_var_approx_M</th>\n",
       "      <th>max_wavelet_mean_coef_M</th>\n",
       "      <th>max_wavelet_med_coef_M</th>\n",
       "      <th>max_wavelet_var_coef_M</th>\n",
       "      <th>max_pack_sum_M</th>\n",
       "      <th>max_pack_kurtosis_M</th>\n",
       "      <th>max_pack_skew_M</th>\n",
       "      <th>max_zcr_M</th>\n",
       "      <th>max_rmse_M</th>\n",
       "      <th>max_spectral_flatness_M</th>\n",
       "      <th>max_spectral_rolloff_M</th>\n",
       "      <th>mean_wavelet_med_approx_M</th>\n",
       "      <th>mean_pack_kurtosis_M</th>\n",
       "      <th>mean_imp_M</th>\n",
       "      <th>mean_pack_sum_M</th>\n",
       "      <th>mean_len_M</th>\n",
       "      <th>mean_wavelet_var_approx_M</th>\n",
       "      <th>mean_spectral_rolloff_M</th>\n",
       "      <th>mean_cv_M</th>\n",
       "      <th>mean_wavelet_mean_approx_M</th>\n",
       "      <th>mean_mab_M</th>\n",
       "      <th>mean_rmse_M</th>\n",
       "      <th>mean_wavelet_mean_coef_M</th>\n",
       "      <th>mean_wavelet_med_coef_M</th>\n",
       "      <th>mean_wavelet_var_coef_M</th>\n",
       "      <th>mean_centroid_frequency_M</th>\n",
       "      <th>mean_zcr_M</th>\n",
       "      <th>mean_spectral_flatness_M</th>\n",
       "      <th>mean_flash_ind_M</th>\n",
       "      <th>mean_median_freq_M</th>\n",
       "      <th>mean_iqa_M</th>\n",
       "      <th>mean_pack_skew_M</th>\n",
       "      <th>mean_centroid_frequency2_M</th>\n",
       "    </tr>\n",
       "  </thead>\n",
       "  <tbody>\n",
       "    <tr>\n",
       "      <th>46123</th>\n",
       "      <td>3497.695364</td>\n",
       "      <td>3651.198231</td>\n",
       "      <td>3536.219986</td>\n",
       "      <td>0.001092</td>\n",
       "      <td>0.862842</td>\n",
       "      <td>0.001232</td>\n",
       "      <td>2.219500</td>\n",
       "      <td>6</td>\n",
       "      <td>50</td>\n",
       "      <td>0.010757</td>\n",
       "      <td>0.004717</td>\n",
       "      <td>0.060872</td>\n",
       "      <td>-0.048754</td>\n",
       "      <td>0.016504</td>\n",
       "      <td>0.429507</td>\n",
       "      <td>12.338051</td>\n",
       "      <td>9.746077</td>\n",
       "      <td>0.611091</td>\n",
       "      <td>0.400000</td>\n",
       "      <td>0.496423</td>\n",
       "      <td>0.000011</td>\n",
       "      <td>9894.506836</td>\n",
       "      <td>0.000976</td>\n",
       "      <td>4.242255</td>\n",
       "      <td>1.5</td>\n",
       "      <td>3.335155</td>\n",
       "      <td>50.0</td>\n",
       "      <td>0.015228</td>\n",
       "      <td>10021.014404</td>\n",
       "      <td>1.070040</td>\n",
       "      <td>0.002651</td>\n",
       "      <td>0.575967</td>\n",
       "      <td>0.131418</td>\n",
       "      <td>-0.014385</td>\n",
       "      <td>0.004007</td>\n",
       "      <td>0.107506</td>\n",
       "      <td>3583.433065</td>\n",
       "      <td>0.360000</td>\n",
       "      <td>0.000017</td>\n",
       "      <td>0.002151</td>\n",
       "      <td>3925.300634</td>\n",
       "      <td>0.000308</td>\n",
       "      <td>0.295696</td>\n",
       "      <td>4039.261582</td>\n",
       "    </tr>\n",
       "    <tr>\n",
       "      <th>46124</th>\n",
       "      <td>3199.658992</td>\n",
       "      <td>3221.798014</td>\n",
       "      <td>3199.297511</td>\n",
       "      <td>0.001530</td>\n",
       "      <td>1.051200</td>\n",
       "      <td>0.000913</td>\n",
       "      <td>1.717626</td>\n",
       "      <td>6</td>\n",
       "      <td>52</td>\n",
       "      <td>-0.000927</td>\n",
       "      <td>0.002873</td>\n",
       "      <td>0.136028</td>\n",
       "      <td>0.023480</td>\n",
       "      <td>-0.026114</td>\n",
       "      <td>0.214632</td>\n",
       "      <td>11.093694</td>\n",
       "      <td>6.678718</td>\n",
       "      <td>-1.344587</td>\n",
       "      <td>0.365385</td>\n",
       "      <td>0.419054</td>\n",
       "      <td>0.000005</td>\n",
       "      <td>8860.913086</td>\n",
       "      <td>0.001026</td>\n",
       "      <td>2.529704</td>\n",
       "      <td>1.5</td>\n",
       "      <td>2.892688</td>\n",
       "      <td>52.0</td>\n",
       "      <td>0.034012</td>\n",
       "      <td>9751.849365</td>\n",
       "      <td>0.781672</td>\n",
       "      <td>-0.000175</td>\n",
       "      <td>0.439087</td>\n",
       "      <td>0.107910</td>\n",
       "      <td>0.006889</td>\n",
       "      <td>-0.005770</td>\n",
       "      <td>0.053677</td>\n",
       "      <td>3052.273182</td>\n",
       "      <td>0.350962</td>\n",
       "      <td>0.000024</td>\n",
       "      <td>0.003199</td>\n",
       "      <td>3212.107735</td>\n",
       "      <td>0.000228</td>\n",
       "      <td>-0.260954</td>\n",
       "      <td>3390.562010</td>\n",
       "    </tr>\n",
       "  </tbody>\n",
       "</table>\n",
       "</div>"
      ],
      "text/plain": [
       "       max_centroid_frequency_M  max_centroid_frequency2_M  max_median_freq_M  \\\n",
       "46123               3497.695364                3651.198231        3536.219986   \n",
       "46124               3199.658992                3221.798014        3199.297511   \n",
       "\n",
       "       max_flash_ind_M  max_cv_M  max_iqa_M  max_mab_M  max_imp_M  max_len_M  \\\n",
       "46123         0.001092  0.862842   0.001232   2.219500          6         50   \n",
       "46124         0.001530  1.051200   0.000913   1.717626          6         52   \n",
       "\n",
       "       max_wavelet_mean_approx_M  max_wavelet_med_approx_M  \\\n",
       "46123                   0.010757                  0.004717   \n",
       "46124                  -0.000927                  0.002873   \n",
       "\n",
       "       max_wavelet_var_approx_M  max_wavelet_mean_coef_M  \\\n",
       "46123                  0.060872                -0.048754   \n",
       "46124                  0.136028                 0.023480   \n",
       "\n",
       "       max_wavelet_med_coef_M  max_wavelet_var_coef_M  max_pack_sum_M  \\\n",
       "46123                0.016504                0.429507       12.338051   \n",
       "46124               -0.026114                0.214632       11.093694   \n",
       "\n",
       "       max_pack_kurtosis_M  max_pack_skew_M  max_zcr_M  max_rmse_M  \\\n",
       "46123             9.746077         0.611091   0.400000    0.496423   \n",
       "46124             6.678718        -1.344587   0.365385    0.419054   \n",
       "\n",
       "       max_spectral_flatness_M  max_spectral_rolloff_M  \\\n",
       "46123                 0.000011             9894.506836   \n",
       "46124                 0.000005             8860.913086   \n",
       "\n",
       "       mean_wavelet_med_approx_M  mean_pack_kurtosis_M  mean_imp_M  \\\n",
       "46123                   0.000976              4.242255         1.5   \n",
       "46124                   0.001026              2.529704         1.5   \n",
       "\n",
       "       mean_pack_sum_M  mean_len_M  mean_wavelet_var_approx_M  \\\n",
       "46123         3.335155        50.0                   0.015228   \n",
       "46124         2.892688        52.0                   0.034012   \n",
       "\n",
       "       mean_spectral_rolloff_M  mean_cv_M  mean_wavelet_mean_approx_M  \\\n",
       "46123             10021.014404   1.070040                    0.002651   \n",
       "46124              9751.849365   0.781672                   -0.000175   \n",
       "\n",
       "       mean_mab_M  mean_rmse_M  mean_wavelet_mean_coef_M  \\\n",
       "46123    0.575967     0.131418                 -0.014385   \n",
       "46124    0.439087     0.107910                  0.006889   \n",
       "\n",
       "       mean_wavelet_med_coef_M  mean_wavelet_var_coef_M  \\\n",
       "46123                 0.004007                 0.107506   \n",
       "46124                -0.005770                 0.053677   \n",
       "\n",
       "       mean_centroid_frequency_M  mean_zcr_M  mean_spectral_flatness_M  \\\n",
       "46123                3583.433065    0.360000                  0.000017   \n",
       "46124                3052.273182    0.350962                  0.000024   \n",
       "\n",
       "       mean_flash_ind_M  mean_median_freq_M  mean_iqa_M  mean_pack_skew_M  \\\n",
       "46123          0.002151         3925.300634    0.000308          0.295696   \n",
       "46124          0.003199         3212.107735    0.000228         -0.260954   \n",
       "\n",
       "       mean_centroid_frequency2_M  \n",
       "46123                 4039.261582  \n",
       "46124                 3390.562010  "
      ]
     },
     "execution_count": 280,
     "metadata": {},
     "output_type": "execute_result"
    }
   ],
   "source": [
    "X.head(2)"
   ]
  },
  {
   "cell_type": "code",
   "execution_count": 281,
   "id": "7480d0cf-e48e-47db-aff2-1820e57f495a",
   "metadata": {},
   "outputs": [
    {
     "data": {
      "text/plain": [
       "0.8137588385807424"
      ]
     },
     "execution_count": 281,
     "metadata": {},
     "output_type": "execute_result"
    }
   ],
   "source": [
    "all_studies.best_trial.value"
   ]
  },
  {
   "cell_type": "code",
   "execution_count": 282,
   "id": "47b3e5f3-2391-4134-96d9-15ecad12dc8e",
   "metadata": {
    "tags": []
   },
   "outputs": [
    {
     "data": {
      "text/plain": [
       "{'iterations': 4395,\n",
       " 'loss_function': 'RMSE',\n",
       " 'learning_rate': 0.012236384160613935,\n",
       " 'l2_leaf_reg': 0.03275174155986356,\n",
       " 'colsample_bylevel': 0.7937237938482521,\n",
       " 'depth': 9,\n",
       " 'boosting_type': 'Plain',\n",
       " 'bootstrap_type': 'MVS',\n",
       " 'min_data_in_leaf': 8,\n",
       " 'one_hot_max_size': 14}"
      ]
     },
     "execution_count": 282,
     "metadata": {},
     "output_type": "execute_result"
    }
   ],
   "source": [
    "params = all_studies.best_trial\n",
    "model_params = params.params\n",
    "model_params"
   ]
  },
  {
   "cell_type": "code",
   "execution_count": 283,
   "id": "050730ec-8c62-4883-8431-f332db295187",
   "metadata": {},
   "outputs": [],
   "source": [
    "catboost_mpa_pipe = Pipeline([('outlier_feature', OutlierFeatureAdder()),\n",
    "                             ('power_transform', PowerTransformer()), \n",
    "                             ('cat_boost', CatBoostRegressor(**model_params, silent=True))])"
   ]
  },
  {
   "cell_type": "code",
   "execution_count": 284,
   "id": "5720e5a7-e668-498f-a94c-7a88210946cd",
   "metadata": {},
   "outputs": [],
   "source": [
    "scores = cross_val_score(estimator=catboost_mpa_pipe, X=X_train, y=y_train, cv=10, n_jobs=10)"
   ]
  },
  {
   "cell_type": "code",
   "execution_count": 285,
   "id": "70f428e6-07c9-46db-bdba-d8facb30233a",
   "metadata": {},
   "outputs": [
    {
     "name": "stdout",
     "output_type": "stream",
     "text": [
      "All Scores:  [0.81655299 0.82897528 0.82991611 0.80818425 0.79688837 0.80734319\n",
      " 0.80823731 0.80959279 0.81670264 0.81544138]\n"
     ]
    }
   ],
   "source": [
    "print('All Scores: ', scores)"
   ]
  },
  {
   "cell_type": "code",
   "execution_count": 286,
   "id": "51274145-2409-423f-a8e3-2149869df323",
   "metadata": {},
   "outputs": [
    {
     "name": "stdout",
     "output_type": "stream",
     "text": [
      "Mean Score:  0.8137834306214307\n"
     ]
    }
   ],
   "source": [
    "print('Mean Score: ', np.mean(scores))"
   ]
  },
  {
   "cell_type": "code",
   "execution_count": 287,
   "id": "0bf30149-1038-4e97-b4cf-91233337252c",
   "metadata": {},
   "outputs": [
    {
     "data": {
      "text/plain": [
       "Pipeline(steps=[('outlier_feature', OutlierFeatureAdder()),\n",
       "                ('power_transform', PowerTransformer()),\n",
       "                ('cat_boost',\n",
       "                 <catboost.core.CatBoostRegressor object at 0x7f4ad8836730>)])"
      ]
     },
     "execution_count": 287,
     "metadata": {},
     "output_type": "execute_result"
    }
   ],
   "source": [
    "catboost_mpa_pipe.fit(X_train, y_train)"
   ]
  },
  {
   "cell_type": "code",
   "execution_count": 288,
   "id": "8618069f-9773-49a4-85c4-05e1720ec0a3",
   "metadata": {},
   "outputs": [],
   "source": [
    "y_pred = catboost_mpa_pipe.predict(X_test)"
   ]
  },
  {
   "cell_type": "code",
   "execution_count": 289,
   "id": "58f846bb-fddd-480f-8196-ff920e1b5232",
   "metadata": {},
   "outputs": [
    {
     "name": "stdout",
     "output_type": "stream",
     "text": [
      "MAPE: 0.248280260926552\n"
     ]
    }
   ],
   "source": [
    "print('MAPE:', mean_absolute_percentage_error(y_test, y_pred))"
   ]
  },
  {
   "cell_type": "code",
   "execution_count": 290,
   "id": "9eaa1c05-f33e-4e79-8ef5-58906b8608ab",
   "metadata": {},
   "outputs": [
    {
     "name": "stdout",
     "output_type": "stream",
     "text": [
      "R2-Score: 0.8035975791350025\n"
     ]
    }
   ],
   "source": [
    "print('R2-Score:', r2_score(y_test, y_pred))"
   ]
  },
  {
   "cell_type": "code",
   "execution_count": 291,
   "id": "0cc65c13-b89b-4f3d-9eb8-e7db0e672e63",
   "metadata": {},
   "outputs": [],
   "source": [
    "pred_error = pd.DataFrame(data={'y_pred':y_pred, 'y_test':y_test})\n",
    "pred_error = pd.concat([holdout[['start_time', 'velocity', 'packnr', 'size_mm']], pred_error], axis=1)\n",
    "pred_error.to_csv('./data/error/mpa/complex.csv', sep=' ', index=False)"
   ]
  },
  {
   "cell_type": "code",
   "execution_count": 292,
   "id": "b61c5b32-6a20-4ed3-8bc7-b8f47dcbc5b7",
   "metadata": {},
   "outputs": [
    {
     "data": {
      "text/plain": [
       "Pipeline(steps=[('outlier_feature', OutlierFeatureAdder()),\n",
       "                ('power_transform', PowerTransformer()),\n",
       "                ('cat_boost',\n",
       "                 <catboost.core.CatBoostRegressor object at 0x7f4ad8836730>)])"
      ]
     },
     "execution_count": 292,
     "metadata": {},
     "output_type": "execute_result"
    }
   ],
   "source": [
    "catboost_mpa_pipe.fit(X, y)"
   ]
  },
  {
   "cell_type": "code",
   "execution_count": 293,
   "id": "74d0571f-bba0-4188-94a0-cabffd4d6968",
   "metadata": {},
   "outputs": [
    {
     "data": {
      "text/plain": [
       "0.9523600178624564"
      ]
     },
     "execution_count": 293,
     "metadata": {},
     "output_type": "execute_result"
    }
   ],
   "source": [
    "catboost_mpa_pipe.score(X, y)"
   ]
  },
  {
   "cell_type": "code",
   "execution_count": 294,
   "id": "207ef71f-1fc5-4a8d-b694-2b435d598ac8",
   "metadata": {},
   "outputs": [],
   "source": [
    "with open('./models/mpa/mpa_catboost_complex.pkl', 'wb') as pkl_file:\n",
    "    pickle.dump(obj=catboost_mpa_pipe, file=pkl_file)"
   ]
  },
  {
   "cell_type": "markdown",
   "id": "46f22862-73c3-4708-bd08-98b9f47b7b95",
   "metadata": {},
   "source": [
    "## SPG"
   ]
  },
  {
   "cell_type": "code",
   "execution_count": 432,
   "id": "eb32cd8e-15a2-41f5-8ea6-c0dde184f9cc",
   "metadata": {},
   "outputs": [],
   "source": [
    "# Load best study\n",
    "studies = load_studies_from_folder(folder_name='./results/final2/complex/', device_name='spg')\n",
    "all_studies = concat_all_studies(studies=studies, as_dataframe=False)\n",
    "df = concat_all_studies(studies=studies, as_dataframe=True)"
   ]
  },
  {
   "cell_type": "code",
   "execution_count": 433,
   "id": "da10e47c-508f-4647-bd06-20eb8ff2d408",
   "metadata": {},
   "outputs": [
    {
     "data": {
      "text/html": [
       "<div>\n",
       "<style scoped>\n",
       "    .dataframe tbody tr th:only-of-type {\n",
       "        vertical-align: middle;\n",
       "    }\n",
       "\n",
       "    .dataframe tbody tr th {\n",
       "        vertical-align: top;\n",
       "    }\n",
       "\n",
       "    .dataframe thead th {\n",
       "        text-align: right;\n",
       "    }\n",
       "</style>\n",
       "<table border=\"1\" class=\"dataframe\">\n",
       "  <thead>\n",
       "    <tr style=\"text-align: right;\">\n",
       "      <th></th>\n",
       "      <th>number</th>\n",
       "      <th>value</th>\n",
       "      <th>datetime_start</th>\n",
       "      <th>datetime_complete</th>\n",
       "      <th>duration</th>\n",
       "      <th>params_bagging_temperature</th>\n",
       "      <th>params_boosting_type</th>\n",
       "      <th>params_bootstrap_type</th>\n",
       "      <th>params_colsample_bylevel</th>\n",
       "      <th>params_depth</th>\n",
       "      <th>params_iterations</th>\n",
       "      <th>params_l2_leaf_reg</th>\n",
       "      <th>params_learning_rate</th>\n",
       "      <th>params_loss_function</th>\n",
       "      <th>params_min_data_in_leaf</th>\n",
       "      <th>params_one_hot_max_size</th>\n",
       "      <th>params_subsample</th>\n",
       "      <th>state</th>\n",
       "    </tr>\n",
       "  </thead>\n",
       "  <tbody>\n",
       "    <tr>\n",
       "      <th>32</th>\n",
       "      <td>32</td>\n",
       "      <td>0.795274</td>\n",
       "      <td>2021-12-27 21:28:30.906806</td>\n",
       "      <td>2021-12-27 21:29:33.931640</td>\n",
       "      <td>0 days 00:01:03.024834</td>\n",
       "      <td>NaN</td>\n",
       "      <td>Plain</td>\n",
       "      <td>Bernoulli</td>\n",
       "      <td>0.234813</td>\n",
       "      <td>9</td>\n",
       "      <td>4838</td>\n",
       "      <td>0.039844</td>\n",
       "      <td>0.022214</td>\n",
       "      <td>RMSE</td>\n",
       "      <td>20</td>\n",
       "      <td>7</td>\n",
       "      <td>0.707800</td>\n",
       "      <td>COMPLETE</td>\n",
       "    </tr>\n",
       "    <tr>\n",
       "      <th>43</th>\n",
       "      <td>43</td>\n",
       "      <td>0.795083</td>\n",
       "      <td>2021-12-27 21:35:00.894589</td>\n",
       "      <td>2021-12-27 21:35:49.822653</td>\n",
       "      <td>0 days 00:00:48.928064</td>\n",
       "      <td>NaN</td>\n",
       "      <td>Plain</td>\n",
       "      <td>Bernoulli</td>\n",
       "      <td>0.152274</td>\n",
       "      <td>9</td>\n",
       "      <td>4621</td>\n",
       "      <td>0.079772</td>\n",
       "      <td>0.008476</td>\n",
       "      <td>RMSE</td>\n",
       "      <td>19</td>\n",
       "      <td>8</td>\n",
       "      <td>0.514965</td>\n",
       "      <td>COMPLETE</td>\n",
       "    </tr>\n",
       "  </tbody>\n",
       "</table>\n",
       "</div>"
      ],
      "text/plain": [
       "    number     value             datetime_start          datetime_complete  \\\n",
       "32      32  0.795274 2021-12-27 21:28:30.906806 2021-12-27 21:29:33.931640   \n",
       "43      43  0.795083 2021-12-27 21:35:00.894589 2021-12-27 21:35:49.822653   \n",
       "\n",
       "                 duration  params_bagging_temperature params_boosting_type  \\\n",
       "32 0 days 00:01:03.024834                         NaN                Plain   \n",
       "43 0 days 00:00:48.928064                         NaN                Plain   \n",
       "\n",
       "   params_bootstrap_type  params_colsample_bylevel  params_depth  \\\n",
       "32             Bernoulli                  0.234813             9   \n",
       "43             Bernoulli                  0.152274             9   \n",
       "\n",
       "    params_iterations  params_l2_leaf_reg  params_learning_rate  \\\n",
       "32               4838            0.039844              0.022214   \n",
       "43               4621            0.079772              0.008476   \n",
       "\n",
       "   params_loss_function  params_min_data_in_leaf  params_one_hot_max_size  \\\n",
       "32                 RMSE                       20                        7   \n",
       "43                 RMSE                       19                        8   \n",
       "\n",
       "    params_subsample     state  \n",
       "32          0.707800  COMPLETE  \n",
       "43          0.514965  COMPLETE  "
      ]
     },
     "execution_count": 433,
     "metadata": {},
     "output_type": "execute_result"
    }
   ],
   "source": [
    "df.head(2)"
   ]
  },
  {
   "cell_type": "code",
   "execution_count": 434,
   "id": "5bee010a-7905-462a-a51c-11c9c7b24464",
   "metadata": {},
   "outputs": [],
   "source": [
    "train = pd.read_table('./data/train/split_extract_spg.csv', sep=' ')\n",
    "holdout = pd.read_table('./data/holdout/test_extract_spg.csv', sep=' ')\n",
    "all_data = pd.read_table('./data/archive/extract_spg.csv', sep=' ')"
   ]
  },
  {
   "cell_type": "code",
   "execution_count": 436,
   "id": "c2cd5249-3f31-49c2-bba6-d305cc4cf8d1",
   "metadata": {},
   "outputs": [],
   "source": [
    "X_train, y_train = preprocess_data(train, datefrom=configs['DATE_FROM'])\n",
    "X_test, y_test = preprocess_data(holdout, datefrom=configs['DATE_FROM'])\n",
    "X, y = preprocess_data(all_data, datefrom=configs['DATE_FROM'])"
   ]
  },
  {
   "cell_type": "code",
   "execution_count": 437,
   "id": "badbea07-834b-4bb8-a51e-2165ea9f8f22",
   "metadata": {},
   "outputs": [
    {
     "name": "stdout",
     "output_type": "stream",
     "text": [
      "['max_centroid_frequency_G', 'max_centroid_frequency2_G', 'max_median_freq_G', 'max_flash_ind_G', 'max_cv_G', 'max_iqa_G', 'max_mab_G', 'max_imp_G', 'max_len_G', 'max_wavelet_mean_approx_G', 'max_wavelet_med_approx_G', 'max_wavelet_var_approx_G', 'max_wavelet_mean_coef_G', 'max_wavelet_med_coef_G', 'max_wavelet_var_coef_G', 'max_pack_sum_G', 'max_pack_kurtosis_G', 'max_pack_skew_G', 'max_zcr_G', 'max_rmse_G', 'max_spectral_flatness_G', 'max_spectral_rolloff_G', 'mean_imp_G', 'mean_wavelet_var_coef_G', 'mean_rmse_G', 'mean_iqa_G', 'mean_wavelet_med_approx_G', 'mean_pack_sum_G', 'mean_spectral_rolloff_G', 'mean_zcr_G', 'mean_pack_kurtosis_G', 'mean_centroid_frequency_G', 'mean_median_freq_G', 'mean_len_G', 'mean_cv_G', 'mean_flash_ind_G', 'mean_spectral_flatness_G', 'mean_centroid_frequency2_G', 'mean_wavelet_med_coef_G', 'mean_pack_skew_G', 'mean_wavelet_var_approx_G', 'mean_wavelet_mean_coef_G', 'mean_mab_G', 'mean_wavelet_mean_approx_G']\n"
     ]
    }
   ],
   "source": [
    "print(X.columns.to_list())"
   ]
  },
  {
   "cell_type": "code",
   "execution_count": 325,
   "id": "0a40df90-5045-4072-aa60-8bba1e1d7552",
   "metadata": {},
   "outputs": [
    {
     "data": {
      "text/html": [
       "<div>\n",
       "<style scoped>\n",
       "    .dataframe tbody tr th:only-of-type {\n",
       "        vertical-align: middle;\n",
       "    }\n",
       "\n",
       "    .dataframe tbody tr th {\n",
       "        vertical-align: top;\n",
       "    }\n",
       "\n",
       "    .dataframe thead th {\n",
       "        text-align: right;\n",
       "    }\n",
       "</style>\n",
       "<table border=\"1\" class=\"dataframe\">\n",
       "  <thead>\n",
       "    <tr style=\"text-align: right;\">\n",
       "      <th></th>\n",
       "      <th>max_centroid_frequency_G</th>\n",
       "      <th>max_centroid_frequency2_G</th>\n",
       "      <th>max_median_freq_G</th>\n",
       "      <th>max_flash_ind_G</th>\n",
       "      <th>max_cv_G</th>\n",
       "      <th>max_iqa_G</th>\n",
       "      <th>max_mab_G</th>\n",
       "      <th>max_imp_G</th>\n",
       "      <th>max_len_G</th>\n",
       "      <th>max_wavelet_mean_approx_G</th>\n",
       "      <th>max_wavelet_med_approx_G</th>\n",
       "      <th>max_wavelet_var_approx_G</th>\n",
       "      <th>max_wavelet_mean_coef_G</th>\n",
       "      <th>max_wavelet_med_coef_G</th>\n",
       "      <th>max_wavelet_var_coef_G</th>\n",
       "      <th>max_pack_sum_G</th>\n",
       "      <th>max_pack_kurtosis_G</th>\n",
       "      <th>max_pack_skew_G</th>\n",
       "      <th>max_zcr_G</th>\n",
       "      <th>max_rmse_G</th>\n",
       "      <th>max_spectral_flatness_G</th>\n",
       "      <th>max_spectral_rolloff_G</th>\n",
       "      <th>mean_imp_G</th>\n",
       "      <th>mean_wavelet_var_coef_G</th>\n",
       "      <th>mean_rmse_G</th>\n",
       "      <th>mean_iqa_G</th>\n",
       "      <th>mean_wavelet_med_approx_G</th>\n",
       "      <th>mean_pack_sum_G</th>\n",
       "      <th>mean_spectral_rolloff_G</th>\n",
       "      <th>mean_zcr_G</th>\n",
       "      <th>mean_pack_kurtosis_G</th>\n",
       "      <th>mean_centroid_frequency_G</th>\n",
       "      <th>mean_median_freq_G</th>\n",
       "      <th>mean_len_G</th>\n",
       "      <th>mean_cv_G</th>\n",
       "      <th>mean_flash_ind_G</th>\n",
       "      <th>mean_spectral_flatness_G</th>\n",
       "      <th>mean_centroid_frequency2_G</th>\n",
       "      <th>mean_wavelet_med_coef_G</th>\n",
       "      <th>mean_pack_skew_G</th>\n",
       "      <th>mean_wavelet_var_approx_G</th>\n",
       "      <th>mean_wavelet_mean_coef_G</th>\n",
       "      <th>mean_mab_G</th>\n",
       "      <th>mean_wavelet_mean_approx_G</th>\n",
       "    </tr>\n",
       "  </thead>\n",
       "  <tbody>\n",
       "    <tr>\n",
       "      <th>30126</th>\n",
       "      <td>1966.146784</td>\n",
       "      <td>1977.787415</td>\n",
       "      <td>2052.549520</td>\n",
       "      <td>0.003117</td>\n",
       "      <td>1.118455</td>\n",
       "      <td>2.939599e-07</td>\n",
       "      <td>0.021001</td>\n",
       "      <td>0</td>\n",
       "      <td>48</td>\n",
       "      <td>-0.000291</td>\n",
       "      <td>0.000058</td>\n",
       "      <td>0.000003</td>\n",
       "      <td>0.000058</td>\n",
       "      <td>0.000232</td>\n",
       "      <td>0.000001</td>\n",
       "      <td>0.053677</td>\n",
       "      <td>0.057112</td>\n",
       "      <td>-0.021368</td>\n",
       "      <td>0.166667</td>\n",
       "      <td>0.001522</td>\n",
       "      <td>0.000010</td>\n",
       "      <td>5620.166016</td>\n",
       "      <td>0.0</td>\n",
       "      <td>0.000064</td>\n",
       "      <td>0.007290</td>\n",
       "      <td>1.492359e-07</td>\n",
       "      <td>-0.000756</td>\n",
       "      <td>0.256417</td>\n",
       "      <td>5738.598633</td>\n",
       "      <td>0.166667</td>\n",
       "      <td>0.377448</td>\n",
       "      <td>1707.673669</td>\n",
       "      <td>1595.989783</td>\n",
       "      <td>48.0</td>\n",
       "      <td>1.089652</td>\n",
       "      <td>0.003773</td>\n",
       "      <td>0.000007</td>\n",
       "      <td>1384.447053</td>\n",
       "      <td>0.000291</td>\n",
       "      <td>-0.007381</td>\n",
       "      <td>0.000108</td>\n",
       "      <td>0.000058</td>\n",
       "      <td>0.011508</td>\n",
       "      <td>-0.000591</td>\n",
       "    </tr>\n",
       "    <tr>\n",
       "      <th>30127</th>\n",
       "      <td>456.029080</td>\n",
       "      <td>323.956298</td>\n",
       "      <td>334.713115</td>\n",
       "      <td>0.012305</td>\n",
       "      <td>3.281048</td>\n",
       "      <td>1.906679e-06</td>\n",
       "      <td>0.024618</td>\n",
       "      <td>2</td>\n",
       "      <td>82</td>\n",
       "      <td>-0.002979</td>\n",
       "      <td>-0.003778</td>\n",
       "      <td>0.000451</td>\n",
       "      <td>-0.000051</td>\n",
       "      <td>0.000000</td>\n",
       "      <td>0.000005</td>\n",
       "      <td>1.101781</td>\n",
       "      <td>-1.244783</td>\n",
       "      <td>0.279877</td>\n",
       "      <td>0.024390</td>\n",
       "      <td>0.015249</td>\n",
       "      <td>0.000002</td>\n",
       "      <td>1227.392578</td>\n",
       "      <td>1.0</td>\n",
       "      <td>0.000003</td>\n",
       "      <td>0.012867</td>\n",
       "      <td>1.404183e-06</td>\n",
       "      <td>-0.002965</td>\n",
       "      <td>0.904834</td>\n",
       "      <td>1227.392578</td>\n",
       "      <td>0.030488</td>\n",
       "      <td>-1.048765</td>\n",
       "      <td>498.960138</td>\n",
       "      <td>340.760367</td>\n",
       "      <td>82.0</td>\n",
       "      <td>3.099531</td>\n",
       "      <td>0.010059</td>\n",
       "      <td>0.000002</td>\n",
       "      <td>326.830427</td>\n",
       "      <td>0.000116</td>\n",
       "      <td>0.176797</td>\n",
       "      <td>0.000333</td>\n",
       "      <td>0.000031</td>\n",
       "      <td>0.022358</td>\n",
       "      <td>-0.002494</td>\n",
       "    </tr>\n",
       "  </tbody>\n",
       "</table>\n",
       "</div>"
      ],
      "text/plain": [
       "       max_centroid_frequency_G  max_centroid_frequency2_G  max_median_freq_G  \\\n",
       "30126               1966.146784                1977.787415        2052.549520   \n",
       "30127                456.029080                 323.956298         334.713115   \n",
       "\n",
       "       max_flash_ind_G  max_cv_G     max_iqa_G  max_mab_G  max_imp_G  \\\n",
       "30126         0.003117  1.118455  2.939599e-07   0.021001          0   \n",
       "30127         0.012305  3.281048  1.906679e-06   0.024618          2   \n",
       "\n",
       "       max_len_G  max_wavelet_mean_approx_G  max_wavelet_med_approx_G  \\\n",
       "30126         48                  -0.000291                  0.000058   \n",
       "30127         82                  -0.002979                 -0.003778   \n",
       "\n",
       "       max_wavelet_var_approx_G  max_wavelet_mean_coef_G  \\\n",
       "30126                  0.000003                 0.000058   \n",
       "30127                  0.000451                -0.000051   \n",
       "\n",
       "       max_wavelet_med_coef_G  max_wavelet_var_coef_G  max_pack_sum_G  \\\n",
       "30126                0.000232                0.000001        0.053677   \n",
       "30127                0.000000                0.000005        1.101781   \n",
       "\n",
       "       max_pack_kurtosis_G  max_pack_skew_G  max_zcr_G  max_rmse_G  \\\n",
       "30126             0.057112        -0.021368   0.166667    0.001522   \n",
       "30127            -1.244783         0.279877   0.024390    0.015249   \n",
       "\n",
       "       max_spectral_flatness_G  max_spectral_rolloff_G  mean_imp_G  \\\n",
       "30126                 0.000010             5620.166016         0.0   \n",
       "30127                 0.000002             1227.392578         1.0   \n",
       "\n",
       "       mean_wavelet_var_coef_G  mean_rmse_G    mean_iqa_G  \\\n",
       "30126                 0.000064     0.007290  1.492359e-07   \n",
       "30127                 0.000003     0.012867  1.404183e-06   \n",
       "\n",
       "       mean_wavelet_med_approx_G  mean_pack_sum_G  mean_spectral_rolloff_G  \\\n",
       "30126                  -0.000756         0.256417              5738.598633   \n",
       "30127                  -0.002965         0.904834              1227.392578   \n",
       "\n",
       "       mean_zcr_G  mean_pack_kurtosis_G  mean_centroid_frequency_G  \\\n",
       "30126    0.166667              0.377448                1707.673669   \n",
       "30127    0.030488             -1.048765                 498.960138   \n",
       "\n",
       "       mean_median_freq_G  mean_len_G  mean_cv_G  mean_flash_ind_G  \\\n",
       "30126         1595.989783        48.0   1.089652          0.003773   \n",
       "30127          340.760367        82.0   3.099531          0.010059   \n",
       "\n",
       "       mean_spectral_flatness_G  mean_centroid_frequency2_G  \\\n",
       "30126                  0.000007                 1384.447053   \n",
       "30127                  0.000002                  326.830427   \n",
       "\n",
       "       mean_wavelet_med_coef_G  mean_pack_skew_G  mean_wavelet_var_approx_G  \\\n",
       "30126                 0.000291         -0.007381                   0.000108   \n",
       "30127                 0.000116          0.176797                   0.000333   \n",
       "\n",
       "       mean_wavelet_mean_coef_G  mean_mab_G  mean_wavelet_mean_approx_G  \n",
       "30126                  0.000058    0.011508                   -0.000591  \n",
       "30127                  0.000031    0.022358                   -0.002494  "
      ]
     },
     "execution_count": 325,
     "metadata": {},
     "output_type": "execute_result"
    }
   ],
   "source": [
    "X.head(2)"
   ]
  },
  {
   "cell_type": "code",
   "execution_count": 326,
   "id": "b43482a4-617f-4f64-97b1-de3e3c9e2769",
   "metadata": {},
   "outputs": [
    {
     "data": {
      "text/plain": [
       "0.7952740153746174"
      ]
     },
     "execution_count": 326,
     "metadata": {},
     "output_type": "execute_result"
    }
   ],
   "source": [
    "all_studies.best_trial.value"
   ]
  },
  {
   "cell_type": "code",
   "execution_count": 327,
   "id": "3b383227-9a73-43a8-8e26-8d065abb54e5",
   "metadata": {
    "tags": []
   },
   "outputs": [
    {
     "data": {
      "text/plain": [
       "{'iterations': 4838,\n",
       " 'loss_function': 'RMSE',\n",
       " 'learning_rate': 0.022213705233803352,\n",
       " 'l2_leaf_reg': 0.03984439188320381,\n",
       " 'colsample_bylevel': 0.23481282445179058,\n",
       " 'depth': 9,\n",
       " 'boosting_type': 'Plain',\n",
       " 'bootstrap_type': 'Bernoulli',\n",
       " 'min_data_in_leaf': 20,\n",
       " 'one_hot_max_size': 7,\n",
       " 'subsample': 0.7078003943966793}"
      ]
     },
     "execution_count": 327,
     "metadata": {},
     "output_type": "execute_result"
    }
   ],
   "source": [
    "params = all_studies.best_trial\n",
    "model_params = params.params\n",
    "model_params"
   ]
  },
  {
   "cell_type": "code",
   "execution_count": 328,
   "id": "b4dc4dda-ea61-4020-9df6-db2fe4ad4acd",
   "metadata": {},
   "outputs": [],
   "source": [
    "catboost_pipe = Pipeline([('outlier_feature', OutlierFeatureAdder()),\n",
    "                          ('power_transform', PowerTransformer()), \n",
    "                          ('cat_boost', CatBoostRegressor(**model_params, silent=True))])"
   ]
  },
  {
   "cell_type": "code",
   "execution_count": 329,
   "id": "85ee73e4-3edd-4ec6-9d7a-b54900ed671f",
   "metadata": {},
   "outputs": [],
   "source": [
    "scores = cross_val_score(estimator=catboost_pipe, X=X_train, y=y_train, cv=10, n_jobs=10)"
   ]
  },
  {
   "cell_type": "code",
   "execution_count": 330,
   "id": "895b31cf-88e6-45ed-afdb-232d0ea9cc78",
   "metadata": {},
   "outputs": [
    {
     "name": "stdout",
     "output_type": "stream",
     "text": [
      "All Scores:  [0.78967431 0.79224348 0.79496507 0.80813139 0.77893316 0.78234629\n",
      " 0.81100033 0.80284354 0.79951643 0.80340736]\n"
     ]
    }
   ],
   "source": [
    "print('All Scores: ', scores)"
   ]
  },
  {
   "cell_type": "code",
   "execution_count": 331,
   "id": "bf83d7a2-18dc-4cef-98a6-b48e7a2a00bb",
   "metadata": {},
   "outputs": [
    {
     "name": "stdout",
     "output_type": "stream",
     "text": [
      "Mean Score:  0.7963061357784622\n"
     ]
    }
   ],
   "source": [
    "print('Mean Score: ', np.mean(scores))"
   ]
  },
  {
   "cell_type": "code",
   "execution_count": 332,
   "id": "9ea6ee88-ed2a-451d-81af-4f33733c9a46",
   "metadata": {},
   "outputs": [
    {
     "data": {
      "text/plain": [
       "Pipeline(steps=[('outlier_feature', OutlierFeatureAdder()),\n",
       "                ('power_transform', PowerTransformer()),\n",
       "                ('cat_boost',\n",
       "                 <catboost.core.CatBoostRegressor object at 0x7f4aad001c40>)])"
      ]
     },
     "execution_count": 332,
     "metadata": {},
     "output_type": "execute_result"
    }
   ],
   "source": [
    "catboost_pipe.fit(X_train, y_train)"
   ]
  },
  {
   "cell_type": "code",
   "execution_count": 333,
   "id": "6e1de37b-a908-43a9-b968-670b477aa961",
   "metadata": {},
   "outputs": [],
   "source": [
    "y_pred = catboost_pipe.predict(X_test)"
   ]
  },
  {
   "cell_type": "code",
   "execution_count": 334,
   "id": "e31a3206-2b14-4d1b-8f97-7aada2578e19",
   "metadata": {},
   "outputs": [
    {
     "name": "stdout",
     "output_type": "stream",
     "text": [
      "MAPE: 0.20466053996270728\n"
     ]
    }
   ],
   "source": [
    "print('MAPE:', mean_absolute_percentage_error(y_test, y_pred))"
   ]
  },
  {
   "cell_type": "code",
   "execution_count": 335,
   "id": "af257bd0-4cab-4470-8b0f-9b4b179ab720",
   "metadata": {},
   "outputs": [
    {
     "name": "stdout",
     "output_type": "stream",
     "text": [
      "R2-Score: 0.7821742591467037\n"
     ]
    }
   ],
   "source": [
    "print('R2-Score:', r2_score(y_test, y_pred))"
   ]
  },
  {
   "cell_type": "code",
   "execution_count": 336,
   "id": "c327b3ce-88d1-4721-a622-479170b435e1",
   "metadata": {},
   "outputs": [],
   "source": [
    "pred_error = pd.DataFrame(data={'y_pred':y_pred, 'y_test':y_test})\n",
    "pred_error = pd.concat([holdout[['start_time', 'velocity', 'packnr', 'size_mm']], pred_error], axis=1)\n",
    "pred_error.to_csv('./data/error/spg/complex.csv', sep=' ', index=False)"
   ]
  },
  {
   "cell_type": "code",
   "execution_count": 337,
   "id": "696785b9-c099-45ac-90b3-c2969cd2e559",
   "metadata": {},
   "outputs": [
    {
     "data": {
      "text/plain": [
       "Pipeline(steps=[('outlier_feature', OutlierFeatureAdder()),\n",
       "                ('power_transform', PowerTransformer()),\n",
       "                ('cat_boost',\n",
       "                 <catboost.core.CatBoostRegressor object at 0x7f4aad001c40>)])"
      ]
     },
     "execution_count": 337,
     "metadata": {},
     "output_type": "execute_result"
    }
   ],
   "source": [
    "catboost_pipe.fit(X, y)"
   ]
  },
  {
   "cell_type": "code",
   "execution_count": 338,
   "id": "203ad206-98b3-4a62-872a-3a107be42c31",
   "metadata": {},
   "outputs": [
    {
     "data": {
      "text/plain": [
       "0.9879624987295088"
      ]
     },
     "execution_count": 338,
     "metadata": {},
     "output_type": "execute_result"
    }
   ],
   "source": [
    "catboost_pipe.score(X, y)"
   ]
  },
  {
   "cell_type": "code",
   "execution_count": 340,
   "id": "f3cf66ad-0f16-4f9c-97a6-f04aef7a99c2",
   "metadata": {},
   "outputs": [],
   "source": [
    "with open('./models/spg/spg_catboost_complex.pkl', 'wb') as pkl_file:\n",
    "    pickle.dump(obj=catboost_pipe, file=pkl_file)"
   ]
  },
  {
   "cell_type": "markdown",
   "id": "1874b3d8-10be-41a2-8726-fec0694821e5",
   "metadata": {
    "tags": [],
    "toc-hr-collapsed": true
   },
   "source": [
    "## SPS (Achtung Features von Allen Sensoren extrahieren!)"
   ]
  },
  {
   "cell_type": "code",
   "execution_count": 438,
   "id": "5a1c74b0-1ac3-457c-b7f2-f5d15548d168",
   "metadata": {},
   "outputs": [],
   "source": [
    "# Load best study\n",
    "studies = load_studies_from_folder(folder_name='./results/final2/complex/', device_name='sps')\n",
    "all_studies = concat_all_studies(studies=studies, as_dataframe=False)\n",
    "df = concat_all_studies(studies=studies, as_dataframe=True)"
   ]
  },
  {
   "cell_type": "code",
   "execution_count": 439,
   "id": "d3057650-e5ed-437f-ac6c-15ffbea2d0ff",
   "metadata": {},
   "outputs": [
    {
     "data": {
      "text/html": [
       "<div>\n",
       "<style scoped>\n",
       "    .dataframe tbody tr th:only-of-type {\n",
       "        vertical-align: middle;\n",
       "    }\n",
       "\n",
       "    .dataframe tbody tr th {\n",
       "        vertical-align: top;\n",
       "    }\n",
       "\n",
       "    .dataframe thead th {\n",
       "        text-align: right;\n",
       "    }\n",
       "</style>\n",
       "<table border=\"1\" class=\"dataframe\">\n",
       "  <thead>\n",
       "    <tr style=\"text-align: right;\">\n",
       "      <th></th>\n",
       "      <th>number</th>\n",
       "      <th>value</th>\n",
       "      <th>datetime_start</th>\n",
       "      <th>datetime_complete</th>\n",
       "      <th>duration</th>\n",
       "      <th>params_bagging_temperature</th>\n",
       "      <th>params_boosting_type</th>\n",
       "      <th>params_bootstrap_type</th>\n",
       "      <th>params_colsample_bylevel</th>\n",
       "      <th>params_depth</th>\n",
       "      <th>params_iterations</th>\n",
       "      <th>params_l2_leaf_reg</th>\n",
       "      <th>params_learning_rate</th>\n",
       "      <th>params_loss_function</th>\n",
       "      <th>params_min_data_in_leaf</th>\n",
       "      <th>params_one_hot_max_size</th>\n",
       "      <th>params_subsample</th>\n",
       "      <th>state</th>\n",
       "    </tr>\n",
       "  </thead>\n",
       "  <tbody>\n",
       "    <tr>\n",
       "      <th>88</th>\n",
       "      <td>88</td>\n",
       "      <td>0.830486</td>\n",
       "      <td>2021-12-27 23:28:00.915552</td>\n",
       "      <td>2021-12-27 23:30:21.304239</td>\n",
       "      <td>0 days 00:02:20.388687</td>\n",
       "      <td>NaN</td>\n",
       "      <td>Ordered</td>\n",
       "      <td>Bernoulli</td>\n",
       "      <td>0.765491</td>\n",
       "      <td>6</td>\n",
       "      <td>3726</td>\n",
       "      <td>0.050225</td>\n",
       "      <td>0.030044</td>\n",
       "      <td>RMSE</td>\n",
       "      <td>11</td>\n",
       "      <td>10</td>\n",
       "      <td>0.83545</td>\n",
       "      <td>COMPLETE</td>\n",
       "    </tr>\n",
       "    <tr>\n",
       "      <th>38</th>\n",
       "      <td>38</td>\n",
       "      <td>0.830486</td>\n",
       "      <td>2021-12-27 23:28:00.915552</td>\n",
       "      <td>2021-12-27 23:30:21.304239</td>\n",
       "      <td>0 days 00:02:20.388687</td>\n",
       "      <td>NaN</td>\n",
       "      <td>Ordered</td>\n",
       "      <td>Bernoulli</td>\n",
       "      <td>0.765491</td>\n",
       "      <td>6</td>\n",
       "      <td>3726</td>\n",
       "      <td>0.050225</td>\n",
       "      <td>0.030044</td>\n",
       "      <td>RMSE</td>\n",
       "      <td>11</td>\n",
       "      <td>10</td>\n",
       "      <td>0.83545</td>\n",
       "      <td>COMPLETE</td>\n",
       "    </tr>\n",
       "  </tbody>\n",
       "</table>\n",
       "</div>"
      ],
      "text/plain": [
       "    number     value             datetime_start          datetime_complete  \\\n",
       "88      88  0.830486 2021-12-27 23:28:00.915552 2021-12-27 23:30:21.304239   \n",
       "38      38  0.830486 2021-12-27 23:28:00.915552 2021-12-27 23:30:21.304239   \n",
       "\n",
       "                 duration  params_bagging_temperature params_boosting_type  \\\n",
       "88 0 days 00:02:20.388687                         NaN              Ordered   \n",
       "38 0 days 00:02:20.388687                         NaN              Ordered   \n",
       "\n",
       "   params_bootstrap_type  params_colsample_bylevel  params_depth  \\\n",
       "88             Bernoulli                  0.765491             6   \n",
       "38             Bernoulli                  0.765491             6   \n",
       "\n",
       "    params_iterations  params_l2_leaf_reg  params_learning_rate  \\\n",
       "88               3726            0.050225              0.030044   \n",
       "38               3726            0.050225              0.030044   \n",
       "\n",
       "   params_loss_function  params_min_data_in_leaf  params_one_hot_max_size  \\\n",
       "88                 RMSE                       11                       10   \n",
       "38                 RMSE                       11                       10   \n",
       "\n",
       "    params_subsample     state  \n",
       "88           0.83545  COMPLETE  \n",
       "38           0.83545  COMPLETE  "
      ]
     },
     "execution_count": 439,
     "metadata": {},
     "output_type": "execute_result"
    }
   ],
   "source": [
    "df.head(2)"
   ]
  },
  {
   "cell_type": "code",
   "execution_count": 440,
   "id": "03331824-728d-4caf-82c9-94e62698fb7d",
   "metadata": {},
   "outputs": [],
   "source": [
    "train = pd.read_table('./data/train/split_extract_sps.csv', sep=' ')\n",
    "holdout = pd.read_table('./data/holdout/test_extract_sps.csv', sep=' ')\n",
    "all_data = pd.read_table('./data/archive/extract_sps.csv', sep=' ')"
   ]
  },
  {
   "cell_type": "code",
   "execution_count": 441,
   "id": "8a83d57a-93b7-4090-ab26-9a2853d05553",
   "metadata": {},
   "outputs": [],
   "source": [
    "X_train, y_train = preprocess_data(train, datefrom=configs['DATE_FROM'])\n",
    "X_test, y_test = preprocess_data(holdout, datefrom=configs['DATE_FROM'])\n",
    "X, y = preprocess_data(all_data, datefrom=configs['DATE_FROM'])"
   ]
  },
  {
   "cell_type": "code",
   "execution_count": 442,
   "id": "efae2e9b-7b5d-4131-993d-1a89511b562a",
   "metadata": {},
   "outputs": [
    {
     "name": "stdout",
     "output_type": "stream",
     "text": [
      "['max_centroid_frequency_M', 'max_centroid_frequency2_M', 'max_median_freq_M', 'max_flash_ind_M', 'max_cv_M', 'max_iqa_M', 'max_mab_M', 'max_imp_M', 'max_len_M', 'max_wavelet_mean_approx_M', 'max_wavelet_med_approx_M', 'max_wavelet_var_approx_M', 'max_wavelet_mean_coef_M', 'max_wavelet_med_coef_M', 'max_wavelet_var_coef_M', 'max_pack_sum_M', 'max_pack_kurtosis_M', 'max_pack_skew_M', 'max_zcr_M', 'max_rmse_M', 'max_spectral_flatness_M', 'max_spectral_rolloff_M', 'max_centroid_frequency_S', 'max_centroid_frequency2_S', 'max_median_freq_S', 'max_flash_ind_S', 'max_cv_S', 'max_iqa_S', 'max_mab_S', 'max_imp_S', 'max_len_S', 'max_wavelet_mean_approx_S', 'max_wavelet_med_approx_S', 'max_wavelet_var_approx_S', 'max_wavelet_mean_coef_S', 'max_wavelet_med_coef_S', 'max_wavelet_var_coef_S', 'max_pack_sum_S', 'max_pack_kurtosis_S', 'max_pack_skew_S', 'max_zcr_S', 'max_rmse_S', 'max_spectral_flatness_S', 'max_spectral_rolloff_S', 'max_centroid_frequency_G', 'max_centroid_frequency2_G', 'max_median_freq_G', 'max_flash_ind_G', 'max_cv_G', 'max_iqa_G', 'max_mab_G', 'max_imp_G', 'max_len_G', 'max_wavelet_mean_approx_G', 'max_wavelet_med_approx_G', 'max_wavelet_var_approx_G', 'max_wavelet_mean_coef_G', 'max_wavelet_med_coef_G', 'max_wavelet_var_coef_G', 'max_pack_sum_G', 'max_pack_kurtosis_G', 'max_pack_skew_G', 'max_zcr_G', 'max_rmse_G', 'max_spectral_flatness_G', 'max_spectral_rolloff_G', 'mean_pack_sum_G', 'mean_wavelet_var_coef_G', 'mean_cv_G', 'mean_mab_G', 'mean_imp_G', 'mean_wavelet_med_approx_G', 'mean_pack_kurtosis_G', 'mean_pack_skew_G', 'mean_centroid_frequency2_G', 'mean_centroid_frequency_G', 'mean_rmse_G', 'mean_len_G', 'mean_iqa_G', 'mean_wavelet_mean_coef_G', 'mean_wavelet_mean_approx_G', 'mean_spectral_flatness_G', 'mean_wavelet_var_approx_G', 'mean_median_freq_G', 'mean_flash_ind_G', 'mean_spectral_rolloff_G', 'mean_wavelet_med_coef_G', 'mean_zcr_G']\n"
     ]
    }
   ],
   "source": [
    "print(X.columns.to_list())"
   ]
  },
  {
   "cell_type": "code",
   "execution_count": 346,
   "id": "ad3c1a2a-cb97-4ad6-82be-26d46377beed",
   "metadata": {},
   "outputs": [
    {
     "data": {
      "text/html": [
       "<div>\n",
       "<style scoped>\n",
       "    .dataframe tbody tr th:only-of-type {\n",
       "        vertical-align: middle;\n",
       "    }\n",
       "\n",
       "    .dataframe tbody tr th {\n",
       "        vertical-align: top;\n",
       "    }\n",
       "\n",
       "    .dataframe thead th {\n",
       "        text-align: right;\n",
       "    }\n",
       "</style>\n",
       "<table border=\"1\" class=\"dataframe\">\n",
       "  <thead>\n",
       "    <tr style=\"text-align: right;\">\n",
       "      <th></th>\n",
       "      <th>max_centroid_frequency_M</th>\n",
       "      <th>max_centroid_frequency2_M</th>\n",
       "      <th>max_median_freq_M</th>\n",
       "      <th>max_flash_ind_M</th>\n",
       "      <th>max_cv_M</th>\n",
       "      <th>max_iqa_M</th>\n",
       "      <th>max_mab_M</th>\n",
       "      <th>max_imp_M</th>\n",
       "      <th>max_len_M</th>\n",
       "      <th>max_wavelet_mean_approx_M</th>\n",
       "      <th>max_wavelet_med_approx_M</th>\n",
       "      <th>max_wavelet_var_approx_M</th>\n",
       "      <th>max_wavelet_mean_coef_M</th>\n",
       "      <th>max_wavelet_med_coef_M</th>\n",
       "      <th>max_wavelet_var_coef_M</th>\n",
       "      <th>max_pack_sum_M</th>\n",
       "      <th>max_pack_kurtosis_M</th>\n",
       "      <th>max_pack_skew_M</th>\n",
       "      <th>max_zcr_M</th>\n",
       "      <th>max_rmse_M</th>\n",
       "      <th>max_spectral_flatness_M</th>\n",
       "      <th>max_spectral_rolloff_M</th>\n",
       "      <th>max_centroid_frequency_S</th>\n",
       "      <th>max_centroid_frequency2_S</th>\n",
       "      <th>max_median_freq_S</th>\n",
       "      <th>max_flash_ind_S</th>\n",
       "      <th>max_cv_S</th>\n",
       "      <th>max_iqa_S</th>\n",
       "      <th>max_mab_S</th>\n",
       "      <th>max_imp_S</th>\n",
       "      <th>max_len_S</th>\n",
       "      <th>max_wavelet_mean_approx_S</th>\n",
       "      <th>max_wavelet_med_approx_S</th>\n",
       "      <th>max_wavelet_var_approx_S</th>\n",
       "      <th>max_wavelet_mean_coef_S</th>\n",
       "      <th>max_wavelet_med_coef_S</th>\n",
       "      <th>max_wavelet_var_coef_S</th>\n",
       "      <th>max_pack_sum_S</th>\n",
       "      <th>max_pack_kurtosis_S</th>\n",
       "      <th>max_pack_skew_S</th>\n",
       "      <th>max_zcr_S</th>\n",
       "      <th>max_rmse_S</th>\n",
       "      <th>max_spectral_flatness_S</th>\n",
       "      <th>max_spectral_rolloff_S</th>\n",
       "      <th>max_centroid_frequency_G</th>\n",
       "      <th>max_centroid_frequency2_G</th>\n",
       "      <th>max_median_freq_G</th>\n",
       "      <th>max_flash_ind_G</th>\n",
       "      <th>max_cv_G</th>\n",
       "      <th>max_iqa_G</th>\n",
       "      <th>max_mab_G</th>\n",
       "      <th>max_imp_G</th>\n",
       "      <th>max_len_G</th>\n",
       "      <th>max_wavelet_mean_approx_G</th>\n",
       "      <th>max_wavelet_med_approx_G</th>\n",
       "      <th>max_wavelet_var_approx_G</th>\n",
       "      <th>max_wavelet_mean_coef_G</th>\n",
       "      <th>max_wavelet_med_coef_G</th>\n",
       "      <th>max_wavelet_var_coef_G</th>\n",
       "      <th>max_pack_sum_G</th>\n",
       "      <th>max_pack_kurtosis_G</th>\n",
       "      <th>max_pack_skew_G</th>\n",
       "      <th>max_zcr_G</th>\n",
       "      <th>max_rmse_G</th>\n",
       "      <th>max_spectral_flatness_G</th>\n",
       "      <th>max_spectral_rolloff_G</th>\n",
       "      <th>mean_pack_sum_G</th>\n",
       "      <th>mean_wavelet_var_coef_G</th>\n",
       "      <th>mean_cv_G</th>\n",
       "      <th>mean_mab_G</th>\n",
       "      <th>mean_imp_G</th>\n",
       "      <th>mean_wavelet_med_approx_G</th>\n",
       "      <th>mean_pack_kurtosis_G</th>\n",
       "      <th>mean_pack_skew_G</th>\n",
       "      <th>mean_centroid_frequency2_G</th>\n",
       "      <th>mean_centroid_frequency_G</th>\n",
       "      <th>mean_rmse_G</th>\n",
       "      <th>mean_len_G</th>\n",
       "      <th>mean_iqa_G</th>\n",
       "      <th>mean_wavelet_mean_coef_G</th>\n",
       "      <th>mean_wavelet_mean_approx_G</th>\n",
       "      <th>mean_spectral_flatness_G</th>\n",
       "      <th>mean_wavelet_var_approx_G</th>\n",
       "      <th>mean_median_freq_G</th>\n",
       "      <th>mean_flash_ind_G</th>\n",
       "      <th>mean_spectral_rolloff_G</th>\n",
       "      <th>mean_wavelet_med_coef_G</th>\n",
       "      <th>mean_zcr_G</th>\n",
       "    </tr>\n",
       "  </thead>\n",
       "  <tbody>\n",
       "    <tr>\n",
       "      <th>0</th>\n",
       "      <td>7371.324388</td>\n",
       "      <td>2679.227894</td>\n",
       "      <td>6483.983503</td>\n",
       "      <td>0.008534</td>\n",
       "      <td>1.337432</td>\n",
       "      <td>2.586849e-07</td>\n",
       "      <td>0.030517</td>\n",
       "      <td>0</td>\n",
       "      <td>73</td>\n",
       "      <td>-0.013705</td>\n",
       "      <td>-0.021579</td>\n",
       "      <td>0.000092</td>\n",
       "      <td>-0.001458</td>\n",
       "      <td>0.0</td>\n",
       "      <td>0.000026</td>\n",
       "      <td>0.717141</td>\n",
       "      <td>-1.181921</td>\n",
       "      <td>0.282109</td>\n",
       "      <td>0.164384</td>\n",
       "      <td>0.012501</td>\n",
       "      <td>0.000062</td>\n",
       "      <td>7353.588867</td>\n",
       "      <td>6475.116681</td>\n",
       "      <td>3302.480303</td>\n",
       "      <td>5674.218237</td>\n",
       "      <td>0.004337</td>\n",
       "      <td>1.038010</td>\n",
       "      <td>0.034014</td>\n",
       "      <td>18</td>\n",
       "      <td>0</td>\n",
       "      <td>73</td>\n",
       "      <td>4.643972</td>\n",
       "      <td>4.242641</td>\n",
       "      <td>17.771366</td>\n",
       "      <td>-0.057333</td>\n",
       "      <td>0.0</td>\n",
       "      <td>1.442659</td>\n",
       "      <td>252.0</td>\n",
       "      <td>11.019919</td>\n",
       "      <td>2.625684</td>\n",
       "      <td>0.082192</td>\n",
       "      <td>4.532984</td>\n",
       "      <td>0.000041</td>\n",
       "      <td>6115.429688</td>\n",
       "      <td>8153.438439</td>\n",
       "      <td>7257.609334</td>\n",
       "      <td>7621.698593</td>\n",
       "      <td>0.002570</td>\n",
       "      <td>0.674025</td>\n",
       "      <td>1.167040e-07</td>\n",
       "      <td>0.045203</td>\n",
       "      <td>1</td>\n",
       "      <td>73</td>\n",
       "      <td>0.002785</td>\n",
       "      <td>0.002274</td>\n",
       "      <td>0.000071</td>\n",
       "      <td>0.000039</td>\n",
       "      <td>0.000000</td>\n",
       "      <td>0.000061</td>\n",
       "      <td>0.325088</td>\n",
       "      <td>12.591499</td>\n",
       "      <td>1.557369</td>\n",
       "      <td>0.109589</td>\n",
       "      <td>0.008397</td>\n",
       "      <td>0.000098</td>\n",
       "      <td>6438.427734</td>\n",
       "      <td>0.296010</td>\n",
       "      <td>0.000051</td>\n",
       "      <td>0.664478</td>\n",
       "      <td>0.040871</td>\n",
       "      <td>1.0</td>\n",
       "      <td>0.001863</td>\n",
       "      <td>12.525130</td>\n",
       "      <td>1.410314</td>\n",
       "      <td>7318.446979</td>\n",
       "      <td>8181.575808</td>\n",
       "      <td>0.007619</td>\n",
       "      <td>73.0</td>\n",
       "      <td>9.708416e-08</td>\n",
       "      <td>3.158450e-05</td>\n",
       "      <td>0.002509</td>\n",
       "      <td>0.000097</td>\n",
       "      <td>0.000059</td>\n",
       "      <td>7662.462960</td>\n",
       "      <td>0.002521</td>\n",
       "      <td>6508.410645</td>\n",
       "      <td>0.000000</td>\n",
       "      <td>0.109589</td>\n",
       "    </tr>\n",
       "    <tr>\n",
       "      <th>1</th>\n",
       "      <td>7086.113317</td>\n",
       "      <td>6697.399727</td>\n",
       "      <td>6743.588474</td>\n",
       "      <td>0.006784</td>\n",
       "      <td>2.258637</td>\n",
       "      <td>1.837043e-03</td>\n",
       "      <td>2.715982</td>\n",
       "      <td>10</td>\n",
       "      <td>139</td>\n",
       "      <td>-0.017571</td>\n",
       "      <td>-0.021579</td>\n",
       "      <td>0.914387</td>\n",
       "      <td>0.001541</td>\n",
       "      <td>0.0</td>\n",
       "      <td>0.242652</td>\n",
       "      <td>70.401904</td>\n",
       "      <td>1.816349</td>\n",
       "      <td>-0.028449</td>\n",
       "      <td>0.122302</td>\n",
       "      <td>0.763434</td>\n",
       "      <td>0.000129</td>\n",
       "      <td>4080.541992</td>\n",
       "      <td>7301.457307</td>\n",
       "      <td>5199.687184</td>\n",
       "      <td>6302.180373</td>\n",
       "      <td>0.014169</td>\n",
       "      <td>1.021832</td>\n",
       "      <td>0.540045</td>\n",
       "      <td>37</td>\n",
       "      <td>7</td>\n",
       "      <td>139</td>\n",
       "      <td>-2.676904</td>\n",
       "      <td>-4.242641</td>\n",
       "      <td>287.655612</td>\n",
       "      <td>-0.111117</td>\n",
       "      <td>0.0</td>\n",
       "      <td>51.694796</td>\n",
       "      <td>1408.0</td>\n",
       "      <td>0.384598</td>\n",
       "      <td>-0.006413</td>\n",
       "      <td>0.122302</td>\n",
       "      <td>13.089619</td>\n",
       "      <td>0.001850</td>\n",
       "      <td>6642.993164</td>\n",
       "      <td>3450.442567</td>\n",
       "      <td>2618.793204</td>\n",
       "      <td>2680.641145</td>\n",
       "      <td>0.007678</td>\n",
       "      <td>2.432687</td>\n",
       "      <td>2.902270e-07</td>\n",
       "      <td>0.033590</td>\n",
       "      <td>0</td>\n",
       "      <td>139</td>\n",
       "      <td>-0.001586</td>\n",
       "      <td>-0.001990</td>\n",
       "      <td>0.000174</td>\n",
       "      <td>-0.000004</td>\n",
       "      <td>-0.000032</td>\n",
       "      <td>0.000006</td>\n",
       "      <td>0.899509</td>\n",
       "      <td>1.929469</td>\n",
       "      <td>-0.553192</td>\n",
       "      <td>0.050360</td>\n",
       "      <td>0.009596</td>\n",
       "      <td>0.000074</td>\n",
       "      <td>2077.954102</td>\n",
       "      <td>0.553248</td>\n",
       "      <td>0.000003</td>\n",
       "      <td>2.301496</td>\n",
       "      <td>0.018760</td>\n",
       "      <td>0.0</td>\n",
       "      <td>-0.001958</td>\n",
       "      <td>0.996765</td>\n",
       "      <td>-0.057585</td>\n",
       "      <td>2153.075864</td>\n",
       "      <td>3831.391048</td>\n",
       "      <td>0.005672</td>\n",
       "      <td>139.0</td>\n",
       "      <td>1.499342e-07</td>\n",
       "      <td>-9.024142e-07</td>\n",
       "      <td>-0.001576</td>\n",
       "      <td>0.000126</td>\n",
       "      <td>0.000089</td>\n",
       "      <td>2559.758527</td>\n",
       "      <td>0.010828</td>\n",
       "      <td>3402.246094</td>\n",
       "      <td>-0.000016</td>\n",
       "      <td>0.035971</td>\n",
       "    </tr>\n",
       "  </tbody>\n",
       "</table>\n",
       "</div>"
      ],
      "text/plain": [
       "   max_centroid_frequency_M  max_centroid_frequency2_M  max_median_freq_M  \\\n",
       "0               7371.324388                2679.227894        6483.983503   \n",
       "1               7086.113317                6697.399727        6743.588474   \n",
       "\n",
       "   max_flash_ind_M  max_cv_M     max_iqa_M  max_mab_M  max_imp_M  max_len_M  \\\n",
       "0         0.008534  1.337432  2.586849e-07   0.030517          0         73   \n",
       "1         0.006784  2.258637  1.837043e-03   2.715982         10        139   \n",
       "\n",
       "   max_wavelet_mean_approx_M  max_wavelet_med_approx_M  \\\n",
       "0                  -0.013705                 -0.021579   \n",
       "1                  -0.017571                 -0.021579   \n",
       "\n",
       "   max_wavelet_var_approx_M  max_wavelet_mean_coef_M  max_wavelet_med_coef_M  \\\n",
       "0                  0.000092                -0.001458                     0.0   \n",
       "1                  0.914387                 0.001541                     0.0   \n",
       "\n",
       "   max_wavelet_var_coef_M  max_pack_sum_M  max_pack_kurtosis_M  \\\n",
       "0                0.000026        0.717141            -1.181921   \n",
       "1                0.242652       70.401904             1.816349   \n",
       "\n",
       "   max_pack_skew_M  max_zcr_M  max_rmse_M  max_spectral_flatness_M  \\\n",
       "0         0.282109   0.164384    0.012501                 0.000062   \n",
       "1        -0.028449   0.122302    0.763434                 0.000129   \n",
       "\n",
       "   max_spectral_rolloff_M  max_centroid_frequency_S  \\\n",
       "0             7353.588867               6475.116681   \n",
       "1             4080.541992               7301.457307   \n",
       "\n",
       "   max_centroid_frequency2_S  max_median_freq_S  max_flash_ind_S  max_cv_S  \\\n",
       "0                3302.480303        5674.218237         0.004337  1.038010   \n",
       "1                5199.687184        6302.180373         0.014169  1.021832   \n",
       "\n",
       "   max_iqa_S  max_mab_S  max_imp_S  max_len_S  max_wavelet_mean_approx_S  \\\n",
       "0   0.034014         18          0         73                   4.643972   \n",
       "1   0.540045         37          7        139                  -2.676904   \n",
       "\n",
       "   max_wavelet_med_approx_S  max_wavelet_var_approx_S  \\\n",
       "0                  4.242641                 17.771366   \n",
       "1                 -4.242641                287.655612   \n",
       "\n",
       "   max_wavelet_mean_coef_S  max_wavelet_med_coef_S  max_wavelet_var_coef_S  \\\n",
       "0                -0.057333                     0.0                1.442659   \n",
       "1                -0.111117                     0.0               51.694796   \n",
       "\n",
       "   max_pack_sum_S  max_pack_kurtosis_S  max_pack_skew_S  max_zcr_S  \\\n",
       "0           252.0            11.019919         2.625684   0.082192   \n",
       "1          1408.0             0.384598        -0.006413   0.122302   \n",
       "\n",
       "   max_rmse_S  max_spectral_flatness_S  max_spectral_rolloff_S  \\\n",
       "0    4.532984                 0.000041             6115.429688   \n",
       "1   13.089619                 0.001850             6642.993164   \n",
       "\n",
       "   max_centroid_frequency_G  max_centroid_frequency2_G  max_median_freq_G  \\\n",
       "0               8153.438439                7257.609334        7621.698593   \n",
       "1               3450.442567                2618.793204        2680.641145   \n",
       "\n",
       "   max_flash_ind_G  max_cv_G     max_iqa_G  max_mab_G  max_imp_G  max_len_G  \\\n",
       "0         0.002570  0.674025  1.167040e-07   0.045203          1         73   \n",
       "1         0.007678  2.432687  2.902270e-07   0.033590          0        139   \n",
       "\n",
       "   max_wavelet_mean_approx_G  max_wavelet_med_approx_G  \\\n",
       "0                   0.002785                  0.002274   \n",
       "1                  -0.001586                 -0.001990   \n",
       "\n",
       "   max_wavelet_var_approx_G  max_wavelet_mean_coef_G  max_wavelet_med_coef_G  \\\n",
       "0                  0.000071                 0.000039                0.000000   \n",
       "1                  0.000174                -0.000004               -0.000032   \n",
       "\n",
       "   max_wavelet_var_coef_G  max_pack_sum_G  max_pack_kurtosis_G  \\\n",
       "0                0.000061        0.325088            12.591499   \n",
       "1                0.000006        0.899509             1.929469   \n",
       "\n",
       "   max_pack_skew_G  max_zcr_G  max_rmse_G  max_spectral_flatness_G  \\\n",
       "0         1.557369   0.109589    0.008397                 0.000098   \n",
       "1        -0.553192   0.050360    0.009596                 0.000074   \n",
       "\n",
       "   max_spectral_rolloff_G  mean_pack_sum_G  mean_wavelet_var_coef_G  \\\n",
       "0             6438.427734         0.296010                 0.000051   \n",
       "1             2077.954102         0.553248                 0.000003   \n",
       "\n",
       "   mean_cv_G  mean_mab_G  mean_imp_G  mean_wavelet_med_approx_G  \\\n",
       "0   0.664478    0.040871         1.0                   0.001863   \n",
       "1   2.301496    0.018760         0.0                  -0.001958   \n",
       "\n",
       "   mean_pack_kurtosis_G  mean_pack_skew_G  mean_centroid_frequency2_G  \\\n",
       "0             12.525130          1.410314                 7318.446979   \n",
       "1              0.996765         -0.057585                 2153.075864   \n",
       "\n",
       "   mean_centroid_frequency_G  mean_rmse_G  mean_len_G    mean_iqa_G  \\\n",
       "0                8181.575808     0.007619        73.0  9.708416e-08   \n",
       "1                3831.391048     0.005672       139.0  1.499342e-07   \n",
       "\n",
       "   mean_wavelet_mean_coef_G  mean_wavelet_mean_approx_G  \\\n",
       "0              3.158450e-05                    0.002509   \n",
       "1             -9.024142e-07                   -0.001576   \n",
       "\n",
       "   mean_spectral_flatness_G  mean_wavelet_var_approx_G  mean_median_freq_G  \\\n",
       "0                  0.000097                   0.000059         7662.462960   \n",
       "1                  0.000126                   0.000089         2559.758527   \n",
       "\n",
       "   mean_flash_ind_G  mean_spectral_rolloff_G  mean_wavelet_med_coef_G  \\\n",
       "0          0.002521              6508.410645                 0.000000   \n",
       "1          0.010828              3402.246094                -0.000016   \n",
       "\n",
       "   mean_zcr_G  \n",
       "0    0.109589  \n",
       "1    0.035971  "
      ]
     },
     "execution_count": 346,
     "metadata": {},
     "output_type": "execute_result"
    }
   ],
   "source": [
    "X.head(2)"
   ]
  },
  {
   "cell_type": "code",
   "execution_count": 347,
   "id": "a4bbfd0f-c5a1-4444-a5ad-76bfe53b0387",
   "metadata": {},
   "outputs": [
    {
     "data": {
      "text/plain": [
       "0.8304859554570726"
      ]
     },
     "execution_count": 347,
     "metadata": {},
     "output_type": "execute_result"
    }
   ],
   "source": [
    "all_studies.best_trial.value"
   ]
  },
  {
   "cell_type": "code",
   "execution_count": 348,
   "id": "5839b003-d6a6-4b88-ba5c-4de3cd710fab",
   "metadata": {
    "tags": []
   },
   "outputs": [
    {
     "data": {
      "text/plain": [
       "{'iterations': 3726,\n",
       " 'loss_function': 'RMSE',\n",
       " 'learning_rate': 0.03004368080909306,\n",
       " 'l2_leaf_reg': 0.05022531263702171,\n",
       " 'colsample_bylevel': 0.7654913547542036,\n",
       " 'depth': 6,\n",
       " 'boosting_type': 'Ordered',\n",
       " 'bootstrap_type': 'Bernoulli',\n",
       " 'min_data_in_leaf': 11,\n",
       " 'one_hot_max_size': 10,\n",
       " 'subsample': 0.8354498857818983}"
      ]
     },
     "execution_count": 348,
     "metadata": {},
     "output_type": "execute_result"
    }
   ],
   "source": [
    "params = all_studies.best_trial\n",
    "model_params = params.params\n",
    "model_params"
   ]
  },
  {
   "cell_type": "code",
   "execution_count": 349,
   "id": "3c7c73ec-1659-4941-8bf4-b35a0c0995b5",
   "metadata": {},
   "outputs": [],
   "source": [
    "catboost_pipe = Pipeline([('outlier_feature', OutlierFeatureAdder()),\n",
    "                          ('power_transform', PowerTransformer()), \n",
    "                          ('cat_boost', CatBoostRegressor(**model_params, silent=True))])"
   ]
  },
  {
   "cell_type": "code",
   "execution_count": 350,
   "id": "c1e43b34-1b81-4964-bf7f-a8558a6c9fb8",
   "metadata": {},
   "outputs": [],
   "source": [
    "scores = cross_val_score(estimator=catboost_pipe, X=X_train, y=y_train, cv=10, n_jobs=10)"
   ]
  },
  {
   "cell_type": "code",
   "execution_count": 351,
   "id": "715dd4a1-e5f3-495c-a937-9bf569beecfb",
   "metadata": {},
   "outputs": [
    {
     "name": "stdout",
     "output_type": "stream",
     "text": [
      "All Scores:  [0.8486582  0.84226447 0.80210019 0.82610314 0.85023519 0.83072819\n",
      " 0.81717284 0.82221892 0.82938714 0.8320408 ]\n"
     ]
    }
   ],
   "source": [
    "print('All Scores: ', scores)"
   ]
  },
  {
   "cell_type": "code",
   "execution_count": 352,
   "id": "fc81eaee-5025-428e-b6bc-fd8a84727c7b",
   "metadata": {},
   "outputs": [
    {
     "name": "stdout",
     "output_type": "stream",
     "text": [
      "Mean Score:  0.8300909087092909\n"
     ]
    }
   ],
   "source": [
    "print('Mean Score: ', np.mean(scores))"
   ]
  },
  {
   "cell_type": "code",
   "execution_count": 353,
   "id": "0aa251b8-c359-4567-a067-c546dff9a8f3",
   "metadata": {},
   "outputs": [
    {
     "data": {
      "text/plain": [
       "Pipeline(steps=[('outlier_feature', OutlierFeatureAdder()),\n",
       "                ('power_transform', PowerTransformer()),\n",
       "                ('cat_boost',\n",
       "                 <catboost.core.CatBoostRegressor object at 0x7f4aad9acb50>)])"
      ]
     },
     "execution_count": 353,
     "metadata": {},
     "output_type": "execute_result"
    }
   ],
   "source": [
    "catboost_pipe.fit(X_train, y_train)"
   ]
  },
  {
   "cell_type": "code",
   "execution_count": 354,
   "id": "5450d031-c4db-4bcb-9380-b54dd5b8364a",
   "metadata": {},
   "outputs": [],
   "source": [
    "y_pred = catboost_pipe.predict(X_test)"
   ]
  },
  {
   "cell_type": "code",
   "execution_count": 355,
   "id": "b4fdcd41-95b8-4d90-80ac-c3c36d3e71d6",
   "metadata": {},
   "outputs": [
    {
     "name": "stdout",
     "output_type": "stream",
     "text": [
      "MAPE: 0.28635788164312076\n"
     ]
    }
   ],
   "source": [
    "print('MAPE:', mean_absolute_percentage_error(y_test, y_pred))"
   ]
  },
  {
   "cell_type": "code",
   "execution_count": 356,
   "id": "bea5f6ad-d4f7-4728-83af-cf914148090b",
   "metadata": {},
   "outputs": [
    {
     "name": "stdout",
     "output_type": "stream",
     "text": [
      "R2-Score: 0.820534495020491\n"
     ]
    }
   ],
   "source": [
    "print('R2-Score:', r2_score(y_test, y_pred))"
   ]
  },
  {
   "cell_type": "code",
   "execution_count": 358,
   "id": "5093de5f-06f5-4030-8eb0-60d9f5334b2e",
   "metadata": {},
   "outputs": [],
   "source": [
    "pred_error = pd.DataFrame(data={'y_pred':y_pred, 'y_test':y_test})\n",
    "pred_error = pd.concat([holdout[['start_time', 'velocity', 'packnr', 'size_mm']], pred_error],axis=1)\n",
    "pred_error.to_csv('./data/error/sps/complex.csv', sep=' ', index=False)"
   ]
  },
  {
   "cell_type": "code",
   "execution_count": 359,
   "id": "432700e3-3e6f-4c51-b95a-38a3baacd776",
   "metadata": {},
   "outputs": [
    {
     "data": {
      "text/plain": [
       "Pipeline(steps=[('outlier_feature', OutlierFeatureAdder()),\n",
       "                ('power_transform', PowerTransformer()),\n",
       "                ('cat_boost',\n",
       "                 <catboost.core.CatBoostRegressor object at 0x7f4aad9acb50>)])"
      ]
     },
     "execution_count": 359,
     "metadata": {},
     "output_type": "execute_result"
    }
   ],
   "source": [
    "catboost_pipe.fit(X, y)"
   ]
  },
  {
   "cell_type": "code",
   "execution_count": 360,
   "id": "545dcfc5-e84e-401f-8416-77c1200e0501",
   "metadata": {},
   "outputs": [
    {
     "data": {
      "text/plain": [
       "0.9526443373431462"
      ]
     },
     "execution_count": 360,
     "metadata": {},
     "output_type": "execute_result"
    }
   ],
   "source": [
    "catboost_pipe.score(X, y)"
   ]
  },
  {
   "cell_type": "code",
   "execution_count": 361,
   "id": "8ea0d589-a6b2-408b-aac9-bdc8703ef989",
   "metadata": {},
   "outputs": [],
   "source": [
    "with open('./models/sps/sps_catboost_complex.pkl', 'wb') as pkl_file:\n",
    "    pickle.dump(obj=catboost_pipe, file=pkl_file)"
   ]
  },
  {
   "cell_type": "markdown",
   "id": "a96dde26-0ca4-43e4-bc64-c23e4238ffa7",
   "metadata": {},
   "source": [
    "# Train Final Model (Simple)"
   ]
  },
  {
   "cell_type": "code",
   "execution_count": 443,
   "id": "08625564-023b-4a2a-95fb-6ec1696a0f06",
   "metadata": {},
   "outputs": [
    {
     "data": {
      "text/plain": [
       "{'DATE_FROM': 2020,\n",
       " 'DEBUG_RUN': False,\n",
       " 'DROP_COLUMNS': ['velocity', 'start_time', 'packnr'],\n",
       " 'EXTRACT_MAX_FEATURES': True,\n",
       " 'EXTRACT_MEAN_FEATURES': False,\n",
       " 'FILEPATHS': ['./data/data_mpa.txt',\n",
       "  './data/data_spg.txt',\n",
       "  './data/data_sps.txt'],\n",
       " 'LOG_SCALE_TARGET': False,\n",
       " 'MODEL_NAME': 'CAT',\n",
       " 'N_TRIALS': 100,\n",
       " 'SAVE_DIR': './results/final/simple/',\n",
       " 'TUNING_ITER': 3}"
      ]
     },
     "execution_count": 443,
     "metadata": {},
     "output_type": "execute_result"
    }
   ],
   "source": [
    "with open('./results/final/simple/config.yaml', 'r') as yaml_file:\n",
    "    configs = yaml.load(yaml_file, Loader=yaml.FullLoader)\n",
    "configs"
   ]
  },
  {
   "cell_type": "markdown",
   "id": "a8cba522-0224-4c49-979b-2690dfae7b87",
   "metadata": {},
   "source": [
    "## MPA"
   ]
  },
  {
   "cell_type": "code",
   "execution_count": 444,
   "id": "e6c3db53-40ee-4022-8caa-644c9f876111",
   "metadata": {},
   "outputs": [],
   "source": [
    "# Load best study\n",
    "studies = load_studies_from_folder(folder_name='./results/final2/simple/', device_name='mpa')\n",
    "all_studies = concat_all_studies(studies=studies, as_dataframe=False)\n",
    "df = concat_all_studies(studies=studies, as_dataframe=True)"
   ]
  },
  {
   "cell_type": "code",
   "execution_count": 445,
   "id": "959859d1-59cc-4f5f-93ed-7aea0034260a",
   "metadata": {},
   "outputs": [
    {
     "data": {
      "text/html": [
       "<div>\n",
       "<style scoped>\n",
       "    .dataframe tbody tr th:only-of-type {\n",
       "        vertical-align: middle;\n",
       "    }\n",
       "\n",
       "    .dataframe tbody tr th {\n",
       "        vertical-align: top;\n",
       "    }\n",
       "\n",
       "    .dataframe thead th {\n",
       "        text-align: right;\n",
       "    }\n",
       "</style>\n",
       "<table border=\"1\" class=\"dataframe\">\n",
       "  <thead>\n",
       "    <tr style=\"text-align: right;\">\n",
       "      <th></th>\n",
       "      <th>number</th>\n",
       "      <th>value</th>\n",
       "      <th>datetime_start</th>\n",
       "      <th>datetime_complete</th>\n",
       "      <th>duration</th>\n",
       "      <th>params_bagging_temperature</th>\n",
       "      <th>params_boosting_type</th>\n",
       "      <th>params_bootstrap_type</th>\n",
       "      <th>params_colsample_bylevel</th>\n",
       "      <th>params_depth</th>\n",
       "      <th>params_iterations</th>\n",
       "      <th>params_l2_leaf_reg</th>\n",
       "      <th>params_learning_rate</th>\n",
       "      <th>params_loss_function</th>\n",
       "      <th>params_min_data_in_leaf</th>\n",
       "      <th>params_one_hot_max_size</th>\n",
       "      <th>params_subsample</th>\n",
       "      <th>state</th>\n",
       "    </tr>\n",
       "  </thead>\n",
       "  <tbody>\n",
       "    <tr>\n",
       "      <th>91</th>\n",
       "      <td>91</td>\n",
       "      <td>0.757531</td>\n",
       "      <td>2021-12-27 15:49:35.406232</td>\n",
       "      <td>2021-12-27 15:50:02.830097</td>\n",
       "      <td>0 days 00:00:27.423865</td>\n",
       "      <td>NaN</td>\n",
       "      <td>Plain</td>\n",
       "      <td>MVS</td>\n",
       "      <td>0.658465</td>\n",
       "      <td>10</td>\n",
       "      <td>2740</td>\n",
       "      <td>0.021644</td>\n",
       "      <td>0.013027</td>\n",
       "      <td>RMSE</td>\n",
       "      <td>4</td>\n",
       "      <td>19</td>\n",
       "      <td>NaN</td>\n",
       "      <td>COMPLETE</td>\n",
       "    </tr>\n",
       "    <tr>\n",
       "      <th>191</th>\n",
       "      <td>191</td>\n",
       "      <td>0.757531</td>\n",
       "      <td>2021-12-27 15:49:35.406232</td>\n",
       "      <td>2021-12-27 15:50:02.830097</td>\n",
       "      <td>0 days 00:00:27.423865</td>\n",
       "      <td>NaN</td>\n",
       "      <td>Plain</td>\n",
       "      <td>MVS</td>\n",
       "      <td>0.658465</td>\n",
       "      <td>10</td>\n",
       "      <td>2740</td>\n",
       "      <td>0.021644</td>\n",
       "      <td>0.013027</td>\n",
       "      <td>RMSE</td>\n",
       "      <td>4</td>\n",
       "      <td>19</td>\n",
       "      <td>NaN</td>\n",
       "      <td>COMPLETE</td>\n",
       "    </tr>\n",
       "  </tbody>\n",
       "</table>\n",
       "</div>"
      ],
      "text/plain": [
       "     number     value             datetime_start          datetime_complete  \\\n",
       "91       91  0.757531 2021-12-27 15:49:35.406232 2021-12-27 15:50:02.830097   \n",
       "191     191  0.757531 2021-12-27 15:49:35.406232 2021-12-27 15:50:02.830097   \n",
       "\n",
       "                  duration  params_bagging_temperature params_boosting_type  \\\n",
       "91  0 days 00:00:27.423865                         NaN                Plain   \n",
       "191 0 days 00:00:27.423865                         NaN                Plain   \n",
       "\n",
       "    params_bootstrap_type  params_colsample_bylevel  params_depth  \\\n",
       "91                    MVS                  0.658465            10   \n",
       "191                   MVS                  0.658465            10   \n",
       "\n",
       "     params_iterations  params_l2_leaf_reg  params_learning_rate  \\\n",
       "91                2740            0.021644              0.013027   \n",
       "191               2740            0.021644              0.013027   \n",
       "\n",
       "    params_loss_function  params_min_data_in_leaf  params_one_hot_max_size  \\\n",
       "91                  RMSE                        4                       19   \n",
       "191                 RMSE                        4                       19   \n",
       "\n",
       "     params_subsample     state  \n",
       "91                NaN  COMPLETE  \n",
       "191               NaN  COMPLETE  "
      ]
     },
     "execution_count": 445,
     "metadata": {},
     "output_type": "execute_result"
    }
   ],
   "source": [
    "df.head(2)"
   ]
  },
  {
   "cell_type": "code",
   "execution_count": 446,
   "id": "6eef70cf-0ff6-4049-95e0-4cdcbc151084",
   "metadata": {},
   "outputs": [],
   "source": [
    "train = pd.read_table('./data/train/split_data_max_mpa.csv', sep=' ')\n",
    "holdout = pd.read_table('./data/holdout/test_data_max_mpa.csv', sep=' ')\n",
    "all_data = pd.read_table('./data/archive/data_max_mpa.csv', sep=' ')"
   ]
  },
  {
   "cell_type": "code",
   "execution_count": 447,
   "id": "b2403f34-4b6b-477e-8d23-9f6f1a9af0bf",
   "metadata": {},
   "outputs": [],
   "source": [
    "X_train, y_train = preprocess_data(train, datefrom=configs['DATE_FROM'])\n",
    "X_test, y_test = preprocess_data(holdout, datefrom=configs['DATE_FROM'])\n",
    "X, y = preprocess_data(all_data, datefrom=configs['DATE_FROM'])"
   ]
  },
  {
   "cell_type": "code",
   "execution_count": 448,
   "id": "fdd577d5-c48c-480b-be4e-a996108b4d80",
   "metadata": {},
   "outputs": [
    {
     "name": "stdout",
     "output_type": "stream",
     "text": [
      "['max_centroid_frequency_M', 'max_centroid_frequency2_M', 'max_median_freq_M', 'max_flash_ind_M', 'max_cv_M', 'max_iqa_M', 'max_mab_M', 'max_imp_M', 'max_len_M']\n"
     ]
    }
   ],
   "source": [
    "print(X.columns.to_list())"
   ]
  },
  {
   "cell_type": "code",
   "execution_count": 370,
   "id": "10b74ba3-bd56-453b-9101-b2909bade3f7",
   "metadata": {},
   "outputs": [
    {
     "data": {
      "text/html": [
       "<div>\n",
       "<style scoped>\n",
       "    .dataframe tbody tr th:only-of-type {\n",
       "        vertical-align: middle;\n",
       "    }\n",
       "\n",
       "    .dataframe tbody tr th {\n",
       "        vertical-align: top;\n",
       "    }\n",
       "\n",
       "    .dataframe thead th {\n",
       "        text-align: right;\n",
       "    }\n",
       "</style>\n",
       "<table border=\"1\" class=\"dataframe\">\n",
       "  <thead>\n",
       "    <tr style=\"text-align: right;\">\n",
       "      <th></th>\n",
       "      <th>max_centroid_frequency_M</th>\n",
       "      <th>max_centroid_frequency2_M</th>\n",
       "      <th>max_median_freq_M</th>\n",
       "      <th>max_flash_ind_M</th>\n",
       "      <th>max_cv_M</th>\n",
       "      <th>max_iqa_M</th>\n",
       "      <th>max_mab_M</th>\n",
       "      <th>max_imp_M</th>\n",
       "      <th>max_len_M</th>\n",
       "    </tr>\n",
       "  </thead>\n",
       "  <tbody>\n",
       "    <tr>\n",
       "      <th>46123</th>\n",
       "      <td>3497.695364</td>\n",
       "      <td>3651.198231</td>\n",
       "      <td>3536.219986</td>\n",
       "      <td>0.001092</td>\n",
       "      <td>0.862842</td>\n",
       "      <td>0.001232</td>\n",
       "      <td>2.219500</td>\n",
       "      <td>6</td>\n",
       "      <td>50</td>\n",
       "    </tr>\n",
       "    <tr>\n",
       "      <th>46124</th>\n",
       "      <td>3199.658992</td>\n",
       "      <td>3221.798014</td>\n",
       "      <td>3199.297511</td>\n",
       "      <td>0.001530</td>\n",
       "      <td>1.051200</td>\n",
       "      <td>0.000913</td>\n",
       "      <td>1.717626</td>\n",
       "      <td>6</td>\n",
       "      <td>52</td>\n",
       "    </tr>\n",
       "  </tbody>\n",
       "</table>\n",
       "</div>"
      ],
      "text/plain": [
       "       max_centroid_frequency_M  max_centroid_frequency2_M  max_median_freq_M  \\\n",
       "46123               3497.695364                3651.198231        3536.219986   \n",
       "46124               3199.658992                3221.798014        3199.297511   \n",
       "\n",
       "       max_flash_ind_M  max_cv_M  max_iqa_M  max_mab_M  max_imp_M  max_len_M  \n",
       "46123         0.001092  0.862842   0.001232   2.219500          6         50  \n",
       "46124         0.001530  1.051200   0.000913   1.717626          6         52  "
      ]
     },
     "execution_count": 370,
     "metadata": {},
     "output_type": "execute_result"
    }
   ],
   "source": [
    "X.head(2)"
   ]
  },
  {
   "cell_type": "code",
   "execution_count": 371,
   "id": "883322f1-063a-48e7-a6ee-e8cc551be5ff",
   "metadata": {},
   "outputs": [
    {
     "data": {
      "text/plain": [
       "0.7575312735925648"
      ]
     },
     "execution_count": 371,
     "metadata": {},
     "output_type": "execute_result"
    }
   ],
   "source": [
    "all_studies.best_trial.value"
   ]
  },
  {
   "cell_type": "code",
   "execution_count": 372,
   "id": "e6e0586f-26b2-4a17-a021-bd4f0a56a332",
   "metadata": {
    "tags": []
   },
   "outputs": [
    {
     "data": {
      "text/plain": [
       "{'iterations': 2740,\n",
       " 'loss_function': 'RMSE',\n",
       " 'learning_rate': 0.013026901294162932,\n",
       " 'l2_leaf_reg': 0.02164361803562735,\n",
       " 'colsample_bylevel': 0.6584649538042444,\n",
       " 'depth': 10,\n",
       " 'boosting_type': 'Plain',\n",
       " 'bootstrap_type': 'MVS',\n",
       " 'min_data_in_leaf': 4,\n",
       " 'one_hot_max_size': 19}"
      ]
     },
     "execution_count": 372,
     "metadata": {},
     "output_type": "execute_result"
    }
   ],
   "source": [
    "params = all_studies.best_trial\n",
    "model_params = params.params\n",
    "model_params"
   ]
  },
  {
   "cell_type": "code",
   "execution_count": 373,
   "id": "ff4c0edd-95cd-4e24-a199-c6cda2d73f9e",
   "metadata": {},
   "outputs": [],
   "source": [
    "catboost_pipe = Pipeline([('outlier_feature', OutlierFeatureAdder()),\n",
    "                             ('power_transform', PowerTransformer()), \n",
    "                             ('cat_boost', CatBoostRegressor(**model_params, silent=True))])"
   ]
  },
  {
   "cell_type": "code",
   "execution_count": 374,
   "id": "728a2799-ef0f-4197-b4c2-29110425ce92",
   "metadata": {},
   "outputs": [],
   "source": [
    "scores = cross_val_score(estimator=catboost_pipe, X=X_train, y=y_train, cv=10, n_jobs=10)"
   ]
  },
  {
   "cell_type": "code",
   "execution_count": 375,
   "id": "6344e7b2-8a02-488f-a3bd-2e0c0c33306d",
   "metadata": {},
   "outputs": [
    {
     "name": "stdout",
     "output_type": "stream",
     "text": [
      "All Scores:  [0.75745599 0.73846527 0.75788592 0.77146571 0.74663499 0.74516038\n",
      " 0.75591134 0.75845298 0.75917339 0.76361361]\n"
     ]
    }
   ],
   "source": [
    "print('All Scores: ', scores)"
   ]
  },
  {
   "cell_type": "code",
   "execution_count": 376,
   "id": "ddb487b0-2615-4c0c-8cf0-f895c5fc15a3",
   "metadata": {},
   "outputs": [
    {
     "name": "stdout",
     "output_type": "stream",
     "text": [
      "Mean Score:  0.7554219569952801\n"
     ]
    }
   ],
   "source": [
    "print('Mean Score: ', np.mean(scores))"
   ]
  },
  {
   "cell_type": "code",
   "execution_count": 377,
   "id": "2059506c-dfa9-4ae2-9231-da1a444f88f9",
   "metadata": {},
   "outputs": [
    {
     "data": {
      "text/plain": [
       "Pipeline(steps=[('outlier_feature', OutlierFeatureAdder()),\n",
       "                ('power_transform', PowerTransformer()),\n",
       "                ('cat_boost',\n",
       "                 <catboost.core.CatBoostRegressor object at 0x7f4aad001490>)])"
      ]
     },
     "execution_count": 377,
     "metadata": {},
     "output_type": "execute_result"
    }
   ],
   "source": [
    "catboost_pipe.fit(X_train, y_train)"
   ]
  },
  {
   "cell_type": "code",
   "execution_count": 378,
   "id": "93a4da8c-b33a-4c7a-bd4f-bc261bf15438",
   "metadata": {},
   "outputs": [],
   "source": [
    "y_pred = catboost_pipe.predict(X_test)"
   ]
  },
  {
   "cell_type": "code",
   "execution_count": 379,
   "id": "39d9e20f-dad0-40df-b30c-7a39efcbf823",
   "metadata": {},
   "outputs": [
    {
     "name": "stdout",
     "output_type": "stream",
     "text": [
      "MAPE: 0.27998366885011733\n"
     ]
    }
   ],
   "source": [
    "print('MAPE:', mean_absolute_percentage_error(y_test, y_pred))"
   ]
  },
  {
   "cell_type": "code",
   "execution_count": 380,
   "id": "e489b574-03d9-4a1a-9728-3d4cf00a78ba",
   "metadata": {},
   "outputs": [
    {
     "name": "stdout",
     "output_type": "stream",
     "text": [
      "R2-Score: 0.7677266097688191\n"
     ]
    }
   ],
   "source": [
    "print('R2-Score:', r2_score(y_test, y_pred))"
   ]
  },
  {
   "cell_type": "code",
   "execution_count": 381,
   "id": "5bc42214-d8f8-411a-acdd-b5283c06c1a6",
   "metadata": {},
   "outputs": [],
   "source": [
    "pred_error = pd.DataFrame(data={'y_pred':y_pred, 'y_test':y_test})\n",
    "pred_error = pd.concat([holdout[['start_time', 'velocity', 'packnr', 'size_mm']], pred_error], axis=1)\n",
    "pred_error.to_csv('./data/error/mpa/simple.csv', sep=' ', index=False)"
   ]
  },
  {
   "cell_type": "code",
   "execution_count": 382,
   "id": "1395d02f-467c-465d-b4e5-f8c9fe0f63f2",
   "metadata": {},
   "outputs": [
    {
     "data": {
      "text/plain": [
       "Pipeline(steps=[('outlier_feature', OutlierFeatureAdder()),\n",
       "                ('power_transform', PowerTransformer()),\n",
       "                ('cat_boost',\n",
       "                 <catboost.core.CatBoostRegressor object at 0x7f4aad001490>)])"
      ]
     },
     "execution_count": 382,
     "metadata": {},
     "output_type": "execute_result"
    }
   ],
   "source": [
    "catboost_pipe.fit(X, y)"
   ]
  },
  {
   "cell_type": "code",
   "execution_count": 383,
   "id": "7d6f6f28-6a54-424c-98f0-cc4f8d046e89",
   "metadata": {},
   "outputs": [
    {
     "data": {
      "text/plain": [
       "0.8730367653471209"
      ]
     },
     "execution_count": 383,
     "metadata": {},
     "output_type": "execute_result"
    }
   ],
   "source": [
    "catboost_pipe.score(X, y)"
   ]
  },
  {
   "cell_type": "code",
   "execution_count": 384,
   "id": "b5896582-6c81-4c88-8d11-8e1093110cfe",
   "metadata": {},
   "outputs": [],
   "source": [
    "with open('./models/mpa/mpa_catboost_simple.pkl', 'wb') as pkl_file:\n",
    "    pickle.dump(obj=catboost_pipe, file=pkl_file)"
   ]
  },
  {
   "cell_type": "markdown",
   "id": "9ea2adad-ff6f-4b16-84db-ec1bc433655a",
   "metadata": {
    "tags": []
   },
   "source": [
    "## SPG"
   ]
  },
  {
   "cell_type": "code",
   "execution_count": 449,
   "id": "42d9dab8-35c2-4f58-9b05-c4f789079ef0",
   "metadata": {},
   "outputs": [],
   "source": [
    "# Load best study\n",
    "studies = load_studies_from_folder(folder_name='./results/final2/simple/', device_name='spg')\n",
    "all_studies = concat_all_studies(studies=studies, as_dataframe=False)\n",
    "df = concat_all_studies(studies=studies, as_dataframe=True)"
   ]
  },
  {
   "cell_type": "code",
   "execution_count": 450,
   "id": "a60fd46f-8730-4612-bdcb-be891cf8d0ed",
   "metadata": {},
   "outputs": [
    {
     "data": {
      "text/html": [
       "<div>\n",
       "<style scoped>\n",
       "    .dataframe tbody tr th:only-of-type {\n",
       "        vertical-align: middle;\n",
       "    }\n",
       "\n",
       "    .dataframe tbody tr th {\n",
       "        vertical-align: top;\n",
       "    }\n",
       "\n",
       "    .dataframe thead th {\n",
       "        text-align: right;\n",
       "    }\n",
       "</style>\n",
       "<table border=\"1\" class=\"dataframe\">\n",
       "  <thead>\n",
       "    <tr style=\"text-align: right;\">\n",
       "      <th></th>\n",
       "      <th>number</th>\n",
       "      <th>value</th>\n",
       "      <th>datetime_start</th>\n",
       "      <th>datetime_complete</th>\n",
       "      <th>duration</th>\n",
       "      <th>params_bagging_temperature</th>\n",
       "      <th>params_boosting_type</th>\n",
       "      <th>params_bootstrap_type</th>\n",
       "      <th>params_colsample_bylevel</th>\n",
       "      <th>params_depth</th>\n",
       "      <th>params_iterations</th>\n",
       "      <th>params_l2_leaf_reg</th>\n",
       "      <th>params_learning_rate</th>\n",
       "      <th>params_loss_function</th>\n",
       "      <th>params_min_data_in_leaf</th>\n",
       "      <th>params_one_hot_max_size</th>\n",
       "      <th>params_subsample</th>\n",
       "      <th>state</th>\n",
       "    </tr>\n",
       "  </thead>\n",
       "  <tbody>\n",
       "    <tr>\n",
       "      <th>90</th>\n",
       "      <td>90</td>\n",
       "      <td>0.774290</td>\n",
       "      <td>2021-12-27 16:29:33.834645</td>\n",
       "      <td>2021-12-27 16:29:46.076929</td>\n",
       "      <td>0 days 00:00:12.242284</td>\n",
       "      <td>NaN</td>\n",
       "      <td>Plain</td>\n",
       "      <td>MVS</td>\n",
       "      <td>0.909189</td>\n",
       "      <td>8</td>\n",
       "      <td>2667</td>\n",
       "      <td>0.187837</td>\n",
       "      <td>0.010489</td>\n",
       "      <td>RMSE</td>\n",
       "      <td>12</td>\n",
       "      <td>4</td>\n",
       "      <td>NaN</td>\n",
       "      <td>COMPLETE</td>\n",
       "    </tr>\n",
       "    <tr>\n",
       "      <th>163</th>\n",
       "      <td>163</td>\n",
       "      <td>0.774255</td>\n",
       "      <td>2021-12-27 16:42:53.778691</td>\n",
       "      <td>2021-12-27 16:43:07.590405</td>\n",
       "      <td>0 days 00:00:13.811714</td>\n",
       "      <td>NaN</td>\n",
       "      <td>Plain</td>\n",
       "      <td>Bernoulli</td>\n",
       "      <td>0.699447</td>\n",
       "      <td>7</td>\n",
       "      <td>4648</td>\n",
       "      <td>0.775859</td>\n",
       "      <td>0.005046</td>\n",
       "      <td>RMSE</td>\n",
       "      <td>19</td>\n",
       "      <td>12</td>\n",
       "      <td>0.714922</td>\n",
       "      <td>COMPLETE</td>\n",
       "    </tr>\n",
       "  </tbody>\n",
       "</table>\n",
       "</div>"
      ],
      "text/plain": [
       "     number     value             datetime_start          datetime_complete  \\\n",
       "90       90  0.774290 2021-12-27 16:29:33.834645 2021-12-27 16:29:46.076929   \n",
       "163     163  0.774255 2021-12-27 16:42:53.778691 2021-12-27 16:43:07.590405   \n",
       "\n",
       "                  duration  params_bagging_temperature params_boosting_type  \\\n",
       "90  0 days 00:00:12.242284                         NaN                Plain   \n",
       "163 0 days 00:00:13.811714                         NaN                Plain   \n",
       "\n",
       "    params_bootstrap_type  params_colsample_bylevel  params_depth  \\\n",
       "90                    MVS                  0.909189             8   \n",
       "163             Bernoulli                  0.699447             7   \n",
       "\n",
       "     params_iterations  params_l2_leaf_reg  params_learning_rate  \\\n",
       "90                2667            0.187837              0.010489   \n",
       "163               4648            0.775859              0.005046   \n",
       "\n",
       "    params_loss_function  params_min_data_in_leaf  params_one_hot_max_size  \\\n",
       "90                  RMSE                       12                        4   \n",
       "163                 RMSE                       19                       12   \n",
       "\n",
       "     params_subsample     state  \n",
       "90                NaN  COMPLETE  \n",
       "163          0.714922  COMPLETE  "
      ]
     },
     "execution_count": 450,
     "metadata": {},
     "output_type": "execute_result"
    }
   ],
   "source": [
    "df.head(2)"
   ]
  },
  {
   "cell_type": "code",
   "execution_count": 451,
   "id": "afddc331-98ec-4ddc-8e21-c9e9fa74f339",
   "metadata": {},
   "outputs": [],
   "source": [
    "train = pd.read_table('./data/train/split_data_max_spg.csv', sep=' ')\n",
    "holdout = pd.read_table('./data/holdout/test_data_max_spg.csv', sep=' ')\n",
    "all_data = pd.read_table('./data/archive/data_max_spg.csv', sep=' ')"
   ]
  },
  {
   "cell_type": "code",
   "execution_count": 452,
   "id": "fee0d2eb-9922-4e4a-a79f-aea69b05f375",
   "metadata": {},
   "outputs": [],
   "source": [
    "X_train, y_train = preprocess_data(train, datefrom=configs['DATE_FROM'])\n",
    "X_test, y_test = preprocess_data(holdout, datefrom=configs['DATE_FROM'])\n",
    "X, y = preprocess_data(all_data, datefrom=configs['DATE_FROM'])"
   ]
  },
  {
   "cell_type": "code",
   "execution_count": 453,
   "id": "8ac50951-ad3a-4ddd-8b95-33f69657f455",
   "metadata": {},
   "outputs": [
    {
     "name": "stdout",
     "output_type": "stream",
     "text": [
      "['max_centroid_frequency_G', 'max_centroid_frequency2_G', 'max_median_freq_G', 'max_flash_ind_G', 'max_cv_G', 'max_iqa_G', 'max_mab_G', 'max_imp_G', 'max_len_G']\n"
     ]
    }
   ],
   "source": [
    "print(X.columns.to_list())"
   ]
  },
  {
   "cell_type": "code",
   "execution_count": 390,
   "id": "5557f7dd-2f47-4fdb-93a4-4f71d49fc8d8",
   "metadata": {},
   "outputs": [
    {
     "data": {
      "text/html": [
       "<div>\n",
       "<style scoped>\n",
       "    .dataframe tbody tr th:only-of-type {\n",
       "        vertical-align: middle;\n",
       "    }\n",
       "\n",
       "    .dataframe tbody tr th {\n",
       "        vertical-align: top;\n",
       "    }\n",
       "\n",
       "    .dataframe thead th {\n",
       "        text-align: right;\n",
       "    }\n",
       "</style>\n",
       "<table border=\"1\" class=\"dataframe\">\n",
       "  <thead>\n",
       "    <tr style=\"text-align: right;\">\n",
       "      <th></th>\n",
       "      <th>max_centroid_frequency_G</th>\n",
       "      <th>max_centroid_frequency2_G</th>\n",
       "      <th>max_median_freq_G</th>\n",
       "      <th>max_flash_ind_G</th>\n",
       "      <th>max_cv_G</th>\n",
       "      <th>max_iqa_G</th>\n",
       "      <th>max_mab_G</th>\n",
       "      <th>max_imp_G</th>\n",
       "      <th>max_len_G</th>\n",
       "    </tr>\n",
       "  </thead>\n",
       "  <tbody>\n",
       "    <tr>\n",
       "      <th>30126</th>\n",
       "      <td>1966.146784</td>\n",
       "      <td>1977.787415</td>\n",
       "      <td>2052.549520</td>\n",
       "      <td>0.003117</td>\n",
       "      <td>1.118455</td>\n",
       "      <td>2.939599e-07</td>\n",
       "      <td>0.021001</td>\n",
       "      <td>0</td>\n",
       "      <td>48</td>\n",
       "    </tr>\n",
       "    <tr>\n",
       "      <th>30127</th>\n",
       "      <td>456.029080</td>\n",
       "      <td>323.956298</td>\n",
       "      <td>334.713115</td>\n",
       "      <td>0.012305</td>\n",
       "      <td>3.281048</td>\n",
       "      <td>1.906679e-06</td>\n",
       "      <td>0.024618</td>\n",
       "      <td>2</td>\n",
       "      <td>82</td>\n",
       "    </tr>\n",
       "  </tbody>\n",
       "</table>\n",
       "</div>"
      ],
      "text/plain": [
       "       max_centroid_frequency_G  max_centroid_frequency2_G  max_median_freq_G  \\\n",
       "30126               1966.146784                1977.787415        2052.549520   \n",
       "30127                456.029080                 323.956298         334.713115   \n",
       "\n",
       "       max_flash_ind_G  max_cv_G     max_iqa_G  max_mab_G  max_imp_G  \\\n",
       "30126         0.003117  1.118455  2.939599e-07   0.021001          0   \n",
       "30127         0.012305  3.281048  1.906679e-06   0.024618          2   \n",
       "\n",
       "       max_len_G  \n",
       "30126         48  \n",
       "30127         82  "
      ]
     },
     "execution_count": 390,
     "metadata": {},
     "output_type": "execute_result"
    }
   ],
   "source": [
    "X.head(2)"
   ]
  },
  {
   "cell_type": "code",
   "execution_count": 391,
   "id": "886b3eb7-b3b0-4d0d-bd50-15ffad8be6e7",
   "metadata": {},
   "outputs": [
    {
     "data": {
      "text/plain": [
       "0.7742899023019836"
      ]
     },
     "execution_count": 391,
     "metadata": {},
     "output_type": "execute_result"
    }
   ],
   "source": [
    "all_studies.best_trial.value"
   ]
  },
  {
   "cell_type": "code",
   "execution_count": 392,
   "id": "ad56ef11-b223-4dc8-b005-3cb268cfded2",
   "metadata": {
    "tags": []
   },
   "outputs": [
    {
     "data": {
      "text/plain": [
       "{'iterations': 2667,\n",
       " 'loss_function': 'RMSE',\n",
       " 'learning_rate': 0.010488721255868626,\n",
       " 'l2_leaf_reg': 0.18783728913290168,\n",
       " 'colsample_bylevel': 0.9091893755627428,\n",
       " 'depth': 8,\n",
       " 'boosting_type': 'Plain',\n",
       " 'bootstrap_type': 'MVS',\n",
       " 'min_data_in_leaf': 12,\n",
       " 'one_hot_max_size': 4}"
      ]
     },
     "execution_count": 392,
     "metadata": {},
     "output_type": "execute_result"
    }
   ],
   "source": [
    "params = all_studies.best_trial\n",
    "model_params = params.params\n",
    "model_params"
   ]
  },
  {
   "cell_type": "code",
   "execution_count": 393,
   "id": "b2ec105e-f882-45bf-93c0-8dfa7bb826e4",
   "metadata": {},
   "outputs": [],
   "source": [
    "catboost_pipe = Pipeline([('outlier_feature', OutlierFeatureAdder()),\n",
    "                          ('power_transform', PowerTransformer()), \n",
    "                          ('cat_boost', CatBoostRegressor(**model_params, silent=True))])"
   ]
  },
  {
   "cell_type": "code",
   "execution_count": 394,
   "id": "6cabc2bd-a197-475d-853a-2503cc6ba45a",
   "metadata": {},
   "outputs": [],
   "source": [
    "scores = cross_val_score(estimator=catboost_pipe, X=X_train, y=y_train, cv=10, n_jobs=10)"
   ]
  },
  {
   "cell_type": "code",
   "execution_count": 395,
   "id": "f64e7c8f-a436-4754-b639-622f2271eb67",
   "metadata": {},
   "outputs": [
    {
     "name": "stdout",
     "output_type": "stream",
     "text": [
      "All Scores:  [0.76882783 0.76886545 0.76937802 0.78294534 0.78540828 0.79383241\n",
      " 0.77764034 0.78665871 0.76285174 0.77435771]\n"
     ]
    }
   ],
   "source": [
    "print('All Scores: ', scores)"
   ]
  },
  {
   "cell_type": "code",
   "execution_count": 396,
   "id": "1d49c098-833f-45fc-aca9-beebd98638cf",
   "metadata": {},
   "outputs": [
    {
     "name": "stdout",
     "output_type": "stream",
     "text": [
      "Mean Score:  0.7770765838709519\n"
     ]
    }
   ],
   "source": [
    "print('Mean Score: ', np.mean(scores))"
   ]
  },
  {
   "cell_type": "code",
   "execution_count": 397,
   "id": "7d98dd6e-568d-4f61-b808-a402fb87186a",
   "metadata": {},
   "outputs": [
    {
     "data": {
      "text/plain": [
       "Pipeline(steps=[('outlier_feature', OutlierFeatureAdder()),\n",
       "                ('power_transform', PowerTransformer()),\n",
       "                ('cat_boost',\n",
       "                 <catboost.core.CatBoostRegressor object at 0x7f4aacffea30>)])"
      ]
     },
     "execution_count": 397,
     "metadata": {},
     "output_type": "execute_result"
    }
   ],
   "source": [
    "catboost_pipe.fit(X_train, y_train)"
   ]
  },
  {
   "cell_type": "code",
   "execution_count": 398,
   "id": "540bcef1-b8c6-459d-81f3-652f46a8e4ac",
   "metadata": {},
   "outputs": [],
   "source": [
    "y_pred = catboost_pipe.predict(X_test)"
   ]
  },
  {
   "cell_type": "code",
   "execution_count": 399,
   "id": "64f6477d-a347-4101-bd79-ca2b66fe081d",
   "metadata": {},
   "outputs": [
    {
     "name": "stdout",
     "output_type": "stream",
     "text": [
      "MAPE: 0.22865376582712002\n"
     ]
    }
   ],
   "source": [
    "print('MAPE:', mean_absolute_percentage_error(y_test, y_pred))"
   ]
  },
  {
   "cell_type": "code",
   "execution_count": 400,
   "id": "9f4d2a79-d3fb-4883-b6bb-15d700c9932d",
   "metadata": {},
   "outputs": [
    {
     "name": "stdout",
     "output_type": "stream",
     "text": [
      "R2-Score: 0.7624840634531107\n"
     ]
    }
   ],
   "source": [
    "print('R2-Score:', r2_score(y_test, y_pred))"
   ]
  },
  {
   "cell_type": "code",
   "execution_count": 402,
   "id": "c08b7b6a-18b8-4d9a-a215-4346be27b8c3",
   "metadata": {},
   "outputs": [],
   "source": [
    "pred_error = pd.DataFrame(data={'y_pred':y_pred, 'y_test':y_test})\n",
    "pred_error = pd.concat([holdout[['start_time', 'velocity', 'packnr', 'size_mm']], pred_error], axis=1)\n",
    "pred_error.to_csv('./data/error/spg/simple.csv', sep=' ', index=False)"
   ]
  },
  {
   "cell_type": "code",
   "execution_count": 403,
   "id": "3577074f-f1f3-4dc4-a03b-bbab869e8cf3",
   "metadata": {},
   "outputs": [
    {
     "data": {
      "text/plain": [
       "Pipeline(steps=[('outlier_feature', OutlierFeatureAdder()),\n",
       "                ('power_transform', PowerTransformer()),\n",
       "                ('cat_boost',\n",
       "                 <catboost.core.CatBoostRegressor object at 0x7f4aacffea30>)])"
      ]
     },
     "execution_count": 403,
     "metadata": {},
     "output_type": "execute_result"
    }
   ],
   "source": [
    "catboost_pipe.fit(X, y)"
   ]
  },
  {
   "cell_type": "code",
   "execution_count": 404,
   "id": "41e63430-c4a4-4d9d-9d9e-0d939584bbd1",
   "metadata": {},
   "outputs": [
    {
     "data": {
      "text/plain": [
       "0.846373173445221"
      ]
     },
     "execution_count": 404,
     "metadata": {},
     "output_type": "execute_result"
    }
   ],
   "source": [
    "catboost_pipe.score(X, y)"
   ]
  },
  {
   "cell_type": "code",
   "execution_count": 405,
   "id": "b7861f5e-2841-4fac-bf05-d8b3069fd490",
   "metadata": {},
   "outputs": [],
   "source": [
    "with open('./models/spg/spg_catboost_simple.pkl', 'wb') as pkl_file:\n",
    "    pickle.dump(obj=catboost_pipe, file=pkl_file)"
   ]
  },
  {
   "cell_type": "markdown",
   "id": "4bf3f546-0b13-4629-a1e6-a058bac9f81f",
   "metadata": {
    "tags": []
   },
   "source": [
    "## SPS (Achtung Features von S und G auch extrahieren!)"
   ]
  },
  {
   "cell_type": "code",
   "execution_count": 456,
   "id": "b5eaff32-6d0b-49ec-93e6-ae9424849ea3",
   "metadata": {},
   "outputs": [],
   "source": [
    "# Load best study\n",
    "studies = load_studies_from_folder(folder_name='./results/final2/simple/', device_name='sps')\n",
    "all_studies = concat_all_studies(studies=studies, as_dataframe=False)\n",
    "df = concat_all_studies(studies=studies, as_dataframe=True)"
   ]
  },
  {
   "cell_type": "code",
   "execution_count": 457,
   "id": "726d9737-4c9c-4aa4-a3fd-39d19c923f39",
   "metadata": {},
   "outputs": [
    {
     "data": {
      "text/html": [
       "<div>\n",
       "<style scoped>\n",
       "    .dataframe tbody tr th:only-of-type {\n",
       "        vertical-align: middle;\n",
       "    }\n",
       "\n",
       "    .dataframe tbody tr th {\n",
       "        vertical-align: top;\n",
       "    }\n",
       "\n",
       "    .dataframe thead th {\n",
       "        text-align: right;\n",
       "    }\n",
       "</style>\n",
       "<table border=\"1\" class=\"dataframe\">\n",
       "  <thead>\n",
       "    <tr style=\"text-align: right;\">\n",
       "      <th></th>\n",
       "      <th>number</th>\n",
       "      <th>value</th>\n",
       "      <th>datetime_start</th>\n",
       "      <th>datetime_complete</th>\n",
       "      <th>duration</th>\n",
       "      <th>params_bagging_temperature</th>\n",
       "      <th>params_boosting_type</th>\n",
       "      <th>params_bootstrap_type</th>\n",
       "      <th>params_colsample_bylevel</th>\n",
       "      <th>params_depth</th>\n",
       "      <th>params_iterations</th>\n",
       "      <th>params_l2_leaf_reg</th>\n",
       "      <th>params_learning_rate</th>\n",
       "      <th>params_loss_function</th>\n",
       "      <th>params_min_data_in_leaf</th>\n",
       "      <th>params_one_hot_max_size</th>\n",
       "      <th>params_subsample</th>\n",
       "      <th>state</th>\n",
       "    </tr>\n",
       "  </thead>\n",
       "  <tbody>\n",
       "    <tr>\n",
       "      <th>97</th>\n",
       "      <td>97</td>\n",
       "      <td>0.810945</td>\n",
       "      <td>2021-12-27 18:58:01.812742</td>\n",
       "      <td>2021-12-27 18:59:00.416322</td>\n",
       "      <td>0 days 00:00:58.603580</td>\n",
       "      <td>NaN</td>\n",
       "      <td>Plain</td>\n",
       "      <td>MVS</td>\n",
       "      <td>0.497866</td>\n",
       "      <td>9</td>\n",
       "      <td>4439</td>\n",
       "      <td>0.104369</td>\n",
       "      <td>0.011973</td>\n",
       "      <td>RMSE</td>\n",
       "      <td>12</td>\n",
       "      <td>6</td>\n",
       "      <td>NaN</td>\n",
       "      <td>COMPLETE</td>\n",
       "    </tr>\n",
       "    <tr>\n",
       "      <th>76</th>\n",
       "      <td>76</td>\n",
       "      <td>0.810823</td>\n",
       "      <td>2021-12-27 18:41:14.051321</td>\n",
       "      <td>2021-12-27 18:41:52.348461</td>\n",
       "      <td>0 days 00:00:38.297140</td>\n",
       "      <td>NaN</td>\n",
       "      <td>Plain</td>\n",
       "      <td>MVS</td>\n",
       "      <td>0.573557</td>\n",
       "      <td>8</td>\n",
       "      <td>4988</td>\n",
       "      <td>0.108458</td>\n",
       "      <td>0.009632</td>\n",
       "      <td>RMSE</td>\n",
       "      <td>12</td>\n",
       "      <td>3</td>\n",
       "      <td>NaN</td>\n",
       "      <td>COMPLETE</td>\n",
       "    </tr>\n",
       "  </tbody>\n",
       "</table>\n",
       "</div>"
      ],
      "text/plain": [
       "    number     value             datetime_start          datetime_complete  \\\n",
       "97      97  0.810945 2021-12-27 18:58:01.812742 2021-12-27 18:59:00.416322   \n",
       "76      76  0.810823 2021-12-27 18:41:14.051321 2021-12-27 18:41:52.348461   \n",
       "\n",
       "                 duration  params_bagging_temperature params_boosting_type  \\\n",
       "97 0 days 00:00:58.603580                         NaN                Plain   \n",
       "76 0 days 00:00:38.297140                         NaN                Plain   \n",
       "\n",
       "   params_bootstrap_type  params_colsample_bylevel  params_depth  \\\n",
       "97                   MVS                  0.497866             9   \n",
       "76                   MVS                  0.573557             8   \n",
       "\n",
       "    params_iterations  params_l2_leaf_reg  params_learning_rate  \\\n",
       "97               4439            0.104369              0.011973   \n",
       "76               4988            0.108458              0.009632   \n",
       "\n",
       "   params_loss_function  params_min_data_in_leaf  params_one_hot_max_size  \\\n",
       "97                 RMSE                       12                        6   \n",
       "76                 RMSE                       12                        3   \n",
       "\n",
       "    params_subsample     state  \n",
       "97               NaN  COMPLETE  \n",
       "76               NaN  COMPLETE  "
      ]
     },
     "execution_count": 457,
     "metadata": {},
     "output_type": "execute_result"
    }
   ],
   "source": [
    "df.head(2)"
   ]
  },
  {
   "cell_type": "code",
   "execution_count": 458,
   "id": "5f623c1d-488e-425f-a64e-765463ee788d",
   "metadata": {},
   "outputs": [],
   "source": [
    "train = pd.read_table('./data/train/split_data_max_sps.csv', sep=' ')\n",
    "holdout = pd.read_table('./data/holdout/test_data_max_sps.csv', sep=' ')\n",
    "all_data = pd.read_table('./data/archive/data_max_sps.csv', sep=' ')"
   ]
  },
  {
   "cell_type": "code",
   "execution_count": 459,
   "id": "7477b50e-28eb-4840-8f1b-41485ba881e0",
   "metadata": {},
   "outputs": [],
   "source": [
    "X_train, y_train = preprocess_data(train, datefrom=configs['DATE_FROM'])\n",
    "X_test, y_test = preprocess_data(holdout, datefrom=configs['DATE_FROM'])\n",
    "X, y = preprocess_data(all_data, datefrom=configs['DATE_FROM'])"
   ]
  },
  {
   "cell_type": "code",
   "execution_count": 460,
   "id": "22ee47e7-b6ce-4c37-8bb9-9a0a80951837",
   "metadata": {},
   "outputs": [
    {
     "name": "stdout",
     "output_type": "stream",
     "text": [
      "['max_centroid_frequency_G', 'max_centroid_frequency2_G', 'max_median_freq_G', 'max_flash_ind_G', 'max_cv_G', 'max_iqa_G', 'max_mab_G', 'max_imp_G', 'max_len_G', 'max_centroid_frequency_M', 'max_centroid_frequency2_M', 'max_median_freq_M', 'max_flash_ind_M', 'max_cv_M', 'max_iqa_M', 'max_mab_M', 'max_imp_M', 'max_len_M', 'max_centroid_frequency_S', 'max_centroid_frequency2_S', 'max_median_freq_S', 'max_flash_ind_S', 'max_cv_S', 'max_iqa_S', 'max_mab_S', 'max_imp_S', 'max_len_S']\n"
     ]
    }
   ],
   "source": [
    "print(X.columns.to_list())"
   ]
  },
  {
   "cell_type": "code",
   "execution_count": 411,
   "id": "93f0af38-1d36-46f6-a6ca-125bdf2ce7e8",
   "metadata": {},
   "outputs": [
    {
     "data": {
      "text/html": [
       "<div>\n",
       "<style scoped>\n",
       "    .dataframe tbody tr th:only-of-type {\n",
       "        vertical-align: middle;\n",
       "    }\n",
       "\n",
       "    .dataframe tbody tr th {\n",
       "        vertical-align: top;\n",
       "    }\n",
       "\n",
       "    .dataframe thead th {\n",
       "        text-align: right;\n",
       "    }\n",
       "</style>\n",
       "<table border=\"1\" class=\"dataframe\">\n",
       "  <thead>\n",
       "    <tr style=\"text-align: right;\">\n",
       "      <th></th>\n",
       "      <th>max_centroid_frequency_G</th>\n",
       "      <th>max_centroid_frequency2_G</th>\n",
       "      <th>max_median_freq_G</th>\n",
       "      <th>max_flash_ind_G</th>\n",
       "      <th>max_cv_G</th>\n",
       "      <th>max_iqa_G</th>\n",
       "      <th>max_mab_G</th>\n",
       "      <th>max_imp_G</th>\n",
       "      <th>max_len_G</th>\n",
       "      <th>max_centroid_frequency_M</th>\n",
       "      <th>max_centroid_frequency2_M</th>\n",
       "      <th>max_median_freq_M</th>\n",
       "      <th>max_flash_ind_M</th>\n",
       "      <th>max_cv_M</th>\n",
       "      <th>max_iqa_M</th>\n",
       "      <th>max_mab_M</th>\n",
       "      <th>max_imp_M</th>\n",
       "      <th>max_len_M</th>\n",
       "      <th>max_centroid_frequency_S</th>\n",
       "      <th>max_centroid_frequency2_S</th>\n",
       "      <th>max_median_freq_S</th>\n",
       "      <th>max_flash_ind_S</th>\n",
       "      <th>max_cv_S</th>\n",
       "      <th>max_iqa_S</th>\n",
       "      <th>max_mab_S</th>\n",
       "      <th>max_imp_S</th>\n",
       "      <th>max_len_S</th>\n",
       "    </tr>\n",
       "  </thead>\n",
       "  <tbody>\n",
       "    <tr>\n",
       "      <th>0</th>\n",
       "      <td>8153.438439</td>\n",
       "      <td>7257.609334</td>\n",
       "      <td>7621.698593</td>\n",
       "      <td>0.002570</td>\n",
       "      <td>0.674025</td>\n",
       "      <td>1.167040e-07</td>\n",
       "      <td>0.045203</td>\n",
       "      <td>1</td>\n",
       "      <td>73</td>\n",
       "      <td>7371.324388</td>\n",
       "      <td>2679.227894</td>\n",
       "      <td>6483.983503</td>\n",
       "      <td>0.008534</td>\n",
       "      <td>1.337432</td>\n",
       "      <td>2.586849e-07</td>\n",
       "      <td>0.030517</td>\n",
       "      <td>0</td>\n",
       "      <td>73</td>\n",
       "      <td>6475.116681</td>\n",
       "      <td>3302.480303</td>\n",
       "      <td>5674.218237</td>\n",
       "      <td>0.004337</td>\n",
       "      <td>1.038010</td>\n",
       "      <td>0.034014</td>\n",
       "      <td>18</td>\n",
       "      <td>0</td>\n",
       "      <td>73</td>\n",
       "    </tr>\n",
       "    <tr>\n",
       "      <th>1</th>\n",
       "      <td>3450.442567</td>\n",
       "      <td>2618.793204</td>\n",
       "      <td>2680.641145</td>\n",
       "      <td>0.007678</td>\n",
       "      <td>2.432687</td>\n",
       "      <td>2.902270e-07</td>\n",
       "      <td>0.033590</td>\n",
       "      <td>0</td>\n",
       "      <td>139</td>\n",
       "      <td>7086.113317</td>\n",
       "      <td>6697.399727</td>\n",
       "      <td>6743.588474</td>\n",
       "      <td>0.006784</td>\n",
       "      <td>2.258637</td>\n",
       "      <td>1.837043e-03</td>\n",
       "      <td>2.715982</td>\n",
       "      <td>10</td>\n",
       "      <td>139</td>\n",
       "      <td>7301.457307</td>\n",
       "      <td>5199.687184</td>\n",
       "      <td>6302.180373</td>\n",
       "      <td>0.014169</td>\n",
       "      <td>1.021832</td>\n",
       "      <td>0.540045</td>\n",
       "      <td>37</td>\n",
       "      <td>7</td>\n",
       "      <td>139</td>\n",
       "    </tr>\n",
       "  </tbody>\n",
       "</table>\n",
       "</div>"
      ],
      "text/plain": [
       "   max_centroid_frequency_G  max_centroid_frequency2_G  max_median_freq_G  \\\n",
       "0               8153.438439                7257.609334        7621.698593   \n",
       "1               3450.442567                2618.793204        2680.641145   \n",
       "\n",
       "   max_flash_ind_G  max_cv_G     max_iqa_G  max_mab_G  max_imp_G  max_len_G  \\\n",
       "0         0.002570  0.674025  1.167040e-07   0.045203          1         73   \n",
       "1         0.007678  2.432687  2.902270e-07   0.033590          0        139   \n",
       "\n",
       "   max_centroid_frequency_M  max_centroid_frequency2_M  max_median_freq_M  \\\n",
       "0               7371.324388                2679.227894        6483.983503   \n",
       "1               7086.113317                6697.399727        6743.588474   \n",
       "\n",
       "   max_flash_ind_M  max_cv_M     max_iqa_M  max_mab_M  max_imp_M  max_len_M  \\\n",
       "0         0.008534  1.337432  2.586849e-07   0.030517          0         73   \n",
       "1         0.006784  2.258637  1.837043e-03   2.715982         10        139   \n",
       "\n",
       "   max_centroid_frequency_S  max_centroid_frequency2_S  max_median_freq_S  \\\n",
       "0               6475.116681                3302.480303        5674.218237   \n",
       "1               7301.457307                5199.687184        6302.180373   \n",
       "\n",
       "   max_flash_ind_S  max_cv_S  max_iqa_S  max_mab_S  max_imp_S  max_len_S  \n",
       "0         0.004337  1.038010   0.034014         18          0         73  \n",
       "1         0.014169  1.021832   0.540045         37          7        139  "
      ]
     },
     "execution_count": 411,
     "metadata": {},
     "output_type": "execute_result"
    }
   ],
   "source": [
    "X.head(2)"
   ]
  },
  {
   "cell_type": "code",
   "execution_count": 412,
   "id": "82339dca-7408-4da5-aaba-8ebc50f62bf1",
   "metadata": {},
   "outputs": [
    {
     "data": {
      "text/plain": [
       "0.8109448016485663"
      ]
     },
     "execution_count": 412,
     "metadata": {},
     "output_type": "execute_result"
    }
   ],
   "source": [
    "all_studies.best_trial.value"
   ]
  },
  {
   "cell_type": "code",
   "execution_count": 413,
   "id": "8c461846-acc2-4a40-9ffd-8f7e7e210c7b",
   "metadata": {
    "tags": []
   },
   "outputs": [
    {
     "data": {
      "text/plain": [
       "{'iterations': 4439,\n",
       " 'loss_function': 'RMSE',\n",
       " 'learning_rate': 0.011972943132649651,\n",
       " 'l2_leaf_reg': 0.1043691311999729,\n",
       " 'colsample_bylevel': 0.49786616572837195,\n",
       " 'depth': 9,\n",
       " 'boosting_type': 'Plain',\n",
       " 'bootstrap_type': 'MVS',\n",
       " 'min_data_in_leaf': 12,\n",
       " 'one_hot_max_size': 6}"
      ]
     },
     "execution_count": 413,
     "metadata": {},
     "output_type": "execute_result"
    }
   ],
   "source": [
    "params = all_studies.best_trial\n",
    "model_params = params.params\n",
    "model_params"
   ]
  },
  {
   "cell_type": "code",
   "execution_count": 414,
   "id": "cb25ef34-d6df-4baa-8bc3-0ea82215d228",
   "metadata": {},
   "outputs": [],
   "source": [
    "catboost_pipe = Pipeline([('outlier_feature', OutlierFeatureAdder()),\n",
    "                             ('power_transform', PowerTransformer()), \n",
    "                             ('cat_boost', CatBoostRegressor(**model_params, silent=True))])"
   ]
  },
  {
   "cell_type": "code",
   "execution_count": 415,
   "id": "37ad6dbb-cfe1-434f-a091-e1a9ea26bc6e",
   "metadata": {},
   "outputs": [],
   "source": [
    "scores = cross_val_score(estimator=catboost_pipe, X=X_train, y=y_train, cv=10, n_jobs=10)"
   ]
  },
  {
   "cell_type": "code",
   "execution_count": 416,
   "id": "5946ed33-7d79-4dfe-b3a0-5aa7b5a5d120",
   "metadata": {},
   "outputs": [
    {
     "name": "stdout",
     "output_type": "stream",
     "text": [
      "All Scores:  [0.84535999 0.82200116 0.81797561 0.80947276 0.82106946 0.79485543\n",
      " 0.81397613 0.81784603 0.79143244 0.77046446]\n"
     ]
    }
   ],
   "source": [
    "print('All Scores: ', scores)"
   ]
  },
  {
   "cell_type": "code",
   "execution_count": 417,
   "id": "afb4c9b1-e7b8-43cf-b0c5-de8c44ec44bb",
   "metadata": {},
   "outputs": [
    {
     "name": "stdout",
     "output_type": "stream",
     "text": [
      "Mean Score:  0.8104453479637781\n"
     ]
    }
   ],
   "source": [
    "print('Mean Score: ', np.mean(scores))"
   ]
  },
  {
   "cell_type": "code",
   "execution_count": 418,
   "id": "d0e5af22-2418-402d-b74e-f4a2761a7ed5",
   "metadata": {},
   "outputs": [
    {
     "data": {
      "text/plain": [
       "Pipeline(steps=[('outlier_feature', OutlierFeatureAdder()),\n",
       "                ('power_transform', PowerTransformer()),\n",
       "                ('cat_boost',\n",
       "                 <catboost.core.CatBoostRegressor object at 0x7f4aad9ab730>)])"
      ]
     },
     "execution_count": 418,
     "metadata": {},
     "output_type": "execute_result"
    }
   ],
   "source": [
    "catboost_pipe.fit(X_train, y_train)"
   ]
  },
  {
   "cell_type": "code",
   "execution_count": 419,
   "id": "22747318-141e-4745-864d-3b2f6b95b861",
   "metadata": {},
   "outputs": [],
   "source": [
    "y_pred = catboost_pipe.predict(X_test)"
   ]
  },
  {
   "cell_type": "code",
   "execution_count": 420,
   "id": "59069873-8df2-4a39-a780-686903260d1e",
   "metadata": {},
   "outputs": [
    {
     "name": "stdout",
     "output_type": "stream",
     "text": [
      "MAPE: 0.2787549654141174\n"
     ]
    }
   ],
   "source": [
    "print('MAPE:', mean_absolute_percentage_error(y_test, y_pred))"
   ]
  },
  {
   "cell_type": "code",
   "execution_count": 421,
   "id": "215a8740-23b0-4a19-afad-9fa237490fd8",
   "metadata": {},
   "outputs": [
    {
     "name": "stdout",
     "output_type": "stream",
     "text": [
      "R2-Score: 0.806843929814534\n"
     ]
    }
   ],
   "source": [
    "print('R2-Score:', r2_score(y_test, y_pred))"
   ]
  },
  {
   "cell_type": "code",
   "execution_count": 422,
   "id": "e23fa19e-a6af-4878-8faa-651f0fbf5d8f",
   "metadata": {},
   "outputs": [],
   "source": [
    "pred_error = pd.DataFrame(data={'y_pred':y_pred, 'y_test':y_test})\n",
    "pred_error = pd.concat([holdout[['start_time', 'velocity', 'packnr', 'size_mm']], pred_error], axis=1)\n",
    "pred_error.to_csv('./data/error/sps/simple.csv', sep=' ', index=False)"
   ]
  },
  {
   "cell_type": "code",
   "execution_count": 423,
   "id": "0c5651aa-e750-44ed-bbe9-2842f22d4705",
   "metadata": {},
   "outputs": [
    {
     "data": {
      "text/plain": [
       "Pipeline(steps=[('outlier_feature', OutlierFeatureAdder()),\n",
       "                ('power_transform', PowerTransformer()),\n",
       "                ('cat_boost',\n",
       "                 <catboost.core.CatBoostRegressor object at 0x7f4aad9ab730>)])"
      ]
     },
     "execution_count": 423,
     "metadata": {},
     "output_type": "execute_result"
    }
   ],
   "source": [
    "catboost_pipe.fit(X, y)"
   ]
  },
  {
   "cell_type": "code",
   "execution_count": 424,
   "id": "12ea78fb-21a0-4c7a-a91a-84710c0cc6a9",
   "metadata": {},
   "outputs": [
    {
     "data": {
      "text/plain": [
       "0.9873441228782358"
      ]
     },
     "execution_count": 424,
     "metadata": {},
     "output_type": "execute_result"
    }
   ],
   "source": [
    "catboost_pipe.score(X, y)"
   ]
  },
  {
   "cell_type": "code",
   "execution_count": 425,
   "id": "ba1b82ad-500d-4517-a4a3-f283ed8eea31",
   "metadata": {},
   "outputs": [],
   "source": [
    "with open('./models/sps/sps_catboost_simple.pkl', 'wb') as pkl_file:\n",
    "    pickle.dump(obj=catboost_pipe, file=pkl_file)"
   ]
  },
  {
   "cell_type": "code",
   "execution_count": null,
   "id": "bb677d71-0010-49e7-87c1-456555a2b9f7",
   "metadata": {},
   "outputs": [],
   "source": []
  },
  {
   "cell_type": "code",
   "execution_count": null,
   "id": "e0d0175d-732f-4f70-b7fc-9daa873b1e8b",
   "metadata": {},
   "outputs": [],
   "source": []
  },
  {
   "cell_type": "markdown",
   "id": "4c0bd7ed-2182-4794-99d9-23838d8a447c",
   "metadata": {},
   "source": [
    "# Check predictions"
   ]
  },
  {
   "cell_type": "code",
   "execution_count": null,
   "id": "785e4aff-8385-4e9e-bcaa-9b6ef6353afe",
   "metadata": {},
   "outputs": [],
   "source": []
  },
  {
   "cell_type": "code",
   "execution_count": null,
   "id": "10c76605-f860-47e6-828e-7dc6b0d89b4b",
   "metadata": {},
   "outputs": [],
   "source": [
    "catboost_pipe.predict"
   ]
  },
  {
   "cell_type": "code",
   "execution_count": null,
   "id": "86c9ae73-aa9f-482a-a925-03e345678c2c",
   "metadata": {},
   "outputs": [],
   "source": []
  },
  {
   "cell_type": "code",
   "execution_count": null,
   "id": "6fa5fb81-49f1-4f7e-9b26-cb1772c02ea6",
   "metadata": {},
   "outputs": [],
   "source": []
  },
  {
   "cell_type": "code",
   "execution_count": null,
   "id": "1f785c1a-2291-4e2d-910f-feabefca5e35",
   "metadata": {},
   "outputs": [],
   "source": []
  },
  {
   "cell_type": "code",
   "execution_count": null,
   "id": "25539025-4280-420f-a245-121272fd9f04",
   "metadata": {},
   "outputs": [],
   "source": []
  }
 ],
 "metadata": {
  "kernelspec": {
   "display_name": "Python 3 (ipykernel)",
   "language": "python",
   "name": "python3"
  },
  "language_info": {
   "codemirror_mode": {
    "name": "ipython",
    "version": 3
   },
   "file_extension": ".py",
   "mimetype": "text/x-python",
   "name": "python",
   "nbconvert_exporter": "python",
   "pygments_lexer": "ipython3",
   "version": "3.9.6"
  }
 },
 "nbformat": 4,
 "nbformat_minor": 5
}
