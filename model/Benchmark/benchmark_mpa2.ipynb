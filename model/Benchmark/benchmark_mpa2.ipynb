{
 "cells": [
  {
   "cell_type": "markdown",
   "id": "ec5f5cd8-5aa0-4c1c-a103-26a3c9e34b3e",
   "metadata": {},
   "source": [
    "# Benchmark Modell SPS"
   ]
  },
  {
   "cell_type": "code",
   "execution_count": 1,
   "id": "9737ec62-c64f-4c5a-987a-39aa4e73e5fa",
   "metadata": {},
   "outputs": [],
   "source": [
    "import pandas as pd\n",
    "import numpy as np\n",
    "import seaborn as sns\n",
    "import matplotlib.pyplot as plt\n",
    "from tqdm import tqdm\n",
    "import sys\n",
    "sys.path.append('../..')\n",
    "from helper.lazy_regression import TooLazyForRegression\n",
    "from sklearn.feature_selection import RFECV\n",
    "from sklearn.linear_model import Lasso, Ridge, LinearRegression\n",
    "from sklearn.model_selection import GridSearchCV\n",
    "from sklearn.metrics import r2_score\n",
    "from sklearn.feature_selection import SequentialFeatureSelector\n",
    "from sklearn.model_selection import cross_val_score\n",
    "from sklearn.pipeline import Pipeline\n",
    "\n",
    "from statsmodels.regression.linear_model import WLS\n",
    "\n",
    "pd.options.display.max_columns = None"
   ]
  },
  {
   "cell_type": "code",
   "execution_count": 3,
   "id": "2a428110-256e-465b-90e7-8e4d203f1c41",
   "metadata": {},
   "outputs": [],
   "source": [
    "data = pd.read_table('../../data/data_mpa.txt', sep=' ')\n",
    "feature_cols = data.columns.to_list()\n",
    "feature_cols.remove('size_mm')\n",
    "feature_cols.remove('start_time')"
   ]
  },
  {
   "cell_type": "code",
   "execution_count": 4,
   "id": "3bb2007a-6b1e-4971-a660-7ff8882f76f8",
   "metadata": {},
   "outputs": [
    {
     "data": {
      "text/html": [
       "<div>\n",
       "<style scoped>\n",
       "    .dataframe tbody tr th:only-of-type {\n",
       "        vertical-align: middle;\n",
       "    }\n",
       "\n",
       "    .dataframe tbody tr th {\n",
       "        vertical-align: top;\n",
       "    }\n",
       "\n",
       "    .dataframe thead th {\n",
       "        text-align: right;\n",
       "    }\n",
       "</style>\n",
       "<table border=\"1\" class=\"dataframe\">\n",
       "  <thead>\n",
       "    <tr style=\"text-align: right;\">\n",
       "      <th></th>\n",
       "      <th>packnr</th>\n",
       "      <th>velocity</th>\n",
       "      <th>centroid_frequency_M01</th>\n",
       "      <th>centroid_frequency2_M01</th>\n",
       "      <th>centroid_frequency_M02</th>\n",
       "      <th>centroid_frequency2_M02</th>\n",
       "      <th>centroid_frequency_M03</th>\n",
       "      <th>centroid_frequency2_M03</th>\n",
       "      <th>centroid_frequency_M04</th>\n",
       "      <th>centroid_frequency2_M04</th>\n",
       "      <th>median_freq_M01</th>\n",
       "      <th>median_freq_M02</th>\n",
       "      <th>median_freq_M03</th>\n",
       "      <th>median_freq_M04</th>\n",
       "      <th>flash_ind_M01</th>\n",
       "      <th>flash_ind_M02</th>\n",
       "      <th>flash_ind_M03</th>\n",
       "      <th>flash_ind_M04</th>\n",
       "      <th>cv_M01</th>\n",
       "      <th>cv_M02</th>\n",
       "      <th>cv_M03</th>\n",
       "      <th>cv_M04</th>\n",
       "      <th>iqa_M01</th>\n",
       "      <th>iqa_M02</th>\n",
       "      <th>iqa_M03</th>\n",
       "      <th>iqa_M04</th>\n",
       "      <th>mab_M01</th>\n",
       "      <th>mab_M02</th>\n",
       "      <th>mab_M03</th>\n",
       "      <th>mab_M04</th>\n",
       "      <th>imp_M01</th>\n",
       "      <th>imp_M02</th>\n",
       "      <th>imp_M03</th>\n",
       "      <th>imp_M04</th>\n",
       "      <th>len_M01</th>\n",
       "      <th>len_M02</th>\n",
       "      <th>len_M03</th>\n",
       "      <th>len_M04</th>\n",
       "    </tr>\n",
       "  </thead>\n",
       "  <tbody>\n",
       "    <tr>\n",
       "      <th>0</th>\n",
       "      <td>12</td>\n",
       "      <td>2.4</td>\n",
       "      <td>2513.790973</td>\n",
       "      <td>2501.778917</td>\n",
       "      <td>2930.137074</td>\n",
       "      <td>3107.080795</td>\n",
       "      <td>2677.806164</td>\n",
       "      <td>2992.267923</td>\n",
       "      <td>2552.141012</td>\n",
       "      <td>2963.618340</td>\n",
       "      <td>2459.731207</td>\n",
       "      <td>3117.579309</td>\n",
       "      <td>3077.091931</td>\n",
       "      <td>3080.477558</td>\n",
       "      <td>0.002895</td>\n",
       "      <td>0.00399</td>\n",
       "      <td>0.003336</td>\n",
       "      <td>0.004129</td>\n",
       "      <td>0.556826</td>\n",
       "      <td>1.165440</td>\n",
       "      <td>1.015913</td>\n",
       "      <td>1.305203</td>\n",
       "      <td>0.000016</td>\n",
       "      <td>5.257369e-05</td>\n",
       "      <td>1.461929e-05</td>\n",
       "      <td>2.487844e-05</td>\n",
       "      <td>0.139785</td>\n",
       "      <td>0.290108</td>\n",
       "      <td>0.151263</td>\n",
       "      <td>0.182237</td>\n",
       "      <td>0</td>\n",
       "      <td>1</td>\n",
       "      <td>0</td>\n",
       "      <td>0</td>\n",
       "      <td>42</td>\n",
       "      <td>42</td>\n",
       "      <td>42</td>\n",
       "      <td>42</td>\n",
       "    </tr>\n",
       "    <tr>\n",
       "      <th>1</th>\n",
       "      <td>14</td>\n",
       "      <td>1.7</td>\n",
       "      <td>2656.734602</td>\n",
       "      <td>2825.463736</td>\n",
       "      <td>2904.310040</td>\n",
       "      <td>3073.865547</td>\n",
       "      <td>2839.883811</td>\n",
       "      <td>3034.379307</td>\n",
       "      <td>2355.403063</td>\n",
       "      <td>2321.383264</td>\n",
       "      <td>2817.582730</td>\n",
       "      <td>3085.207503</td>\n",
       "      <td>3046.883562</td>\n",
       "      <td>2636.896334</td>\n",
       "      <td>0.001214</td>\n",
       "      <td>0.00248</td>\n",
       "      <td>0.002583</td>\n",
       "      <td>0.003359</td>\n",
       "      <td>0.773513</td>\n",
       "      <td>0.789951</td>\n",
       "      <td>0.694314</td>\n",
       "      <td>0.535843</td>\n",
       "      <td>0.003530</td>\n",
       "      <td>7.479831e-07</td>\n",
       "      <td>3.542450e-07</td>\n",
       "      <td>2.025442e-07</td>\n",
       "      <td>3.005457</td>\n",
       "      <td>0.037943</td>\n",
       "      <td>0.027260</td>\n",
       "      <td>0.019468</td>\n",
       "      <td>5</td>\n",
       "      <td>0</td>\n",
       "      <td>0</td>\n",
       "      <td>0</td>\n",
       "      <td>52</td>\n",
       "      <td>52</td>\n",
       "      <td>52</td>\n",
       "      <td>52</td>\n",
       "    </tr>\n",
       "  </tbody>\n",
       "</table>\n",
       "</div>"
      ],
      "text/plain": [
       "   packnr  velocity  centroid_frequency_M01  centroid_frequency2_M01  \\\n",
       "0      12       2.4             2513.790973              2501.778917   \n",
       "1      14       1.7             2656.734602              2825.463736   \n",
       "\n",
       "   centroid_frequency_M02  centroid_frequency2_M02  centroid_frequency_M03  \\\n",
       "0             2930.137074              3107.080795             2677.806164   \n",
       "1             2904.310040              3073.865547             2839.883811   \n",
       "\n",
       "   centroid_frequency2_M03  centroid_frequency_M04  centroid_frequency2_M04  \\\n",
       "0              2992.267923             2552.141012              2963.618340   \n",
       "1              3034.379307             2355.403063              2321.383264   \n",
       "\n",
       "   median_freq_M01  median_freq_M02  median_freq_M03  median_freq_M04  \\\n",
       "0      2459.731207      3117.579309      3077.091931      3080.477558   \n",
       "1      2817.582730      3085.207503      3046.883562      2636.896334   \n",
       "\n",
       "   flash_ind_M01  flash_ind_M02  flash_ind_M03  flash_ind_M04    cv_M01  \\\n",
       "0       0.002895        0.00399       0.003336       0.004129  0.556826   \n",
       "1       0.001214        0.00248       0.002583       0.003359  0.773513   \n",
       "\n",
       "     cv_M02    cv_M03    cv_M04   iqa_M01       iqa_M02       iqa_M03  \\\n",
       "0  1.165440  1.015913  1.305203  0.000016  5.257369e-05  1.461929e-05   \n",
       "1  0.789951  0.694314  0.535843  0.003530  7.479831e-07  3.542450e-07   \n",
       "\n",
       "        iqa_M04   mab_M01   mab_M02   mab_M03   mab_M04  imp_M01  imp_M02  \\\n",
       "0  2.487844e-05  0.139785  0.290108  0.151263  0.182237        0        1   \n",
       "1  2.025442e-07  3.005457  0.037943  0.027260  0.019468        5        0   \n",
       "\n",
       "   imp_M03  imp_M04  len_M01  len_M02  len_M03  len_M04  \n",
       "0        0        0       42       42       42       42  \n",
       "1        0        0       52       52       52       52  "
      ]
     },
     "execution_count": 4,
     "metadata": {},
     "output_type": "execute_result"
    }
   ],
   "source": [
    "data = data.sample(frac=1, random_state=42).reset_index(drop=True)\n",
    "X,y = data[feature_cols], data['size_mm']\n",
    "X.head(2)"
   ]
  },
  {
   "cell_type": "markdown",
   "id": "e89f1e78-ae51-40d5-b8cf-bee0d625c760",
   "metadata": {},
   "source": [
    "## Select Best Feature for Benchmark"
   ]
  },
  {
   "cell_type": "code",
   "execution_count": 6,
   "id": "2c7ab6b7-d1a7-4a8a-baa0-adee8b7e19d0",
   "metadata": {},
   "outputs": [],
   "source": [
    "from sklearn.metrics import r2_score\n",
    "from sklearn.feature_selection import SequentialFeatureSelector"
   ]
  },
  {
   "cell_type": "code",
   "execution_count": 7,
   "id": "6585f3ca-f9d5-479f-9213-8f2fb6197da8",
   "metadata": {},
   "outputs": [
    {
     "name": "stderr",
     "output_type": "stream",
     "text": [
      "100%|██████████████████████████████████████████████████████████████████████████████████| 10/10 [01:49<00:00, 10.95s/it]\n"
     ]
    }
   ],
   "source": [
    "best_feature_dict = {}\n",
    "best_feature_cvscores = {}\n",
    "for n_features in tqdm(np.arange(1,10+1)):\n",
    "    select = SequentialFeatureSelector(estimator=LinearRegression(), \n",
    "                                       n_features_to_select=n_features, \n",
    "                                       direction='forward', \n",
    "                                       scoring='r2')\n",
    "    select.fit(X, np.log(y))\n",
    "    best_col = X.columns.to_numpy()[select.get_support()]\n",
    "    best_feature_dict[n_features] = best_col\n",
    "    best_feature_cvscores[n_features] = cross_val_score(estimator=LinearRegression(),\n",
    "                                                        X=X[best_col], \n",
    "                                                        y=np.log(y), cv=10, \n",
    "                                                        scoring='r2')"
   ]
  },
  {
   "cell_type": "code",
   "execution_count": 8,
   "id": "49ae0b9e-17f1-4adb-9bbd-a4cb64baeb40",
   "metadata": {},
   "outputs": [
    {
     "data": {
      "text/html": [
       "<div>\n",
       "<style scoped>\n",
       "    .dataframe tbody tr th:only-of-type {\n",
       "        vertical-align: middle;\n",
       "    }\n",
       "\n",
       "    .dataframe tbody tr th {\n",
       "        vertical-align: top;\n",
       "    }\n",
       "\n",
       "    .dataframe thead th {\n",
       "        text-align: right;\n",
       "    }\n",
       "</style>\n",
       "<table border=\"1\" class=\"dataframe\">\n",
       "  <thead>\n",
       "    <tr style=\"text-align: right;\">\n",
       "      <th></th>\n",
       "      <th>n_feature</th>\n",
       "      <th>score</th>\n",
       "    </tr>\n",
       "  </thead>\n",
       "  <tbody>\n",
       "    <tr>\n",
       "      <th>0</th>\n",
       "      <td>1</td>\n",
       "      <td>0.534309</td>\n",
       "    </tr>\n",
       "    <tr>\n",
       "      <th>1</th>\n",
       "      <td>1</td>\n",
       "      <td>0.538646</td>\n",
       "    </tr>\n",
       "  </tbody>\n",
       "</table>\n",
       "</div>"
      ],
      "text/plain": [
       "   n_feature     score\n",
       "0          1  0.534309\n",
       "1          1  0.538646"
      ]
     },
     "execution_count": 8,
     "metadata": {},
     "output_type": "execute_result"
    }
   ],
   "source": [
    "tmp = pd.melt(pd.DataFrame.from_dict(best_feature_cvscores), var_name='n_feature', value_name='score')\n",
    "tmp['score'] = np.abs(tmp['score'])\n",
    "tmp.head(2)"
   ]
  },
  {
   "cell_type": "code",
   "execution_count": 9,
   "id": "cb098462-259d-4ea5-b524-6f0a64d9d6a0",
   "metadata": {},
   "outputs": [],
   "source": [
    "tmp_ = tmp.groupby('n_feature').mean()"
   ]
  },
  {
   "cell_type": "code",
   "execution_count": 12,
   "id": "6252b631-5e72-4c1c-837c-a54736aaf6ea",
   "metadata": {},
   "outputs": [
    {
     "data": {
      "image/png": "[encoded data removed]",
      "text/plain": [
       "<Figure size 864x360 with 1 Axes>"
      ]
     },
     "metadata": {
      "needs_background": "light"
     },
     "output_type": "display_data"
    }
   ],
   "source": [
    "fig = plt.subplots(figsize=(12, 5))\n",
    "p = sns.boxplot(x=tmp['n_feature'], y=tmp['score'], color='grey')\n",
    "p1 = sns.lineplot(x=tmp_.index-1, y=tmp_.to_numpy().reshape(-1), color='maroon', \n",
    "                  linestyle='--', label='Mean', alpha=.8)\n",
    "plt.title(r'Model: Linear Regression / Cross-Validation: 10 / Criterion: R2', fontsize=10)\n",
    "plt.suptitle('Forward Stagewise Sequential Feature Selection Results', fontsize=13)\n",
    "plt.xlabel('N Features')\n",
    "plt.ylabel(r'R2')\n",
    "sns.despine()\n",
    "plt.show()"
   ]
  },
  {
   "cell_type": "code",
   "execution_count": 17,
   "id": "09e09a6a-696c-4997-afbd-3ca9929011dd",
   "metadata": {},
   "outputs": [
    {
     "data": {
      "text/plain": [
       "array(['centroid_frequency_M01', 'centroid_frequency2_M04',\n",
       "       'median_freq_M04', 'cv_M04', 'imp_M04'], dtype=object)"
      ]
     },
     "execution_count": 17,
     "metadata": {},
     "output_type": "execute_result"
    }
   ],
   "source": [
    "n_features = 5\n",
    "best_feature_dict[n_features]"
   ]
  },
  {
   "cell_type": "code",
   "execution_count": 18,
   "id": "6facb472-5761-4b17-9f31-be4643d0bc8e",
   "metadata": {},
   "outputs": [],
   "source": [
    "X_best = X[best_feature_dict[n_features]]"
   ]
  },
  {
   "cell_type": "markdown",
   "id": "ee90a874-5104-49a3-86b7-ecad9b2b7e77",
   "metadata": {},
   "source": [
    "## Hyperparameter "
   ]
  },
  {
   "cell_type": "code",
   "execution_count": 19,
   "id": "1e514f11-af85-4f29-b666-b32588682c5a",
   "metadata": {},
   "outputs": [],
   "source": [
    "from sklearn.linear_model import LinearRegression"
   ]
  },
  {
   "cell_type": "code",
   "execution_count": 20,
   "id": "c5631354-97c6-485f-aff2-269682f605b3",
   "metadata": {},
   "outputs": [
    {
     "name": "stdout",
     "output_type": "stream",
     "text": [
      "CV Results:\n",
      " [0.60903539 0.6127885  0.60575239 0.59960816 0.60993733 0.6130987\n",
      " 0.60712967 0.61114504 0.610825   0.60071343]\n",
      "Mean Resutls:  0.6080033611622575\n"
     ]
    }
   ],
   "source": [
    "results = cross_val_score(estimator=LinearRegression(), X=X_best, y=np.log(y), cv=10)\n",
    "print('CV Results:\\n', results)\n",
    "print('Mean Resutls: ', np.mean(results))"
   ]
  },
  {
   "cell_type": "code",
   "execution_count": null,
   "id": "ba03e546-5057-4d78-ac25-f13f0c975c2f",
   "metadata": {},
   "outputs": [],
   "source": []
  }
 ],
 "metadata": {
  "kernelspec": {
   "display_name": "Python 3",
   "language": "python",
   "name": "python3"
  },
  "language_info": {
   "codemirror_mode": {
    "name": "ipython",
    "version": 3
   },
   "file_extension": ".py",
   "mimetype": "text/x-python",
   "name": "python",
   "nbconvert_exporter": "python",
   "pygments_lexer": "ipython3",
   "version": "3.8.8"
  }
 },
 "nbformat": 4,
 "nbformat_minor": 5
}
