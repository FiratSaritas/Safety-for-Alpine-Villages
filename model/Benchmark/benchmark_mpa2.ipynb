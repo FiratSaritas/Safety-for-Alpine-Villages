{
 "cells": [
  {
   "cell_type": "markdown",
   "id": "ec5f5cd8-5aa0-4c1c-a103-26a3c9e34b3e",
   "metadata": {},
   "source": [
    "# Benchmark Modell 2 with MPA"
   ]
  },
  {
   "cell_type": "code",
   "execution_count": 1,
   "id": "9737ec62-c64f-4c5a-987a-39aa4e73e5fa",
   "metadata": {},
   "outputs": [],
   "source": [
    "import pandas as pd\n",
    "import numpy as np\n",
    "import seaborn as sns\n",
    "import matplotlib.pyplot as plt\n",
    "from tqdm import tqdm\n",
    "import sys\n",
    "sys.path.append('../..')\n",
    "from helper.lazy_regression import TooLazyForRegression\n",
    "from sklearn.feature_selection import RFECV\n",
    "from sklearn.linear_model import Lasso, Ridge, LinearRegression\n",
    "from sklearn.model_selection import GridSearchCV\n",
    "from sklearn.metrics import r2_score\n",
    "from sklearn.feature_selection import SequentialFeatureSelector\n",
    "from sklearn.model_selection import cross_val_score\n",
    "from sklearn.pipeline import Pipeline\n",
    "\n",
    "from statsmodels.regression.linear_model import WLS\n",
    "\n",
    "pd.options.display.max_columns = None"
   ]
  },
  {
   "cell_type": "code",
   "execution_count": 2,
   "id": "2a428110-256e-465b-90e7-8e4d203f1c41",
   "metadata": {},
   "outputs": [],
   "source": [
    "data = pd.read_table('../../data/data_mpa.txt', sep=' ')\n",
    "feature_cols = data.columns.to_list()\n",
    "feature_cols.remove('size_mm')\n",
    "feature_cols.remove('start_time')"
   ]
  },
  {
   "cell_type": "code",
   "execution_count": 4,
   "id": "3bb2007a-6b1e-4971-a660-7ff8882f76f8",
   "metadata": {},
   "outputs": [
    {
     "data": {
      "text/html": [
       "<div>\n",
       "<style scoped>\n",
       "    .dataframe tbody tr th:only-of-type {\n",
       "        vertical-align: middle;\n",
       "    }\n",
       "\n",
       "    .dataframe tbody tr th {\n",
       "        vertical-align: top;\n",
       "    }\n",
       "\n",
       "    .dataframe thead th {\n",
       "        text-align: right;\n",
       "    }\n",
       "</style>\n",
       "<table border=\"1\" class=\"dataframe\">\n",
       "  <thead>\n",
       "    <tr style=\"text-align: right;\">\n",
       "      <th></th>\n",
       "      <th>packnr</th>\n",
       "      <th>velocity</th>\n",
       "      <th>centroid_frequency_M01</th>\n",
       "      <th>centroid_frequency2_M01</th>\n",
       "      <th>centroid_frequency_M02</th>\n",
       "      <th>centroid_frequency2_M02</th>\n",
       "      <th>centroid_frequency_M03</th>\n",
       "      <th>centroid_frequency2_M03</th>\n",
       "      <th>centroid_frequency_M04</th>\n",
       "      <th>centroid_frequency2_M04</th>\n",
       "      <th>median_freq_M01</th>\n",
       "      <th>median_freq_M02</th>\n",
       "      <th>median_freq_M03</th>\n",
       "      <th>median_freq_M04</th>\n",
       "      <th>flash_ind_M01</th>\n",
       "      <th>flash_ind_M02</th>\n",
       "      <th>flash_ind_M03</th>\n",
       "      <th>flash_ind_M04</th>\n",
       "      <th>cv_M01</th>\n",
       "      <th>cv_M02</th>\n",
       "      <th>cv_M03</th>\n",
       "      <th>cv_M04</th>\n",
       "      <th>iqa_M01</th>\n",
       "      <th>iqa_M02</th>\n",
       "      <th>iqa_M03</th>\n",
       "      <th>iqa_M04</th>\n",
       "      <th>mab_M01</th>\n",
       "      <th>mab_M02</th>\n",
       "      <th>mab_M03</th>\n",
       "      <th>mab_M04</th>\n",
       "      <th>imp_M01</th>\n",
       "      <th>imp_M02</th>\n",
       "      <th>imp_M03</th>\n",
       "      <th>imp_M04</th>\n",
       "      <th>len_M01</th>\n",
       "      <th>len_M02</th>\n",
       "      <th>len_M03</th>\n",
       "      <th>len_M04</th>\n",
       "    </tr>\n",
       "  </thead>\n",
       "  <tbody>\n",
       "    <tr>\n",
       "      <th>0</th>\n",
       "      <td>70</td>\n",
       "      <td>3.2</td>\n",
       "      <td>2802.695768</td>\n",
       "      <td>2790.699648</td>\n",
       "      <td>2899.675769</td>\n",
       "      <td>3025.867621</td>\n",
       "      <td>2771.059285</td>\n",
       "      <td>2948.871286</td>\n",
       "      <td>2602.512787</td>\n",
       "      <td>2749.648107</td>\n",
       "      <td>2777.277778</td>\n",
       "      <td>2801.584601</td>\n",
       "      <td>2971.752164</td>\n",
       "      <td>2778.106152</td>\n",
       "      <td>0.001072</td>\n",
       "      <td>0.002973</td>\n",
       "      <td>0.002294</td>\n",
       "      <td>0.003090</td>\n",
       "      <td>0.653272</td>\n",
       "      <td>0.663823</td>\n",
       "      <td>0.732801</td>\n",
       "      <td>0.659685</td>\n",
       "      <td>1.173204e-04</td>\n",
       "      <td>9.797752e-07</td>\n",
       "      <td>1.100824e-06</td>\n",
       "      <td>6.926820e-07</td>\n",
       "      <td>0.526466</td>\n",
       "      <td>0.044487</td>\n",
       "      <td>0.043126</td>\n",
       "      <td>0.041214</td>\n",
       "      <td>3</td>\n",
       "      <td>0</td>\n",
       "      <td>0</td>\n",
       "      <td>0</td>\n",
       "      <td>37</td>\n",
       "      <td>37</td>\n",
       "      <td>37</td>\n",
       "      <td>37</td>\n",
       "    </tr>\n",
       "    <tr>\n",
       "      <th>1</th>\n",
       "      <td>3</td>\n",
       "      <td>1.8</td>\n",
       "      <td>2666.230040</td>\n",
       "      <td>2761.489272</td>\n",
       "      <td>2069.359622</td>\n",
       "      <td>1733.914199</td>\n",
       "      <td>2201.514265</td>\n",
       "      <td>2004.093932</td>\n",
       "      <td>3311.008391</td>\n",
       "      <td>3316.603387</td>\n",
       "      <td>2846.010967</td>\n",
       "      <td>1665.540403</td>\n",
       "      <td>2222.440664</td>\n",
       "      <td>3264.753799</td>\n",
       "      <td>0.003646</td>\n",
       "      <td>0.003061</td>\n",
       "      <td>0.004036</td>\n",
       "      <td>0.001696</td>\n",
       "      <td>0.512738</td>\n",
       "      <td>0.649669</td>\n",
       "      <td>0.508016</td>\n",
       "      <td>1.014074</td>\n",
       "      <td>2.495207e-08</td>\n",
       "      <td>2.200980e-08</td>\n",
       "      <td>5.975374e-08</td>\n",
       "      <td>7.631775e-05</td>\n",
       "      <td>0.006773</td>\n",
       "      <td>0.004704</td>\n",
       "      <td>0.007177</td>\n",
       "      <td>0.523846</td>\n",
       "      <td>0</td>\n",
       "      <td>0</td>\n",
       "      <td>0</td>\n",
       "      <td>1</td>\n",
       "      <td>44</td>\n",
       "      <td>44</td>\n",
       "      <td>44</td>\n",
       "      <td>44</td>\n",
       "    </tr>\n",
       "  </tbody>\n",
       "</table>\n",
       "</div>"
      ],
      "text/plain": [
       "   packnr  velocity  centroid_frequency_M01  centroid_frequency2_M01  \\\n",
       "0      70       3.2             2802.695768              2790.699648   \n",
       "1       3       1.8             2666.230040              2761.489272   \n",
       "\n",
       "   centroid_frequency_M02  centroid_frequency2_M02  centroid_frequency_M03  \\\n",
       "0             2899.675769              3025.867621             2771.059285   \n",
       "1             2069.359622              1733.914199             2201.514265   \n",
       "\n",
       "   centroid_frequency2_M03  centroid_frequency_M04  centroid_frequency2_M04  \\\n",
       "0              2948.871286             2602.512787              2749.648107   \n",
       "1              2004.093932             3311.008391              3316.603387   \n",
       "\n",
       "   median_freq_M01  median_freq_M02  median_freq_M03  median_freq_M04  \\\n",
       "0      2777.277778      2801.584601      2971.752164      2778.106152   \n",
       "1      2846.010967      1665.540403      2222.440664      3264.753799   \n",
       "\n",
       "   flash_ind_M01  flash_ind_M02  flash_ind_M03  flash_ind_M04    cv_M01  \\\n",
       "0       0.001072       0.002973       0.002294       0.003090  0.653272   \n",
       "1       0.003646       0.003061       0.004036       0.001696  0.512738   \n",
       "\n",
       "     cv_M02    cv_M03    cv_M04       iqa_M01       iqa_M02       iqa_M03  \\\n",
       "0  0.663823  0.732801  0.659685  1.173204e-04  9.797752e-07  1.100824e-06   \n",
       "1  0.649669  0.508016  1.014074  2.495207e-08  2.200980e-08  5.975374e-08   \n",
       "\n",
       "        iqa_M04   mab_M01   mab_M02   mab_M03   mab_M04  imp_M01  imp_M02  \\\n",
       "0  6.926820e-07  0.526466  0.044487  0.043126  0.041214        3        0   \n",
       "1  7.631775e-05  0.006773  0.004704  0.007177  0.523846        0        0   \n",
       "\n",
       "   imp_M03  imp_M04  len_M01  len_M02  len_M03  len_M04  \n",
       "0        0        0       37       37       37       37  \n",
       "1        0        1       44       44       44       44  "
      ]
     },
     "execution_count": 4,
     "metadata": {},
     "output_type": "execute_result"
    }
   ],
   "source": [
    "data = data.sample(frac=1, random_state=42).reset_index(drop=True)\n",
    "X,y = data[feature_cols], data['size_mm']\n",
    "X.head(2)"
   ]
  },
  {
   "cell_type": "code",
   "execution_count": 5,
   "id": "04d5fc2f-9a01-4791-9585-664e0a3dfbb2",
   "metadata": {},
   "outputs": [
    {
     "data": {
      "text/plain": [
       "(86747, 40)"
      ]
     },
     "execution_count": 5,
     "metadata": {},
     "output_type": "execute_result"
    }
   ],
   "source": [
    "data.shape"
   ]
  },
  {
   "cell_type": "markdown",
   "id": "e89f1e78-ae51-40d5-b8cf-bee0d625c760",
   "metadata": {},
   "source": [
    "## Select Best Feature for Benchmark"
   ]
  },
  {
   "cell_type": "code",
   "execution_count": 4,
   "id": "2c7ab6b7-d1a7-4a8a-baa0-adee8b7e19d0",
   "metadata": {},
   "outputs": [],
   "source": [
    "from sklearn.metrics import r2_score\n",
    "from sklearn.feature_selection import SequentialFeatureSelector"
   ]
  },
  {
   "cell_type": "code",
   "execution_count": 5,
   "id": "6585f3ca-f9d5-479f-9213-8f2fb6197da8",
   "metadata": {},
   "outputs": [
    {
     "name": "stderr",
     "output_type": "stream",
     "text": [
      "100%|██████████| 10/10 [01:02<00:00,  6.24s/it]\n"
     ]
    }
   ],
   "source": [
    "best_feature_dict = {}\n",
    "best_feature_cvscores = {}\n",
    "for n_features in tqdm(np.arange(1,10+1)):\n",
    "    select = SequentialFeatureSelector(estimator=LinearRegression(), \n",
    "                                       n_features_to_select=n_features, \n",
    "                                       direction='forward', \n",
    "                                       scoring='r2')\n",
    "    select.fit(X, np.log(y))\n",
    "    best_col = X.columns.to_numpy()[select.get_support()]\n",
    "    best_feature_dict[n_features] = best_col\n",
    "    best_feature_cvscores[n_features] = cross_val_score(estimator=LinearRegression(),\n",
    "                                                        X=X[best_col], \n",
    "                                                        y=np.log(y), cv=10, \n",
    "                                                        scoring='r2')"
   ]
  },
  {
   "cell_type": "code",
   "execution_count": 6,
   "id": "49ae0b9e-17f1-4adb-9bbd-a4cb64baeb40",
   "metadata": {},
   "outputs": [
    {
     "data": {
      "text/html": [
       "<div>\n",
       "<style scoped>\n",
       "    .dataframe tbody tr th:only-of-type {\n",
       "        vertical-align: middle;\n",
       "    }\n",
       "\n",
       "    .dataframe tbody tr th {\n",
       "        vertical-align: top;\n",
       "    }\n",
       "\n",
       "    .dataframe thead th {\n",
       "        text-align: right;\n",
       "    }\n",
       "</style>\n",
       "<table border=\"1\" class=\"dataframe\">\n",
       "  <thead>\n",
       "    <tr style=\"text-align: right;\">\n",
       "      <th></th>\n",
       "      <th>n_feature</th>\n",
       "      <th>score</th>\n",
       "    </tr>\n",
       "  </thead>\n",
       "  <tbody>\n",
       "    <tr>\n",
       "      <th>0</th>\n",
       "      <td>1</td>\n",
       "      <td>0.534309</td>\n",
       "    </tr>\n",
       "    <tr>\n",
       "      <th>1</th>\n",
       "      <td>1</td>\n",
       "      <td>0.538646</td>\n",
       "    </tr>\n",
       "  </tbody>\n",
       "</table>\n",
       "</div>"
      ],
      "text/plain": [
       "   n_feature     score\n",
       "0          1  0.534309\n",
       "1          1  0.538646"
      ]
     },
     "execution_count": 6,
     "metadata": {},
     "output_type": "execute_result"
    }
   ],
   "source": [
    "tmp = pd.melt(pd.DataFrame.from_dict(best_feature_cvscores), var_name='n_feature', value_name='score')\n",
    "tmp['score'] = np.abs(tmp['score'])\n",
    "tmp.head(2)"
   ]
  },
  {
   "cell_type": "code",
   "execution_count": 7,
   "id": "cb098462-259d-4ea5-b524-6f0a64d9d6a0",
   "metadata": {},
   "outputs": [],
   "source": [
    "tmp_ = tmp.groupby('n_feature').mean()"
   ]
  },
  {
   "cell_type": "code",
   "execution_count": 8,
   "id": "6252b631-5e72-4c1c-837c-a54736aaf6ea",
   "metadata": {},
   "outputs": [
    {
     "data": {
      "image/png": "[encoded data removed]",
      "text/plain": [
       "<Figure size 864x360 with 1 Axes>"
      ]
     },
     "metadata": {
      "needs_background": "light"
     },
     "output_type": "display_data"
    }
   ],
   "source": [
    "fig = plt.subplots(figsize=(12, 5))\n",
    "p = sns.boxplot(x=tmp['n_feature'], y=tmp['score'], color='grey')\n",
    "p1 = sns.lineplot(x=tmp_.index-1, y=tmp_.to_numpy().reshape(-1), color='maroon', \n",
    "                  linestyle='--', label='Mean', alpha=.8)\n",
    "plt.title(r'Model: Linear Regression / Cross-Validation: 10 / Criterion: R2', fontsize=10)\n",
    "plt.suptitle('Forward Stagewise Sequential Feature Selection Results', fontsize=13)\n",
    "plt.xlabel('N Features')\n",
    "plt.ylabel(r'R2')\n",
    "sns.despine()\n",
    "plt.show()"
   ]
  },
  {
   "cell_type": "code",
   "execution_count": 9,
   "id": "09e09a6a-696c-4997-afbd-3ca9929011dd",
   "metadata": {},
   "outputs": [
    {
     "data": {
      "text/plain": [
       "array(['centroid_frequency_M01', 'centroid_frequency2_M04',\n",
       "       'median_freq_M04', 'cv_M04', 'imp_M04'], dtype=object)"
      ]
     },
     "execution_count": 9,
     "metadata": {},
     "output_type": "execute_result"
    }
   ],
   "source": [
    "n_features = 5\n",
    "best_feature_dict[n_features]"
   ]
  },
  {
   "cell_type": "code",
   "execution_count": 10,
   "id": "6facb472-5761-4b17-9f31-be4643d0bc8e",
   "metadata": {},
   "outputs": [],
   "source": [
    "X_best = X[best_feature_dict[n_features]]"
   ]
  },
  {
   "cell_type": "markdown",
   "id": "ee90a874-5104-49a3-86b7-ecad9b2b7e77",
   "metadata": {},
   "source": [
    "## Hyperparameter "
   ]
  },
  {
   "cell_type": "code",
   "execution_count": 11,
   "id": "1e514f11-af85-4f29-b666-b32588682c5a",
   "metadata": {},
   "outputs": [],
   "source": [
    "from sklearn.linear_model import LinearRegression"
   ]
  },
  {
   "cell_type": "code",
   "execution_count": 12,
   "id": "c5631354-97c6-485f-aff2-269682f605b3",
   "metadata": {},
   "outputs": [
    {
     "name": "stdout",
     "output_type": "stream",
     "text": [
      "CV Results:\n",
      " [0.60903539 0.6127885  0.60575239 0.59960816 0.60993733 0.6130987\n",
      " 0.60712967 0.61114504 0.610825   0.60071343]\n",
      "Mean Resutls:  0.6080033611622575\n"
     ]
    }
   ],
   "source": [
    "results = cross_val_score(estimator=LinearRegression(), X=X_best, y=np.log(y), cv=10)\n",
    "print('CV Results:\\n', results)\n",
    "print('Mean Resutls: ', np.mean(results))"
   ]
  },
  {
   "cell_type": "markdown",
   "id": "4fbe8e2e-3b8a-430d-a2fa-685fb6264f2b",
   "metadata": {},
   "source": [
    "## With Max-Feature"
   ]
  },
  {
   "cell_type": "code",
   "execution_count": 6,
   "id": "a61f0566-4473-4886-8ccd-6316e59fa105",
   "metadata": {},
   "outputs": [],
   "source": [
    "from helper.feature_extract import extract_highest_amplitude_features_with_mp"
   ]
  },
  {
   "cell_type": "code",
   "execution_count": 7,
   "id": "b0a9dc30-e78e-4ee9-a60d-fff0b471d99d",
   "metadata": {},
   "outputs": [
    {
     "name": "stdout",
     "output_type": "stream",
     "text": [
      "INFO || Extracting Max Features for types: ['M01', 'M02', 'M03', 'M04']\n"
     ]
    }
   ],
   "source": [
    "df_max = extract_highest_amplitude_features_with_mp(df=data, sensor_types=[['M01', 'M02', 'M03', 'M04']],\n",
    "                                                  create_one_sensor_feature=True, n_processes=4, \n",
    "                                                  keep_columns=False)"
   ]
  },
  {
   "cell_type": "code",
   "execution_count": 8,
   "id": "e4e85b2d-e085-422b-bf52-a19b2a1692e0",
   "metadata": {},
   "outputs": [],
   "source": [
    "feature_cols = df_max.columns.to_list()\n",
    "feature_cols.remove('size_mm')\n",
    "feature_cols.remove('start_time')"
   ]
  },
  {
   "cell_type": "code",
   "execution_count": 9,
   "id": "42f5af9b-719b-4b1c-bd64-5c94012694a9",
   "metadata": {},
   "outputs": [
    {
     "data": {
      "text/html": [
       "<div>\n",
       "<style scoped>\n",
       "    .dataframe tbody tr th:only-of-type {\n",
       "        vertical-align: middle;\n",
       "    }\n",
       "\n",
       "    .dataframe tbody tr th {\n",
       "        vertical-align: top;\n",
       "    }\n",
       "\n",
       "    .dataframe thead th {\n",
       "        text-align: right;\n",
       "    }\n",
       "</style>\n",
       "<table border=\"1\" class=\"dataframe\">\n",
       "  <thead>\n",
       "    <tr style=\"text-align: right;\">\n",
       "      <th></th>\n",
       "      <th>packnr</th>\n",
       "      <th>velocity</th>\n",
       "      <th>max_centroid_frequency_M</th>\n",
       "      <th>max_centroid_frequency2_M</th>\n",
       "      <th>max_median_freq_M</th>\n",
       "      <th>max_flash_ind_M</th>\n",
       "      <th>max_cv_M</th>\n",
       "      <th>max_iqa_M</th>\n",
       "      <th>max_mab_M</th>\n",
       "      <th>max_imp_M</th>\n",
       "      <th>max_len_M</th>\n",
       "    </tr>\n",
       "  </thead>\n",
       "  <tbody>\n",
       "    <tr>\n",
       "      <th>0</th>\n",
       "      <td>70</td>\n",
       "      <td>3.2</td>\n",
       "      <td>2802.695768</td>\n",
       "      <td>2790.699648</td>\n",
       "      <td>2777.277778</td>\n",
       "      <td>0.001072</td>\n",
       "      <td>0.653272</td>\n",
       "      <td>0.000117</td>\n",
       "      <td>0.526466</td>\n",
       "      <td>3</td>\n",
       "      <td>37</td>\n",
       "    </tr>\n",
       "    <tr>\n",
       "      <th>1</th>\n",
       "      <td>3</td>\n",
       "      <td>1.8</td>\n",
       "      <td>3311.008391</td>\n",
       "      <td>3316.603387</td>\n",
       "      <td>3264.753799</td>\n",
       "      <td>0.001696</td>\n",
       "      <td>1.014074</td>\n",
       "      <td>0.000076</td>\n",
       "      <td>0.523846</td>\n",
       "      <td>1</td>\n",
       "      <td>44</td>\n",
       "    </tr>\n",
       "  </tbody>\n",
       "</table>\n",
       "</div>"
      ],
      "text/plain": [
       "   packnr  velocity  max_centroid_frequency_M  max_centroid_frequency2_M  \\\n",
       "0      70       3.2               2802.695768                2790.699648   \n",
       "1       3       1.8               3311.008391                3316.603387   \n",
       "\n",
       "   max_median_freq_M  max_flash_ind_M  max_cv_M  max_iqa_M  max_mab_M  \\\n",
       "0        2777.277778         0.001072  0.653272   0.000117   0.526466   \n",
       "1        3264.753799         0.001696  1.014074   0.000076   0.523846   \n",
       "\n",
       "   max_imp_M  max_len_M  \n",
       "0          3         37  \n",
       "1          1         44  "
      ]
     },
     "execution_count": 9,
     "metadata": {},
     "output_type": "execute_result"
    }
   ],
   "source": [
    "X,y = df_max[feature_cols], df_max['size_mm']\n",
    "X.head(2)"
   ]
  },
  {
   "cell_type": "code",
   "execution_count": 10,
   "id": "b83b9111-4bb3-4e75-a0c1-b81ca643b863",
   "metadata": {},
   "outputs": [
    {
     "data": {
      "text/plain": [
       "(86747, 13)"
      ]
     },
     "execution_count": 10,
     "metadata": {},
     "output_type": "execute_result"
    }
   ],
   "source": [
    "df_max.shape"
   ]
  },
  {
   "cell_type": "code",
   "execution_count": 26,
   "id": "2c4c92b4-d72a-4b3a-ae05-b736dc0dee57",
   "metadata": {},
   "outputs": [
    {
     "name": "stderr",
     "output_type": "stream",
     "text": [
      "100%|██████████| 10/10 [00:13<00:00,  1.35s/it]\n"
     ]
    }
   ],
   "source": [
    "best_feature_dict = {}\n",
    "best_feature_cvscores = {}\n",
    "for n_features in tqdm(np.arange(1,10+1)):\n",
    "    select = SequentialFeatureSelector(estimator=LinearRegression(), \n",
    "                                       n_features_to_select=n_features, \n",
    "                                       direction='forward', \n",
    "                                       scoring='r2')\n",
    "    select.fit(X, np.log(y))\n",
    "    best_col = X.columns.to_numpy()[select.get_support()]\n",
    "    best_feature_dict[n_features] = best_col\n",
    "    best_feature_cvscores[n_features] = cross_val_score(estimator=LinearRegression(),\n",
    "                                                        X=X[best_col], \n",
    "                                                        y=np.log(y), cv=10, \n",
    "                                                        scoring='r2')"
   ]
  },
  {
   "cell_type": "code",
   "execution_count": 27,
   "id": "1dd7997b-6ccf-4a38-9fc7-1f5f802b5198",
   "metadata": {},
   "outputs": [],
   "source": [
    "tmp = pd.melt(pd.DataFrame.from_dict(best_feature_cvscores), var_name='n_feature', value_name='score')\n",
    "tmp['score'] = np.abs(tmp['score'])\n",
    "tmp_ = tmp.groupby('n_feature').mean()"
   ]
  },
  {
   "cell_type": "code",
   "execution_count": 28,
   "id": "c06aa116-e521-42e0-bbe1-a8f82d792782",
   "metadata": {},
   "outputs": [
    {
     "data": {
      "image/png": "[encoded data removed]",
      "text/plain": [
       "<Figure size 864x360 with 1 Axes>"
      ]
     },
     "metadata": {
      "needs_background": "light"
     },
     "output_type": "display_data"
    }
   ],
   "source": [
    "fig = plt.subplots(figsize=(12, 5))\n",
    "p = sns.boxplot(x=tmp['n_feature'], y=tmp['score'], color='grey')\n",
    "p1 = sns.lineplot(x=tmp_.index-1, y=tmp_.to_numpy().reshape(-1), color='maroon', \n",
    "                  linestyle='--', label='Mean', alpha=.8)\n",
    "plt.title(r'Model: Linear Regression / Cross-Validation: 10 / Criterion: R2', fontsize=10)\n",
    "plt.suptitle('Forward Stagewise Sequential Feature Selection Results', fontsize=13)\n",
    "plt.xlabel('N Features')\n",
    "plt.ylabel(r'R2')\n",
    "sns.despine()\n",
    "plt.show()"
   ]
  },
  {
   "cell_type": "code",
   "execution_count": 29,
   "id": "d653d579-e696-44d2-ae26-e49586c55d0a",
   "metadata": {},
   "outputs": [
    {
     "data": {
      "text/plain": [
       "array(['max_centroid_frequency_M', 'max_centroid_frequency2_M',\n",
       "       'max_median_freq_M', 'max_flash_ind_M', 'max_mab_M'], dtype=object)"
      ]
     },
     "execution_count": 29,
     "metadata": {},
     "output_type": "execute_result"
    }
   ],
   "source": [
    "n_features = 5\n",
    "best_feature_dict[n_features]"
   ]
  },
  {
   "cell_type": "code",
   "execution_count": 30,
   "id": "04d4d713-d1e3-4946-a5c4-7612e45be774",
   "metadata": {},
   "outputs": [],
   "source": [
    "X_best = X[best_feature_dict[n_features]]"
   ]
  },
  {
   "cell_type": "code",
   "execution_count": 31,
   "id": "28027d23-fc8d-43bf-b46a-581a03e90341",
   "metadata": {},
   "outputs": [
    {
     "name": "stdout",
     "output_type": "stream",
     "text": [
      "CV Results:\n",
      " [0.59986529 0.59419176 0.59508052 0.58510669 0.59577037 0.60247243\n",
      " 0.59535161 0.59992278 0.59319632 0.57787781]\n",
      "Mean Resutls:  0.5938835569972755\n"
     ]
    }
   ],
   "source": [
    "results = cross_val_score(estimator=LinearRegression(), X=X_best, y=np.log(y), cv=10)\n",
    "print('CV Results:\\n', results)\n",
    "print('Mean Resutls: ', np.mean(results))"
   ]
  },
  {
   "cell_type": "code",
   "execution_count": null,
   "id": "ae8bb1d6-7427-400b-85c7-9074d15a484f",
   "metadata": {},
   "outputs": [],
   "source": []
  }
 ],
 "metadata": {
  "kernelspec": {
   "display_name": "Python 3",
   "language": "python",
   "name": "python3"
  },
  "language_info": {
   "codemirror_mode": {
    "name": "ipython",
    "version": 3
   },
   "file_extension": ".py",
   "mimetype": "text/x-python",
   "name": "python",
   "nbconvert_exporter": "python",
   "pygments_lexer": "ipython3",
   "version": "3.8.8"
  }
 },
 "nbformat": 4,
 "nbformat_minor": 5
}
