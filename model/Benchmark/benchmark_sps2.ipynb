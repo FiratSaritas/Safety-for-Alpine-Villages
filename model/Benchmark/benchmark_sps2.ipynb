{
 "cells": [
  {
   "cell_type": "markdown",
   "id": "ec5f5cd8-5aa0-4c1c-a103-26a3c9e34b3e",
   "metadata": {},
   "source": [
    "# Benchmark Modell 2 with SPS"
   ]
  },
  {
   "cell_type": "code",
   "execution_count": 24,
   "id": "9737ec62-c64f-4c5a-987a-39aa4e73e5fa",
   "metadata": {},
   "outputs": [],
   "source": [
    "import pandas as pd\n",
    "import numpy as np\n",
    "import seaborn as sns\n",
    "import matplotlib.pyplot as plt\n",
    "from tqdm import tqdm\n",
    "import sys\n",
    "sys.path.append('../..')\n",
    "from sklearn.feature_selection import RFECV\n",
    "from sklearn.linear_model import Lasso, Ridge, LinearRegression\n",
    "from sklearn.model_selection import GridSearchCV\n",
    "from sklearn.metrics import r2_score\n",
    "from sklearn.feature_selection import SequentialFeatureSelector\n",
    "from sklearn.model_selection import cross_val_score\n",
    "from sklearn.pipeline import Pipeline\n",
    "\n",
    "from statsmodels.regression.linear_model import WLS\n",
    "\n",
    "pd.options.display.max_columns = None"
   ]
  },
  {
   "cell_type": "code",
   "execution_count": 25,
   "id": "2a428110-256e-465b-90e7-8e4d203f1c41",
   "metadata": {},
   "outputs": [],
   "source": [
    "data = pd.read_table('../../data/data_sps.txt', sep=' ')\n",
    "feature_cols = data.columns.to_list()\n",
    "feature_cols.remove('size_mm')\n",
    "feature_cols.remove('start_time')"
   ]
  },
  {
   "cell_type": "code",
   "execution_count": 26,
   "id": "3bb2007a-6b1e-4971-a660-7ff8882f76f8",
   "metadata": {},
   "outputs": [
    {
     "data": {
      "text/html": [
       "<div>\n",
       "<style scoped>\n",
       "    .dataframe tbody tr th:only-of-type {\n",
       "        vertical-align: middle;\n",
       "    }\n",
       "\n",
       "    .dataframe tbody tr th {\n",
       "        vertical-align: top;\n",
       "    }\n",
       "\n",
       "    .dataframe thead th {\n",
       "        text-align: right;\n",
       "    }\n",
       "</style>\n",
       "<table border=\"1\" class=\"dataframe\">\n",
       "  <thead>\n",
       "    <tr style=\"text-align: right;\">\n",
       "      <th></th>\n",
       "      <th>packnr</th>\n",
       "      <th>velocity</th>\n",
       "      <th>centroid_frequency_G01</th>\n",
       "      <th>centroid_frequency2_G01</th>\n",
       "      <th>centroid_frequency_G02</th>\n",
       "      <th>centroid_frequency2_G02</th>\n",
       "      <th>centroid_frequency_M01</th>\n",
       "      <th>centroid_frequency2_M01</th>\n",
       "      <th>centroid_frequency_S01</th>\n",
       "      <th>centroid_frequency2_S01</th>\n",
       "      <th>median_freq_G01</th>\n",
       "      <th>median_freq_G02</th>\n",
       "      <th>median_freq_M01</th>\n",
       "      <th>median_freq_S01</th>\n",
       "      <th>flash_ind_G01</th>\n",
       "      <th>flash_ind_G02</th>\n",
       "      <th>flash_ind_M01</th>\n",
       "      <th>flash_ind_S01</th>\n",
       "      <th>cv_G01</th>\n",
       "      <th>cv_G02</th>\n",
       "      <th>cv_M01</th>\n",
       "      <th>cv_S01</th>\n",
       "      <th>iqa_G01</th>\n",
       "      <th>iqa_G02</th>\n",
       "      <th>iqa_M01</th>\n",
       "      <th>iqa_S01</th>\n",
       "      <th>mab_G01</th>\n",
       "      <th>mab_G02</th>\n",
       "      <th>mab_M01</th>\n",
       "      <th>mab_S01</th>\n",
       "      <th>imp_G01</th>\n",
       "      <th>imp_G02</th>\n",
       "      <th>imp_M01</th>\n",
       "      <th>imp_S01</th>\n",
       "      <th>len_G01</th>\n",
       "      <th>len_G02</th>\n",
       "      <th>len_M01</th>\n",
       "      <th>len_S01</th>\n",
       "    </tr>\n",
       "  </thead>\n",
       "  <tbody>\n",
       "    <tr>\n",
       "      <th>0</th>\n",
       "      <td>15</td>\n",
       "      <td>3.2</td>\n",
       "      <td>5424.572186</td>\n",
       "      <td>1520.781662</td>\n",
       "      <td>4013.797724</td>\n",
       "      <td>2931.354363</td>\n",
       "      <td>8652.790926</td>\n",
       "      <td>7182.425705</td>\n",
       "      <td>8379.295548</td>\n",
       "      <td>6547.882196</td>\n",
       "      <td>3485.455767</td>\n",
       "      <td>3055.208472</td>\n",
       "      <td>7244.649105</td>\n",
       "      <td>6737.795587</td>\n",
       "      <td>0.007034</td>\n",
       "      <td>0.006666</td>\n",
       "      <td>0.005020</td>\n",
       "      <td>0.006973</td>\n",
       "      <td>1.766690</td>\n",
       "      <td>1.600798</td>\n",
       "      <td>1.271133</td>\n",
       "      <td>0.985044</td>\n",
       "      <td>4.766670e-10</td>\n",
       "      <td>3.898390e-09</td>\n",
       "      <td>0.000039</td>\n",
       "      <td>0.028844</td>\n",
       "      <td>0.001161</td>\n",
       "      <td>0.004824</td>\n",
       "      <td>0.579816</td>\n",
       "      <td>10</td>\n",
       "      <td>0</td>\n",
       "      <td>0</td>\n",
       "      <td>0</td>\n",
       "      <td>0</td>\n",
       "      <td>74</td>\n",
       "      <td>74</td>\n",
       "      <td>74</td>\n",
       "      <td>74</td>\n",
       "    </tr>\n",
       "    <tr>\n",
       "      <th>1</th>\n",
       "      <td>128</td>\n",
       "      <td>2.5</td>\n",
       "      <td>2531.546238</td>\n",
       "      <td>2452.230598</td>\n",
       "      <td>2513.989739</td>\n",
       "      <td>2317.553615</td>\n",
       "      <td>5611.165495</td>\n",
       "      <td>5714.516900</td>\n",
       "      <td>4529.183358</td>\n",
       "      <td>3008.921229</td>\n",
       "      <td>2479.874016</td>\n",
       "      <td>2356.206594</td>\n",
       "      <td>5636.518996</td>\n",
       "      <td>3020.389124</td>\n",
       "      <td>0.011831</td>\n",
       "      <td>0.007217</td>\n",
       "      <td>0.008924</td>\n",
       "      <td>0.024140</td>\n",
       "      <td>3.013262</td>\n",
       "      <td>2.634793</td>\n",
       "      <td>1.690594</td>\n",
       "      <td>2.014689</td>\n",
       "      <td>3.733215e-04</td>\n",
       "      <td>1.154980e-03</td>\n",
       "      <td>1.444022</td>\n",
       "      <td>1681.905351</td>\n",
       "      <td>0.903171</td>\n",
       "      <td>2.099359</td>\n",
       "      <td>68.647197</td>\n",
       "      <td>1359</td>\n",
       "      <td>12</td>\n",
       "      <td>9</td>\n",
       "      <td>25</td>\n",
       "      <td>17</td>\n",
       "      <td>298</td>\n",
       "      <td>298</td>\n",
       "      <td>298</td>\n",
       "      <td>298</td>\n",
       "    </tr>\n",
       "  </tbody>\n",
       "</table>\n",
       "</div>"
      ],
      "text/plain": [
       "   packnr  velocity  centroid_frequency_G01  centroid_frequency2_G01  \\\n",
       "0      15       3.2             5424.572186              1520.781662   \n",
       "1     128       2.5             2531.546238              2452.230598   \n",
       "\n",
       "   centroid_frequency_G02  centroid_frequency2_G02  centroid_frequency_M01  \\\n",
       "0             4013.797724              2931.354363             8652.790926   \n",
       "1             2513.989739              2317.553615             5611.165495   \n",
       "\n",
       "   centroid_frequency2_M01  centroid_frequency_S01  centroid_frequency2_S01  \\\n",
       "0              7182.425705             8379.295548              6547.882196   \n",
       "1              5714.516900             4529.183358              3008.921229   \n",
       "\n",
       "   median_freq_G01  median_freq_G02  median_freq_M01  median_freq_S01  \\\n",
       "0      3485.455767      3055.208472      7244.649105      6737.795587   \n",
       "1      2479.874016      2356.206594      5636.518996      3020.389124   \n",
       "\n",
       "   flash_ind_G01  flash_ind_G02  flash_ind_M01  flash_ind_S01    cv_G01  \\\n",
       "0       0.007034       0.006666       0.005020       0.006973  1.766690   \n",
       "1       0.011831       0.007217       0.008924       0.024140  3.013262   \n",
       "\n",
       "     cv_G02    cv_M01    cv_S01       iqa_G01       iqa_G02   iqa_M01  \\\n",
       "0  1.600798  1.271133  0.985044  4.766670e-10  3.898390e-09  0.000039   \n",
       "1  2.634793  1.690594  2.014689  3.733215e-04  1.154980e-03  1.444022   \n",
       "\n",
       "       iqa_S01   mab_G01   mab_G02    mab_M01  mab_S01  imp_G01  imp_G02  \\\n",
       "0     0.028844  0.001161  0.004824   0.579816       10        0        0   \n",
       "1  1681.905351  0.903171  2.099359  68.647197     1359       12        9   \n",
       "\n",
       "   imp_M01  imp_S01  len_G01  len_G02  len_M01  len_S01  \n",
       "0        0        0       74       74       74       74  \n",
       "1       25       17      298      298      298      298  "
      ]
     },
     "execution_count": 26,
     "metadata": {},
     "output_type": "execute_result"
    }
   ],
   "source": [
    "data = data.sample(frac=1, random_state=42).reset_index(drop=True)\n",
    "X,y = data[feature_cols], data['size_mm']\n",
    "X.head(2)"
   ]
  },
  {
   "cell_type": "code",
   "execution_count": 27,
   "id": "aa1d8873-826b-43dc-8ef5-0a4f4abebaa7",
   "metadata": {},
   "outputs": [
    {
     "data": {
      "text/plain": [
       "(11254, 40)"
      ]
     },
     "execution_count": 27,
     "metadata": {},
     "output_type": "execute_result"
    }
   ],
   "source": [
    "data.shape"
   ]
  },
  {
   "cell_type": "markdown",
   "id": "e89f1e78-ae51-40d5-b8cf-bee0d625c760",
   "metadata": {},
   "source": [
    "## Select Best Feature for Benchmark"
   ]
  },
  {
   "cell_type": "code",
   "execution_count": 3,
   "id": "2c7ab6b7-d1a7-4a8a-baa0-adee8b7e19d0",
   "metadata": {},
   "outputs": [],
   "source": [
    "from sklearn.metrics import r2_score\n",
    "from sklearn.feature_selection import SequentialFeatureSelector"
   ]
  },
  {
   "cell_type": "code",
   "execution_count": 5,
   "id": "6585f3ca-f9d5-479f-9213-8f2fb6197da8",
   "metadata": {},
   "outputs": [
    {
     "name": "stderr",
     "output_type": "stream",
     "text": [
      "100%|██████████| 10/10 [00:23<00:00,  2.37s/it]\n"
     ]
    }
   ],
   "source": [
    "best_feature_dict = {}\n",
    "best_feature_cvscores = {}\n",
    "for n_features in tqdm(np.arange(1,10+1)):\n",
    "    select = SequentialFeatureSelector(estimator=LinearRegression(), \n",
    "                                       n_features_to_select=n_features, \n",
    "                                       direction='forward', \n",
    "                                       scoring='r2')\n",
    "    select.fit(X, np.log(y))\n",
    "    best_col = X.columns.to_numpy()[select.get_support()]\n",
    "    best_feature_dict[n_features] = best_col\n",
    "    best_feature_cvscores[n_features] = cross_val_score(estimator=LinearRegression(),\n",
    "                                                        X=X[best_col], \n",
    "                                                        y=np.log(y), cv=10, \n",
    "                                                        scoring='r2')"
   ]
  },
  {
   "cell_type": "code",
   "execution_count": 6,
   "id": "49ae0b9e-17f1-4adb-9bbd-a4cb64baeb40",
   "metadata": {},
   "outputs": [
    {
     "data": {
      "text/html": [
       "<div>\n",
       "<style scoped>\n",
       "    .dataframe tbody tr th:only-of-type {\n",
       "        vertical-align: middle;\n",
       "    }\n",
       "\n",
       "    .dataframe tbody tr th {\n",
       "        vertical-align: top;\n",
       "    }\n",
       "\n",
       "    .dataframe thead th {\n",
       "        text-align: right;\n",
       "    }\n",
       "</style>\n",
       "<table border=\"1\" class=\"dataframe\">\n",
       "  <thead>\n",
       "    <tr style=\"text-align: right;\">\n",
       "      <th></th>\n",
       "      <th>n_feature</th>\n",
       "      <th>score</th>\n",
       "    </tr>\n",
       "  </thead>\n",
       "  <tbody>\n",
       "    <tr>\n",
       "      <th>0</th>\n",
       "      <td>1</td>\n",
       "      <td>0.647607</td>\n",
       "    </tr>\n",
       "    <tr>\n",
       "      <th>1</th>\n",
       "      <td>1</td>\n",
       "      <td>0.678038</td>\n",
       "    </tr>\n",
       "  </tbody>\n",
       "</table>\n",
       "</div>"
      ],
      "text/plain": [
       "   n_feature     score\n",
       "0          1  0.647607\n",
       "1          1  0.678038"
      ]
     },
     "execution_count": 6,
     "metadata": {},
     "output_type": "execute_result"
    }
   ],
   "source": [
    "tmp = pd.melt(pd.DataFrame.from_dict(best_feature_cvscores), var_name='n_feature', value_name='score')\n",
    "tmp['score'] = np.abs(tmp['score'])\n",
    "tmp.head(2)"
   ]
  },
  {
   "cell_type": "code",
   "execution_count": 7,
   "id": "cb098462-259d-4ea5-b524-6f0a64d9d6a0",
   "metadata": {},
   "outputs": [],
   "source": [
    "tmp_ = tmp.groupby('n_feature').mean()"
   ]
  },
  {
   "cell_type": "code",
   "execution_count": 8,
   "id": "6252b631-5e72-4c1c-837c-a54736aaf6ea",
   "metadata": {},
   "outputs": [
    {
     "data": {
      "image/png": "[encoded data removed]",
      "text/plain": [
       "<Figure size 864x360 with 1 Axes>"
      ]
     },
     "metadata": {
      "needs_background": "light"
     },
     "output_type": "display_data"
    }
   ],
   "source": [
    "fig = plt.subplots(figsize=(12, 5))\n",
    "p = sns.boxplot(x=tmp['n_feature'], y=tmp['score'], color='grey')\n",
    "p1 = sns.lineplot(x=tmp_.index-1, y=tmp_.to_numpy().reshape(-1), color='maroon', \n",
    "                  linestyle='--', label='Mean', alpha=.8)\n",
    "plt.title(r'Model: Linear Regression / Cross-Validation: 10 / Criterion: R2', fontsize=10)\n",
    "plt.suptitle('Forward Stagewise Sequential Feature Selection Results', fontsize=13)\n",
    "plt.xlabel('N Features')\n",
    "plt.ylabel(r'R2')\n",
    "sns.despine()\n",
    "plt.show()"
   ]
  },
  {
   "cell_type": "code",
   "execution_count": 9,
   "id": "09e09a6a-696c-4997-afbd-3ca9929011dd",
   "metadata": {},
   "outputs": [
    {
     "data": {
      "text/plain": [
       "array(['centroid_frequency2_M01', 'centroid_frequency_S01', 'imp_M01'],\n",
       "      dtype=object)"
      ]
     },
     "execution_count": 9,
     "metadata": {},
     "output_type": "execute_result"
    }
   ],
   "source": [
    "n_features = 3\n",
    "best_feature_dict[n_features]"
   ]
  },
  {
   "cell_type": "code",
   "execution_count": 10,
   "id": "6facb472-5761-4b17-9f31-be4643d0bc8e",
   "metadata": {},
   "outputs": [],
   "source": [
    "X_best = X[best_feature_dict[n_features]]"
   ]
  },
  {
   "cell_type": "markdown",
   "id": "ee90a874-5104-49a3-86b7-ecad9b2b7e77",
   "metadata": {},
   "source": [
    "## Hyperparameter "
   ]
  },
  {
   "cell_type": "code",
   "execution_count": 9,
   "id": "1e514f11-af85-4f29-b666-b32588682c5a",
   "metadata": {},
   "outputs": [],
   "source": [
    "from sklearn.linear_model import LinearRegression"
   ]
  },
  {
   "cell_type": "code",
   "execution_count": 10,
   "id": "c5631354-97c6-485f-aff2-269682f605b3",
   "metadata": {
    "collapsed": true,
    "jupyter": {
     "outputs_hidden": true
    },
    "tags": []
   },
   "outputs": [
    {
     "ename": "NameError",
     "evalue": "name 'X_best' is not defined",
     "output_type": "error",
     "traceback": [
      "\u001b[0;31m---------------------------------------------------------------------------\u001b[0m",
      "\u001b[0;31mNameError\u001b[0m                                 Traceback (most recent call last)",
      "\u001b[0;32m<ipython-input-10-0ce6da544098>\u001b[0m in \u001b[0;36m<module>\u001b[0;34m\u001b[0m\n\u001b[0;32m----> 1\u001b[0;31m \u001b[0mresults\u001b[0m \u001b[0;34m=\u001b[0m \u001b[0mcross_val_score\u001b[0m\u001b[0;34m(\u001b[0m\u001b[0mestimator\u001b[0m\u001b[0;34m=\u001b[0m\u001b[0mLinearRegression\u001b[0m\u001b[0;34m(\u001b[0m\u001b[0;34m)\u001b[0m\u001b[0;34m,\u001b[0m \u001b[0mX\u001b[0m\u001b[0;34m=\u001b[0m\u001b[0mX_best\u001b[0m\u001b[0;34m,\u001b[0m \u001b[0my\u001b[0m\u001b[0;34m=\u001b[0m\u001b[0mnp\u001b[0m\u001b[0;34m.\u001b[0m\u001b[0mlog\u001b[0m\u001b[0;34m(\u001b[0m\u001b[0my\u001b[0m\u001b[0;34m)\u001b[0m\u001b[0;34m,\u001b[0m \u001b[0mcv\u001b[0m\u001b[0;34m=\u001b[0m\u001b[0;36m10\u001b[0m\u001b[0;34m)\u001b[0m\u001b[0;34m\u001b[0m\u001b[0;34m\u001b[0m\u001b[0m\n\u001b[0m\u001b[1;32m      2\u001b[0m \u001b[0mprint\u001b[0m\u001b[0;34m(\u001b[0m\u001b[0;34m'CV Results:\\n'\u001b[0m\u001b[0;34m,\u001b[0m \u001b[0mresults\u001b[0m\u001b[0;34m)\u001b[0m\u001b[0;34m\u001b[0m\u001b[0;34m\u001b[0m\u001b[0m\n\u001b[1;32m      3\u001b[0m \u001b[0mprint\u001b[0m\u001b[0;34m(\u001b[0m\u001b[0;34m'Mean Resutls: '\u001b[0m\u001b[0;34m,\u001b[0m \u001b[0mnp\u001b[0m\u001b[0;34m.\u001b[0m\u001b[0mmean\u001b[0m\u001b[0;34m(\u001b[0m\u001b[0mresults\u001b[0m\u001b[0;34m)\u001b[0m\u001b[0;34m)\u001b[0m\u001b[0;34m\u001b[0m\u001b[0;34m\u001b[0m\u001b[0m\n",
      "\u001b[0;31mNameError\u001b[0m: name 'X_best' is not defined"
     ]
    }
   ],
   "source": [
    "results = cross_val_score(estimator=LinearRegression(), X=X_best, y=np.log(y), cv=10)\n",
    "print('CV Results:\\n', results)\n",
    "print('Mean Resutls: ', np.mean(results))"
   ]
  },
  {
   "cell_type": "code",
   "execution_count": null,
   "id": "53f3961f-0457-4fee-b3c2-beec07e5762a",
   "metadata": {},
   "outputs": [],
   "source": []
  },
  {
   "cell_type": "markdown",
   "id": "d070dd5c-3da2-42dc-a6ab-7161963633d8",
   "metadata": {},
   "source": [
    "## With Max-Feature"
   ]
  },
  {
   "cell_type": "code",
   "execution_count": 28,
   "id": "a7864de8-1f82-42c2-b62f-b92314b84937",
   "metadata": {},
   "outputs": [],
   "source": [
    "from helper.feature_extract import extract_highest_amplitude_features_with_mp"
   ]
  },
  {
   "cell_type": "code",
   "execution_count": 29,
   "id": "c104ee6a-97ad-46c3-9268-fed938672729",
   "metadata": {},
   "outputs": [
    {
     "name": "stdout",
     "output_type": "stream",
     "text": [
      "INFO || Extracting Max Features for types: ['G01', 'G02']\n",
      "INFO || Extracting Max Features for types: ['M01']\n",
      "INFO || Extracting Max Features for types: ['S01']\n"
     ]
    }
   ],
   "source": [
    "df_max = extract_highest_amplitude_features_with_mp(df=data, sensor_types=[['G01', 'G02'], ['M01'], ['S01']],\n",
    "                                                  create_one_sensor_feature=True, n_processes=4, \n",
    "                                                  keep_columns=False)"
   ]
  },
  {
   "cell_type": "code",
   "execution_count": 30,
   "id": "95b9da18-8934-424b-b797-93051385414c",
   "metadata": {},
   "outputs": [],
   "source": [
    "feature_cols = df_max.columns.to_list()\n",
    "feature_cols.remove('size_mm')\n",
    "feature_cols.remove('start_time')"
   ]
  },
  {
   "cell_type": "code",
   "execution_count": 31,
   "id": "c7606e7c-3d04-411f-aa80-9718156144ab",
   "metadata": {},
   "outputs": [
    {
     "data": {
      "text/html": [
       "<div>\n",
       "<style scoped>\n",
       "    .dataframe tbody tr th:only-of-type {\n",
       "        vertical-align: middle;\n",
       "    }\n",
       "\n",
       "    .dataframe tbody tr th {\n",
       "        vertical-align: top;\n",
       "    }\n",
       "\n",
       "    .dataframe thead th {\n",
       "        text-align: right;\n",
       "    }\n",
       "</style>\n",
       "<table border=\"1\" class=\"dataframe\">\n",
       "  <thead>\n",
       "    <tr style=\"text-align: right;\">\n",
       "      <th></th>\n",
       "      <th>packnr</th>\n",
       "      <th>velocity</th>\n",
       "      <th>max_centroid_frequency_G</th>\n",
       "      <th>max_centroid_frequency2_G</th>\n",
       "      <th>max_median_freq_G</th>\n",
       "      <th>max_flash_ind_G</th>\n",
       "      <th>max_cv_G</th>\n",
       "      <th>max_iqa_G</th>\n",
       "      <th>max_mab_G</th>\n",
       "      <th>max_imp_G</th>\n",
       "      <th>max_len_G</th>\n",
       "      <th>max_centroid_frequency_M</th>\n",
       "      <th>max_centroid_frequency2_M</th>\n",
       "      <th>max_median_freq_M</th>\n",
       "      <th>max_flash_ind_M</th>\n",
       "      <th>max_cv_M</th>\n",
       "      <th>max_iqa_M</th>\n",
       "      <th>max_mab_M</th>\n",
       "      <th>max_imp_M</th>\n",
       "      <th>max_len_M</th>\n",
       "      <th>max_centroid_frequency_S</th>\n",
       "      <th>max_centroid_frequency2_S</th>\n",
       "      <th>max_median_freq_S</th>\n",
       "      <th>max_flash_ind_S</th>\n",
       "      <th>max_cv_S</th>\n",
       "      <th>max_iqa_S</th>\n",
       "      <th>max_mab_S</th>\n",
       "      <th>max_imp_S</th>\n",
       "      <th>max_len_S</th>\n",
       "    </tr>\n",
       "  </thead>\n",
       "  <tbody>\n",
       "    <tr>\n",
       "      <th>0</th>\n",
       "      <td>15</td>\n",
       "      <td>3.2</td>\n",
       "      <td>4013.797724</td>\n",
       "      <td>2931.354363</td>\n",
       "      <td>3055.208472</td>\n",
       "      <td>0.006666</td>\n",
       "      <td>1.600798</td>\n",
       "      <td>3.898390e-09</td>\n",
       "      <td>0.004824</td>\n",
       "      <td>0</td>\n",
       "      <td>74</td>\n",
       "      <td>8652.790926</td>\n",
       "      <td>7182.425705</td>\n",
       "      <td>7244.649105</td>\n",
       "      <td>0.005020</td>\n",
       "      <td>1.271133</td>\n",
       "      <td>0.000039</td>\n",
       "      <td>0.579816</td>\n",
       "      <td>0</td>\n",
       "      <td>74</td>\n",
       "      <td>8379.295548</td>\n",
       "      <td>6547.882196</td>\n",
       "      <td>6737.795587</td>\n",
       "      <td>0.006973</td>\n",
       "      <td>0.985044</td>\n",
       "      <td>0.028844</td>\n",
       "      <td>10</td>\n",
       "      <td>0</td>\n",
       "      <td>74</td>\n",
       "    </tr>\n",
       "    <tr>\n",
       "      <th>1</th>\n",
       "      <td>128</td>\n",
       "      <td>2.5</td>\n",
       "      <td>2513.989739</td>\n",
       "      <td>2317.553615</td>\n",
       "      <td>2356.206594</td>\n",
       "      <td>0.007217</td>\n",
       "      <td>2.634793</td>\n",
       "      <td>1.154980e-03</td>\n",
       "      <td>2.099359</td>\n",
       "      <td>9</td>\n",
       "      <td>298</td>\n",
       "      <td>5611.165495</td>\n",
       "      <td>5714.516900</td>\n",
       "      <td>5636.518996</td>\n",
       "      <td>0.008924</td>\n",
       "      <td>1.690594</td>\n",
       "      <td>1.444022</td>\n",
       "      <td>68.647197</td>\n",
       "      <td>25</td>\n",
       "      <td>298</td>\n",
       "      <td>4529.183358</td>\n",
       "      <td>3008.921229</td>\n",
       "      <td>3020.389124</td>\n",
       "      <td>0.024140</td>\n",
       "      <td>2.014689</td>\n",
       "      <td>1681.905351</td>\n",
       "      <td>1359</td>\n",
       "      <td>17</td>\n",
       "      <td>298</td>\n",
       "    </tr>\n",
       "  </tbody>\n",
       "</table>\n",
       "</div>"
      ],
      "text/plain": [
       "   packnr  velocity  max_centroid_frequency_G  max_centroid_frequency2_G  \\\n",
       "0      15       3.2               4013.797724                2931.354363   \n",
       "1     128       2.5               2513.989739                2317.553615   \n",
       "\n",
       "   max_median_freq_G  max_flash_ind_G  max_cv_G     max_iqa_G  max_mab_G  \\\n",
       "0        3055.208472         0.006666  1.600798  3.898390e-09   0.004824   \n",
       "1        2356.206594         0.007217  2.634793  1.154980e-03   2.099359   \n",
       "\n",
       "   max_imp_G  max_len_G  max_centroid_frequency_M  max_centroid_frequency2_M  \\\n",
       "0          0         74               8652.790926                7182.425705   \n",
       "1          9        298               5611.165495                5714.516900   \n",
       "\n",
       "   max_median_freq_M  max_flash_ind_M  max_cv_M  max_iqa_M  max_mab_M  \\\n",
       "0        7244.649105         0.005020  1.271133   0.000039   0.579816   \n",
       "1        5636.518996         0.008924  1.690594   1.444022  68.647197   \n",
       "\n",
       "   max_imp_M  max_len_M  max_centroid_frequency_S  max_centroid_frequency2_S  \\\n",
       "0          0         74               8379.295548                6547.882196   \n",
       "1         25        298               4529.183358                3008.921229   \n",
       "\n",
       "   max_median_freq_S  max_flash_ind_S  max_cv_S    max_iqa_S  max_mab_S  \\\n",
       "0        6737.795587         0.006973  0.985044     0.028844         10   \n",
       "1        3020.389124         0.024140  2.014689  1681.905351       1359   \n",
       "\n",
       "   max_imp_S  max_len_S  \n",
       "0          0         74  \n",
       "1         17        298  "
      ]
     },
     "execution_count": 31,
     "metadata": {},
     "output_type": "execute_result"
    }
   ],
   "source": [
    "X,y = df_max[feature_cols], df_max['size_mm']\n",
    "X.head(2)"
   ]
  },
  {
   "cell_type": "code",
   "execution_count": 32,
   "id": "0f19b3b6-ddc1-4629-a4bc-56e8730f5d1b",
   "metadata": {},
   "outputs": [
    {
     "data": {
      "text/plain": [
       "(11254, 31)"
      ]
     },
     "execution_count": 32,
     "metadata": {},
     "output_type": "execute_result"
    }
   ],
   "source": [
    "df_max.shape"
   ]
  },
  {
   "cell_type": "code",
   "execution_count": 15,
   "id": "8e4d5d15-5d34-4eaf-b977-95cfec767c57",
   "metadata": {},
   "outputs": [
    {
     "name": "stderr",
     "output_type": "stream",
     "text": [
      "100%|██████████| 10/10 [00:17<00:00,  1.72s/it]\n"
     ]
    }
   ],
   "source": [
    "best_feature_dict = {}\n",
    "best_feature_cvscores = {}\n",
    "for n_features in tqdm(np.arange(1,10+1)):\n",
    "    select = SequentialFeatureSelector(estimator=LinearRegression(), \n",
    "                                       n_features_to_select=n_features, \n",
    "                                       direction='forward', \n",
    "                                       scoring='r2')\n",
    "    select.fit(X, np.log(y))\n",
    "    best_col = X.columns.to_numpy()[select.get_support()]\n",
    "    best_feature_dict[n_features] = best_col\n",
    "    best_feature_cvscores[n_features] = cross_val_score(estimator=LinearRegression(),\n",
    "                                                        X=X[best_col], \n",
    "                                                        y=np.log(y), cv=10, \n",
    "                                                        scoring='r2')"
   ]
  },
  {
   "cell_type": "code",
   "execution_count": 16,
   "id": "8bc0dda9-180d-484e-b18e-3b81028413d3",
   "metadata": {},
   "outputs": [],
   "source": [
    "tmp = pd.melt(pd.DataFrame.from_dict(best_feature_cvscores), var_name='n_feature', value_name='score')\n",
    "tmp['score'] = np.abs(tmp['score'])\n",
    "tmp_ = tmp.groupby('n_feature').mean()"
   ]
  },
  {
   "cell_type": "code",
   "execution_count": 17,
   "id": "580ba48a-39a1-4fc2-9546-bc9eeca58bf7",
   "metadata": {},
   "outputs": [
    {
     "data": {
      "image/png": "[encoded data removed]",
      "text/plain": [
       "<Figure size 864x360 with 1 Axes>"
      ]
     },
     "metadata": {
      "needs_background": "light"
     },
     "output_type": "display_data"
    }
   ],
   "source": [
    "fig = plt.subplots(figsize=(12, 5))\n",
    "p = sns.boxplot(x=tmp['n_feature'], y=tmp['score'], color='grey')\n",
    "p1 = sns.lineplot(x=tmp_.index-1, y=tmp_.to_numpy().reshape(-1), color='maroon', \n",
    "                  linestyle='--', label='Mean', alpha=.8)\n",
    "plt.title(r'Model: Linear Regression / Cross-Validation: 10 / Criterion: R2', fontsize=10)\n",
    "plt.suptitle('Forward Stagewise Sequential Feature Selection Results', fontsize=13)\n",
    "plt.xlabel('N Features')\n",
    "plt.ylabel(r'R2')\n",
    "sns.despine()\n",
    "plt.show()"
   ]
  },
  {
   "cell_type": "code",
   "execution_count": 21,
   "id": "e2de9152-c3ce-41e8-a3ed-2365beff1c46",
   "metadata": {},
   "outputs": [
    {
     "data": {
      "text/plain": [
       "array(['max_median_freq_G', 'max_centroid_frequency2_M', 'max_imp_M',\n",
       "       'max_centroid_frequency_S'], dtype=object)"
      ]
     },
     "execution_count": 21,
     "metadata": {},
     "output_type": "execute_result"
    }
   ],
   "source": [
    "n_features = 4\n",
    "best_feature_dict[n_features]"
   ]
  },
  {
   "cell_type": "code",
   "execution_count": 22,
   "id": "856c563a-7214-4305-b80a-dbd3ff29493b",
   "metadata": {},
   "outputs": [],
   "source": [
    "X_best = X[best_feature_dict[n_features]]"
   ]
  },
  {
   "cell_type": "code",
   "execution_count": 23,
   "id": "4705ba75-79ad-403d-a890-5605c040969b",
   "metadata": {},
   "outputs": [
    {
     "name": "stdout",
     "output_type": "stream",
     "text": [
      "CV Results:\n",
      " [0.74312963 0.77171474 0.73937037 0.75743827 0.77379263 0.7634382\n",
      " 0.77720151 0.73118167 0.76424763 0.76521349]\n",
      "Mean Resutls:  0.758672816167448\n"
     ]
    }
   ],
   "source": [
    "results = cross_val_score(estimator=LinearRegression(), X=X_best, y=np.log(y), cv=10)\n",
    "print('CV Results:\\n', results)\n",
    "print('Mean Resutls: ', np.mean(results))"
   ]
  },
  {
   "cell_type": "code",
   "execution_count": null,
   "id": "02b4001c-29b2-4fa7-8c52-039192181ef3",
   "metadata": {},
   "outputs": [],
   "source": []
  },
  {
   "cell_type": "code",
   "execution_count": null,
   "id": "4fe5498a-e1e4-456d-abd4-74c2964ed3e4",
   "metadata": {},
   "outputs": [],
   "source": []
  }
 ],
 "metadata": {
  "kernelspec": {
   "display_name": "Python 3",
   "language": "python",
   "name": "python3"
  },
  "language_info": {
   "codemirror_mode": {
    "name": "ipython",
    "version": 3
   },
   "file_extension": ".py",
   "mimetype": "text/x-python",
   "name": "python",
   "nbconvert_exporter": "python",
   "pygments_lexer": "ipython3",
   "version": "3.8.8"
  }
 },
 "nbformat": 4,
 "nbformat_minor": 5
}
