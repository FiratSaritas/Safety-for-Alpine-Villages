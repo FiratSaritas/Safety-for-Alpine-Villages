{
 "cells": [
  {
   "cell_type": "markdown",
   "id": "ec5f5cd8-5aa0-4c1c-a103-26a3c9e34b3e",
   "metadata": {},
   "source": [
    "# Benchmark Modell SPS"
   ]
  },
  {
   "cell_type": "code",
   "execution_count": 1,
   "id": "9737ec62-c64f-4c5a-987a-39aa4e73e5fa",
   "metadata": {},
   "outputs": [],
   "source": [
    "import pandas as pd\n",
    "import numpy as np\n",
    "import seaborn as sns\n",
    "import matplotlib.pyplot as plt\n",
    "from tqdm import tqdm\n",
    "import sys\n",
    "sys.path.append('../..')\n",
    "from helper.lazy_regression import TooLazyForRegression\n",
    "from sklearn.feature_selection import RFECV\n",
    "from sklearn.linear_model import Lasso, Ridge, LinearRegression\n",
    "from sklearn.model_selection import GridSearchCV\n",
    "from sklearn.metrics import r2_score\n",
    "from sklearn.feature_selection import SequentialFeatureSelector\n",
    "from sklearn.model_selection import cross_val_score\n",
    "from sklearn.pipeline import Pipeline\n",
    "\n",
    "from statsmodels.regression.linear_model import WLS\n",
    "\n",
    "pd.options.display.max_columns = None"
   ]
  },
  {
   "cell_type": "code",
   "execution_count": 2,
   "id": "2a428110-256e-465b-90e7-8e4d203f1c41",
   "metadata": {},
   "outputs": [],
   "source": [
    "data = pd.read_table('../../data/data_spg.txt', sep=' ')\n",
    "feature_cols = data.columns.to_list()\n",
    "feature_cols.remove('size_mm')\n",
    "feature_cols.remove('start_time')"
   ]
  },
  {
   "cell_type": "code",
   "execution_count": 3,
   "id": "3bb2007a-6b1e-4971-a660-7ff8882f76f8",
   "metadata": {},
   "outputs": [
    {
     "data": {
      "text/html": [
       "<div>\n",
       "<style scoped>\n",
       "    .dataframe tbody tr th:only-of-type {\n",
       "        vertical-align: middle;\n",
       "    }\n",
       "\n",
       "    .dataframe tbody tr th {\n",
       "        vertical-align: top;\n",
       "    }\n",
       "\n",
       "    .dataframe thead th {\n",
       "        text-align: right;\n",
       "    }\n",
       "</style>\n",
       "<table border=\"1\" class=\"dataframe\">\n",
       "  <thead>\n",
       "    <tr style=\"text-align: right;\">\n",
       "      <th></th>\n",
       "      <th>packnr</th>\n",
       "      <th>velocity</th>\n",
       "      <th>centroid_frequency_G01</th>\n",
       "      <th>centroid_frequency2_G01</th>\n",
       "      <th>centroid_frequency_G02</th>\n",
       "      <th>centroid_frequency2_G02</th>\n",
       "      <th>median_freq_G01</th>\n",
       "      <th>median_freq_G02</th>\n",
       "      <th>flash_ind_G01</th>\n",
       "      <th>flash_ind_G02</th>\n",
       "      <th>cv_G01</th>\n",
       "      <th>cv_G02</th>\n",
       "      <th>iqa_G01</th>\n",
       "      <th>iqa_G02</th>\n",
       "      <th>mab_G01</th>\n",
       "      <th>mab_G02</th>\n",
       "      <th>imp_G01</th>\n",
       "      <th>imp_G02</th>\n",
       "      <th>len_G01</th>\n",
       "      <th>len_G02</th>\n",
       "    </tr>\n",
       "  </thead>\n",
       "  <tbody>\n",
       "    <tr>\n",
       "      <th>0</th>\n",
       "      <td>22</td>\n",
       "      <td>3.2</td>\n",
       "      <td>1862.480818</td>\n",
       "      <td>1782.582314</td>\n",
       "      <td>2165.858340</td>\n",
       "      <td>1920.629974</td>\n",
       "      <td>1749.839545</td>\n",
       "      <td>1909.190918</td>\n",
       "      <td>0.004357</td>\n",
       "      <td>0.003028</td>\n",
       "      <td>0.975134</td>\n",
       "      <td>1.167320</td>\n",
       "      <td>1.726607e-08</td>\n",
       "      <td>4.735567e-07</td>\n",
       "      <td>0.004644</td>\n",
       "      <td>0.027002</td>\n",
       "      <td>0</td>\n",
       "      <td>1</td>\n",
       "      <td>37</td>\n",
       "      <td>37</td>\n",
       "    </tr>\n",
       "    <tr>\n",
       "      <th>1</th>\n",
       "      <td>52</td>\n",
       "      <td>2.8</td>\n",
       "      <td>671.434928</td>\n",
       "      <td>457.188394</td>\n",
       "      <td>663.246762</td>\n",
       "      <td>462.475105</td>\n",
       "      <td>488.919882</td>\n",
       "      <td>497.205196</td>\n",
       "      <td>0.003794</td>\n",
       "      <td>0.002613</td>\n",
       "      <td>2.072236</td>\n",
       "      <td>1.768962</td>\n",
       "      <td>1.319711e-07</td>\n",
       "      <td>3.123975e-07</td>\n",
       "      <td>0.011466</td>\n",
       "      <td>0.020098</td>\n",
       "      <td>0</td>\n",
       "      <td>0</td>\n",
       "      <td>37</td>\n",
       "      <td>37</td>\n",
       "    </tr>\n",
       "  </tbody>\n",
       "</table>\n",
       "</div>"
      ],
      "text/plain": [
       "   packnr  velocity  centroid_frequency_G01  centroid_frequency2_G01  \\\n",
       "0      22       3.2             1862.480818              1782.582314   \n",
       "1      52       2.8              671.434928               457.188394   \n",
       "\n",
       "   centroid_frequency_G02  centroid_frequency2_G02  median_freq_G01  \\\n",
       "0             2165.858340              1920.629974      1749.839545   \n",
       "1              663.246762               462.475105       488.919882   \n",
       "\n",
       "   median_freq_G02  flash_ind_G01  flash_ind_G02    cv_G01    cv_G02  \\\n",
       "0      1909.190918       0.004357       0.003028  0.975134  1.167320   \n",
       "1       497.205196       0.003794       0.002613  2.072236  1.768962   \n",
       "\n",
       "        iqa_G01       iqa_G02   mab_G01   mab_G02  imp_G01  imp_G02  len_G01  \\\n",
       "0  1.726607e-08  4.735567e-07  0.004644  0.027002        0        1       37   \n",
       "1  1.319711e-07  3.123975e-07  0.011466  0.020098        0        0       37   \n",
       "\n",
       "   len_G02  \n",
       "0       37  \n",
       "1       37  "
      ]
     },
     "execution_count": 3,
     "metadata": {},
     "output_type": "execute_result"
    }
   ],
   "source": [
    "data = data.sample(frac=1, random_state=42).reset_index(drop=True)\n",
    "X,y = data[feature_cols], data['size_mm']\n",
    "X.head(2)"
   ]
  },
  {
   "cell_type": "markdown",
   "id": "e89f1e78-ae51-40d5-b8cf-bee0d625c760",
   "metadata": {},
   "source": [
    "## Select Best Feature for Benchmark"
   ]
  },
  {
   "cell_type": "code",
   "execution_count": 4,
   "id": "2c7ab6b7-d1a7-4a8a-baa0-adee8b7e19d0",
   "metadata": {},
   "outputs": [],
   "source": [
    "from sklearn.metrics import r2_score\n",
    "from sklearn.feature_selection import SequentialFeatureSelector"
   ]
  },
  {
   "cell_type": "code",
   "execution_count": 5,
   "id": "6585f3ca-f9d5-479f-9213-8f2fb6197da8",
   "metadata": {},
   "outputs": [
    {
     "name": "stderr",
     "output_type": "stream",
     "text": [
      "100%|██████████████████████████████████████████████████████████████████████████████████| 10/10 [00:27<00:00,  2.79s/it]\n"
     ]
    }
   ],
   "source": [
    "best_feature_dict = {}\n",
    "best_feature_cvscores = {}\n",
    "for n_features in tqdm(np.arange(1,10+1)):\n",
    "    select = SequentialFeatureSelector(estimator=LinearRegression(), \n",
    "                                       n_features_to_select=n_features, \n",
    "                                       direction='forward', \n",
    "                                       scoring='r2')\n",
    "    select.fit(X, np.log(y))\n",
    "    best_col = X.columns.to_numpy()[select.get_support()]\n",
    "    best_feature_dict[n_features] = best_col\n",
    "    best_feature_cvscores[n_features] = cross_val_score(estimator=LinearRegression(),\n",
    "                                                        X=X[best_col], \n",
    "                                                        y=np.log(y), cv=10, \n",
    "                                                        scoring='r2')"
   ]
  },
  {
   "cell_type": "code",
   "execution_count": 6,
   "id": "49ae0b9e-17f1-4adb-9bbd-a4cb64baeb40",
   "metadata": {},
   "outputs": [
    {
     "data": {
      "text/html": [
       "<div>\n",
       "<style scoped>\n",
       "    .dataframe tbody tr th:only-of-type {\n",
       "        vertical-align: middle;\n",
       "    }\n",
       "\n",
       "    .dataframe tbody tr th {\n",
       "        vertical-align: top;\n",
       "    }\n",
       "\n",
       "    .dataframe thead th {\n",
       "        text-align: right;\n",
       "    }\n",
       "</style>\n",
       "<table border=\"1\" class=\"dataframe\">\n",
       "  <thead>\n",
       "    <tr style=\"text-align: right;\">\n",
       "      <th></th>\n",
       "      <th>n_feature</th>\n",
       "      <th>score</th>\n",
       "    </tr>\n",
       "  </thead>\n",
       "  <tbody>\n",
       "    <tr>\n",
       "      <th>0</th>\n",
       "      <td>1</td>\n",
       "      <td>0.606936</td>\n",
       "    </tr>\n",
       "    <tr>\n",
       "      <th>1</th>\n",
       "      <td>1</td>\n",
       "      <td>0.593029</td>\n",
       "    </tr>\n",
       "  </tbody>\n",
       "</table>\n",
       "</div>"
      ],
      "text/plain": [
       "   n_feature     score\n",
       "0          1  0.606936\n",
       "1          1  0.593029"
      ]
     },
     "execution_count": 6,
     "metadata": {},
     "output_type": "execute_result"
    }
   ],
   "source": [
    "tmp = pd.melt(pd.DataFrame.from_dict(best_feature_cvscores), var_name='n_feature', value_name='score')\n",
    "tmp['score'] = np.abs(tmp['score'])\n",
    "tmp.head(2)"
   ]
  },
  {
   "cell_type": "code",
   "execution_count": 7,
   "id": "cb098462-259d-4ea5-b524-6f0a64d9d6a0",
   "metadata": {},
   "outputs": [],
   "source": [
    "tmp_ = tmp.groupby('n_feature').mean()"
   ]
  },
  {
   "cell_type": "code",
   "execution_count": 9,
   "id": "6252b631-5e72-4c1c-837c-a54736aaf6ea",
   "metadata": {},
   "outputs": [
    {
     "data": {
      "image/png": "[encoded data removed]",
      "text/plain": [
       "<Figure size 864x360 with 1 Axes>"
      ]
     },
     "metadata": {
      "needs_background": "light"
     },
     "output_type": "display_data"
    }
   ],
   "source": [
    "fig = plt.subplots(figsize=(12, 5))\n",
    "p = sns.boxplot(x=tmp['n_feature'], y=tmp['score'], color='grey')\n",
    "p1 = sns.lineplot(x=tmp_.index-1, y=tmp_.to_numpy().reshape(-1), color='maroon', \n",
    "                  linestyle='--', label='Mean', alpha=.8)\n",
    "plt.title(r'Model: Linear Regression / Cross-Validation: 10 / Criterion: R2', fontsize=10)\n",
    "plt.suptitle('Forward Stagewise Sequential Feature Selection Results', fontsize=13)\n",
    "plt.xlabel('N Features')\n",
    "plt.ylabel(r'R2')\n",
    "sns.despine()\n",
    "plt.show()"
   ]
  },
  {
   "cell_type": "code",
   "execution_count": 10,
   "id": "09e09a6a-696c-4997-afbd-3ca9929011dd",
   "metadata": {},
   "outputs": [
    {
     "data": {
      "text/plain": [
       "array(['centroid_frequency_G01', 'centroid_frequency_G02',\n",
       "       'centroid_frequency2_G02', 'imp_G01'], dtype=object)"
      ]
     },
     "execution_count": 10,
     "metadata": {},
     "output_type": "execute_result"
    }
   ],
   "source": [
    "n_features = 4\n",
    "best_feature_dict[n_features]"
   ]
  },
  {
   "cell_type": "code",
   "execution_count": 11,
   "id": "6facb472-5761-4b17-9f31-be4643d0bc8e",
   "metadata": {},
   "outputs": [],
   "source": [
    "X_best = X[best_feature_dict[n_features]]"
   ]
  },
  {
   "cell_type": "markdown",
   "id": "ee90a874-5104-49a3-86b7-ecad9b2b7e77",
   "metadata": {},
   "source": [
    "## Hyperparameter "
   ]
  },
  {
   "cell_type": "code",
   "execution_count": 12,
   "id": "1e514f11-af85-4f29-b666-b32588682c5a",
   "metadata": {},
   "outputs": [],
   "source": [
    "from sklearn.linear_model import LinearRegression"
   ]
  },
  {
   "cell_type": "code",
   "execution_count": 13,
   "id": "c5631354-97c6-485f-aff2-269682f605b3",
   "metadata": {},
   "outputs": [
    {
     "name": "stdout",
     "output_type": "stream",
     "text": [
      "CV Results:\n",
      " [0.7563679  0.74743726 0.73704942 0.75938634 0.75459906 0.7482335\n",
      " 0.73819694 0.75229274 0.7553658  0.73569231]\n",
      "Mean Resutls:  0.7484621268712873\n"
     ]
    }
   ],
   "source": [
    "results = cross_val_score(estimator=LinearRegression(), X=X_best, y=np.log(y), cv=10)\n",
    "print('CV Results:\\n', results)\n",
    "print('Mean Resutls: ', np.mean(results))"
   ]
  }
 ],
 "metadata": {
  "kernelspec": {
   "display_name": "Python 3",
   "language": "python",
   "name": "python3"
  },
  "language_info": {
   "codemirror_mode": {
    "name": "ipython",
    "version": 3
   },
   "file_extension": ".py",
   "mimetype": "text/x-python",
   "name": "python",
   "nbconvert_exporter": "python",
   "pygments_lexer": "ipython3",
   "version": "3.8.8"
  }
 },
 "nbformat": 4,
 "nbformat_minor": 5
}
