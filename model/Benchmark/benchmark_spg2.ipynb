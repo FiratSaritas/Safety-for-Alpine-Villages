{
 "cells": [
  {
   "cell_type": "markdown",
   "id": "ec5f5cd8-5aa0-4c1c-a103-26a3c9e34b3e",
   "metadata": {},
   "source": [
    "# Benchmark Modell 2 with SPG"
   ]
  },
  {
   "cell_type": "code",
   "execution_count": 1,
   "id": "9737ec62-c64f-4c5a-987a-39aa4e73e5fa",
   "metadata": {},
   "outputs": [],
   "source": [
    "import pandas as pd\n",
    "import numpy as np\n",
    "import seaborn as sns\n",
    "import matplotlib.pyplot as plt\n",
    "from tqdm import tqdm\n",
    "import sys\n",
    "sys.path.append('../..')\n",
    "from helper.lazy_regression import TooLazyForRegression\n",
    "from sklearn.feature_selection import RFECV\n",
    "from sklearn.linear_model import Lasso, Ridge, LinearRegression\n",
    "from sklearn.model_selection import GridSearchCV\n",
    "from sklearn.metrics import r2_score\n",
    "from sklearn.feature_selection import SequentialFeatureSelector\n",
    "from sklearn.model_selection import cross_val_score\n",
    "from sklearn.pipeline import Pipeline\n",
    "\n",
    "from statsmodels.regression.linear_model import WLS\n",
    "\n",
    "pd.options.display.max_columns = None"
   ]
  },
  {
   "cell_type": "code",
   "execution_count": 2,
   "id": "2a428110-256e-465b-90e7-8e4d203f1c41",
   "metadata": {},
   "outputs": [],
   "source": [
    "data = pd.read_table('../../data/data_spg.txt', sep=' ')\n",
    "feature_cols = data.columns.to_list()\n",
    "feature_cols.remove('size_mm')\n",
    "feature_cols.remove('start_time')"
   ]
  },
  {
   "cell_type": "code",
   "execution_count": 4,
   "id": "3bb2007a-6b1e-4971-a660-7ff8882f76f8",
   "metadata": {},
   "outputs": [
    {
     "data": {
      "text/html": [
       "<div>\n",
       "<style scoped>\n",
       "    .dataframe tbody tr th:only-of-type {\n",
       "        vertical-align: middle;\n",
       "    }\n",
       "\n",
       "    .dataframe tbody tr th {\n",
       "        vertical-align: top;\n",
       "    }\n",
       "\n",
       "    .dataframe thead th {\n",
       "        text-align: right;\n",
       "    }\n",
       "</style>\n",
       "<table border=\"1\" class=\"dataframe\">\n",
       "  <thead>\n",
       "    <tr style=\"text-align: right;\">\n",
       "      <th></th>\n",
       "      <th>packnr</th>\n",
       "      <th>velocity</th>\n",
       "      <th>centroid_frequency_G01</th>\n",
       "      <th>centroid_frequency2_G01</th>\n",
       "      <th>centroid_frequency_G02</th>\n",
       "      <th>centroid_frequency2_G02</th>\n",
       "      <th>median_freq_G01</th>\n",
       "      <th>median_freq_G02</th>\n",
       "      <th>flash_ind_G01</th>\n",
       "      <th>flash_ind_G02</th>\n",
       "      <th>cv_G01</th>\n",
       "      <th>cv_G02</th>\n",
       "      <th>iqa_G01</th>\n",
       "      <th>iqa_G02</th>\n",
       "      <th>mab_G01</th>\n",
       "      <th>mab_G02</th>\n",
       "      <th>imp_G01</th>\n",
       "      <th>imp_G02</th>\n",
       "      <th>len_G01</th>\n",
       "      <th>len_G02</th>\n",
       "    </tr>\n",
       "  </thead>\n",
       "  <tbody>\n",
       "    <tr>\n",
       "      <th>0</th>\n",
       "      <td>36</td>\n",
       "      <td>2.4</td>\n",
       "      <td>2093.635581</td>\n",
       "      <td>1986.847670</td>\n",
       "      <td>1331.195151</td>\n",
       "      <td>852.546891</td>\n",
       "      <td>2021.281643</td>\n",
       "      <td>958.368431</td>\n",
       "      <td>0.002196</td>\n",
       "      <td>0.003504</td>\n",
       "      <td>0.836058</td>\n",
       "      <td>1.065685</td>\n",
       "      <td>2.808968e-07</td>\n",
       "      <td>1.785572e-08</td>\n",
       "      <td>0.021330</td>\n",
       "      <td>0.003658</td>\n",
       "      <td>0</td>\n",
       "      <td>0</td>\n",
       "      <td>37</td>\n",
       "      <td>37</td>\n",
       "    </tr>\n",
       "    <tr>\n",
       "      <th>1</th>\n",
       "      <td>29</td>\n",
       "      <td>2.5</td>\n",
       "      <td>1401.125120</td>\n",
       "      <td>1210.376311</td>\n",
       "      <td>1852.769939</td>\n",
       "      <td>1880.745158</td>\n",
       "      <td>1506.211127</td>\n",
       "      <td>1878.700347</td>\n",
       "      <td>0.002212</td>\n",
       "      <td>0.003009</td>\n",
       "      <td>0.984949</td>\n",
       "      <td>1.595162</td>\n",
       "      <td>1.181157e-08</td>\n",
       "      <td>6.594803e-07</td>\n",
       "      <td>0.005302</td>\n",
       "      <td>0.033907</td>\n",
       "      <td>0</td>\n",
       "      <td>2</td>\n",
       "      <td>46</td>\n",
       "      <td>46</td>\n",
       "    </tr>\n",
       "  </tbody>\n",
       "</table>\n",
       "</div>"
      ],
      "text/plain": [
       "   packnr  velocity  centroid_frequency_G01  centroid_frequency2_G01  \\\n",
       "0      36       2.4             2093.635581              1986.847670   \n",
       "1      29       2.5             1401.125120              1210.376311   \n",
       "\n",
       "   centroid_frequency_G02  centroid_frequency2_G02  median_freq_G01  \\\n",
       "0             1331.195151               852.546891      2021.281643   \n",
       "1             1852.769939              1880.745158      1506.211127   \n",
       "\n",
       "   median_freq_G02  flash_ind_G01  flash_ind_G02    cv_G01    cv_G02  \\\n",
       "0       958.368431       0.002196       0.003504  0.836058  1.065685   \n",
       "1      1878.700347       0.002212       0.003009  0.984949  1.595162   \n",
       "\n",
       "        iqa_G01       iqa_G02   mab_G01   mab_G02  imp_G01  imp_G02  len_G01  \\\n",
       "0  2.808968e-07  1.785572e-08  0.021330  0.003658        0        0       37   \n",
       "1  1.181157e-08  6.594803e-07  0.005302  0.033907        0        2       46   \n",
       "\n",
       "   len_G02  \n",
       "0       37  \n",
       "1       46  "
      ]
     },
     "execution_count": 4,
     "metadata": {},
     "output_type": "execute_result"
    }
   ],
   "source": [
    "data = data.sample(frac=1, random_state=42).reset_index(drop=True)\n",
    "X,y = data[feature_cols], data['size_mm']\n",
    "X.head(2)"
   ]
  },
  {
   "cell_type": "code",
   "execution_count": 5,
   "id": "05fc5f3e-e631-41b3-b604-fbc0d0861315",
   "metadata": {},
   "outputs": [
    {
     "data": {
      "text/plain": [
       "(52463, 22)"
      ]
     },
     "execution_count": 5,
     "metadata": {},
     "output_type": "execute_result"
    }
   ],
   "source": [
    "data.shape"
   ]
  },
  {
   "cell_type": "markdown",
   "id": "e89f1e78-ae51-40d5-b8cf-bee0d625c760",
   "metadata": {},
   "source": [
    "## Select Best Feature for Benchmark"
   ]
  },
  {
   "cell_type": "code",
   "execution_count": 20,
   "id": "2c7ab6b7-d1a7-4a8a-baa0-adee8b7e19d0",
   "metadata": {},
   "outputs": [],
   "source": [
    "from sklearn.metrics import r2_score\n",
    "from sklearn.feature_selection import SequentialFeatureSelector"
   ]
  },
  {
   "cell_type": "code",
   "execution_count": 21,
   "id": "6585f3ca-f9d5-479f-9213-8f2fb6197da8",
   "metadata": {},
   "outputs": [
    {
     "name": "stderr",
     "output_type": "stream",
     "text": [
      "100%|██████████| 10/10 [00:21<00:00,  2.17s/it]\n"
     ]
    }
   ],
   "source": [
    "best_feature_dict = {}\n",
    "best_feature_cvscores = {}\n",
    "for n_features in tqdm(np.arange(1,10+1)):\n",
    "    select = SequentialFeatureSelector(estimator=LinearRegression(), \n",
    "                                       n_features_to_select=n_features, \n",
    "                                       direction='forward', \n",
    "                                       scoring='r2')\n",
    "    select.fit(X, np.log(y))\n",
    "    best_col = X.columns.to_numpy()[select.get_support()]\n",
    "    best_feature_dict[n_features] = best_col\n",
    "    best_feature_cvscores[n_features] = cross_val_score(estimator=LinearRegression(),\n",
    "                                                        X=X[best_col], \n",
    "                                                        y=np.log(y), cv=10, \n",
    "                                                        scoring='r2')"
   ]
  },
  {
   "cell_type": "code",
   "execution_count": 22,
   "id": "49ae0b9e-17f1-4adb-9bbd-a4cb64baeb40",
   "metadata": {},
   "outputs": [
    {
     "data": {
      "text/html": [
       "<div>\n",
       "<style scoped>\n",
       "    .dataframe tbody tr th:only-of-type {\n",
       "        vertical-align: middle;\n",
       "    }\n",
       "\n",
       "    .dataframe tbody tr th {\n",
       "        vertical-align: top;\n",
       "    }\n",
       "\n",
       "    .dataframe thead th {\n",
       "        text-align: right;\n",
       "    }\n",
       "</style>\n",
       "<table border=\"1\" class=\"dataframe\">\n",
       "  <thead>\n",
       "    <tr style=\"text-align: right;\">\n",
       "      <th></th>\n",
       "      <th>n_feature</th>\n",
       "      <th>score</th>\n",
       "    </tr>\n",
       "  </thead>\n",
       "  <tbody>\n",
       "    <tr>\n",
       "      <th>0</th>\n",
       "      <td>1</td>\n",
       "      <td>0.606936</td>\n",
       "    </tr>\n",
       "    <tr>\n",
       "      <th>1</th>\n",
       "      <td>1</td>\n",
       "      <td>0.593029</td>\n",
       "    </tr>\n",
       "  </tbody>\n",
       "</table>\n",
       "</div>"
      ],
      "text/plain": [
       "   n_feature     score\n",
       "0          1  0.606936\n",
       "1          1  0.593029"
      ]
     },
     "execution_count": 22,
     "metadata": {},
     "output_type": "execute_result"
    }
   ],
   "source": [
    "tmp = pd.melt(pd.DataFrame.from_dict(best_feature_cvscores), var_name='n_feature', value_name='score')\n",
    "tmp['score'] = np.abs(tmp['score'])\n",
    "tmp.head(2)"
   ]
  },
  {
   "cell_type": "code",
   "execution_count": 23,
   "id": "cb098462-259d-4ea5-b524-6f0a64d9d6a0",
   "metadata": {},
   "outputs": [],
   "source": [
    "tmp_ = tmp.groupby('n_feature').mean()"
   ]
  },
  {
   "cell_type": "code",
   "execution_count": 24,
   "id": "6252b631-5e72-4c1c-837c-a54736aaf6ea",
   "metadata": {},
   "outputs": [
    {
     "data": {
      "image/png": "[encoded data removed]",
      "text/plain": [
       "<Figure size 864x360 with 1 Axes>"
      ]
     },
     "metadata": {
      "needs_background": "light"
     },
     "output_type": "display_data"
    }
   ],
   "source": [
    "fig = plt.subplots(figsize=(12, 5))\n",
    "p = sns.boxplot(x=tmp['n_feature'], y=tmp['score'], color='grey')\n",
    "p1 = sns.lineplot(x=tmp_.index-1, y=tmp_.to_numpy().reshape(-1), color='maroon', \n",
    "                  linestyle='--', label='Mean', alpha=.8)\n",
    "plt.title(r'Model: Linear Regression / Cross-Validation: 10 / Criterion: R2', fontsize=10)\n",
    "plt.suptitle('Forward Stagewise Sequential Feature Selection Results', fontsize=13)\n",
    "plt.xlabel('N Features')\n",
    "plt.ylabel(r'R2')\n",
    "sns.despine()\n",
    "plt.show()"
   ]
  },
  {
   "cell_type": "code",
   "execution_count": 65,
   "id": "09e09a6a-696c-4997-afbd-3ca9929011dd",
   "metadata": {},
   "outputs": [
    {
     "data": {
      "text/plain": [
       "array(['max_centroid_frequency_G', 'max_flash_ind_G', 'max_mab_G',\n",
       "       'max_imp_G'], dtype=object)"
      ]
     },
     "execution_count": 65,
     "metadata": {},
     "output_type": "execute_result"
    }
   ],
   "source": [
    "n_features = 4\n",
    "best_feature_dict[n_features]"
   ]
  },
  {
   "cell_type": "code",
   "execution_count": 66,
   "id": "6facb472-5761-4b17-9f31-be4643d0bc8e",
   "metadata": {},
   "outputs": [],
   "source": [
    "X_best = X[best_feature_dict[n_features]]"
   ]
  },
  {
   "cell_type": "markdown",
   "id": "ee90a874-5104-49a3-86b7-ecad9b2b7e77",
   "metadata": {},
   "source": [
    "## Hyperparameter "
   ]
  },
  {
   "cell_type": "code",
   "execution_count": 67,
   "id": "1e514f11-af85-4f29-b666-b32588682c5a",
   "metadata": {},
   "outputs": [],
   "source": [
    "from sklearn.linear_model import LinearRegression"
   ]
  },
  {
   "cell_type": "code",
   "execution_count": 68,
   "id": "c5631354-97c6-485f-aff2-269682f605b3",
   "metadata": {},
   "outputs": [
    {
     "name": "stdout",
     "output_type": "stream",
     "text": [
      "CV Results:\n",
      " [0.7540569  0.74908194 0.74471077 0.7553984  0.753966   0.75314603\n",
      " 0.73986743 0.75170155 0.75135686 0.74049804]\n",
      "Mean Resutls:  0.7493783936436577\n"
     ]
    }
   ],
   "source": [
    "results = cross_val_score(estimator=LinearRegression(), X=X_best, y=np.log(y), cv=10)\n",
    "print('CV Results:\\n', results)\n",
    "print('Mean Resutls: ', np.mean(results))"
   ]
  },
  {
   "cell_type": "code",
   "execution_count": null,
   "id": "34c330d2-1fee-41d8-bb8a-734ac9fa14af",
   "metadata": {},
   "outputs": [],
   "source": []
  },
  {
   "cell_type": "markdown",
   "id": "2fbc2835-dd53-4347-9df5-207c04628978",
   "metadata": {},
   "source": [
    "## With Max-Feature"
   ]
  },
  {
   "cell_type": "code",
   "execution_count": 6,
   "id": "635288ac-3010-408f-a4a1-3028647883bd",
   "metadata": {},
   "outputs": [],
   "source": [
    "from helper.feature_extract import extract_highest_amplitude_features_with_mp"
   ]
  },
  {
   "cell_type": "code",
   "execution_count": 7,
   "id": "e8f8306e-030a-4cd5-a7ea-d5b59f6824bf",
   "metadata": {},
   "outputs": [
    {
     "name": "stdout",
     "output_type": "stream",
     "text": [
      "INFO || Extracting Max Features for types: ['G01', 'G02']\n"
     ]
    }
   ],
   "source": [
    "df_max = extract_highest_amplitude_features_with_mp(df=data, sensor_types=[['G01', 'G02']],\n",
    "                                                  create_one_sensor_feature=True, n_processes=4, \n",
    "                                                  keep_columns=False)"
   ]
  },
  {
   "cell_type": "code",
   "execution_count": 8,
   "id": "ce8cc50f-e840-472e-b97d-f984be0375e9",
   "metadata": {},
   "outputs": [],
   "source": [
    "feature_cols = df_max.columns.to_list()\n",
    "feature_cols.remove('size_mm')\n",
    "feature_cols.remove('start_time')"
   ]
  },
  {
   "cell_type": "code",
   "execution_count": 9,
   "id": "97cc5182-4472-4371-adf2-7539059b4f2e",
   "metadata": {},
   "outputs": [
    {
     "data": {
      "text/html": [
       "<div>\n",
       "<style scoped>\n",
       "    .dataframe tbody tr th:only-of-type {\n",
       "        vertical-align: middle;\n",
       "    }\n",
       "\n",
       "    .dataframe tbody tr th {\n",
       "        vertical-align: top;\n",
       "    }\n",
       "\n",
       "    .dataframe thead th {\n",
       "        text-align: right;\n",
       "    }\n",
       "</style>\n",
       "<table border=\"1\" class=\"dataframe\">\n",
       "  <thead>\n",
       "    <tr style=\"text-align: right;\">\n",
       "      <th></th>\n",
       "      <th>packnr</th>\n",
       "      <th>velocity</th>\n",
       "      <th>max_centroid_frequency_G</th>\n",
       "      <th>max_centroid_frequency2_G</th>\n",
       "      <th>max_median_freq_G</th>\n",
       "      <th>max_flash_ind_G</th>\n",
       "      <th>max_cv_G</th>\n",
       "      <th>max_iqa_G</th>\n",
       "      <th>max_mab_G</th>\n",
       "      <th>max_imp_G</th>\n",
       "      <th>max_len_G</th>\n",
       "    </tr>\n",
       "  </thead>\n",
       "  <tbody>\n",
       "    <tr>\n",
       "      <th>0</th>\n",
       "      <td>36</td>\n",
       "      <td>2.4</td>\n",
       "      <td>2093.635581</td>\n",
       "      <td>1986.847670</td>\n",
       "      <td>2021.281643</td>\n",
       "      <td>0.002196</td>\n",
       "      <td>0.836058</td>\n",
       "      <td>2.808968e-07</td>\n",
       "      <td>0.021330</td>\n",
       "      <td>0</td>\n",
       "      <td>37</td>\n",
       "    </tr>\n",
       "    <tr>\n",
       "      <th>1</th>\n",
       "      <td>29</td>\n",
       "      <td>2.5</td>\n",
       "      <td>1852.769939</td>\n",
       "      <td>1880.745158</td>\n",
       "      <td>1878.700347</td>\n",
       "      <td>0.003009</td>\n",
       "      <td>1.595162</td>\n",
       "      <td>6.594803e-07</td>\n",
       "      <td>0.033907</td>\n",
       "      <td>2</td>\n",
       "      <td>46</td>\n",
       "    </tr>\n",
       "  </tbody>\n",
       "</table>\n",
       "</div>"
      ],
      "text/plain": [
       "   packnr  velocity  max_centroid_frequency_G  max_centroid_frequency2_G  \\\n",
       "0      36       2.4               2093.635581                1986.847670   \n",
       "1      29       2.5               1852.769939                1880.745158   \n",
       "\n",
       "   max_median_freq_G  max_flash_ind_G  max_cv_G     max_iqa_G  max_mab_G  \\\n",
       "0        2021.281643         0.002196  0.836058  2.808968e-07   0.021330   \n",
       "1        1878.700347         0.003009  1.595162  6.594803e-07   0.033907   \n",
       "\n",
       "   max_imp_G  max_len_G  \n",
       "0          0         37  \n",
       "1          2         46  "
      ]
     },
     "execution_count": 9,
     "metadata": {},
     "output_type": "execute_result"
    }
   ],
   "source": [
    "X,y = df_max[feature_cols], df_max['size_mm']\n",
    "X.head(2)"
   ]
  },
  {
   "cell_type": "code",
   "execution_count": 10,
   "id": "cf1d19c7-5aa8-4d81-9216-016b4f5664fd",
   "metadata": {},
   "outputs": [
    {
     "data": {
      "text/plain": [
       "(52463, 13)"
      ]
     },
     "execution_count": 10,
     "metadata": {},
     "output_type": "execute_result"
    }
   ],
   "source": [
    "df_max.shape"
   ]
  },
  {
   "cell_type": "code",
   "execution_count": 53,
   "id": "a5b816cc-a73a-4c39-8e07-38c8c09bb1d5",
   "metadata": {},
   "outputs": [
    {
     "name": "stderr",
     "output_type": "stream",
     "text": [
      "100%|██████████| 10/10 [00:09<00:00,  1.03it/s]\n"
     ]
    }
   ],
   "source": [
    "best_feature_dict = {}\n",
    "best_feature_cvscores = {}\n",
    "for n_features in tqdm(np.arange(1,10+1)):\n",
    "    select = SequentialFeatureSelector(estimator=LinearRegression(), \n",
    "                                       n_features_to_select=n_features, \n",
    "                                       direction='forward', \n",
    "                                       scoring='r2')\n",
    "    select.fit(X, np.log(y))\n",
    "    best_col = X.columns.to_numpy()[select.get_support()]\n",
    "    best_feature_dict[n_features] = best_col\n",
    "    best_feature_cvscores[n_features] = cross_val_score(estimator=LinearRegression(),\n",
    "                                                        X=X[best_col], \n",
    "                                                        y=np.log(y), cv=10, \n",
    "                                                        scoring='r2')"
   ]
  },
  {
   "cell_type": "code",
   "execution_count": 54,
   "id": "5d492118-fc81-40cb-91fe-d5e4433bcee1",
   "metadata": {},
   "outputs": [],
   "source": [
    "tmp = pd.melt(pd.DataFrame.from_dict(best_feature_cvscores), var_name='n_feature', value_name='score')\n",
    "tmp['score'] = np.abs(tmp['score'])\n",
    "tmp_ = tmp.groupby('n_feature').mean()"
   ]
  },
  {
   "cell_type": "code",
   "execution_count": 55,
   "id": "5559889d-b803-4e3e-b679-a162b1cc0db9",
   "metadata": {},
   "outputs": [
    {
     "data": {
      "image/png": "[encoded data removed]",
      "text/plain": [
       "<Figure size 864x360 with 1 Axes>"
      ]
     },
     "metadata": {
      "needs_background": "light"
     },
     "output_type": "display_data"
    }
   ],
   "source": [
    "fig = plt.subplots(figsize=(12, 5))\n",
    "p = sns.boxplot(x=tmp['n_feature'], y=tmp['score'], color='grey')\n",
    "p1 = sns.lineplot(x=tmp_.index-1, y=tmp_.to_numpy().reshape(-1), color='maroon', \n",
    "                  linestyle='--', label='Mean', alpha=.8)\n",
    "plt.title(r'Model: Linear Regression / Cross-Validation: 10 / Criterion: R2', fontsize=10)\n",
    "plt.suptitle('Forward Stagewise Sequential Feature Selection Results', fontsize=13)\n",
    "plt.xlabel('N Features')\n",
    "plt.ylabel(r'R2')\n",
    "sns.despine()\n",
    "plt.show()"
   ]
  },
  {
   "cell_type": "code",
   "execution_count": 69,
   "id": "5abeedb9-7ac3-4ea5-8559-538e9494db65",
   "metadata": {},
   "outputs": [
    {
     "data": {
      "text/plain": [
       "array(['max_centroid_frequency_G', 'max_flash_ind_G', 'max_imp_G'],\n",
       "      dtype=object)"
      ]
     },
     "execution_count": 69,
     "metadata": {},
     "output_type": "execute_result"
    }
   ],
   "source": [
    "n_features = 3\n",
    "best_feature_dict[n_features]"
   ]
  },
  {
   "cell_type": "code",
   "execution_count": 70,
   "id": "89215595-f349-4d7a-be50-c8844a18fe93",
   "metadata": {},
   "outputs": [],
   "source": [
    "X_best = X[best_feature_dict[n_features]]"
   ]
  },
  {
   "cell_type": "code",
   "execution_count": 71,
   "id": "cfecb420-c193-4bf9-b636-969d698966fc",
   "metadata": {},
   "outputs": [
    {
     "name": "stdout",
     "output_type": "stream",
     "text": [
      "CV Results:\n",
      " [0.75037323 0.7480023  0.74174721 0.75272947 0.75194675 0.75200336\n",
      " 0.73701453 0.74954223 0.74912934 0.73658604]\n",
      "Mean Resutls:  0.7469074451081681\n"
     ]
    }
   ],
   "source": [
    "results = cross_val_score(estimator=LinearRegression(), X=X_best, y=np.log(y), cv=10)\n",
    "print('CV Results:\\n', results)\n",
    "print('Mean Resutls: ', np.mean(results))"
   ]
  },
  {
   "cell_type": "code",
   "execution_count": null,
   "id": "882901a1-e111-4f46-ae20-9a9ed26b524c",
   "metadata": {},
   "outputs": [],
   "source": []
  },
  {
   "cell_type": "code",
   "execution_count": null,
   "id": "ad026443-3cea-4f7b-a260-c5e1b601e616",
   "metadata": {},
   "outputs": [],
   "source": []
  }
 ],
 "metadata": {
  "kernelspec": {
   "display_name": "Python 3",
   "language": "python",
   "name": "python3"
  },
  "language_info": {
   "codemirror_mode": {
    "name": "ipython",
    "version": 3
   },
   "file_extension": ".py",
   "mimetype": "text/x-python",
   "name": "python",
   "nbconvert_exporter": "python",
   "pygments_lexer": "ipython3",
   "version": "3.8.8"
  }
 },
 "nbformat": 4,
 "nbformat_minor": 5
}
