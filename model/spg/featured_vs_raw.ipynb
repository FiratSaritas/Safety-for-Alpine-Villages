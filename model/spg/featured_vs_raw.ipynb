{
 "cells": [
  {
   "cell_type": "code",
   "execution_count": 1,
   "id": "e21a8f63-9de2-4f96-82ef-e745c6e5d0ac",
   "metadata": {},
   "outputs": [],
   "source": [
    "import pandas as pd\n",
    "import numpy as np\n",
    "import sys\n",
    "sys.path.append('../..')\n",
    "from helper.lazy_regression import TooLazyForRegression\n",
    "from helper.feature_extract import extract_highest_amplitude_features_with_mp\n",
    "import xgboost as xgb\n",
    "from sklearn.metrics import r2_score\n",
    "from sklearn.model_selection import train_test_split\n",
    "from sklearn.model_selection import cross_val_score\n",
    "from scipy.stats import boxcox\n",
    "from scipy.special import inv_boxcox\n",
    "from scipy.stats import yeojohnson\n",
    "import seaborn as sns\n",
    "import matplotlib.pyplot as plt"
   ]
  },
  {
   "cell_type": "code",
   "execution_count": null,
   "id": "3991b239-09db-4d38-969f-5f3bbae3d852",
   "metadata": {},
   "outputs": [],
   "source": []
  },
  {
   "cell_type": "markdown",
   "id": "9f82157a-694f-496a-9f4b-82c95fdd4c21",
   "metadata": {},
   "source": [
    "### featured data:"
   ]
  },
  {
   "cell_type": "code",
   "execution_count": 267,
   "id": "df029e44-6f47-4e24-a636-9aba4d7657e9",
   "metadata": {},
   "outputs": [
    {
     "name": "stdout",
     "output_type": "stream",
     "text": [
      "INFO || Extracting Max Features for types: ['G01', 'G02']\n"
     ]
    }
   ],
   "source": [
    "df_spg = pd.read_table('../../data/data_spg.txt', sep=' ')\n",
    "df_spg = extract_highest_amplitude_features_with_mp(df=df_spg, create_one_sensor_feature=True, n_processes=4, keep_columns=False,verbose=False)\n",
    "df_spg = df_spg[df_spg['start_time'].str.contains('2021')]\n",
    "df_spg = df_spg.drop([\"start_time\",\"packnr\",\"velocity\"], axis=1)"
   ]
  },
  {
   "cell_type": "code",
   "execution_count": 268,
   "id": "beabc357-16ae-41ee-aeef-8c3fcc73edc0",
   "metadata": {},
   "outputs": [],
   "source": [
    "X, y = df_spg.drop(['size_mm'], axis=1), df_spg['size_mm']\n",
    "y =y.astype(np.str)\n",
    "X_train, X_test, y_train, y_test = train_test_split(X,y, test_size=0.2, random_state = 102)"
   ]
  },
  {
   "cell_type": "code",
   "execution_count": 269,
   "id": "fae4bfbe-b587-4fc3-91c4-70c8da5253fb",
   "metadata": {},
   "outputs": [],
   "source": [
    "X, y = df_spg.drop(['size_mm'], axis=1), df_spg['size_mm']\n",
    "scores = []\n",
    "for i in range(10):\n",
    "    X_train, X_test, y_train, y_test = train_test_split(X,y, test_size=0.1)\n",
    "    model= xgb.XGBRegressor()\n",
    "    model.fit(X_train, y_train)\n",
    "    y_pred = model.predict(X_test)\n",
    "    r2 = r2_score(y_pred,y_test)\n",
    "    scores.append(r2)"
   ]
  },
  {
   "cell_type": "code",
   "execution_count": 270,
   "id": "efd19ffe-3de1-4436-9315-aa98c9993f99",
   "metadata": {},
   "outputs": [
    {
     "data": {
      "text/plain": [
       "0.7008319514443808"
      ]
     },
     "execution_count": 270,
     "metadata": {},
     "output_type": "execute_result"
    }
   ],
   "source": [
    "np.mean(scores)"
   ]
  },
  {
   "cell_type": "markdown",
   "id": "02e6bacd-d28a-4eb2-943a-0804c05b709b",
   "metadata": {},
   "source": [
    "## raw data:"
   ]
  },
  {
   "cell_type": "code",
   "execution_count": 2,
   "id": "513cb9a0-377d-4122-89e3-04b58a6d1654",
   "metadata": {},
   "outputs": [],
   "source": [
    "data_raw_spg = \"../../data/raw_packets_obernach_GP_0.02_2510.vlnd\"\n",
    "df_spg = pd.read_table('../../data/data_spg.txt', sep=' ')"
   ]
  },
  {
   "cell_type": "code",
   "execution_count": 3,
   "id": "36e004c1-360c-484c-beeb-1d67fc9c96cd",
   "metadata": {},
   "outputs": [],
   "source": [
    "def df_coverter(data):\n",
    "    with open(data) as f:\n",
    "        lines = f.readlines()\n",
    "    raw = pd.DataFrame(lines) \n",
    "    df = raw[0].str.split(' ', expand=True)\n",
    "    return df"
   ]
  },
  {
   "cell_type": "code",
   "execution_count": 7,
   "id": "37c4c6eb-12ff-42b6-95cf-a37a755ce79e",
   "metadata": {},
   "outputs": [],
   "source": [
    "df_raw_spg = df_coverter(data_raw_spg)"
   ]
  },
  {
   "cell_type": "code",
   "execution_count": 8,
   "id": "ff7c668a-1b9c-4cab-b1cf-944e34847230",
   "metadata": {},
   "outputs": [],
   "source": [
    "df_spg[\"start_time\"] = df_spg[\"start_time\"] + \" \" + df_spg[\"packnr\"].astype(str)"
   ]
  },
  {
   "cell_type": "code",
   "execution_count": 9,
   "id": "d66bc23b-a382-4ffa-b281-d10575b5b24b",
   "metadata": {},
   "outputs": [],
   "source": [
    "df_raw_spg[\"start_time\"] = df_raw_spg[0] + \" \" + df_raw_spg[1] + \" \" + df_raw_spg[2]"
   ]
  },
  {
   "cell_type": "code",
   "execution_count": 14,
   "id": "189b7c23-d94a-4e32-aa81-0cdb2debdb13",
   "metadata": {},
   "outputs": [],
   "source": [
    "new_raw_data = pd.merge(df_spg,df_raw_spg,on='start_time',how='left')"
   ]
  },
  {
   "cell_type": "code",
   "execution_count": 247,
   "id": "2b8e5dd8-76a5-44ca-ba9e-6741dcd5739e",
   "metadata": {},
   "outputs": [],
   "source": [
    "new_raw_data = new_raw_data[new_raw_data['start_time'].str.contains('2021')]"
   ]
  },
  {
   "cell_type": "code",
   "execution_count": 248,
   "id": "049a4100-5e02-40b7-a654-a62c5da06405",
   "metadata": {},
   "outputs": [],
   "source": [
    "new_raw_data = new_raw_data.drop([[\"start_time\",\"packnr\",\"velocity\"]], axis=1)"
   ]
  },
  {
   "cell_type": "code",
   "execution_count": 249,
   "id": "400c7a5c-5c14-4186-9079-bbfa505a1efb",
   "metadata": {
    "tags": []
   },
   "outputs": [],
   "source": [
    "new_raw_data = new_raw_data.drop([0,1,2,3], axis=1)"
   ]
  },
  {
   "cell_type": "code",
   "execution_count": 250,
   "id": "575c56b6-7179-43cf-92d7-1107b69e8deb",
   "metadata": {
    "tags": []
   },
   "outputs": [],
   "source": [
    "new_raw_data.iloc[:, :] = new_raw_data.iloc[:, :].astype(\"float\")"
   ]
  },
  {
   "cell_type": "code",
   "execution_count": 264,
   "id": "b75b817d-1418-41f5-b350-f9089ee1d3cc",
   "metadata": {},
   "outputs": [],
   "source": [
    "X, y = new_raw_data.drop(['size_mm'], axis=1), new_raw_data['size_mm']\n",
    "scores = []\n",
    "for i in range(10):\n",
    "    X_train, X_test, y_train, y_test = train_test_split(X,y, test_size=0.1)\n",
    "    model= xgb.XGBRegressor()\n",
    "    model.fit(X_train, y_train)\n",
    "    y_pred = model.predict(X_test)\n",
    "    r2 = r2_score(y_pred,y_test)\n",
    "    scores.append(r2)"
   ]
  },
  {
   "cell_type": "code",
   "execution_count": 265,
   "id": "90bab9a1-412b-45f3-b9b1-5067f838243d",
   "metadata": {},
   "outputs": [
    {
     "data": {
      "text/plain": [
       "0.7539972002623017"
      ]
     },
     "execution_count": 265,
     "metadata": {},
     "output_type": "execute_result"
    }
   ],
   "source": [
    "np.mean(scores)"
   ]
  },
  {
   "cell_type": "markdown",
   "id": "60137a37-3c7c-4cfc-89ed-4bcce77e4eae",
   "metadata": {},
   "source": [
    "### Fazit\n",
    "\n",
    "Das vorbereitete Datensatz inklusiv mit den Rohdaten schneidet sehr gut ab und ist besser."
   ]
  }
 ],
 "metadata": {
  "kernelspec": {
   "display_name": "Python 3",
   "language": "python",
   "name": "python3"
  },
  "language_info": {
   "codemirror_mode": {
    "name": "ipython",
    "version": 3
   },
   "file_extension": ".py",
   "mimetype": "text/x-python",
   "name": "python",
   "nbconvert_exporter": "python",
   "pygments_lexer": "ipython3",
   "version": "3.8.8"
  }
 },
 "nbformat": 4,
 "nbformat_minor": 5
}
