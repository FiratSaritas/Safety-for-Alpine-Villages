{
 "cells": [
  {
   "cell_type": "code",
   "execution_count": 10,
   "id": "524a8b24-d414-4a18-9e35-7398f820c77d",
   "metadata": {},
   "outputs": [],
   "source": [
    "import pandas as pd\n",
    "import numpy as np\n",
    "import seaborn as sns\n",
    "import matplotlib.pyplot as plt\n",
    "from tqdm import tqdm\n",
    "import pickle\n",
    "import yaml\n",
    "import sys\n",
    "sys.path.append('..')\n",
    "import os\n",
    "import yaml\n",
    "import datetime as dt\n",
    "from multiprocessing import Pool\n",
    "from feature_extract import extract_highest_amplitude_features_with_mp, get_all_sensors_in_df, feature_extractor_wrapper\n",
    "from plot import plot_residuals, plot_error_per_cat\n",
    "from catboost import CatBoostRegressor\n",
    "import optuna\n",
    "\n",
    "from sklearn.metrics import r2_score, mean_absolute_percentage_error\n",
    "from sklearn.base import TransformerMixin, BaseEstimator\n",
    "from sklearn.model_selection import cross_val_score\n",
    "from sklearn.pipeline import Pipeline\n",
    "from sklearn.model_selection import train_test_split\n",
    "from sklearn.preprocessing import PowerTransformer\n",
    "\n",
    "from IPython.display import HTML\n",
    "pd.set_option(\"display.max_columns\", 100)\n",
    "import plotly.express as px"
   ]
  },
  {
   "cell_type": "markdown",
   "id": "8d2b54df-c8b1-4464-b732-930dab8c4208",
   "metadata": {},
   "source": [
    "# Helper Functions"
   ]
  },
  {
   "cell_type": "code",
   "execution_count": 12,
   "id": "cacf2f5e-e894-44a8-a1f2-14d65e1d72b1",
   "metadata": {},
   "outputs": [],
   "source": [
    "class OutlierFeatureAdder(TransformerMixin, BaseEstimator):\n",
    "    \"\"\"Wrapper Class for Sklearn Pipeline\"\"\"\n",
    "    def __init__(self):\n",
    "        \"\"\"Adds Outlier feature column\"\"\"\n",
    "        super().__init__()\n",
    "        self.mean = None\n",
    "        self.std = None\n",
    "\n",
    "    def fit(self, X: pd.DataFrame, y=None):\n",
    "        _ = self.add_outlier_feature_length(X)\n",
    "\n",
    "        return self\n",
    "\n",
    "    def fit_transform(self, X: pd.DataFrame, y=None) -> pd.DataFrame:\n",
    "        self.fit(X)\n",
    "        X = self.transform(X)\n",
    "\n",
    "        return X\n",
    "\n",
    "    def transform(self, X: pd.DataFrame, y=None) -> pd.DataFrame:\n",
    "        X = X.copy()\n",
    "        X.loc[:, ('outlier')] = self.add_outlier_feature_length(X)\n",
    "\n",
    "        return X\n",
    "\n",
    "        # Preprocessing functions\n",
    "\n",
    "    def add_outlier_feature_length(self, df: pd.DataFrame) -> pd.DataFrame:\n",
    "        \"\"\"Adds new Feature declaring outliers\"\"\"\n",
    "        # Calculate prediction for outlier\n",
    "        max_len_col = [col for col in df.columns if 'max_len' in col][0]\n",
    "        length_transformed = np.log(df[max_len_col])\n",
    "        if not self.mean:\n",
    "            self.mean = np.mean(length_transformed)\n",
    "            self.std = np.std(length_transformed)\n",
    "\n",
    "        length_transformed = (length_transformed - self.mean) / self.std\n",
    "        outlier_prediction = length_transformed > 3\n",
    "\n",
    "        return outlier_prediction.to_numpy()"
   ]
  },
  {
   "cell_type": "markdown",
   "id": "6043efc5-3300-408b-841c-6ae30419dfde",
   "metadata": {},
   "source": [
    "# Train Models on 2021"
   ]
  },
  {
   "cell_type": "code",
   "execution_count": 30,
   "id": "1c391a1c-909f-4df4-8ff8-19848b963d6d",
   "metadata": {},
   "outputs": [],
   "source": [
    "with open('config.yaml', 'r') as yaml_file:\n",
    "    config = yaml.load(yaml_file, yaml.FullLoader)"
   ]
  },
  {
   "cell_type": "markdown",
   "id": "24211506-badf-4556-9ea0-6bb9c7b97c9d",
   "metadata": {},
   "source": [
    "## MPA Simple\n",
    " \n"
   ]
  },
  {
   "cell_type": "code",
   "execution_count": 47,
   "id": "a7ba5466-b420-4adf-a430-436e17d6c23d",
   "metadata": {},
   "outputs": [],
   "source": [
    "def _load_model(model_path):\n",
    "    model_path = '../models/mpa/mpa_catboost_simple.pkl'  \n",
    "    with open(model_path, 'rb') as pkl_file:\n",
    "        model = pickle.load(pkl_file)\n",
    "        print(model)\n",
    "    \n",
    "    return model\n",
    "        \n",
    "def _load_train_test(train_data_path, test_data_path):\n",
    "    train_data = pd.read_csv(train_data_path, sep=' ')\n",
    "    test_data = pd.read_csv(test_data_path, sep=' ')\n",
    "    drop_columns = ['start_time', 'packnr', 'velocity', 'size_mm']\n",
    "    X_train, y_train = train_data.drop(drop_columns, axis=1), train_data['size_mm']\n",
    "    X_test, y_test = test_data.drop(drop_columns, axis=1), test_data['size_mm']\n",
    "    print('Data Loaded')\n",
    "    test_data = test_data[drop_columns]\n",
    "    \n",
    "    return X_train, X_test, y_train, y_test, test_data\n",
    "\n",
    "def _check_features(X_train, X_test, features_from_yaml):\n",
    "    assert all([True if feature in X_train.columns else False for feature in features_from_yaml])\n",
    "    assert all([True if feature in X_test.columns else False for feature in features_from_yaml])\n",
    "    print('Test successfull, Features are present.')\n",
    "    \n",
    "def prediction_wrapper(model_path, train_data_path, test_data_path, check_features, save_predictions_path):\n",
    "    model = _load_model(model_path=model_path)\n",
    "    X_train, X_test, y_train, y_test, test_data = _load_train_test(train_data_path=train_data_path, \n",
    "                                                                   test_data_path=test_data_path)\n",
    "    _check_features(X_train, X_test, features_from_yaml=check_features)\n",
    "    print('Fitting Model')\n",
    "    model.fit(X_train, y_train)\n",
    "    predictions = model.predict(X_test)\n",
    "    test_data['predictions'] = predictions\n",
    "    test_data.to_csv(save_predictions_path, index=False, sep=' ')\n",
    "    print('Process Finished')"
   ]
  },
  {
   "cell_type": "markdown",
   "id": "684a54f7-843c-40d1-9032-a0d4b598d9e6",
   "metadata": {},
   "source": [
    "## MPA Simple"
   ]
  },
  {
   "cell_type": "code",
   "execution_count": 48,
   "id": "7c9dea95-4dda-4f42-acd4-1ab493b3d18e",
   "metadata": {},
   "outputs": [
    {
     "name": "stdout",
     "output_type": "stream",
     "text": [
      "Pipeline(steps=[('outlier_feature', OutlierFeatureAdder()),\n",
      "                ('power_transform', PowerTransformer()),\n",
      "                ('cat_boost',\n",
      "                 <catboost.core.CatBoostRegressor object at 0x7fd864362b50>)])\n",
      "Data Loaded\n",
      "Test successfull, Features are present.\n",
      "Process Finished\n"
     ]
    }
   ],
   "source": [
    "prediction_wrapper(model_path='../models/mpa/mpa_catboost_simple.pkl'  , train_data_path='../data/compare2021/train/2021_data_max_mpa.csv',\n",
    "                   test_data_path='../data/compare2021/test/2021_data_max_mpa.csv', check_features=config['_features']['simple']['mpa'],\n",
    "                   save_predictions_path='./predictions/mpa_simple.csv')"
   ]
  },
  {
   "cell_type": "markdown",
   "id": "a4ab7d04-19a1-4b0c-af01-5594979a6d2e",
   "metadata": {},
   "source": [
    "## MPA Complex\n",
    " \n"
   ]
  },
  {
   "cell_type": "code",
   "execution_count": 49,
   "id": "027abf5a-edfe-4f45-a99a-785c5002b10f",
   "metadata": {},
   "outputs": [
    {
     "name": "stdout",
     "output_type": "stream",
     "text": [
      "Pipeline(steps=[('outlier_feature', OutlierFeatureAdder()),\n",
      "                ('power_transform', PowerTransformer()),\n",
      "                ('cat_boost',\n",
      "                 <catboost.core.CatBoostRegressor object at 0x7fd864362cd0>)])\n",
      "Data Loaded\n",
      "Test successfull, Features are present.\n",
      "Process Finished\n"
     ]
    }
   ],
   "source": [
    "prediction_wrapper(model_path='../models/mpa/mpa_catboost_complex.pkl'  , train_data_path='../data/compare2021/train/2021_extract_mpa.csv',\n",
    "                   test_data_path='../data/compare2021/test/2021_extract_mpa.csv', check_features=config['_features']['complex']['mpa'],\n",
    "                   save_predictions_path='./predictions/mpa_comnplex.csv')"
   ]
  },
  {
   "cell_type": "markdown",
   "id": "4ce0cafc-56bc-49b8-84f1-3d070e3b9eda",
   "metadata": {},
   "source": [
    "## SPG Simple\n",
    " \n"
   ]
  },
  {
   "cell_type": "code",
   "execution_count": 50,
   "id": "f638ad20-7252-4f34-8e49-c75b6b7a1b85",
   "metadata": {},
   "outputs": [
    {
     "name": "stdout",
     "output_type": "stream",
     "text": [
      "Pipeline(steps=[('outlier_feature', OutlierFeatureAdder()),\n",
      "                ('power_transform', PowerTransformer()),\n",
      "                ('cat_boost',\n",
      "                 <catboost.core.CatBoostRegressor object at 0x7fd87d37cd90>)])\n",
      "Data Loaded\n",
      "Test successfull, Features are present.\n",
      "Process Finished\n"
     ]
    }
   ],
   "source": [
    "prediction_wrapper(model_path='../models/spg/spg_catboost_simple.pkl'  , train_data_path='../data/compare2021/train/2021_data_max_spg.csv',\n",
    "                   test_data_path='../data/compare2021/test/2021_data_max_spg.csv', check_features=config['_features']['simple']['spg'],\n",
    "                   save_predictions_path='./predictions/spg_simple.csv')"
   ]
  },
  {
   "cell_type": "markdown",
   "id": "22ea8a84-eeb8-4a54-8713-6ef34a55d8bf",
   "metadata": {},
   "source": [
    "## SPG Complex \n"
   ]
  },
  {
   "cell_type": "code",
   "execution_count": 51,
   "id": "4045c6ca-a2d9-4f2f-9d92-a607f65d2006",
   "metadata": {},
   "outputs": [
    {
     "name": "stdout",
     "output_type": "stream",
     "text": [
      "Pipeline(steps=[('outlier_feature', OutlierFeatureAdder()),\n",
      "                ('power_transform', PowerTransformer()),\n",
      "                ('cat_boost',\n",
      "                 <catboost.core.CatBoostRegressor object at 0x7fd87d0bb7c0>)])\n",
      "Data Loaded\n",
      "Test successfull, Features are present.\n",
      "Process Finished\n"
     ]
    }
   ],
   "source": [
    "prediction_wrapper(model_path='../models/spg/spg_catboost_complex.pkl'  , train_data_path='../data/compare2021/train/2021_extract_spg.csv',\n",
    "                   test_data_path='../data/compare2021/test/2021_extract_spg.csv', check_features=config['_features']['complex']['spg'],\n",
    "                   save_predictions_path='./predictions/spg_complex.csv')"
   ]
  },
  {
   "cell_type": "markdown",
   "id": "87b9f70d-a01f-47cb-ae6c-8c72215a08f6",
   "metadata": {},
   "source": [
    "## SPS Simple\n",
    " \n"
   ]
  },
  {
   "cell_type": "code",
   "execution_count": 52,
   "id": "f076e5db-7e7c-47ed-a85e-b19be7257802",
   "metadata": {},
   "outputs": [
    {
     "name": "stdout",
     "output_type": "stream",
     "text": [
      "Pipeline(steps=[('outlier_feature', OutlierFeatureAdder()),\n",
      "                ('power_transform', PowerTransformer()),\n",
      "                ('cat_boost',\n",
      "                 <catboost.core.CatBoostRegressor object at 0x7fd864362a00>)])\n",
      "Data Loaded\n",
      "Test successfull, Features are present.\n",
      "Process Finished\n"
     ]
    }
   ],
   "source": [
    "prediction_wrapper(model_path='../models/sps/sps_catboost_simple.pkl'  , train_data_path='../data/compare2021/train/2021_data_max_sps.csv',\n",
    "                   test_data_path='../data/compare2021/test/2021_data_max_sps.csv', check_features=config['_features']['simple']['sps'],\n",
    "                   save_predictions_path='./predictions/sps_simple.csv')"
   ]
  },
  {
   "cell_type": "markdown",
   "id": "6de081bf-b521-4c09-b07d-ddf0b0817234",
   "metadata": {},
   "source": [
    "## SPS Complex\n",
    " \n"
   ]
  },
  {
   "cell_type": "code",
   "execution_count": 53,
   "id": "223d77fb-e4f3-4732-9c8a-8715865b644a",
   "metadata": {},
   "outputs": [
    {
     "name": "stdout",
     "output_type": "stream",
     "text": [
      "Pipeline(steps=[('outlier_feature', OutlierFeatureAdder()),\n",
      "                ('power_transform', PowerTransformer()),\n",
      "                ('cat_boost',\n",
      "                 <catboost.core.CatBoostRegressor object at 0x7fd86c9448e0>)])\n",
      "Data Loaded\n",
      "Test successfull, Features are present.\n",
      "Process Finished\n"
     ]
    }
   ],
   "source": [
    "prediction_wrapper(model_path='../models/sps/sps_catboost_complex.pkl'  , train_data_path='../data/compare2021/train/2021_extract_sps.csv',\n",
    "                   test_data_path='../data/compare2021/test/2021_extract_sps.csv', check_features=config['_features']['complex']['sps'],\n",
    "                   save_predictions_path='./predictions/sps_complex.csv')"
   ]
  },
  {
   "cell_type": "code",
   "execution_count": 55,
   "id": "3ba6e96d-9a5b-42c5-b26c-6effbd67e227",
   "metadata": {},
   "outputs": [
    {
     "data": {
      "text/html": [
       "<div>\n",
       "<style scoped>\n",
       "    .dataframe tbody tr th:only-of-type {\n",
       "        vertical-align: middle;\n",
       "    }\n",
       "\n",
       "    .dataframe tbody tr th {\n",
       "        vertical-align: top;\n",
       "    }\n",
       "\n",
       "    .dataframe thead th {\n",
       "        text-align: right;\n",
       "    }\n",
       "</style>\n",
       "<table border=\"1\" class=\"dataframe\">\n",
       "  <thead>\n",
       "    <tr style=\"text-align: right;\">\n",
       "      <th></th>\n",
       "      <th>start_time</th>\n",
       "      <th>packnr</th>\n",
       "      <th>velocity</th>\n",
       "      <th>size_mm</th>\n",
       "      <th>predictions</th>\n",
       "    </tr>\n",
       "  </thead>\n",
       "  <tbody>\n",
       "    <tr>\n",
       "      <th>0</th>\n",
       "      <td>2021-06-23 15:06:18</td>\n",
       "      <td>117</td>\n",
       "      <td>2.5</td>\n",
       "      <td>28.1</td>\n",
       "      <td>20.691870</td>\n",
       "    </tr>\n",
       "    <tr>\n",
       "      <th>1</th>\n",
       "      <td>2021-06-23 14:16:00</td>\n",
       "      <td>13</td>\n",
       "      <td>2.5</td>\n",
       "      <td>17.4</td>\n",
       "      <td>18.059771</td>\n",
       "    </tr>\n",
       "    <tr>\n",
       "      <th>2</th>\n",
       "      <td>2021-06-24 13:53:02</td>\n",
       "      <td>31</td>\n",
       "      <td>3.2</td>\n",
       "      <td>17.4</td>\n",
       "      <td>21.632027</td>\n",
       "    </tr>\n",
       "    <tr>\n",
       "      <th>3</th>\n",
       "      <td>2021-06-22 16:29:53</td>\n",
       "      <td>39</td>\n",
       "      <td>1.8</td>\n",
       "      <td>17.4</td>\n",
       "      <td>15.945985</td>\n",
       "    </tr>\n",
       "    <tr>\n",
       "      <th>4</th>\n",
       "      <td>2021-06-22 15:58:27</td>\n",
       "      <td>64</td>\n",
       "      <td>1.8</td>\n",
       "      <td>12.3</td>\n",
       "      <td>12.329885</td>\n",
       "    </tr>\n",
       "    <tr>\n",
       "      <th>...</th>\n",
       "      <td>...</td>\n",
       "      <td>...</td>\n",
       "      <td>...</td>\n",
       "      <td>...</td>\n",
       "      <td>...</td>\n",
       "    </tr>\n",
       "    <tr>\n",
       "      <th>2162</th>\n",
       "      <td>2021-06-22 18:07:03</td>\n",
       "      <td>43</td>\n",
       "      <td>1.8</td>\n",
       "      <td>7.7</td>\n",
       "      <td>13.355368</td>\n",
       "    </tr>\n",
       "    <tr>\n",
       "      <th>2163</th>\n",
       "      <td>2021-06-23 14:58:50</td>\n",
       "      <td>41</td>\n",
       "      <td>2.5</td>\n",
       "      <td>28.1</td>\n",
       "      <td>31.858794</td>\n",
       "    </tr>\n",
       "    <tr>\n",
       "      <th>2164</th>\n",
       "      <td>2021-06-22 16:34:11</td>\n",
       "      <td>106</td>\n",
       "      <td>1.8</td>\n",
       "      <td>17.4</td>\n",
       "      <td>17.615521</td>\n",
       "    </tr>\n",
       "    <tr>\n",
       "      <th>2165</th>\n",
       "      <td>2021-06-24 15:57:26</td>\n",
       "      <td>66</td>\n",
       "      <td>3.2</td>\n",
       "      <td>71.3</td>\n",
       "      <td>96.208188</td>\n",
       "    </tr>\n",
       "    <tr>\n",
       "      <th>2166</th>\n",
       "      <td>2021-06-23 15:50:44</td>\n",
       "      <td>110</td>\n",
       "      <td>2.5</td>\n",
       "      <td>37.6</td>\n",
       "      <td>24.721228</td>\n",
       "    </tr>\n",
       "  </tbody>\n",
       "</table>\n",
       "<p>2167 rows × 5 columns</p>\n",
       "</div>"
      ],
      "text/plain": [
       "               start_time  packnr  velocity  size_mm  predictions\n",
       "0     2021-06-23 15:06:18     117       2.5     28.1    20.691870\n",
       "1     2021-06-23 14:16:00      13       2.5     17.4    18.059771\n",
       "2     2021-06-24 13:53:02      31       3.2     17.4    21.632027\n",
       "3     2021-06-22 16:29:53      39       1.8     17.4    15.945985\n",
       "4     2021-06-22 15:58:27      64       1.8     12.3    12.329885\n",
       "...                   ...     ...       ...      ...          ...\n",
       "2162  2021-06-22 18:07:03      43       1.8      7.7    13.355368\n",
       "2163  2021-06-23 14:58:50      41       2.5     28.1    31.858794\n",
       "2164  2021-06-22 16:34:11     106       1.8     17.4    17.615521\n",
       "2165  2021-06-24 15:57:26      66       3.2     71.3    96.208188\n",
       "2166  2021-06-23 15:50:44     110       2.5     37.6    24.721228\n",
       "\n",
       "[2167 rows x 5 columns]"
      ]
     },
     "execution_count": 55,
     "metadata": {},
     "output_type": "execute_result"
    }
   ],
   "source": [
    "pd.read_csv('./predictions/mpa_comnplex.csv', sep=' ')"
   ]
  },
  {
   "cell_type": "code",
   "execution_count": null,
   "id": "b2a67dac-f382-4aa7-81e4-4c98641356e3",
   "metadata": {},
   "outputs": [],
   "source": []
  },
  {
   "cell_type": "code",
   "execution_count": null,
   "id": "99d984c0-0587-4f07-9309-fadb4de4fd89",
   "metadata": {},
   "outputs": [],
   "source": []
  },
  {
   "cell_type": "code",
   "execution_count": null,
   "id": "ae670f0c-4dca-4ce3-8962-a74a5daa2950",
   "metadata": {},
   "outputs": [],
   "source": []
  },
  {
   "cell_type": "code",
   "execution_count": null,
   "id": "642d2cc1-89b5-4c9d-8564-bb89a592e419",
   "metadata": {},
   "outputs": [],
   "source": []
  },
  {
   "cell_type": "code",
   "execution_count": null,
   "id": "04e15dbb-0de8-4a86-9999-077bffe43af6",
   "metadata": {},
   "outputs": [],
   "source": []
  },
  {
   "cell_type": "code",
   "execution_count": null,
   "id": "b2968ad2-2337-4a65-a07f-e4fe38864f0b",
   "metadata": {},
   "outputs": [],
   "source": [
    "from IPython.display import HTML\n",
    "pd.set_option(\"display.max_columns\", 100)\n",
    "import plotly.express as px\n",
    "from plot import plot_residuals, plot_error_per_cat"
   ]
  },
  {
   "cell_type": "code",
   "execution_count": null,
   "id": "b7933a4f-9eb7-44b3-868c-3b2275dcdb11",
   "metadata": {},
   "outputs": [],
   "source": [
    "folder_name ='./results/20211220_WV_ZCR_PV_RMSE_STAT/'"
   ]
  },
  {
   "cell_type": "code",
   "execution_count": null,
   "id": "88029f4e-5e09-4502-9c6a-c85b7a72e772",
   "metadata": {},
   "outputs": [],
   "source": [
    "with open(folder_name + 'config.yaml', 'r') as yaml_file:\n",
    "    configs = yaml.load(yaml_file)\n",
    "configs"
   ]
  },
  {
   "cell_type": "code",
   "execution_count": null,
   "id": "edd35e9b-60d5-4171-8ba8-46bc648ee36c",
   "metadata": {},
   "outputs": [],
   "source": [
    "df = load_studies_from_folder(folder_name=folder_name, device_name='mpa')\n",
    "df = concat_all_studies_df(df)\n",
    "df = df.sort_values(by='value', ascending=False)"
   ]
  },
  {
   "cell_type": "code",
   "execution_count": null,
   "id": "96ff7f17-28f5-4ada-b5b0-3a1213beb285",
   "metadata": {},
   "outputs": [],
   "source": [
    "df.head(10)"
   ]
  },
  {
   "cell_type": "code",
   "execution_count": null,
   "id": "65fc34d9-96c8-41ca-8305-d88501b8d6f8",
   "metadata": {},
   "outputs": [],
   "source": [
    "fig = plot_parallel_cordinates(df, objective_maximize=True)\n",
    "HTML(fig.to_html())"
   ]
  },
  {
   "cell_type": "code",
   "execution_count": null,
   "id": "bc92bbf1-aed8-4b79-9f7a-3fd607d4d6a4",
   "metadata": {},
   "outputs": [],
   "source": []
  }
 ],
 "metadata": {
  "kernelspec": {
   "display_name": "Python 3 (ipykernel)",
   "language": "python",
   "name": "python3"
  },
  "language_info": {
   "codemirror_mode": {
    "name": "ipython",
    "version": 3
   },
   "file_extension": ".py",
   "mimetype": "text/x-python",
   "name": "python",
   "nbconvert_exporter": "python",
   "pygments_lexer": "ipython3",
   "version": "3.9.6"
  }
 },
 "nbformat": 4,
 "nbformat_minor": 5
}
