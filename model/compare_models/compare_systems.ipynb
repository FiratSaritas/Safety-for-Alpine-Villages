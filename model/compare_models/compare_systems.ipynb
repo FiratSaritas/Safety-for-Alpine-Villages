{
 "cells": [
  {
   "cell_type": "code",
   "execution_count": 100,
   "id": "35f19d19-d9ea-4569-a837-6957c39050cb",
   "metadata": {},
   "outputs": [],
   "source": [
    "import pandas as pd\n",
    "import numpy as np\n",
    "import os\n",
    "import seaborn as sns\n",
    "import matplotlib.pyplot as plt\n",
    "import matplotlib.colors\n",
    "cmap = matplotlib.colors.LinearSegmentedColormap.from_list(\"\", [[1, 1, 1],[31/255,119/255,180/255]])\n",
    "from sklearn.metrics import r2_score, mean_absolute_percentage_error, mean_absolute_error"
   ]
  },
  {
   "cell_type": "code",
   "execution_count": 101,
   "id": "15c5be67-8033-4164-97ab-6905e5c4c2d1",
   "metadata": {},
   "outputs": [],
   "source": [
    "def plot_error_per_cat(y_test, y_pred, show_strip=True, show_relative_error=False, \n",
    "                       log_scaled_y=False, **kwargs):\n",
    "    \"\"\"\n",
    "    Plots error by using Boxplots. Predicitons where automatically binned on True values.\n",
    "    \n",
    "    Relative Error (%) | $\\epsilon = \\frac{\\hat{y}-y}{y}*100$\n",
    "    \n",
    "    params:\n",
    "    ----------\n",
    "    y_true: np.ndarray\n",
    "        True values    \n",
    "        \n",
    "    y_pred: np.ndarray\n",
    "        predicted values\n",
    "        \n",
    "    show_strip: Bool\n",
    "        show stripplot if true else not\n",
    "    \n",
    "    show_relative_error: Bool\n",
    "        Shows error on a relative scale which makes it more comparable \n",
    "        to bigger sized grains\n",
    "    \n",
    "    log_scaled_y: Bool\n",
    "        Log Scales the y-axis to have a better scaling for lower sizes.\n",
    "        \n",
    "    returns:\n",
    "    ----------\n",
    "    plt.plot\n",
    "    \n",
    "    \"\"\"\n",
    "    fig = plt.subplots(figsize=(10, 5))\n",
    "    sns.set_palette(kwargs.get('cmap') if kwargs.get('cmap') else 'Greys', 15)\n",
    "    sns.set_style('whitegrid')\n",
    "    if show_relative_error:\n",
    "        p = sns.boxplot(y=((y_pred-y_test)/y_test)*100, x=y_test, color='#808080',\n",
    "                        showfliers=kwargs.get('showfliers') if kwargs.get('showfliers') else False, fliersize=2)\n",
    "    else:\n",
    "        if log_scaled_y:\n",
    "            p = sns.boxplot(y=np.log(y_pred), x=np.round(np.log(y_test), 2), color='#808080', \n",
    "                            showfliers=kwargs.get('showfliers') if kwargs.get('showfliers') else False, \n",
    "                            fliersize=2)\n",
    "        else:\n",
    "            p = sns.boxplot(y=y_pred, x=y_test, color='#808080',\n",
    "                            showfliers=kwargs.get('showfliers') if kwargs.get('showfliers') else False, \n",
    "                            fliersize=2)  \n",
    "    if show_strip:\n",
    "        if show_relative_error:\n",
    "            p2 = sns.stripplot(y=((y_pred-y_test)/y_test)*100, x=y_test, alpha=.5, color='grey', size=3)\n",
    "        else:\n",
    "            if log_scaled_y:\n",
    "                p2 = sns.stripplot(y=np.log(y_pred), x=np.round(np.log(y_test), 2), alpha=.5, color='grey', size=3)\n",
    "            else:\n",
    "                p2 = sns.stripplot(y=y_pred, x=y_test, alpha=.5, color='grey', size=3)\n",
    "\n",
    "    p.set_xlabel(r'Target $y$')\n",
    "    if show_relative_error:\n",
    "        p.set_ylabel('Relative Error (%)')\n",
    "    else:\n",
    "        if log_scaled_y:\n",
    "            p.set_ylabel('log(Predicted)')\n",
    "        else:\n",
    "            p.set_ylabel(r'Prediction $\\hat{y}$')\n",
    "    plt.suptitle(kwargs.get('title') if kwargs.get('title') else 'True vs. Predicted per Category', fontsize=14)\n",
    "    if show_relative_error:\n",
    "        p.set_title(r'', fontsize=9)\n",
    "    if not show_relative_error:\n",
    "        plt.ylim(0)\n",
    "    return p\n",
    "\n",
    "def plot_resid_plot(df):\n",
    "    cmap = matplotlib.colors.LinearSegmentedColormap.from_list(\"\", [[128/255,128/255,128/255],[31/255,119/255,180/255]], N=10)\n",
    "    p = sns.jointplot(x=df['size_mm'], y=df['predictions'], kind='resid',\n",
    "                      color=cmap(7), xlim=(-5, 180), ratio=6,\n",
    "                      joint_kws=dict(color=cmap(0), lowess=True,\n",
    "                                     line_kws=dict(linestyle='dashed'),\n",
    "                                     scatter_kws=dict(marker='1'))\n",
    "                     )\n",
    "    p.set_axis_labels(r'$y$', r'$\\epsilon$', fontsize=10)\n",
    "    \n",
    "    return p\n",
    "\n",
    "def make_plots(simple_path, complex_path, system):\n",
    "    df_complex = pd.read_csv(complex_path, sep= ' ')\n",
    "    df_simple = pd.read_csv(simple_path, sep=' ')\n",
    "    \n",
    "    # Simple Figures\n",
    "    p = plot_error_per_cat(y_test=df_simple['size_mm'], y_pred=df_simple['predictions'], show_strip=False, showfliers=True,\n",
    "                            title=' ' )\n",
    "    plt.savefig(f'./plots/{system}_simple_boxplot.png')\n",
    "    plt.close()\n",
    "    p = plot_error_per_cat(y_test=df_simple['size_mm'], y_pred=df_simple['predictions'], show_strip=False, showfliers=True,\n",
    "                           show_relative_error=True, title=' ')\n",
    "    plt.savefig(f'./plots/{system}_simple_boxplot_relative.png')\n",
    "    plt.close()\n",
    "    p = plot_resid_plot(df=df_simple)\n",
    "    plt.savefig(f'./plots/{system}_simple_residplot.png')\n",
    "    plt.close()\n",
    "    \n",
    "    # Complex Figures\n",
    "    p = plot_error_per_cat(y_test=df_complex['size_mm'], y_pred=df_complex['predictions'], show_strip=False, showfliers=True,\n",
    "                            title=' ' )\n",
    "    plt.savefig(f'./plots/{system}_complex_boxplot.png')\n",
    "    plt.close()\n",
    "    p = plot_error_per_cat(y_test=df_complex['size_mm'], y_pred=df_complex['predictions'], show_strip=False, showfliers=True,\n",
    "                           show_relative_error=True, title=' ')\n",
    "    plt.savefig(f'./plots/{system}_complex_boxplot_relative.png')\n",
    "    plt.close()\n",
    "    p = plot_resid_plot(df=df_complex)\n",
    "    plt.savefig(f'./plots/{system}_complex_residplot.png')\n",
    "    plt.close()\n"
   ]
  },
  {
   "cell_type": "code",
   "execution_count": 102,
   "id": "aaf29acb-65ae-4bed-aad8-e2a1a7f03a05",
   "metadata": {},
   "outputs": [],
   "source": [
    "create_plots = False"
   ]
  },
  {
   "cell_type": "markdown",
   "id": "e356752d-b94b-41cd-8748-d5d42334a0ba",
   "metadata": {
    "tags": []
   },
   "source": [
    "# MPA"
   ]
  },
  {
   "cell_type": "code",
   "execution_count": 103,
   "id": "0fbe8553-99eb-4d66-90d8-af6ef1d64463",
   "metadata": {},
   "outputs": [],
   "source": [
    "if create_plots:\n",
    "    make_plots(simple_path='./predictions/mpa_simple.csv', complex_path='./predictions/mpa_comnplex.csv', system='mpa')"
   ]
  },
  {
   "cell_type": "markdown",
   "id": "28f8b3ea-7d97-4bc5-92d2-986e85b80076",
   "metadata": {
    "tags": []
   },
   "source": [
    "# SPG"
   ]
  },
  {
   "cell_type": "code",
   "execution_count": 104,
   "id": "66c10393-11db-4acb-8f40-7c1bcaf13340",
   "metadata": {},
   "outputs": [],
   "source": [
    "if create_plots:\n",
    "    make_plots(simple_path='./predictions/spg_simple.csv', complex_path='./predictions/spg_complex.csv', system='spg')"
   ]
  },
  {
   "cell_type": "markdown",
   "id": "c83fab38-e65b-4b76-a07d-134339a6fd8d",
   "metadata": {},
   "source": [
    "# SPS"
   ]
  },
  {
   "cell_type": "code",
   "execution_count": 105,
   "id": "f3d4bb6b-f05d-4c4d-add4-5eb01810160b",
   "metadata": {},
   "outputs": [],
   "source": [
    "if create_plots:\n",
    "    make_plots(simple_path='./predictions/sps_simple.csv', complex_path='./predictions/sps_complex.csv', system='sps')"
   ]
  },
  {
   "cell_type": "markdown",
   "id": "cf788806-4227-4ec8-acec-d3c3b5763811",
   "metadata": {},
   "source": [
    "## Metrics"
   ]
  },
  {
   "cell_type": "code",
   "execution_count": 112,
   "id": "cc44d8c5-3301-4da2-865e-2a287f198e39",
   "metadata": {},
   "outputs": [],
   "source": [
    "def calculate_metrics(prediction_folder: str):\n",
    "    prediction_files = os.listdir(prediction_folder)\n",
    "    prediction_files = [file for file in prediction_files if '.csv' in file]\n",
    "    results = {}\n",
    "    for i, file in enumerate(prediction_files):\n",
    "        measuring_system, tmp = file.split('_')\n",
    "        model_complexity = tmp.split('.')[0]\n",
    "        \n",
    "        df = pd.read_csv(prediction_folder + file, sep=' ')\n",
    "        y_test, y_pred = df['size_mm'], df['predictions']\n",
    "        results[i] = dict(\n",
    "            system=measuring_system,\n",
    "            complexity=model_complexity,\n",
    "            r2=round(r2_score(y_true=y_test, y_pred=y_pred), 3),\n",
    "            mae=mean_absolute_error(y_true=y_test, y_pred=y_pred),\n",
    "            mape=mean_absolute_percentage_error(y_true=y_test, y_pred=y_pred),\n",
    "        )\n",
    "    \n",
    "    return pd.DataFrame(results).T"
   ]
  },
  {
   "cell_type": "code",
   "execution_count": 113,
   "id": "831146c5-3b58-4e59-8b44-38e719efd14d",
   "metadata": {},
   "outputs": [
    {
     "data": {
      "text/html": [
       "<div>\n",
       "<style scoped>\n",
       "    .dataframe tbody tr th:only-of-type {\n",
       "        vertical-align: middle;\n",
       "    }\n",
       "\n",
       "    .dataframe tbody tr th {\n",
       "        vertical-align: top;\n",
       "    }\n",
       "\n",
       "    .dataframe thead th {\n",
       "        text-align: right;\n",
       "    }\n",
       "</style>\n",
       "<table border=\"1\" class=\"dataframe\">\n",
       "  <thead>\n",
       "    <tr style=\"text-align: right;\">\n",
       "      <th></th>\n",
       "      <th>system</th>\n",
       "      <th>complexity</th>\n",
       "      <th>r2</th>\n",
       "      <th>mae</th>\n",
       "      <th>mape</th>\n",
       "    </tr>\n",
       "  </thead>\n",
       "  <tbody>\n",
       "    <tr>\n",
       "      <th>0</th>\n",
       "      <td>mpa</td>\n",
       "      <td>complex</td>\n",
       "      <td>0.824</td>\n",
       "      <td>9.700862</td>\n",
       "      <td>0.265074</td>\n",
       "    </tr>\n",
       "    <tr>\n",
       "      <th>1</th>\n",
       "      <td>mpa</td>\n",
       "      <td>simple</td>\n",
       "      <td>0.755</td>\n",
       "      <td>11.986124</td>\n",
       "      <td>0.297918</td>\n",
       "    </tr>\n",
       "    <tr>\n",
       "      <th>2</th>\n",
       "      <td>spg</td>\n",
       "      <td>complex</td>\n",
       "      <td>0.804</td>\n",
       "      <td>13.982657</td>\n",
       "      <td>0.226537</td>\n",
       "    </tr>\n",
       "    <tr>\n",
       "      <th>3</th>\n",
       "      <td>sps</td>\n",
       "      <td>complex</td>\n",
       "      <td>0.841</td>\n",
       "      <td>11.34907</td>\n",
       "      <td>0.272735</td>\n",
       "    </tr>\n",
       "    <tr>\n",
       "      <th>4</th>\n",
       "      <td>sps</td>\n",
       "      <td>simple</td>\n",
       "      <td>0.794</td>\n",
       "      <td>12.468267</td>\n",
       "      <td>0.256883</td>\n",
       "    </tr>\n",
       "    <tr>\n",
       "      <th>5</th>\n",
       "      <td>spg</td>\n",
       "      <td>simple</td>\n",
       "      <td>0.796</td>\n",
       "      <td>13.632525</td>\n",
       "      <td>0.216108</td>\n",
       "    </tr>\n",
       "  </tbody>\n",
       "</table>\n",
       "</div>"
      ],
      "text/plain": [
       "  system complexity     r2        mae      mape\n",
       "0    mpa    complex  0.824   9.700862  0.265074\n",
       "1    mpa     simple  0.755  11.986124  0.297918\n",
       "2    spg    complex  0.804  13.982657  0.226537\n",
       "3    sps    complex  0.841   11.34907  0.272735\n",
       "4    sps     simple  0.794  12.468267  0.256883\n",
       "5    spg     simple  0.796  13.632525  0.216108"
      ]
     },
     "execution_count": 113,
     "metadata": {},
     "output_type": "execute_result"
    }
   ],
   "source": [
    "calculate_metrics(prediction_folder='./predictions/')"
   ]
  },
  {
   "cell_type": "code",
   "execution_count": null,
   "id": "a180b301-0b60-4e17-a613-b3e6dba8b127",
   "metadata": {},
   "outputs": [],
   "source": []
  }
 ],
 "metadata": {
  "kernelspec": {
   "display_name": "Python 3 (ipykernel)",
   "language": "python",
   "name": "python3"
  },
  "language_info": {
   "codemirror_mode": {
    "name": "ipython",
    "version": 3
   },
   "file_extension": ".py",
   "mimetype": "text/x-python",
   "name": "python",
   "nbconvert_exporter": "python",
   "pygments_lexer": "ipython3",
   "version": "3.9.6"
  }
 },
 "nbformat": 4,
 "nbformat_minor": 5
}
