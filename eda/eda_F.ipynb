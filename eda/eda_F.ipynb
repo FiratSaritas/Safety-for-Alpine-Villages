{
 "cells": [
  {
   "cell_type": "markdown",
   "metadata": {},
   "source": [
    "# Explorative Datenanlyse Part 1"
   ]
  },
  {
   "cell_type": "code",
   "execution_count": 1,
   "metadata": {},
   "outputs": [],
   "source": [
    "#Librarys\n",
    "import pandas as pd\n",
    "import numpy as np\n",
    "import seaborn as sns\n",
    "import matplotlib.pyplot as plt\n",
    "from matplotlib.pyplot import figure\n",
    "from matplotlib.dates import DateFormatter\n",
    "import matplotlib.dates as mdates\n",
    "import datetime"
   ]
  },
  {
   "cell_type": "code",
   "execution_count": 2,
   "metadata": {},
   "outputs": [],
   "source": [
    "#Import data\n",
    "data_mpa = \"../data/data_mpa.txt\"\n",
    "data_spg = \"../data/data_spg.txt\"\n",
    "data_sps = \"../data/data_sps.txt\""
   ]
  },
  {
   "cell_type": "code",
   "execution_count": 99,
   "metadata": {},
   "outputs": [],
   "source": [
    "def first_view(data):\n",
    "    #convert data in dataframe\n",
    "    df = pd.read_csv(data, sep=\" \")\n",
    "    #convert object to datetime\n",
    "    df[\"start_time\"] = pd.to_datetime(df[\"start_time\"])\n",
    "    print('Shape of Dataframe:',df.shape)\n",
    "    print(\"Types of the columns:\", np.unique(df.dtypes))\n",
    "    print(\"Missing Information:\",sum(df.isna().sum()))\n",
    "    return df"
   ]
  },
  {
   "cell_type": "markdown",
   "metadata": {},
   "source": [
    "## 1. MPA Data"
   ]
  },
  {
   "cell_type": "code",
   "execution_count": 100,
   "metadata": {},
   "outputs": [
    {
     "name": "stdout",
     "output_type": "stream",
     "text": [
      "Shape of Dataframe: (21663, 39)\n",
      "Types of the columns: [dtype('<M8[ns]') dtype('int64') dtype('float64')]\n",
      "Missing Information: 0\n",
      "5 Samples:\n"
     ]
    },
    {
     "data": {
      "text/html": [
       "<div>\n",
       "<style scoped>\n",
       "    .dataframe tbody tr th:only-of-type {\n",
       "        vertical-align: middle;\n",
       "    }\n",
       "\n",
       "    .dataframe tbody tr th {\n",
       "        vertical-align: top;\n",
       "    }\n",
       "\n",
       "    .dataframe thead th {\n",
       "        text-align: right;\n",
       "    }\n",
       "</style>\n",
       "<table border=\"1\" class=\"dataframe\">\n",
       "  <thead>\n",
       "    <tr style=\"text-align: right;\">\n",
       "      <th></th>\n",
       "      <th>start_time</th>\n",
       "      <th>velocity</th>\n",
       "      <th>size_mm</th>\n",
       "      <th>centroid_frequency_M01</th>\n",
       "      <th>centroid_frequency2_M01</th>\n",
       "      <th>centroid_frequency_M02</th>\n",
       "      <th>centroid_frequency2_M02</th>\n",
       "      <th>centroid_frequency_M03</th>\n",
       "      <th>centroid_frequency2_M03</th>\n",
       "      <th>centroid_frequency_M04</th>\n",
       "      <th>...</th>\n",
       "      <th>mab_M03</th>\n",
       "      <th>mab_M04</th>\n",
       "      <th>imp_M01</th>\n",
       "      <th>imp_M02</th>\n",
       "      <th>imp_M03</th>\n",
       "      <th>imp_M04</th>\n",
       "      <th>len_M01</th>\n",
       "      <th>len_M02</th>\n",
       "      <th>len_M03</th>\n",
       "      <th>len_M04</th>\n",
       "    </tr>\n",
       "  </thead>\n",
       "  <tbody>\n",
       "    <tr>\n",
       "      <th>0</th>\n",
       "      <td>2021-06-22 15:34:38</td>\n",
       "      <td>2.05</td>\n",
       "      <td>12.3</td>\n",
       "      <td>2407.177520</td>\n",
       "      <td>2383.462777</td>\n",
       "      <td>3594.344650</td>\n",
       "      <td>3818.274968</td>\n",
       "      <td>3043.452352</td>\n",
       "      <td>3549.220734</td>\n",
       "      <td>2673.814437</td>\n",
       "      <td>...</td>\n",
       "      <td>0.007660</td>\n",
       "      <td>0.006011</td>\n",
       "      <td>0</td>\n",
       "      <td>2</td>\n",
       "      <td>0</td>\n",
       "      <td>0</td>\n",
       "      <td>42</td>\n",
       "      <td>42</td>\n",
       "      <td>42</td>\n",
       "      <td>42</td>\n",
       "    </tr>\n",
       "    <tr>\n",
       "      <th>1</th>\n",
       "      <td>2021-06-22 15:34:38</td>\n",
       "      <td>2.05</td>\n",
       "      <td>12.3</td>\n",
       "      <td>3245.903945</td>\n",
       "      <td>3375.076129</td>\n",
       "      <td>2921.431687</td>\n",
       "      <td>3283.745824</td>\n",
       "      <td>2461.395358</td>\n",
       "      <td>2502.497764</td>\n",
       "      <td>2411.778622</td>\n",
       "      <td>...</td>\n",
       "      <td>0.006003</td>\n",
       "      <td>0.007696</td>\n",
       "      <td>3</td>\n",
       "      <td>0</td>\n",
       "      <td>0</td>\n",
       "      <td>0</td>\n",
       "      <td>47</td>\n",
       "      <td>47</td>\n",
       "      <td>47</td>\n",
       "      <td>47</td>\n",
       "    </tr>\n",
       "    <tr>\n",
       "      <th>2</th>\n",
       "      <td>2021-06-22 15:34:38</td>\n",
       "      <td>2.05</td>\n",
       "      <td>12.3</td>\n",
       "      <td>2354.378100</td>\n",
       "      <td>2214.842318</td>\n",
       "      <td>3336.998058</td>\n",
       "      <td>3318.154655</td>\n",
       "      <td>2888.766886</td>\n",
       "      <td>3205.724097</td>\n",
       "      <td>2583.538995</td>\n",
       "      <td>...</td>\n",
       "      <td>0.008638</td>\n",
       "      <td>0.008229</td>\n",
       "      <td>0</td>\n",
       "      <td>3</td>\n",
       "      <td>0</td>\n",
       "      <td>0</td>\n",
       "      <td>46</td>\n",
       "      <td>46</td>\n",
       "      <td>46</td>\n",
       "      <td>46</td>\n",
       "    </tr>\n",
       "    <tr>\n",
       "      <th>3</th>\n",
       "      <td>2021-06-22 15:34:38</td>\n",
       "      <td>2.05</td>\n",
       "      <td>12.3</td>\n",
       "      <td>2646.745202</td>\n",
       "      <td>2752.672212</td>\n",
       "      <td>3231.972948</td>\n",
       "      <td>3232.356657</td>\n",
       "      <td>2743.411191</td>\n",
       "      <td>2882.039891</td>\n",
       "      <td>2993.831490</td>\n",
       "      <td>...</td>\n",
       "      <td>0.007838</td>\n",
       "      <td>0.018704</td>\n",
       "      <td>0</td>\n",
       "      <td>0</td>\n",
       "      <td>0</td>\n",
       "      <td>0</td>\n",
       "      <td>37</td>\n",
       "      <td>37</td>\n",
       "      <td>37</td>\n",
       "      <td>37</td>\n",
       "    </tr>\n",
       "    <tr>\n",
       "      <th>4</th>\n",
       "      <td>2021-06-22 15:34:38</td>\n",
       "      <td>2.05</td>\n",
       "      <td>12.3</td>\n",
       "      <td>2518.061934</td>\n",
       "      <td>2396.714094</td>\n",
       "      <td>3333.417859</td>\n",
       "      <td>3322.084480</td>\n",
       "      <td>2482.567035</td>\n",
       "      <td>2519.786346</td>\n",
       "      <td>2496.943938</td>\n",
       "      <td>...</td>\n",
       "      <td>0.006155</td>\n",
       "      <td>0.005527</td>\n",
       "      <td>0</td>\n",
       "      <td>2</td>\n",
       "      <td>0</td>\n",
       "      <td>0</td>\n",
       "      <td>41</td>\n",
       "      <td>41</td>\n",
       "      <td>41</td>\n",
       "      <td>41</td>\n",
       "    </tr>\n",
       "  </tbody>\n",
       "</table>\n",
       "<p>5 rows × 39 columns</p>\n",
       "</div>"
      ],
      "text/plain": [
       "           start_time  velocity  size_mm  centroid_frequency_M01  \\\n",
       "0 2021-06-22 15:34:38      2.05     12.3             2407.177520   \n",
       "1 2021-06-22 15:34:38      2.05     12.3             3245.903945   \n",
       "2 2021-06-22 15:34:38      2.05     12.3             2354.378100   \n",
       "3 2021-06-22 15:34:38      2.05     12.3             2646.745202   \n",
       "4 2021-06-22 15:34:38      2.05     12.3             2518.061934   \n",
       "\n",
       "   centroid_frequency2_M01  centroid_frequency_M02  centroid_frequency2_M02  \\\n",
       "0              2383.462777             3594.344650              3818.274968   \n",
       "1              3375.076129             2921.431687              3283.745824   \n",
       "2              2214.842318             3336.998058              3318.154655   \n",
       "3              2752.672212             3231.972948              3232.356657   \n",
       "4              2396.714094             3333.417859              3322.084480   \n",
       "\n",
       "   centroid_frequency_M03  centroid_frequency2_M03  centroid_frequency_M04  \\\n",
       "0             3043.452352              3549.220734             2673.814437   \n",
       "1             2461.395358              2502.497764             2411.778622   \n",
       "2             2888.766886              3205.724097             2583.538995   \n",
       "3             2743.411191              2882.039891             2993.831490   \n",
       "4             2482.567035              2519.786346             2496.943938   \n",
       "\n",
       "   ...   mab_M03   mab_M04  imp_M01  imp_M02  imp_M03  imp_M04  len_M01  \\\n",
       "0  ...  0.007660  0.006011        0        2        0        0       42   \n",
       "1  ...  0.006003  0.007696        3        0        0        0       47   \n",
       "2  ...  0.008638  0.008229        0        3        0        0       46   \n",
       "3  ...  0.007838  0.018704        0        0        0        0       37   \n",
       "4  ...  0.006155  0.005527        0        2        0        0       41   \n",
       "\n",
       "   len_M02  len_M03  len_M04  \n",
       "0       42       42       42  \n",
       "1       47       47       47  \n",
       "2       46       46       46  \n",
       "3       37       37       37  \n",
       "4       41       41       41  \n",
       "\n",
       "[5 rows x 39 columns]"
      ]
     },
     "execution_count": 100,
     "metadata": {},
     "output_type": "execute_result"
    }
   ],
   "source": [
    "df_mpa = first_view(data_mpa)\n",
    "print(\"5 Samples:\")\n",
    "df_mpa.head(5)"
   ]
  },
  {
   "cell_type": "markdown",
   "metadata": {},
   "source": [
    "## 2. SPG Data"
   ]
  },
  {
   "cell_type": "code",
   "execution_count": 101,
   "metadata": {},
   "outputs": [
    {
     "name": "stdout",
     "output_type": "stream",
     "text": [
      "Shape of Dataframe: (52463, 21)\n",
      "Types of the columns: [dtype('<M8[ns]') dtype('int64') dtype('float64')]\n",
      "Missing Information: 0\n",
      "5 Samples:\n"
     ]
    },
    {
     "data": {
      "text/html": [
       "<div>\n",
       "<style scoped>\n",
       "    .dataframe tbody tr th:only-of-type {\n",
       "        vertical-align: middle;\n",
       "    }\n",
       "\n",
       "    .dataframe tbody tr th {\n",
       "        vertical-align: top;\n",
       "    }\n",
       "\n",
       "    .dataframe thead th {\n",
       "        text-align: right;\n",
       "    }\n",
       "</style>\n",
       "<table border=\"1\" class=\"dataframe\">\n",
       "  <thead>\n",
       "    <tr style=\"text-align: right;\">\n",
       "      <th></th>\n",
       "      <th>start_time</th>\n",
       "      <th>velocity</th>\n",
       "      <th>size_mm</th>\n",
       "      <th>centroid_frequency_G01</th>\n",
       "      <th>centroid_frequency2_G01</th>\n",
       "      <th>centroid_frequency_G02</th>\n",
       "      <th>centroid_frequency2_G02</th>\n",
       "      <th>median_freq_G01</th>\n",
       "      <th>median_freq_G02</th>\n",
       "      <th>flash_ind_G01</th>\n",
       "      <th>...</th>\n",
       "      <th>cv_G01</th>\n",
       "      <th>cv_G02</th>\n",
       "      <th>iqa_G01</th>\n",
       "      <th>iqa_G02</th>\n",
       "      <th>mab_G01</th>\n",
       "      <th>mab_G02</th>\n",
       "      <th>imp_G01</th>\n",
       "      <th>imp_G02</th>\n",
       "      <th>len_G01</th>\n",
       "      <th>len_G02</th>\n",
       "    </tr>\n",
       "  </thead>\n",
       "  <tbody>\n",
       "    <tr>\n",
       "      <th>0</th>\n",
       "      <td>2018-09-25 10:17:41</td>\n",
       "      <td>1.5</td>\n",
       "      <td>28.1</td>\n",
       "      <td>1215.107572</td>\n",
       "      <td>643.894215</td>\n",
       "      <td>1846.354293</td>\n",
       "      <td>1788.013912</td>\n",
       "      <td>777.402313</td>\n",
       "      <td>1981.205850</td>\n",
       "      <td>0.002735</td>\n",
       "      <td>...</td>\n",
       "      <td>1.224534</td>\n",
       "      <td>0.946412</td>\n",
       "      <td>2.616975e-07</td>\n",
       "      <td>6.274110e-06</td>\n",
       "      <td>0.015083</td>\n",
       "      <td>0.135749</td>\n",
       "      <td>0</td>\n",
       "      <td>6</td>\n",
       "      <td>51</td>\n",
       "      <td>51</td>\n",
       "    </tr>\n",
       "    <tr>\n",
       "      <th>1</th>\n",
       "      <td>2018-09-25 10:17:41</td>\n",
       "      <td>1.5</td>\n",
       "      <td>28.1</td>\n",
       "      <td>1276.278990</td>\n",
       "      <td>1026.010982</td>\n",
       "      <td>1139.492603</td>\n",
       "      <td>1007.141759</td>\n",
       "      <td>1139.527473</td>\n",
       "      <td>1079.678519</td>\n",
       "      <td>0.002155</td>\n",
       "      <td>...</td>\n",
       "      <td>1.101753</td>\n",
       "      <td>1.200977</td>\n",
       "      <td>6.492658e-08</td>\n",
       "      <td>5.289781e-07</td>\n",
       "      <td>0.011795</td>\n",
       "      <td>0.034810</td>\n",
       "      <td>0</td>\n",
       "      <td>1</td>\n",
       "      <td>42</td>\n",
       "      <td>42</td>\n",
       "    </tr>\n",
       "    <tr>\n",
       "      <th>2</th>\n",
       "      <td>2018-09-25 10:17:41</td>\n",
       "      <td>1.5</td>\n",
       "      <td>28.1</td>\n",
       "      <td>1747.612449</td>\n",
       "      <td>1807.921099</td>\n",
       "      <td>1858.242372</td>\n",
       "      <td>1906.761430</td>\n",
       "      <td>1851.660564</td>\n",
       "      <td>1895.057898</td>\n",
       "      <td>0.002625</td>\n",
       "      <td>...</td>\n",
       "      <td>1.164090</td>\n",
       "      <td>1.187318</td>\n",
       "      <td>5.253737e-08</td>\n",
       "      <td>3.637916e-07</td>\n",
       "      <td>0.011138</td>\n",
       "      <td>0.031851</td>\n",
       "      <td>0</td>\n",
       "      <td>1</td>\n",
       "      <td>42</td>\n",
       "      <td>42</td>\n",
       "    </tr>\n",
       "    <tr>\n",
       "      <th>3</th>\n",
       "      <td>2018-09-25 10:17:41</td>\n",
       "      <td>1.5</td>\n",
       "      <td>28.1</td>\n",
       "      <td>1525.709204</td>\n",
       "      <td>1027.783441</td>\n",
       "      <td>2318.652568</td>\n",
       "      <td>2229.486151</td>\n",
       "      <td>1136.502879</td>\n",
       "      <td>2454.467702</td>\n",
       "      <td>0.002155</td>\n",
       "      <td>...</td>\n",
       "      <td>0.909574</td>\n",
       "      <td>0.528489</td>\n",
       "      <td>9.600378e-08</td>\n",
       "      <td>3.087594e-07</td>\n",
       "      <td>0.012124</td>\n",
       "      <td>0.022645</td>\n",
       "      <td>0</td>\n",
       "      <td>1</td>\n",
       "      <td>38</td>\n",
       "      <td>38</td>\n",
       "    </tr>\n",
       "    <tr>\n",
       "      <th>4</th>\n",
       "      <td>2018-09-25 10:17:41</td>\n",
       "      <td>1.5</td>\n",
       "      <td>28.1</td>\n",
       "      <td>1147.415439</td>\n",
       "      <td>696.609523</td>\n",
       "      <td>1467.686481</td>\n",
       "      <td>1048.908484</td>\n",
       "      <td>781.929106</td>\n",
       "      <td>1085.487750</td>\n",
       "      <td>0.002604</td>\n",
       "      <td>...</td>\n",
       "      <td>1.226693</td>\n",
       "      <td>0.902183</td>\n",
       "      <td>1.399994e-07</td>\n",
       "      <td>3.289778e-07</td>\n",
       "      <td>0.011138</td>\n",
       "      <td>0.019029</td>\n",
       "      <td>0</td>\n",
       "      <td>0</td>\n",
       "      <td>37</td>\n",
       "      <td>37</td>\n",
       "    </tr>\n",
       "  </tbody>\n",
       "</table>\n",
       "<p>5 rows × 21 columns</p>\n",
       "</div>"
      ],
      "text/plain": [
       "           start_time  velocity  size_mm  centroid_frequency_G01  \\\n",
       "0 2018-09-25 10:17:41       1.5     28.1             1215.107572   \n",
       "1 2018-09-25 10:17:41       1.5     28.1             1276.278990   \n",
       "2 2018-09-25 10:17:41       1.5     28.1             1747.612449   \n",
       "3 2018-09-25 10:17:41       1.5     28.1             1525.709204   \n",
       "4 2018-09-25 10:17:41       1.5     28.1             1147.415439   \n",
       "\n",
       "   centroid_frequency2_G01  centroid_frequency_G02  centroid_frequency2_G02  \\\n",
       "0               643.894215             1846.354293              1788.013912   \n",
       "1              1026.010982             1139.492603              1007.141759   \n",
       "2              1807.921099             1858.242372              1906.761430   \n",
       "3              1027.783441             2318.652568              2229.486151   \n",
       "4               696.609523             1467.686481              1048.908484   \n",
       "\n",
       "   median_freq_G01  median_freq_G02  flash_ind_G01  ...    cv_G01    cv_G02  \\\n",
       "0       777.402313      1981.205850       0.002735  ...  1.224534  0.946412   \n",
       "1      1139.527473      1079.678519       0.002155  ...  1.101753  1.200977   \n",
       "2      1851.660564      1895.057898       0.002625  ...  1.164090  1.187318   \n",
       "3      1136.502879      2454.467702       0.002155  ...  0.909574  0.528489   \n",
       "4       781.929106      1085.487750       0.002604  ...  1.226693  0.902183   \n",
       "\n",
       "        iqa_G01       iqa_G02   mab_G01   mab_G02  imp_G01  imp_G02  len_G01  \\\n",
       "0  2.616975e-07  6.274110e-06  0.015083  0.135749        0        6       51   \n",
       "1  6.492658e-08  5.289781e-07  0.011795  0.034810        0        1       42   \n",
       "2  5.253737e-08  3.637916e-07  0.011138  0.031851        0        1       42   \n",
       "3  9.600378e-08  3.087594e-07  0.012124  0.022645        0        1       38   \n",
       "4  1.399994e-07  3.289778e-07  0.011138  0.019029        0        0       37   \n",
       "\n",
       "   len_G02  \n",
       "0       51  \n",
       "1       42  \n",
       "2       42  \n",
       "3       38  \n",
       "4       37  \n",
       "\n",
       "[5 rows x 21 columns]"
      ]
     },
     "execution_count": 101,
     "metadata": {},
     "output_type": "execute_result"
    }
   ],
   "source": [
    "df_spg = first_view(data_spg)\n",
    "print(\"5 Samples:\")\n",
    "df_spg.head(5)"
   ]
  },
  {
   "cell_type": "markdown",
   "metadata": {},
   "source": [
    "## 3. SPS Data"
   ]
  },
  {
   "cell_type": "code",
   "execution_count": 102,
   "metadata": {},
   "outputs": [
    {
     "name": "stdout",
     "output_type": "stream",
     "text": [
      "Shape of Dataframe: (11254, 39)\n",
      "Types of the columns: [dtype('<M8[ns]') dtype('int64') dtype('float64')]\n",
      "Missing Information: 0\n",
      "5 Samples:\n"
     ]
    },
    {
     "data": {
      "text/html": [
       "<div>\n",
       "<style scoped>\n",
       "    .dataframe tbody tr th:only-of-type {\n",
       "        vertical-align: middle;\n",
       "    }\n",
       "\n",
       "    .dataframe tbody tr th {\n",
       "        vertical-align: top;\n",
       "    }\n",
       "\n",
       "    .dataframe thead th {\n",
       "        text-align: right;\n",
       "    }\n",
       "</style>\n",
       "<table border=\"1\" class=\"dataframe\">\n",
       "  <thead>\n",
       "    <tr style=\"text-align: right;\">\n",
       "      <th></th>\n",
       "      <th>start_time</th>\n",
       "      <th>velocity</th>\n",
       "      <th>size_mm</th>\n",
       "      <th>centroid_frequency_G01</th>\n",
       "      <th>centroid_frequency2_G01</th>\n",
       "      <th>centroid_frequency_G02</th>\n",
       "      <th>centroid_frequency2_G02</th>\n",
       "      <th>centroid_frequency_M01</th>\n",
       "      <th>centroid_frequency2_M01</th>\n",
       "      <th>centroid_frequency_S01</th>\n",
       "      <th>...</th>\n",
       "      <th>mab_M01</th>\n",
       "      <th>mab_S01</th>\n",
       "      <th>imp_G01</th>\n",
       "      <th>imp_G02</th>\n",
       "      <th>imp_M01</th>\n",
       "      <th>imp_S01</th>\n",
       "      <th>len_G01</th>\n",
       "      <th>len_G02</th>\n",
       "      <th>len_M01</th>\n",
       "      <th>len_S01</th>\n",
       "    </tr>\n",
       "  </thead>\n",
       "  <tbody>\n",
       "    <tr>\n",
       "      <th>0</th>\n",
       "      <td>2021-06-22 15:34:38</td>\n",
       "      <td>2.05</td>\n",
       "      <td>12.3</td>\n",
       "      <td>8153.438439</td>\n",
       "      <td>7257.609334</td>\n",
       "      <td>8209.713177</td>\n",
       "      <td>7379.284623</td>\n",
       "      <td>7371.324388</td>\n",
       "      <td>2679.227894</td>\n",
       "      <td>6475.116681</td>\n",
       "      <td>...</td>\n",
       "      <td>0.030517</td>\n",
       "      <td>18</td>\n",
       "      <td>1</td>\n",
       "      <td>1</td>\n",
       "      <td>0</td>\n",
       "      <td>0</td>\n",
       "      <td>73</td>\n",
       "      <td>73</td>\n",
       "      <td>73</td>\n",
       "      <td>73</td>\n",
       "    </tr>\n",
       "    <tr>\n",
       "      <th>1</th>\n",
       "      <td>2021-06-22 15:34:38</td>\n",
       "      <td>2.05</td>\n",
       "      <td>12.3</td>\n",
       "      <td>3450.442567</td>\n",
       "      <td>2618.793204</td>\n",
       "      <td>4212.339529</td>\n",
       "      <td>1687.358524</td>\n",
       "      <td>7086.113317</td>\n",
       "      <td>6697.399727</td>\n",
       "      <td>7301.457307</td>\n",
       "      <td>...</td>\n",
       "      <td>2.715982</td>\n",
       "      <td>37</td>\n",
       "      <td>0</td>\n",
       "      <td>0</td>\n",
       "      <td>10</td>\n",
       "      <td>7</td>\n",
       "      <td>139</td>\n",
       "      <td>139</td>\n",
       "      <td>139</td>\n",
       "      <td>139</td>\n",
       "    </tr>\n",
       "    <tr>\n",
       "      <th>2</th>\n",
       "      <td>2021-06-22 15:34:38</td>\n",
       "      <td>2.05</td>\n",
       "      <td>12.3</td>\n",
       "      <td>7035.297500</td>\n",
       "      <td>4237.812247</td>\n",
       "      <td>4336.792065</td>\n",
       "      <td>2734.434758</td>\n",
       "      <td>7868.132110</td>\n",
       "      <td>7269.591134</td>\n",
       "      <td>7233.321046</td>\n",
       "      <td>...</td>\n",
       "      <td>0.823949</td>\n",
       "      <td>12</td>\n",
       "      <td>0</td>\n",
       "      <td>0</td>\n",
       "      <td>2</td>\n",
       "      <td>0</td>\n",
       "      <td>81</td>\n",
       "      <td>81</td>\n",
       "      <td>81</td>\n",
       "      <td>81</td>\n",
       "    </tr>\n",
       "    <tr>\n",
       "      <th>3</th>\n",
       "      <td>2021-06-22 15:34:38</td>\n",
       "      <td>2.05</td>\n",
       "      <td>12.3</td>\n",
       "      <td>4026.790777</td>\n",
       "      <td>2932.061301</td>\n",
       "      <td>4328.229508</td>\n",
       "      <td>2065.176061</td>\n",
       "      <td>7244.929434</td>\n",
       "      <td>6576.137896</td>\n",
       "      <td>8122.488909</td>\n",
       "      <td>...</td>\n",
       "      <td>1.205408</td>\n",
       "      <td>83</td>\n",
       "      <td>0</td>\n",
       "      <td>0</td>\n",
       "      <td>5</td>\n",
       "      <td>10</td>\n",
       "      <td>87</td>\n",
       "      <td>87</td>\n",
       "      <td>87</td>\n",
       "      <td>87</td>\n",
       "    </tr>\n",
       "    <tr>\n",
       "      <th>4</th>\n",
       "      <td>2021-06-22 15:34:38</td>\n",
       "      <td>2.05</td>\n",
       "      <td>12.3</td>\n",
       "      <td>4521.744136</td>\n",
       "      <td>3243.012150</td>\n",
       "      <td>6028.710051</td>\n",
       "      <td>3374.827724</td>\n",
       "      <td>7930.338785</td>\n",
       "      <td>6773.916390</td>\n",
       "      <td>8239.994126</td>\n",
       "      <td>...</td>\n",
       "      <td>2.120907</td>\n",
       "      <td>146</td>\n",
       "      <td>0</td>\n",
       "      <td>0</td>\n",
       "      <td>8</td>\n",
       "      <td>12</td>\n",
       "      <td>94</td>\n",
       "      <td>94</td>\n",
       "      <td>94</td>\n",
       "      <td>94</td>\n",
       "    </tr>\n",
       "  </tbody>\n",
       "</table>\n",
       "<p>5 rows × 39 columns</p>\n",
       "</div>"
      ],
      "text/plain": [
       "           start_time  velocity  size_mm  centroid_frequency_G01  \\\n",
       "0 2021-06-22 15:34:38      2.05     12.3             8153.438439   \n",
       "1 2021-06-22 15:34:38      2.05     12.3             3450.442567   \n",
       "2 2021-06-22 15:34:38      2.05     12.3             7035.297500   \n",
       "3 2021-06-22 15:34:38      2.05     12.3             4026.790777   \n",
       "4 2021-06-22 15:34:38      2.05     12.3             4521.744136   \n",
       "\n",
       "   centroid_frequency2_G01  centroid_frequency_G02  centroid_frequency2_G02  \\\n",
       "0              7257.609334             8209.713177              7379.284623   \n",
       "1              2618.793204             4212.339529              1687.358524   \n",
       "2              4237.812247             4336.792065              2734.434758   \n",
       "3              2932.061301             4328.229508              2065.176061   \n",
       "4              3243.012150             6028.710051              3374.827724   \n",
       "\n",
       "   centroid_frequency_M01  centroid_frequency2_M01  centroid_frequency_S01  \\\n",
       "0             7371.324388              2679.227894             6475.116681   \n",
       "1             7086.113317              6697.399727             7301.457307   \n",
       "2             7868.132110              7269.591134             7233.321046   \n",
       "3             7244.929434              6576.137896             8122.488909   \n",
       "4             7930.338785              6773.916390             8239.994126   \n",
       "\n",
       "   ...   mab_M01  mab_S01  imp_G01  imp_G02  imp_M01  imp_S01  len_G01  \\\n",
       "0  ...  0.030517       18        1        1        0        0       73   \n",
       "1  ...  2.715982       37        0        0       10        7      139   \n",
       "2  ...  0.823949       12        0        0        2        0       81   \n",
       "3  ...  1.205408       83        0        0        5       10       87   \n",
       "4  ...  2.120907      146        0        0        8       12       94   \n",
       "\n",
       "   len_G02  len_M01  len_S01  \n",
       "0       73       73       73  \n",
       "1      139      139      139  \n",
       "2       81       81       81  \n",
       "3       87       87       87  \n",
       "4       94       94       94  \n",
       "\n",
       "[5 rows x 39 columns]"
      ]
     },
     "execution_count": 102,
     "metadata": {},
     "output_type": "execute_result"
    }
   ],
   "source": [
    "df_sps = first_view(data_sps)\n",
    "print(\"5 Samples:\")\n",
    "df_sps.head(5)"
   ]
  },
  {
   "cell_type": "markdown",
   "metadata": {},
   "source": [
    "## 4. Combine datas"
   ]
  },
  {
   "cell_type": "code",
   "execution_count": 262,
   "metadata": {},
   "outputs": [],
   "source": [
    "# add new column: sensortype\n",
    "df_mpa['sensortype'] = 'mpa'\n",
    "df_spg['sensortype'] = 'spg'\n",
    "df_sps['sensortype'] = 'sps'"
   ]
  },
  {
   "cell_type": "code",
   "execution_count": 263,
   "metadata": {},
   "outputs": [
    {
     "data": {
      "text/plain": [
       "(85380, 67)"
      ]
     },
     "execution_count": 263,
     "metadata": {},
     "output_type": "execute_result"
    }
   ],
   "source": [
    "df_all = df_mpa.append(df_spg, sort=False)\n",
    "df_all = df_all.append(df_sps, sort=False)\n",
    "df_all.shape"
   ]
  },
  {
   "cell_type": "code",
   "execution_count": 288,
   "metadata": {},
   "outputs": [
    {
     "data": {
      "image/png": "[encoded data removed]",
      "text/plain": [
       "<Figure size 360x360 with 1 Axes>"
      ]
     },
     "metadata": {},
     "output_type": "display_data"
    }
   ],
   "source": [
    "plot = df_all['sensortype'].value_counts().plot.pie(figsize=(5, 5))\n"
   ]
  },
  {
   "cell_type": "markdown",
   "metadata": {},
   "source": [
    "## 4. Plots Compare"
   ]
  },
  {
   "cell_type": "code",
   "execution_count": 264,
   "metadata": {},
   "outputs": [
    {
     "data": {
      "image/png": "[encoded data removed]",
      "text/plain": [
       "<Figure size 1440x360 with 1 Axes>"
      ]
     },
     "metadata": {
      "needs_background": "light"
     },
     "output_type": "display_data"
    }
   ],
   "source": [
    "fig = plt.subplots(figsize=(20, 5))\n",
    "p = sns.histplot(data=df_all, x=\"velocity\", hue=\"sensortype\", multiple=\"stack\")\n",
    "p.set_title('Velocity with diferrent senors')\n",
    "p.set_xlabel('velocity (m/s)')\n",
    "plt.show()"
   ]
  },
  {
   "cell_type": "code",
   "execution_count": 265,
   "metadata": {},
   "outputs": [
    {
     "name": "stdout",
     "output_type": "stream",
     "text": [
      "mpa velocities:\n",
      "4 velocity\n",
      "[1.8  2.05 2.5  3.2 ]\n",
      "\n",
      "spg velocities:\n",
      "34 velocity\n",
      "[1.5   1.51  1.59  1.6   1.604 1.61  1.618 1.62  1.625 1.626 1.63  1.64\n",
      " 1.66  1.68  1.69  1.7   1.8   2.05  2.27  2.31  2.32  2.334 2.336 2.34\n",
      " 2.35  2.36  2.37  2.38  2.4   2.45  2.5   2.8   3.2   3.3  ]\n",
      "\n",
      "sps velocities:\n",
      "4 velocity\n",
      "[1.8  2.05 2.5  3.2 ]\n"
     ]
    }
   ],
   "source": [
    "def velocity_count(df):\n",
    "    print(len(df['velocity'].unique()), \"velocity\")\n",
    "    print(np.sort(df['velocity'].unique()))\n",
    "\n",
    "print(\"mpa velocities:\")\n",
    "velocity_count(df_mpa)\n",
    "print(\"\\nspg velocities:\")\n",
    "velocity_count(df_spg)\n",
    "print(\"\\nsps velocities:\")\n",
    "velocity_count(df_sps)"
   ]
  },
  {
   "cell_type": "code",
   "execution_count": 259,
   "metadata": {},
   "outputs": [
    {
     "data": {
      "image/png": "[encoded data removed]",
      "text/plain": [
       "<Figure size 1440x360 with 1 Axes>"
      ]
     },
     "metadata": {
      "needs_background": "light"
     },
     "output_type": "display_data"
    }
   ],
   "source": [
    "fig = plt.subplots(figsize=(20, 5))\n",
    "p = sns.histplot(data=df_all, x=\"start_time\", hue=\"sensortype\", multiple=\"stack\")\n",
    "p.set_title('measurement dates with diferrent senors')\n",
    "p.set_xlabel('date')\n",
    "plt.show()"
   ]
  },
  {
   "cell_type": "code",
   "execution_count": null,
   "metadata": {},
   "outputs": [],
   "source": []
  },
  {
   "cell_type": "code",
   "execution_count": 274,
   "metadata": {},
   "outputs": [
    {
     "data": {
      "image/png": "[encoded data removed]",
      "text/plain": [
       "<Figure size 720x360 with 1 Axes>"
      ]
     },
     "metadata": {
      "needs_background": "light"
     },
     "output_type": "display_data"
    }
   ],
   "source": [
    "fig = plt.subplots(figsize=(10, 5))\n",
    "p = sns.histplot(data=df_all, x=\"size_mm\",color=\"grey\",binwidth=4)\n",
    "p.set_title('Stone size')\n",
    "p.set_xlabel('size (mm)')\n",
    "plt.show()"
   ]
  },
  {
   "cell_type": "code",
   "execution_count": 267,
   "metadata": {},
   "outputs": [
    {
     "name": "stdout",
     "output_type": "stream",
     "text": [
      "12 sizes\n",
      "[  5.    7.7  12.3  17.4  21.8  28.1  37.6  53.2  71.3  95.5 128.  171.5]\n"
     ]
    }
   ],
   "source": [
    "print(len(df['size_mm'].unique()), \"sizes\")\n",
    "print(np.sort(df['size_mm'].unique()))"
   ]
  },
  {
   "cell_type": "code",
   "execution_count": null,
   "metadata": {},
   "outputs": [],
   "source": []
  },
  {
   "cell_type": "code",
   "execution_count": null,
   "metadata": {},
   "outputs": [],
   "source": []
  },
  {
   "cell_type": "markdown",
   "metadata": {},
   "source": [
    "## XGB Test MPA"
   ]
  },
  {
   "cell_type": "code",
   "execution_count": 31,
   "metadata": {},
   "outputs": [],
   "source": [
    "from sklearn.model_selection import train_test_split\n",
    "from sklearn.metrics import confusion_matrix\n",
    "from sklearn.preprocessing import LabelEncoder\n",
    "import xgboost as xgb\n",
    "from sklearn.metrics import f1_score\n",
    "import warnings\n",
    "warnings.filterwarnings(\"ignore\", category=DeprecationWarning) "
   ]
  },
  {
   "cell_type": "code",
   "execution_count": 32,
   "metadata": {},
   "outputs": [
    {
     "name": "stderr",
     "output_type": "stream",
     "text": [
      "C:\\Users\\firat\\Anaconda3\\lib\\site-packages\\xgboost\\sklearn.py:1146: UserWarning: The use of label encoder in XGBClassifier is deprecated and will be removed in a future release. To remove this warning, do the following: 1) Pass option use_label_encoder=False when constructing XGBClassifier object; and 2) Encode your labels (y) as integers starting with 0, i.e. 0, 1, 2, ..., [num_class - 1].\n",
      "  warnings.warn(label_encoder_deprecation_msg, UserWarning)\n"
     ]
    },
    {
     "name": "stdout",
     "output_type": "stream",
     "text": [
      "[21:13:35] WARNING: C:/Users/Administrator/workspace/xgboost-win64_release_1.4.0/src/learner.cc:1095: Starting in XGBoost 1.3.0, the default evaluation metric used with the objective 'multi:softprob' was changed from 'merror' to 'mlogloss'. Explicitly set eval_metric if you'd like to restore the old behavior.\n"
     ]
    },
    {
     "data": {
      "text/plain": [
       "XGBClassifier(base_score=0.5, booster='gbtree', colsample_bylevel=1,\n",
       "              colsample_bynode=1, colsample_bytree=1, gamma=0, gpu_id=-1,\n",
       "              importance_type='gain', interaction_constraints='',\n",
       "              learning_rate=0.300000012, max_delta_step=0, max_depth=6,\n",
       "              min_child_weight=1, missing=nan, monotone_constraints='()',\n",
       "              n_estimators=100, n_jobs=8, num_parallel_tree=1,\n",
       "              objective='multi:softprob', random_state=0, reg_alpha=0,\n",
       "              reg_lambda=1, scale_pos_weight=None, subsample=1,\n",
       "              tree_method='exact', use_label_encoder=True,\n",
       "              validate_parameters=1, verbosity=None)"
      ]
     },
     "execution_count": 32,
     "metadata": {},
     "output_type": "execute_result"
    }
   ],
   "source": [
    "# Train Test Split of Dataframe\n",
    "df_xgb = df_mpa.drop(['start_time'], axis=1)\n",
    "X, y = df_xgb.drop(['size_mm'], axis=1), df_xgb['size_mm']\n",
    "y =y.astype(np.str)\n",
    "X_train, X_test, y_train, y_test = train_test_split(X,y, test_size=0.2, random_state = 102)\n",
    "\n",
    "# Transform y to normal distribution \n",
    "#y_train = np.log1p(y_train)\n",
    "\n",
    "model = xgb.XGBClassifier()\n",
    "model.fit(X_train, y_train)"
   ]
  },
  {
   "cell_type": "code",
   "execution_count": 33,
   "metadata": {},
   "outputs": [
    {
     "name": "stdout",
     "output_type": "stream",
     "text": [
      "f1-Score micro:  0.464574198015232\n",
      "f1-Score macro:  0.40438537664421803\n",
      "f1-Score weighted:  0.45355758454380984\n"
     ]
    }
   ],
   "source": [
    "# make predictions for test data\n",
    "y_pred = model.predict(X_test)\n",
    "#F1 = 2 * (precision * recall) / (precision + recall)\n",
    "print('f1-Score micro: ', f1_score(y_test, y_pred,average = \"micro\"))\n",
    "print('f1-Score macro: ', f1_score(y_test, y_pred,average = \"macro\"))\n",
    "print('f1-Score weighted: ', f1_score(y_test, y_pred,average = \"weighted\"))"
   ]
  },
  {
   "cell_type": "code",
   "execution_count": 34,
   "metadata": {},
   "outputs": [],
   "source": [
    "size_mm_encoding = LabelEncoder()\n",
    "size_mm_encoding.fit(df['size_mm'])\n",
    "\n",
    "def plot_confusion_matrix(y_pred, y_true):\n",
    "    M = confusion_matrix(y_true=y_true, y_pred=y_pred)\n",
    "    M = pd.DataFrame(data=M)\n",
    "    vals = size_mm_encoding.inverse_transform(np.array(M.index.to_list()))\n",
    "    M.index, M.columns = vals, vals\n",
    "            \n",
    "    fig = plt.subplots(figsize=(20,10))\n",
    "    p = sns.heatmap(M, annot=True, cmap='Blues', cbar=False, fmt='g', square=True)\n",
    "    p.set_xlabel('\\nPredicted', fontsize='x-large')\n",
    "    p.set_ylabel('\\nTrue', fontsize='x-large')\n",
    "    sns.despine()\n",
    "\n",
    "    plt.show()"
   ]
  },
  {
   "cell_type": "code",
   "execution_count": 35,
   "metadata": {},
   "outputs": [
    {
     "data": {
      "image/png": "[encoded data removed]",
      "text/plain": [
       "<Figure size 1440x720 with 1 Axes>"
      ]
     },
     "metadata": {
      "needs_background": "light"
     },
     "output_type": "display_data"
    }
   ],
   "source": [
    "plot_confusion_matrix(y_pred=y_pred, y_true=y_test)"
   ]
  },
  {
   "cell_type": "code",
   "execution_count": null,
   "metadata": {},
   "outputs": [],
   "source": []
  }
 ],
 "metadata": {
  "kernelspec": {
   "display_name": "Python 3",
   "language": "python",
   "name": "python3"
  },
  "language_info": {
   "codemirror_mode": {
    "name": "ipython",
    "version": 3
   },
   "file_extension": ".py",
   "mimetype": "text/x-python",
   "name": "python",
   "nbconvert_exporter": "python",
   "pygments_lexer": "ipython3",
   "version": "3.7.3"
  }
 },
 "nbformat": 4,
 "nbformat_minor": 5
}
